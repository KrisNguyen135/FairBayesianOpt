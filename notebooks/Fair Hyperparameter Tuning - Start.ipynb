{
 "cells": [
  {
   "cell_type": "code",
   "execution_count": 1,
   "metadata": {},
   "outputs": [],
   "source": [
    "import numpy as np\n",
    "np.random.seed(0)\n",
    "\n",
    "from aif360.datasets import CompasDataset\n",
    "from aif360.metrics import ClassificationMetric\n",
    "\n",
    "from sklearn.ensemble import GradientBoostingClassifier\n",
    "from sklearn.model_selection import cross_val_score\n",
    "\n",
    "import matplotlib.pyplot as plt"
   ]
  },
  {
   "cell_type": "code",
   "execution_count": 2,
   "metadata": {},
   "outputs": [
    {
     "name": "stderr",
     "output_type": "stream",
     "text": [
      "WARNING:root:Missing Data: 5 rows removed from CompasDataset.\n"
     ]
    },
    {
     "name": "stdout",
     "output_type": "stream",
     "text": [
      "(4933, 401)\n",
      "(1234, 401)\n"
     ]
    },
    {
     "name": "stderr",
     "output_type": "stream",
     "text": [
      "/Users/quannguyen/anaconda3/envs/BayesFAI/lib/python3.7/site-packages/aif360/datasets/standard_dataset.py:121: FutureWarning: outer method for ufunc <ufunc 'equal'> is not implemented on pandas objects. Returning an ndarray, but in the future this will raise a 'NotImplementedError'. Consider explicitly converting the Series to an array with '.array' first.\n",
      "  priv = np.logical_or.reduce(np.equal.outer(vals, df[attr]))\n"
     ]
    }
   ],
   "source": [
    "compas_dataset = CompasDataset()\n",
    "train, val = compas_dataset.split([0.8], shuffle=True)\n",
    "\n",
    "X = train.features\n",
    "y = train.labels.ravel()\n",
    "\n",
    "print(train.features.shape)\n",
    "print(val.features.shape)"
   ]
  },
  {
   "cell_type": "code",
   "execution_count": 3,
   "metadata": {},
   "outputs": [
    {
     "name": "stderr",
     "output_type": "stream",
     "text": [
      "/Users/quannguyen/anaconda3/envs/BayesFAI/lib/python3.7/site-packages/sklearn/externals/joblib/__init__.py:15: FutureWarning: sklearn.externals.joblib is deprecated in 0.21 and will be removed in 0.23. Please import this functionality directly from joblib, which can be installed with: pip install joblib. If this warning is raised when loading pickled models, you may need to re-serialize those models with scikit-learn 0.21+.\n",
      "  warnings.warn(msg, category=FutureWarning)\n",
      "/Users/quannguyen/anaconda3/envs/BayesFAI/lib/python3.7/site-packages/sklearn/utils/deprecation.py:144: FutureWarning: The sklearn.metrics.scorer module is  deprecated in version 0.22 and will be removed in version 0.24. The corresponding classes / functions should instead be imported from sklearn.metrics. Anything that cannot be imported from sklearn.metrics is now part of the private API.\n",
      "  warnings.warn(message, FutureWarning)\n"
     ]
    }
   ],
   "source": [
    "from skopt.space import Real, Integer\n",
    "from skopt.utils import use_named_args\n",
    "\n",
    "\n",
    "model = GradientBoostingClassifier(n_estimators=50, random_state=0)\n",
    "\n",
    "space = [Integer(1, 5, name='max_depth'),\n",
    "         Real(10 ** -5, 10 ** 0, 'log-uniform', name='learning_rate'),\n",
    "         Integer(1, X.shape[1], name='max_features'),\n",
    "         Integer(2, 100, name='min_samples_split'),\n",
    "         Integer(1, 100, name='min_samples_leaf')]\n",
    "\n",
    "\n",
    "@use_named_args(space)\n",
    "def objective(**params):\n",
    "    model.set_params(**params)\n",
    "    \n",
    "    return - np.mean(cross_val_score(model, X, y, cv=5, n_jobs=-1, \n",
    "                                     scoring='accuracy'))"
   ]
  },
  {
   "cell_type": "code",
   "execution_count": 4,
   "metadata": {},
   "outputs": [
    {
     "name": "stdout",
     "output_type": "stream",
     "text": [
      "Best score: -0.6882\n"
     ]
    }
   ],
   "source": [
    "from skopt import gp_minimize\n",
    "\n",
    "\n",
    "gp_res = gp_minimize(objective, space, n_calls=50, random_state=0)\n",
    "\n",
    "print(f'Best score: {gp_res.fun:.4f}')"
   ]
  },
  {
   "cell_type": "code",
   "execution_count": 5,
   "metadata": {},
   "outputs": [
    {
     "name": "stdout",
     "output_type": "stream",
     "text": [
      "Best parameters:\n",
      "- max_depth = 1\n",
      "- learning_rate = 1.000000\n",
      "- max_features = 401\n",
      "- min_samples_split = 100\n",
      "- min_samples_leaf = 85\n",
      "\n"
     ]
    }
   ],
   "source": [
    "print(f'''Best parameters:\n",
    "- max_depth = {gp_res.x[0]}\n",
    "- learning_rate = {gp_res.x[1]:.6f}\n",
    "- max_features = {gp_res.x[2]}\n",
    "- min_samples_split = {gp_res.x[3]}\n",
    "- min_samples_leaf = {gp_res.x[4]}\n",
    "''')"
   ]
  },
  {
   "cell_type": "code",
   "execution_count": 6,
   "metadata": {},
   "outputs": [
    {
     "data": {
      "image/png": "[encoded data removed]",
      "text/plain": [
       "<Figure size 432x288 with 1 Axes>"
      ]
     },
     "metadata": {
      "needs_background": "light"
     },
     "output_type": "display_data"
    }
   ],
   "source": [
    "from skopt.plots import plot_convergence\n",
    "\n",
    "\n",
    "plot_convergence(gp_res)\n",
    "plt.show()"
   ]
  },
  {
   "cell_type": "code",
   "execution_count": 7,
   "metadata": {},
   "outputs": [],
   "source": [
    "model.set_params(\n",
    "    max_depth=1,\n",
    "    learning_rate=1,\n",
    "    max_features=401,\n",
    "    min_samples_split=100,\n",
    "    min_samples_leaf=85\n",
    ")\n",
    "model.fit(X, y)\n",
    "\n",
    "y_pred = model.predict(val.features)"
   ]
  },
  {
   "cell_type": "code",
   "execution_count": 8,
   "metadata": {},
   "outputs": [
    {
     "name": "stdout",
     "output_type": "stream",
     "text": [
      "Accuracy: 0.6871961102106969\n",
      "Avg. odds difference: -0.22703587733346084\n",
      "Disparate impact: 0.6550631386157703\n",
      "Statistical parity difference: -0.2526766406284478\n",
      "Equal opportunity difference: -0.1905167674546454\n",
      "Theil index: 0.21088121340773755\n"
     ]
    }
   ],
   "source": [
    "val_pred = val.copy()\n",
    "val_pred.labels = y_pred\n",
    "\n",
    "metric = ClassificationMetric(\n",
    "    val, val_pred,\n",
    "    privileged_groups=[{'race': 1}],\n",
    "    unprivileged_groups=[{'race': 0}]\n",
    ")\n",
    "\n",
    "print(f'Accuracy: {metric.accuracy()}')\n",
    "print(f'Avg. odds difference: {metric.average_odds_difference()}')\n",
    "print(f'Disparate impact: {metric.disparate_impact()}')\n",
    "print(f'Statistical parity difference: {metric.statistical_parity_difference()}')\n",
    "print(f'Equal opportunity difference: {metric.equal_opportunity_difference()}')\n",
    "print(f'Theil index: {metric.theil_index()}')"
   ]
  },
  {
   "cell_type": "code",
   "execution_count": 15,
   "metadata": {},
   "outputs": [],
   "source": [
    "@use_named_args(space)\n",
    "def disparate_impact_objective(**params):\n",
    "    model.set_params(**params)\n",
    "    \n",
    "    scores = []\n",
    "    for _ in range(3):\n",
    "        cross_val_train, cross_val_test = train.split([0.8], shuffle=True)\n",
    "        \n",
    "        model.fit(cross_val_train.features, cross_val_train.labels.ravel())\n",
    "        y_pred = model.predict(cross_val_test.features)\n",
    "        \n",
    "        cross_val_pred = cross_val_test.copy()\n",
    "        cross_val_pred.labels = y_pred\n",
    "        \n",
    "        metric = ClassificationMetric(\n",
    "            cross_val_test, cross_val_pred,\n",
    "            privileged_groups=[{'race': 1}],\n",
    "            unprivileged_groups=[{'race': 0}]\n",
    "        )\n",
    "        scores.append(metric.disparate_impact())\n",
    "    \n",
    "    return abs(np.mean(scores) - 1)"
   ]
  },
  {
   "cell_type": "code",
   "execution_count": 16,
   "metadata": {
    "scrolled": true
   },
   "outputs": [
    {
     "name": "stdout",
     "output_type": "stream",
     "text": [
      "Best score: 0.0000\n"
     ]
    }
   ],
   "source": [
    "model = GradientBoostingClassifier(n_estimators=50, random_state=0)\n",
    "\n",
    "gp_res = gp_minimize(disparate_impact_objective, space, n_calls=75, random_state=0)\n",
    "\n",
    "print(f'Best score: {gp_res.fun:.4f}')"
   ]
  },
  {
   "cell_type": "code",
   "execution_count": 17,
   "metadata": {},
   "outputs": [
    {
     "name": "stdout",
     "output_type": "stream",
     "text": [
      "Best parameters:\n",
      "- max_depth = 3\n",
      "- learning_rate = 0.000307\n",
      "- max_features = 24\n",
      "- min_samples_split = 29\n",
      "- min_samples_leaf = 48\n",
      "\n"
     ]
    }
   ],
   "source": [
    "print(f'''Best parameters:\n",
    "- max_depth = {gp_res.x[0]}\n",
    "- learning_rate = {gp_res.x[1]:.6f}\n",
    "- max_features = {gp_res.x[2]}\n",
    "- min_samples_split = {gp_res.x[3]}\n",
    "- min_samples_leaf = {gp_res.x[4]}\n",
    "''')"
   ]
  },
  {
   "cell_type": "code",
   "execution_count": 18,
   "metadata": {},
   "outputs": [
    {
     "data": {
      "image/png": "[encoded data removed]",
      "text/plain": [
       "<Figure size 432x288 with 1 Axes>"
      ]
     },
     "metadata": {
      "needs_background": "light"
     },
     "output_type": "display_data"
    }
   ],
   "source": [
    "plot_convergence(gp_res)\n",
    "plt.show()"
   ]
  },
  {
   "cell_type": "code",
   "execution_count": 19,
   "metadata": {},
   "outputs": [],
   "source": [
    "model.set_params(\n",
    "    max_depth=3,\n",
    "    learning_rate=0.000307,\n",
    "    max_features=24,\n",
    "    min_samples_split=29,\n",
    "    min_samples_leaf=48\n",
    ")\n",
    "model.fit(X, y)\n",
    "\n",
    "y_pred = model.predict(val.features)"
   ]
  },
  {
   "cell_type": "code",
   "execution_count": 20,
   "metadata": {},
   "outputs": [
    {
     "name": "stdout",
     "output_type": "stream",
     "text": [
      "Accuracy: 0.553484602917342\n",
      "Avg. odds difference: 0.0\n",
      "Disparate impact: 1.0\n",
      "Statistical parity difference: 0.0\n",
      "Equal opportunity difference: 0.0\n",
      "Theil index: 0.058768668782159354\n"
     ]
    }
   ],
   "source": [
    "val_pred = val.copy()\n",
    "val_pred.labels = y_pred\n",
    "\n",
    "metric = ClassificationMetric(\n",
    "    val, val_pred,\n",
    "    privileged_groups=[{'race': 1}],\n",
    "    unprivileged_groups=[{'race': 0}]\n",
    ")\n",
    "\n",
    "print(f'Accuracy: {metric.accuracy()}')\n",
    "print(f'Avg. odds difference: {metric.average_odds_difference()}')\n",
    "print(f'Disparate impact: {metric.disparate_impact()}')\n",
    "print(f'Statistical parity difference: {metric.statistical_parity_difference()}')\n",
    "print(f'Equal opportunity difference: {metric.equal_opportunity_difference()}')\n",
    "print(f'Theil index: {metric.theil_index()}')"
   ]
  },
  {
   "cell_type": "code",
   "execution_count": null,
   "metadata": {},
   "outputs": [],
   "source": []
  }
 ],
 "metadata": {
  "kernelspec": {
   "display_name": "Python 3",
   "language": "python",
   "name": "python3"
  },
  "language_info": {
   "codemirror_mode": {
    "name": "ipython",
    "version": 3
   },
   "file_extension": ".py",
   "mimetype": "text/x-python",
   "name": "python",
   "nbconvert_exporter": "python",
   "pygments_lexer": "ipython3",
   "version": "3.7.6"
  }
 },
 "nbformat": 4,
 "nbformat_minor": 2
}
