{
 "cells": [
  {
   "cell_type": "code",
   "execution_count": 1,
   "metadata": {},
   "outputs": [],
   "source": [
    "import numpy as np\n",
    "np.random.seed(0)\n",
    "import matplotlib.pyplot as plt\n",
    "import pulp\n",
    "\n",
    "import sys\n",
    "sys.path.insert(0, '../..')\n",
    "import bottleneck_assignment\n",
    "import leximin_assignment\n",
    "\n",
    "from tqdm import tqdm\n",
    "import time\n",
    "\n",
    "from math import isclose\n",
    "import warnings"
   ]
  },
  {
   "cell_type": "code",
   "execution_count": 12,
   "metadata": {},
   "outputs": [
    {
     "data": {
      "text/plain": [
       "array([[0.1494483 , 0.86812606, 0.16249293, 0.61555956, 0.12381998],\n",
       "       [0.84800823, 0.80731896, 0.56910074, 0.4071833 , 0.069167  ],\n",
       "       [0.69742877, 0.45354268, 0.7220556 , 0.86638233, 0.97552151],\n",
       "       [0.85580334, 0.01171408, 0.35997806, 0.72999056, 0.17162968],\n",
       "       [0.52103661, 0.05433799, 0.19999652, 0.01852179, 0.7936977 ]])"
      ]
     },
     "execution_count": 12,
     "metadata": {},
     "output_type": "execute_result"
    }
   ],
   "source": [
    "# cost_matrix = np.random.uniform(size=(10, 10))\n",
    "cost_matrix = np.array([\n",
    "    [0.1494483, 0.86812606, 0.16249293, 0.61555956, 0.12381998],\n",
    "    [0.84800823, 0.80731896, 0.56910074, 0.4071833, 0.069167],\n",
    "    [0.69742877, 0.45354268, 0.7220556,  0.86638233, 0.97552151],\n",
    "    [0.85580334, 0.01171408, 0.35997806, 0.72999056, 0.17162968],\n",
    "    [0.52103661, 0.05433799, 0.19999652, 0.01852179, 0.7936977]\n",
    "])\n",
    "cost_matrix"
   ]
  },
  {
   "cell_type": "code",
   "execution_count": 13,
   "metadata": {},
   "outputs": [
    {
     "name": "stdout",
     "output_type": "stream",
     "text": [
      "Number of agents assigned: 0 / 5\n",
      "Current leximin: 1\n",
      "Number of agents assigned: 1 / 5\n",
      "Current leximin: 0.45354268\n",
      "Number of agents assigned: 2 / 5\n",
      "Current leximin: 0.35997806\n",
      "Number of agents assigned: 3 / 5\n",
      "Current leximin: 0.1494483\n"
     ]
    },
    {
     "data": {
      "text/plain": [
       "array([0, 4, 1, 2, 3])"
      ]
     },
     "execution_count": 13,
     "metadata": {},
     "output_type": "execute_result"
    }
   ],
   "source": [
    "leximin_assigner = leximin_assignment.LeximinAssignmentHelperV2(\n",
    "    cost_matrix, np.ones((10,))\n",
    ")\n",
    "\n",
    "assignments = leximin_assigner.solve(verbose=True)\n",
    "assignments"
   ]
  },
  {
   "cell_type": "code",
   "execution_count": 12,
   "metadata": {},
   "outputs": [
    {
     "data": {
      "text/plain": [
       "array([[0.  , 0.98, 0.99, 1.  ],\n",
       "       [0.  , 0.98, 1.  , 1.  ],\n",
       "       [0.  , 0.  , 0.98, 1.  ],\n",
       "       [0.  , 0.  , 0.  , 0.99]])"
      ]
     },
     "execution_count": 12,
     "metadata": {},
     "output_type": "execute_result"
    }
   ],
   "source": [
    "e = 1e-2\n",
    "\n",
    "cost_matrix = np.array([\n",
    "    [0, 1 - 2 * e, 1 - e, 1],\n",
    "    [0, 1 - 2 * e, 1, 1],\n",
    "    [0, 0, 1 - 2 * e, 1],\n",
    "    [0, 0, 0, 1 - e]\n",
    "])\n",
    "capacities = [1, 1, 1, 1]\n",
    "\n",
    "cost_matrix"
   ]
  },
  {
   "cell_type": "code",
   "execution_count": 13,
   "metadata": {},
   "outputs": [
    {
     "name": "stdout",
     "output_type": "stream",
     "text": [
      "Number of agents assigned: 0 / 4\n",
      "Current leximin: 1\n",
      "Number of agents assigned: 1 / 4\n",
      "Current leximin: 0.99\n",
      "Number of agents assigned: 2 / 4\n",
      "Current leximin: 0.98\n",
      "Reusing current leximin\n",
      "Number of agents assigned: 3 / 4\n",
      "Current leximin: 0.98\n"
     ]
    },
    {
     "name": "stderr",
     "output_type": "stream",
     "text": [
      "/Users/quannguyen/anaconda3/envs/BayesFAI/lib/python3.7/site-packages/pulp/solvers.py:2080: UserWarning: GUROBI_CMD does provide good solution status of non optimal solutions\n",
      "  warnings.warn('GUROBI_CMD does provide good solution status of non optimal solutions')\n"
     ]
    },
    {
     "data": {
      "text/plain": [
       "array([0, 1, 2, 3])"
      ]
     },
     "execution_count": 13,
     "metadata": {},
     "output_type": "execute_result"
    }
   ],
   "source": [
    "leximin_assigner = leximin_assignment.LeximinAssignmentHelperV2(\n",
    "    cost_matrix, np.ones((4,))\n",
    ")\n",
    "\n",
    "assignments = leximin_assigner.solve(verbose=True)\n",
    "assignments"
   ]
  },
  {
   "cell_type": "code",
   "execution_count": 4,
   "metadata": {},
   "outputs": [
    {
     "name": "stdout",
     "output_type": "stream",
     "text": [
      "Number of agents assigned: 0 / 4\n",
      "Current leximin: 1\n",
      "Number of agents assigned: 1 / 4\n",
      "Current leximin: 0.99\n",
      "Reusing current leximin\n",
      "Number of agents assigned: 2 / 4\n",
      "Current leximin: 0.99\n",
      "Reusing current leximin\n",
      "Number of agents assigned: 3 / 4\n",
      "Current leximin: 0.99\n"
     ]
    },
    {
     "name": "stderr",
     "output_type": "stream",
     "text": [
      "/Users/quannguyen/anaconda3/envs/BayesFAI/lib/python3.7/site-packages/pulp/solvers.py:2080: UserWarning: GUROBI_CMD does provide good solution status of non optimal solutions\n",
      "  warnings.warn('GUROBI_CMD does provide good solution status of non optimal solutions')\n",
      "/Users/quannguyen/anaconda3/envs/BayesFAI/lib/python3.7/site-packages/pulp/solvers.py:2080: UserWarning: GUROBI_CMD does provide good solution status of non optimal solutions\n",
      "  warnings.warn('GUROBI_CMD does provide good solution status of non optimal solutions')\n"
     ]
    },
    {
     "data": {
      "text/plain": [
       "array([0, 1, 2, 3])"
      ]
     },
     "execution_count": 4,
     "metadata": {},
     "output_type": "execute_result"
    }
   ],
   "source": [
    "e = 1e-2\n",
    "\n",
    "cost_matrix = np.array([\n",
    "    [0, 1, 1, 1],\n",
    "    [0, 1 - e, 1, 1],\n",
    "    [0, 0, 1 - e, 1],\n",
    "    [0, 0, 0, 1 - e]\n",
    "])\n",
    "capacities = [1, 1, 1, 1]\n",
    "\n",
    "leximin_assigner = leximin_assignment.LeximinAssignmentHelperV2(\n",
    "    cost_matrix, np.ones((4,))\n",
    ")\n",
    "\n",
    "assignments = leximin_assigner.solve(verbose=True)\n",
    "assignments"
   ]
  },
  {
   "cell_type": "code",
   "execution_count": 6,
   "metadata": {},
   "outputs": [
    {
     "name": "stderr",
     "output_type": "stream",
     "text": [
      "/Users/quannguyen/anaconda3/envs/BayesFAI/lib/python3.7/site-packages/pulp/solvers.py:2080: UserWarning: GUROBI_CMD does provide good solution status of non optimal solutions\n",
      "  warnings.warn('GUROBI_CMD does provide good solution status of non optimal solutions')\n",
      "/Users/quannguyen/anaconda3/envs/BayesFAI/lib/python3.7/site-packages/pulp/solvers.py:2080: UserWarning: GUROBI_CMD does provide good solution status of non optimal solutions\n",
      "  warnings.warn('GUROBI_CMD does provide good solution status of non optimal solutions')\n"
     ]
    },
    {
     "data": {
      "text/plain": [
       "array([2, 0, 1, 3])"
      ]
     },
     "execution_count": 6,
     "metadata": {},
     "output_type": "execute_result"
    }
   ],
   "source": [
    "bottleneck_assigner = bottleneck_assignment.BottleneckAssignmentHelperV2(\n",
    "    cost_matrix, np.ones((4,))\n",
    ")\n",
    "\n",
    "thresholds, assignments = bottleneck_assigner.solve()\n",
    "assignments"
   ]
  },
  {
   "cell_type": "code",
   "execution_count": 2,
   "metadata": {
    "scrolled": false
   },
   "outputs": [
    {
     "name": "stderr",
     "output_type": "stream",
     "text": [
      " 20%|██        | 20/100 [01:10<05:56,  4.46s/it]"
     ]
    },
    {
     "name": "stdout",
     "output_type": "stream",
     "text": [
      "Reusing current leximin\n"
     ]
    },
    {
     "name": "stderr",
     "output_type": "stream",
     "text": [
      " 66%|██████▌   | 66/100 [04:48<03:06,  5.47s/it]"
     ]
    },
    {
     "name": "stdout",
     "output_type": "stream",
     "text": [
      "Reusing current leximin\n"
     ]
    },
    {
     "name": "stderr",
     "output_type": "stream",
     "text": [
      " 93%|█████████▎| 93/100 [07:33<00:43,  6.18s/it]"
     ]
    },
    {
     "name": "stdout",
     "output_type": "stream",
     "text": [
      "Reusing current leximin\n"
     ]
    },
    {
     "name": "stderr",
     "output_type": "stream",
     "text": [
      "100%|██████████| 100/100 [08:11<00:00,  4.91s/it]\n"
     ]
    }
   ],
   "source": [
    "N = 20\n",
    "N_EXPERIMENTS = 100\n",
    "\n",
    "times1 = []\n",
    "times2 = []\n",
    "\n",
    "for _ in tqdm(range(N_EXPERIMENTS)):\n",
    "    try:\n",
    "        cost_matrix = np.round(np.random.uniform(size=(N, N)), 5)\n",
    "\n",
    "        assigner = leximin_assignment.LeximinAssignmentHelper(\n",
    "            cost_matrix, np.ones((N,))\n",
    "        )\n",
    "        with warnings.catch_warnings():  # temporarily suspense warnings\n",
    "            warnings.simplefilter('ignore')\n",
    "            t0 = time.time()\n",
    "            assignments1 = assigner.solve()\n",
    "        times1.append(time.time() - t0)\n",
    "\n",
    "        assigner = leximin_assignment.LeximinAssignmentHelperV2(\n",
    "            cost_matrix, np.ones((N,))\n",
    "        )\n",
    "        with warnings.catch_warnings():  # temporarily suspense warnings\n",
    "            warnings.simplefilter('ignore')\n",
    "            t0 = time.time()\n",
    "            assignments2 = assigner.solve()\n",
    "        times2.append(time.time() - t0)\n",
    "\n",
    "        if not np.array_equal(assignments1, assignments2):\n",
    "            print(cost_matrix)\n",
    "            print(assignments1)\n",
    "            print(assignments2)\n",
    "            break\n",
    "    \n",
    "    except TypeError:\n",
    "        print(cost_matrix)\n",
    "        break"
   ]
  },
  {
   "cell_type": "code",
   "execution_count": 3,
   "metadata": {},
   "outputs": [
    {
     "data": {
      "image/png": "[encoded data removed]",
      "text/plain": [
       "<Figure size 432x288 with 1 Axes>"
      ]
     },
     "metadata": {
      "needs_background": "light"
     },
     "output_type": "display_data"
    }
   ],
   "source": [
    "plt.hist(times1, color='r', alpha=0.2)\n",
    "plt.hist(times2, color='b', alpha=0.2)\n",
    "\n",
    "plt.show()"
   ]
  },
  {
   "cell_type": "code",
   "execution_count": null,
   "metadata": {},
   "outputs": [],
   "source": []
  }
 ],
 "metadata": {
  "kernelspec": {
   "display_name": "Python 3",
   "language": "python",
   "name": "python3"
  },
  "language_info": {
   "codemirror_mode": {
    "name": "ipython",
    "version": 3
   },
   "file_extension": ".py",
   "mimetype": "text/x-python",
   "name": "python",
   "nbconvert_exporter": "python",
   "pygments_lexer": "ipython3",
   "version": "3.7.6"
  }
 },
 "nbformat": 4,
 "nbformat_minor": 2
}
