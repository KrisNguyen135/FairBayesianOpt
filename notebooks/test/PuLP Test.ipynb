{
 "cells": [
  {
   "cell_type": "markdown",
   "metadata": {},
   "source": [
    "Maximize profit:\n",
    "$$30,000 ~ A + 45,000 ~ B$$\n",
    "\n",
    "Subject to:\n",
    "$$A \\geq 0$$\n",
    "$$B \\geq 0$$\n",
    "$$3A + 4B \\leq 30$$\n",
    "$$5A + 6B \\leq 60$$\n",
    "$$1.5A + 3B \\leq 21$$"
   ]
  },
  {
   "cell_type": "code",
   "execution_count": 1,
   "metadata": {},
   "outputs": [],
   "source": [
    "from pulp import *"
   ]
  },
  {
   "cell_type": "code",
   "execution_count": 16,
   "metadata": {},
   "outputs": [],
   "source": [
    "model = LpProblem('Maximizing_profit', LpMaximize)\n",
    "\n",
    "A = pulp.LpVariable('A', lowBound=0, cat='Integer')\n",
    "B = pulp.LpVariable('B', lowBound=0, cat='Integer')"
   ]
  },
  {
   "cell_type": "code",
   "execution_count": 17,
   "metadata": {},
   "outputs": [],
   "source": [
    "# Ojbective function\n",
    "model += 30000 * A + 45000 * B, 'Profit'\n",
    "\n",
    "# Constraints\n",
    "model += 3 * A + 4 * B <= 30\n",
    "model += 5 * A + 6 * B <= 60\n",
    "model += 1.5 * A + 3 * B <= 21"
   ]
  },
  {
   "cell_type": "code",
   "execution_count": 18,
   "metadata": {},
   "outputs": [
    {
     "data": {
      "text/plain": [
       "'Optimal'"
      ]
     },
     "execution_count": 18,
     "metadata": {},
     "output_type": "execute_result"
    }
   ],
   "source": [
    "model.solve()\n",
    "LpStatus[model.status]"
   ]
  },
  {
   "cell_type": "code",
   "execution_count": 19,
   "metadata": {},
   "outputs": [
    {
     "name": "stdout",
     "output_type": "stream",
     "text": [
      "Production of A = 2.0\n",
      "Production of B = 6.0\n"
     ]
    }
   ],
   "source": [
    "print(f'Production of A = {A.varValue}')\n",
    "print(f'Production of B = {B.varValue}')"
   ]
  },
  {
   "cell_type": "code",
   "execution_count": 20,
   "metadata": {},
   "outputs": [
    {
     "name": "stdout",
     "output_type": "stream",
     "text": [
      "330000.0\n"
     ]
    }
   ],
   "source": [
    "print(value(model.objective))"
   ]
  },
  {
   "cell_type": "markdown",
   "metadata": {},
   "source": [
    "# Different examples"
   ]
  },
  {
   "cell_type": "code",
   "execution_count": 1,
   "metadata": {},
   "outputs": [],
   "source": [
    "import pulp"
   ]
  },
  {
   "cell_type": "code",
   "execution_count": 5,
   "metadata": {},
   "outputs": [],
   "source": [
    "cost_matrix = [\n",
    "    [90, 1, 74, 1, 81],\n",
    "    [43, 43, 85, 5, 27],\n",
    "    [84, 18, 1, 88, 87],\n",
    "    [46, 34, 58, 93, 80],\n",
    "    [18, 70, 80, 53, 62]\n",
    "]\n",
    "\n",
    "x = pulp.LpVariable.dicts(\n",
    "    'x',\n",
    "    [(i, j) for i in range(1, 6) for j in range(1, 6)],\n",
    "    cat='Binary'\n",
    ")\n",
    "\n",
    "prob = pulp.LpProblem('example', pulp.LpMinimize)\n",
    "\n",
    "prob += pulp.lpSum(x[(i, j)] * cost_matrix[i - 1][j - 1]\n",
    "                   for i in range(1, 6) for j in range(1, 6))\n",
    "\n",
    "for i in range(1, 6):\n",
    "    prob += pulp.lpSum(x[(i, j)] for j in range(1, 6)) == 1\n",
    "for j in range(1, 6):\n",
    "    prob += pulp.lpSum(x[(i, j)] for i in range(1, 6)) == 1"
   ]
  },
  {
   "cell_type": "code",
   "execution_count": 6,
   "metadata": {},
   "outputs": [
    {
     "name": "stdout",
     "output_type": "stream",
     "text": [
      "Optimal\n"
     ]
    }
   ],
   "source": [
    "prob.solve()\n",
    "print(pulp.LpStatus[prob.status])"
   ]
  },
  {
   "cell_type": "code",
   "execution_count": 7,
   "metadata": {},
   "outputs": [
    {
     "data": {
      "text/plain": [
       "81.0"
      ]
     },
     "execution_count": 7,
     "metadata": {},
     "output_type": "execute_result"
    }
   ],
   "source": [
    "prob.objective.value()"
   ]
  },
  {
   "cell_type": "code",
   "execution_count": null,
   "metadata": {},
   "outputs": [],
   "source": []
  }
 ],
 "metadata": {
  "kernelspec": {
   "display_name": "Python 3",
   "language": "python",
   "name": "python3"
  },
  "language_info": {
   "codemirror_mode": {
    "name": "ipython",
    "version": 3
   },
   "file_extension": ".py",
   "mimetype": "text/x-python",
   "name": "python",
   "nbconvert_exporter": "python",
   "pygments_lexer": "ipython3",
   "version": "3.7.6"
  }
 },
 "nbformat": 4,
 "nbformat_minor": 2
}
