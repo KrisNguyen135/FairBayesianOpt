{
 "cells": [
  {
   "cell_type": "code",
   "execution_count": 1,
   "metadata": {
    "scrolled": true
   },
   "outputs": [
    {
     "name": "stderr",
     "output_type": "stream",
     "text": [
      "/Users/quannguyen/anaconda3/envs/BayesFAI/lib/python3.7/site-packages/tensorflow/python/framework/dtypes.py:526: FutureWarning: Passing (type, 1) or '1type' as a synonym of type is deprecated; in a future version of numpy, it will be understood as (type, (1,)) / '(1,)type'.\n",
      "  _np_qint8 = np.dtype([(\"qint8\", np.int8, 1)])\n",
      "/Users/quannguyen/anaconda3/envs/BayesFAI/lib/python3.7/site-packages/tensorflow/python/framework/dtypes.py:527: FutureWarning: Passing (type, 1) or '1type' as a synonym of type is deprecated; in a future version of numpy, it will be understood as (type, (1,)) / '(1,)type'.\n",
      "  _np_quint8 = np.dtype([(\"quint8\", np.uint8, 1)])\n",
      "/Users/quannguyen/anaconda3/envs/BayesFAI/lib/python3.7/site-packages/tensorflow/python/framework/dtypes.py:528: FutureWarning: Passing (type, 1) or '1type' as a synonym of type is deprecated; in a future version of numpy, it will be understood as (type, (1,)) / '(1,)type'.\n",
      "  _np_qint16 = np.dtype([(\"qint16\", np.int16, 1)])\n",
      "/Users/quannguyen/anaconda3/envs/BayesFAI/lib/python3.7/site-packages/tensorflow/python/framework/dtypes.py:529: FutureWarning: Passing (type, 1) or '1type' as a synonym of type is deprecated; in a future version of numpy, it will be understood as (type, (1,)) / '(1,)type'.\n",
      "  _np_quint16 = np.dtype([(\"quint16\", np.uint16, 1)])\n",
      "/Users/quannguyen/anaconda3/envs/BayesFAI/lib/python3.7/site-packages/tensorflow/python/framework/dtypes.py:530: FutureWarning: Passing (type, 1) or '1type' as a synonym of type is deprecated; in a future version of numpy, it will be understood as (type, (1,)) / '(1,)type'.\n",
      "  _np_qint32 = np.dtype([(\"qint32\", np.int32, 1)])\n",
      "/Users/quannguyen/anaconda3/envs/BayesFAI/lib/python3.7/site-packages/tensorflow/python/framework/dtypes.py:535: FutureWarning: Passing (type, 1) or '1type' as a synonym of type is deprecated; in a future version of numpy, it will be understood as (type, (1,)) / '(1,)type'.\n",
      "  np_resource = np.dtype([(\"resource\", np.ubyte, 1)])\n"
     ]
    }
   ],
   "source": [
    "import gpflow\n",
    "import gpflowopt\n",
    "\n",
    "import numpy as np\n",
    "import matplotlib.pyplot as plt"
   ]
  },
  {
   "cell_type": "code",
   "execution_count": 2,
   "metadata": {},
   "outputs": [
    {
     "name": "stderr",
     "output_type": "stream",
     "text": [
      "/Users/quannguyen/anaconda3/envs/BayesFAI/lib/python3.7/site-packages/gpflowopt/design.py:116: FutureWarning: arrays to stack must be passed as a \"sequence\" type such as list or tuple. Support for non-sequence iterables such as generators is deprecated as of NumPy 1.16 and will raise an error in the future.\n",
      "  return np.vstack(map(lambda X: X.ravel(), Xs)).T\n"
     ]
    },
    {
     "data": {
      "image/png": "[encoded data removed]",
      "text/plain": [
       "<Figure size 1080x360 with 2 Axes>"
      ]
     },
     "metadata": {
      "needs_background": "light"
     },
     "output_type": "display_data"
    }
   ],
   "source": [
    "# Objective\n",
    "def f(x):\n",
    "    transl = 1 / np.sqrt(2)\n",
    "    \n",
    "    part1 = (x[:, [0]] - transl) ** 2 + (x[:, [1]] - transl) ** 2\n",
    "    part2 = (x[:, [0]] + transl) ** 2 + (x[:, [1]] + transl) ** 2\n",
    "    \n",
    "    y1 = 1 - np.exp(-1 * part1)\n",
    "    y2 = 1 - np.exp(-1 * part2)\n",
    "    \n",
    "    return np.hstack((y1, y2))\n",
    "\n",
    "# Input domain\n",
    "domain = gpflowopt.domain.ContinuousParameter('x1', -2, 2) \\\n",
    "         + gpflowopt.domain.ContinuousParameter('x2', -2, 2)\n",
    "\n",
    "# Plot\n",
    "X = gpflowopt.design.FactorialDesign(101, domain).generate()\n",
    "Z = f(X)\n",
    "shape = (101, 101)\n",
    "\n",
    "axes = []\n",
    "\n",
    "plt.figure(figsize=(15, 5))\n",
    "\n",
    "for i in range(Z.shape[1]):\n",
    "    axes = axes + [plt.subplot2grid((1, 2), (0, i))]\n",
    "    \n",
    "    axes[-1].contourf(X[:, 0].reshape(shape), X[:, 1].reshape(shape), Z[:, i].reshape(shape))\n",
    "    axes[-1].set_title(f'Objective {i + 1}')\n",
    "    axes[-1].set_xlabel('x1')\n",
    "    axes[-1].set_ylabel('x2')\n",
    "    axes[-1].set_xlim(domain.lower[0], domain.upper[0])\n",
    "    axes[-1].set_ylim(domain.lower[1], domain.upper[1])\n",
    "    \n",
    "plt.show()"
   ]
  },
  {
   "cell_type": "code",
   "execution_count": 3,
   "metadata": {},
   "outputs": [
    {
     "data": {
      "text/plain": [
       "(11, 2)"
      ]
     },
     "execution_count": 3,
     "metadata": {},
     "output_type": "execute_result"
    }
   ],
   "source": [
    "# Initial evaluations\n",
    "design = gpflowopt.design.LatinHyperCube(11, domain)\n",
    "X = design.generate()\n",
    "Y = f(X)\n",
    "Y.shape"
   ]
  },
  {
   "cell_type": "code",
   "execution_count": null,
   "metadata": {},
   "outputs": [],
   "source": [
    "# One model for each objective\n",
    "objective_models = [gpflow.gpr.GPR(X.copy(), Y[:, [i]].copy(),\n",
    "                                   gpflow.kernels.Matern52(2, ARD=True))\n",
    "                    for i in range(Y.shape[1])]\n",
    "\n",
    "for model in objective_models:\n",
    "    model.likelihood.variance = 0.01\n",
    "    \n",
    "hvpoi = gpflowopt.acquisition.HVProbabilityOfImprovement(objective_models)"
   ]
  },
  {
   "cell_type": "code",
   "execution_count": 5,
   "metadata": {
    "scrolled": true
   },
   "outputs": [
    {
     "name": "stdout",
     "output_type": "stream",
     "text": [
      "WARNING:tensorflow:From /Users/quannguyen/anaconda3/envs/BayesFAI/lib/python3.7/site-packages/tensorflow/python/framework/op_def_library.py:263: colocate_with (from tensorflow.python.framework.ops) is deprecated and will be removed in a future version.\n",
      "Instructions for updating:\n",
      "Colocations handled automatically by placer.\n"
     ]
    },
    {
     "name": "stderr",
     "output_type": "stream",
     "text": [
      "/Users/quannguyen/anaconda3/envs/BayesFAI/lib/python3.7/site-packages/gpflowopt/domain.py:97: FutureWarning: arrays to stack must be passed as a \"sequence\" type such as list or tuple. Support for non-sequence iterables such as generators is deprecated as of NumPy 1.16 and will raise an error in the future.\n",
      "  return np.vstack(map(lambda p: p.value, self._parameters)).T\n"
     ]
    },
    {
     "name": "stdout",
     "output_type": "stream",
     "text": [
      "WARNING:tensorflow:From /Users/quannguyen/anaconda3/envs/BayesFAI/lib/python3.7/site-packages/tensorflow/python/ops/math_ops.py:3066: to_int32 (from tensorflow.python.ops.math_ops) is deprecated and will be removed in a future version.\n",
      "Instructions for updating:\n",
      "Use tf.cast instead.\n"
     ]
    },
    {
     "name": "stderr",
     "output_type": "stream",
     "text": [
      "/Users/quannguyen/anaconda3/envs/BayesFAI/lib/python3.7/site-packages/gpflowopt/acquisition/hvpoi.py:92: FutureWarning: arrays to stack must be passed as a \"sequence\" type such as list or tuple. Support for non-sequence iterables such as generators is deprecated as of NumPy 1.16 and will raise an error in the future.\n",
      "  F = np.hstack((m.predict_f(feasible_samples)[0] for m in self.models))\n"
     ]
    },
    {
     "name": "stdout",
     "output_type": "stream",
     "text": [
      "WARNING:tensorflow:From /Users/quannguyen/anaconda3/envs/BayesFAI/lib/python3.7/site-packages/gpflowopt/acquisition/hvpoi.py:112: Normal.__init__ (from tensorflow.python.ops.distributions.normal) is deprecated and will be removed after 2019-01-01.\n",
      "Instructions for updating:\n",
      "The TensorFlow Distributions library has moved to TensorFlow Probability (https://github.com/tensorflow/probability). You should update all references to use `tfp.distributions` instead of `tf.distributions`.\n",
      "WARNING:tensorflow:From /Users/quannguyen/anaconda3/envs/BayesFAI/lib/python3.7/site-packages/tensorflow/python/ops/distributions/normal.py:160: Distribution.__init__ (from tensorflow.python.ops.distributions.distribution) is deprecated and will be removed after 2019-01-01.\n",
      "Instructions for updating:\n",
      "The TensorFlow Distributions library has moved to TensorFlow Probability (https://github.com/tensorflow/probability). You should update all references to use `tfp.distributions` instead of `tf.distributions`.\n",
      "WARNING:tensorflow:From /Users/quannguyen/anaconda3/envs/BayesFAI/lib/python3.7/site-packages/gpflowopt/acquisition/hvpoi.py:124: calling reduce_sum_v1 (from tensorflow.python.ops.math_ops) with keep_dims is deprecated and will be removed in a future version.\n",
      "Instructions for updating:\n",
      "keep_dims is deprecated, use keepdims instead\n",
      "WARNING:tensorflow:From /Users/quannguyen/anaconda3/envs/BayesFAI/lib/python3.7/site-packages/tensorflow/python/ops/math_grad.py:163: setdiff1d (from tensorflow.python.ops.array_ops) is deprecated and will be removed after 2018-11-30.\n",
      "Instructions for updating:\n",
      "This op will be removed after the deprecation date. Please switch to tf.sets.difference().\n"
     ]
    },
    {
     "name": "stderr",
     "output_type": "stream",
     "text": [
      "/Users/quannguyen/anaconda3/envs/BayesFAI/lib/python3.7/site-packages/gpflowopt/bo.py:150: FutureWarning: arrays to stack must be passed as a \"sequence\" type such as list or tuple. Support for non-sequence iterables such as generators is deprecated as of NumPy 1.16 and will raise an error in the future.\n",
      "  evaluations = np.hstack(map(lambda f: f(X), fxs))\n",
      "/Users/quannguyen/anaconda3/envs/BayesFAI/lib/python3.7/site-packages/gpflowopt/acquisition/acquisition.py:193: FutureWarning: arrays to stack must be passed as a \"sequence\" type such as list or tuple. Support for non-sequence iterables such as generators is deprecated as of NumPy 1.16 and will raise an error in the future.\n",
      "  return self.models[0].X.value, np.hstack(map(lambda model: model.Y.value, self.models))\n"
     ]
    },
    {
     "name": "stdout",
     "output_type": "stream",
     "text": [
      "iter #  0 - MLL [-16.0, -15.2] - fmin [0.385, 0.0171] (size 5) - constraints []\n"
     ]
    },
    {
     "name": "stderr",
     "output_type": "stream",
     "text": [
      "/Users/quannguyen/anaconda3/envs/BayesFAI/lib/python3.7/site-packages/gpflowopt/acquisition/hvpoi.py:92: FutureWarning: arrays to stack must be passed as a \"sequence\" type such as list or tuple. Support for non-sequence iterables such as generators is deprecated as of NumPy 1.16 and will raise an error in the future.\n",
      "  F = np.hstack((m.predict_f(feasible_samples)[0] for m in self.models))\n"
     ]
    },
    {
     "name": "stdout",
     "output_type": "stream",
     "text": [
      "iter #  1 - MLL [-16.8, -15.2] - fmin [0.385, 0.0171] (size 4) - constraints []\n",
      "iter #  2 - MLL [-16.8, -13.7] - fmin [0.385, 0.0171] (size 5) - constraints []\n",
      "iter #  3 - MLL [-16.9, -13.1] - fmin [0.385, 0.0171] (size 6) - constraints []\n",
      "iter #  4 - MLL [-15.1, -12.7] - fmin [0.0822, 0.0171] (size 6) - constraints []\n",
      "iter #  5 - MLL [-12.0, -10.8] - fmin [0.0822, 0.0171] (size 7) - constraints []\n",
      "iter #  6 - MLL [-8.69, -9.1] - fmin [0.0104, 0.0171] (size 8) - constraints []\n",
      "iter #  7 - MLL [-6.33, -6.95] - fmin [0.0104, 0.0171] (size 9) - constraints []\n",
      "iter #  8 - MLL [-3.8, -4.0] - fmin [0.0104, 0.0171] (size 10) - constraints []\n",
      "iter #  9 - MLL [-2.1, -0.334] - fmin [0.0104, 0.0171] (size 11) - constraints []\n",
      "iter # 10 - MLL [0.697, 3.62] - fmin [0.0104, 0.0171] (size 12) - constraints []\n",
      "iter # 11 - MLL [4.33, 7.36] - fmin [0.0104, 0.0171] (size 13) - constraints []\n",
      "iter # 12 - MLL [7.36, 10.0] - fmin [0.0104, 0.0171] (size 14) - constraints []\n",
      "iter # 13 - MLL [10.8, 12.7] - fmin [0.0104, 0.0171] (size 15) - constraints []\n",
      "iter # 14 - MLL [15.4, 17.4] - fmin [0.0104, 0.0171] (size 16) - constraints []\n",
      "iter # 15 - MLL [19.8, 22.5] - fmin [0.0104, 0.0171] (size 17) - constraints []\n",
      "iter # 16 - MLL [22.6, 26.3] - fmin [0.0104, 0.00206] (size 17) - constraints []\n",
      "iter # 17 - MLL [26.2, 30.1] - fmin [0.0104, 0.00206] (size 18) - constraints []\n",
      "iter # 18 - MLL [30.5, 35.2] - fmin [0.0104, 0.00206] (size 19) - constraints []\n",
      "iter # 19 - MLL [35.7, 39.5] - fmin [0.0104, 0.00206] (size 20) - constraints []\n",
      " constraints: array([], shape=(20, 0), dtype=float64)\n",
      "         fun: array([[0.90338418, 0.20351273],\n",
      "       [0.6570298 , 0.61221617],\n",
      "       [0.79419678, 0.42974788],\n",
      "       [0.42821545, 0.79227449],\n",
      "       [0.08218238, 0.9461846 ],\n",
      "       [0.26856092, 0.87628971],\n",
      "       [0.0103637 , 0.97316235],\n",
      "       [0.58710442, 0.67455392],\n",
      "       [0.74670886, 0.49637183],\n",
      "       [0.94322036, 0.09676759],\n",
      "       [0.84491101, 0.33170247],\n",
      "       [0.52515024, 0.72802656],\n",
      "       [0.34225599, 0.84273407],\n",
      "       [0.2073041 , 0.90871141],\n",
      "       [0.70073207, 0.55647666],\n",
      "       [0.86297154, 0.29548521],\n",
      "       [0.97847487, 0.00205682],\n",
      "       [0.4794428 , 0.76581139],\n",
      "       [0.91939632, 0.1571046 ],\n",
      "       [0.15957845, 0.92040958]])\n",
      "     message: 'OK'\n",
      "        nfev: 20\n",
      "     success: True\n",
      "           x: array([[-0.32728511, -0.41852468],\n",
      "       [ 0.04060845, -0.08402639],\n",
      "       [-0.12386931, -0.2364575 ],\n",
      "       [ 0.20336084,  0.15462779],\n",
      "       [ 0.52528511,  0.47754751],\n",
      "       [ 0.35832136,  0.26996828],\n",
      "       [ 0.65761252,  0.6178426 ],\n",
      "       [ 0.03896317,  0.04518181],\n",
      "       [-0.11688024, -0.12611654],\n",
      "       [-0.54710109, -0.43111119],\n",
      "       [-0.26209294, -0.25435467],\n",
      "       [ 0.14319769,  0.05383551],\n",
      "       [ 0.19631057,  0.30958107],\n",
      "       [ 0.27951892,  0.48465627],\n",
      "       [-0.07385601, -0.06523584],\n",
      "       [-0.31546994, -0.26341033],\n",
      "       [-0.66427704, -0.69212184],\n",
      "       [ 0.06257688,  0.21983202],\n",
      "       [-0.42491068, -0.40498468],\n",
      "       [ 0.36597839,  0.46735045]])\n",
      "[[0.01036954 0.97316438]\n",
      " [0.08218133 0.94618223]\n",
      " [0.20730315 0.90871378]\n",
      " [0.26855939 0.87628822]\n",
      " [0.34226001 0.84273723]\n",
      " [0.42821766 0.79227966]\n",
      " [0.47943871 0.76580012]\n",
      " [0.52514781 0.72801758]\n",
      " [0.58710651 0.67457357]\n",
      " [0.65702894 0.61221504]\n",
      " [0.70073304 0.55646377]\n",
      " [0.74670789 0.49637096]\n",
      " [0.79420118 0.42974027]\n",
      " [0.84488616 0.33178697]\n",
      " [0.86299427 0.295409  ]\n",
      " [0.90339414 0.20347211]\n",
      " [0.91937905 0.15716486]\n",
      " [0.94322633 0.09674771]\n",
      " [0.97847497 0.00207591]]\n"
     ]
    }
   ],
   "source": [
    "# Set up the optimization strategy for the acquisition function\n",
    "# Combine MC step followed by L-BFGS-B\n",
    "acquisition_opt = gpflowopt.optim.StagedOptimizer([\n",
    "    gpflowopt.optim.MCOptimizer(domain, 1000),\n",
    "    gpflowopt.optim.SciPyOptimizer(domain)\n",
    "])\n",
    "\n",
    "# Run BO for 20 iterations\n",
    "optimizer = gpflowopt.BayesianOptimizer(\n",
    "    domain, hvpoi, optimizer=acquisition_opt, verbose=True\n",
    ")\n",
    "\n",
    "result = optimizer.optimize([f], n_iter=20)\n",
    "\n",
    "print(result)\n",
    "print(optimizer.acquisition.pareto.front.value)"
   ]
  },
  {
   "cell_type": "code",
   "execution_count": 6,
   "metadata": {},
   "outputs": [
    {
     "name": "stderr",
     "output_type": "stream",
     "text": [
      "/Users/quannguyen/anaconda3/envs/BayesFAI/lib/python3.7/site-packages/gpflowopt/design.py:116: FutureWarning: arrays to stack must be passed as a \"sequence\" type such as list or tuple. Support for non-sequence iterables such as generators is deprecated as of NumPy 1.16 and will raise an error in the future.\n",
      "  return np.vstack(map(lambda X: X.ravel(), Xs)).T\n"
     ]
    },
    {
     "data": {
      "image/png": "[encoded data removed]",
      "text/plain": [
       "<Figure size 504x504 with 3 Axes>"
      ]
     },
     "metadata": {
      "needs_background": "light"
     },
     "output_type": "display_data"
    }
   ],
   "source": [
    "grid_size = 51\n",
    "shape = (grid_size, grid_size)\n",
    "\n",
    "X_eval = gpflowopt.design.FactorialDesign(grid_size, domain).generate()\n",
    "Y_eval_1, _ = hvpoi.models[0].predict_f(X_eval)\n",
    "Y_eval_2, _ = hvpoi.models[1].predict_f(X_eval)\n",
    "\n",
    "Y_eval_c = hvpoi.evaluate(X_eval)\n",
    "\n",
    "plots = [\n",
    "    ((0, 0), 1, 1, 'Objective 1 model', Y_eval_1[:, 0]),\n",
    "    ((0, 1), 1, 1, 'Objective 2 model', Y_eval_2[:, 0]),\n",
    "    ((1, 0), 2, 2, 'hypervolume-based PoI', Y_eval_c)\n",
    "]\n",
    "\n",
    "plt.figure(figsize=(7, 7))\n",
    "\n",
    "for i, (plot_pos, plot_rowspan, plot_colspan, plot_title, plot_data) in enumerate(plots):\n",
    "    data = hvpoi.data[0]\n",
    "    \n",
    "    ax = plt.subplot2grid((3, 2), plot_pos, rowspan=plot_rowspan, colspan=plot_colspan)\n",
    "    ax.contourf(X_eval[:, 0].reshape(shape), X_eval[:, 1].reshape(shape), plot_data.reshape(shape))\n",
    "    ax.scatter(data[:, 0], data[:, 1], c='w')\n",
    "\n",
    "    ax.set_title(plot_title)\n",
    "    ax.set_xlabel('x1')\n",
    "    ax.set_ylabel('x2')\n",
    "    \n",
    "    ax.set_xlim(domain.lower[0], domain.upper[0])\n",
    "    ax.set_ylim(domain.lower[1], domain.upper[1])\n",
    "    \n",
    "plt.tight_layout()\n",
    "plt.show()"
   ]
  },
  {
   "cell_type": "code",
   "execution_count": 7,
   "metadata": {},
   "outputs": [
    {
     "name": "stdout",
     "output_type": "stream",
     "text": [
      "WARNING:tensorflow:From /Users/quannguyen/anaconda3/envs/BayesFAI/lib/python3.7/site-packages/gpflowopt/pareto.py:270: calling reduce_min_v1 (from tensorflow.python.ops.math_ops) with keep_dims is deprecated and will be removed in a future version.\n",
      "Instructions for updating:\n",
      "keep_dims is deprecated, use keepdims instead\n",
      "Hypervolume indicator: 1.5597219690800073\n"
     ]
    },
    {
     "data": {
      "image/png": "[encoded data removed]",
      "text/plain": [
       "<Figure size 504x504 with 1 Axes>"
      ]
     },
     "metadata": {
      "needs_background": "light"
     },
     "output_type": "display_data"
    }
   ],
   "source": [
    "# Plot Pareto front\n",
    "R = np.array([1.5, 1.5])\n",
    "hv = hvpoi.pareto.hypervolume(R)\n",
    "print(f'Hypervolume indicator: {hv}')\n",
    "\n",
    "plt.figure(figsize=(7, 7))\n",
    "\n",
    "pf, dom = gpflowopt.pareto.non_dominated_sort(hvpoi.data[1])\n",
    "\n",
    "plt.scatter(hvpoi.data[1][:, 0], hvpoi.data[1][:, 1], c=dom)\n",
    "\n",
    "plt.title('Pareto set')\n",
    "plt.xlabel('Object 1')\n",
    "plt.ylabel('Object 2')\n",
    "\n",
    "plt.show()"
   ]
  },
  {
   "cell_type": "code",
   "execution_count": 8,
   "metadata": {},
   "outputs": [
    {
     "data": {
      "text/plain": [
       "array([ 8,  8,  1,  6, 16, 22, 19, 19, 22, 25, 16,  0,  0,  0,  0,  0,  0,\n",
       "        0,  0,  0,  0,  0,  0,  0,  0,  0,  0,  0,  0,  0,  0])"
      ]
     },
     "execution_count": 8,
     "metadata": {},
     "output_type": "execute_result"
    }
   ],
   "source": [
    "dom"
   ]
  },
  {
   "cell_type": "code",
   "execution_count": 9,
   "metadata": {},
   "outputs": [
    {
     "data": {
      "text/plain": [
       "array([[ 0.8       , -0.4       ],\n",
       "       [-0.4       ,  0.8       ],\n",
       "       [-0.8       , -0.8       ],\n",
       "       [ 1.2       ,  1.2       ],\n",
       "       [ 0.4       , -1.6       ],\n",
       "       [-2.        ,  0.4       ],\n",
       "       [ 2.        ,  0.        ],\n",
       "       [ 0.        ,  2.        ],\n",
       "       [ 1.6       , -1.2       ],\n",
       "       [-1.6       ,  1.6       ],\n",
       "       [-1.2       , -2.        ],\n",
       "       [-0.32728511, -0.41852468],\n",
       "       [ 0.04060845, -0.08402639],\n",
       "       [-0.12386931, -0.2364575 ],\n",
       "       [ 0.20336084,  0.15462779],\n",
       "       [ 0.52528511,  0.47754751],\n",
       "       [ 0.35832136,  0.26996828],\n",
       "       [ 0.65761252,  0.6178426 ],\n",
       "       [ 0.03896317,  0.04518181],\n",
       "       [-0.11688024, -0.12611654],\n",
       "       [-0.54710109, -0.43111119],\n",
       "       [-0.26209294, -0.25435467],\n",
       "       [ 0.14319769,  0.05383551],\n",
       "       [ 0.19631057,  0.30958107],\n",
       "       [ 0.27951892,  0.48465627],\n",
       "       [-0.07385601, -0.06523584],\n",
       "       [-0.31546994, -0.26341033],\n",
       "       [-0.66427704, -0.69212184],\n",
       "       [ 0.06257688,  0.21983202],\n",
       "       [-0.42491068, -0.40498468],\n",
       "       [ 0.36597839,  0.46735045]])"
      ]
     },
     "execution_count": 9,
     "metadata": {},
     "output_type": "execute_result"
    }
   ],
   "source": [
    "data"
   ]
  },
  {
   "cell_type": "code",
   "execution_count": null,
   "metadata": {},
   "outputs": [],
   "source": []
  }
 ],
 "metadata": {
  "kernelspec": {
   "display_name": "Python 3",
   "language": "python",
   "name": "python3"
  },
  "language_info": {
   "codemirror_mode": {
    "name": "ipython",
    "version": 3
   },
   "file_extension": ".py",
   "mimetype": "text/x-python",
   "name": "python",
   "nbconvert_exporter": "python",
   "pygments_lexer": "ipython3",
   "version": "3.7.6"
  }
 },
 "nbformat": 4,
 "nbformat_minor": 2
}
