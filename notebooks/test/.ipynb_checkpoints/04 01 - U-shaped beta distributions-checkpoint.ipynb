{
 "cells": [
  {
   "cell_type": "code",
   "execution_count": 1,
   "metadata": {},
   "outputs": [],
   "source": [
    "import numpy as np\n",
    "np.random.seed(0)\n",
    "import matplotlib.pyplot as plt\n",
    "\n",
    "import sys\n",
    "sys.path.insert(0, '../..')\n",
    "import leximin_assignment\n",
    "import assignment\n",
    "\n",
    "from tqdm import tqdm"
   ]
  },
  {
   "cell_type": "code",
   "execution_count": 11,
   "metadata": {
    "scrolled": true
   },
   "outputs": [
    {
     "name": "stdout",
     "output_type": "stream",
     "text": [
      "[0.018 0.036 0.054 0.072 0.09  0.108 0.126 0.144 0.162 0.18  0.198 0.216\n",
      " 0.234 0.252 0.27  0.288 0.306 0.324 0.342 0.36  0.378 0.396 0.414 0.432\n",
      " 0.45  0.468 0.486 0.504 0.522 0.54  0.558 0.576 0.594 0.612 0.63  0.648\n",
      " 0.666 0.684 0.702 0.72  0.738 0.756 0.774 0.792 0.81  0.828 0.846 0.864\n",
      " 0.882 0.9   0.9   0.9   0.9   0.9   0.9   0.9   0.9   0.9   0.9   0.9\n",
      " 0.9   0.9   0.9   0.9   0.9   0.9   0.9   0.9   0.9   0.9   0.9   0.9\n",
      " 0.9   0.9   0.9   0.9   0.9   0.9   0.9   0.9   0.9   0.9   0.9   0.9\n",
      " 0.9   0.9   0.9   0.9   0.9   0.9   0.9   0.9   0.9   0.9   0.9   0.9\n",
      " 0.9   0.9   0.9   0.9  ]\n",
      "[0.9   0.9   0.9   0.9   0.9   0.9   0.9   0.9   0.9   0.9   0.9   0.9\n",
      " 0.9   0.9   0.9   0.9   0.9   0.9   0.9   0.9   0.9   0.9   0.9   0.9\n",
      " 0.9   0.9   0.9   0.9   0.9   0.9   0.9   0.9   0.9   0.9   0.9   0.9\n",
      " 0.9   0.9   0.9   0.9   0.9   0.9   0.9   0.9   0.9   0.9   0.9   0.9\n",
      " 0.9   0.9   0.9   0.882 0.864 0.846 0.828 0.81  0.792 0.774 0.756 0.738\n",
      " 0.72  0.702 0.684 0.666 0.648 0.63  0.612 0.594 0.576 0.558 0.54  0.522\n",
      " 0.504 0.486 0.468 0.45  0.432 0.414 0.396 0.378 0.36  0.342 0.324 0.306\n",
      " 0.288 0.27  0.252 0.234 0.216 0.198 0.18  0.162 0.144 0.126 0.108 0.09\n",
      " 0.072 0.054 0.036 0.018]\n"
     ]
    }
   ],
   "source": [
    "N = 100\n",
    "\n",
    "alphas = np.array([0.9] * (N // 2) + [0.9 * i / (N - N // 2) for i in range(N - N // 2, 0, -1)])[::-1]\n",
    "betas = np.array([0.9 * i / (N - N // 2) for i in range(1, N - N // 2 + 1)] + [0.9] * (N // 2))[::-1]\n",
    "\n",
    "print(alphas)\n",
    "print(betas)"
   ]
  },
  {
   "cell_type": "code",
   "execution_count": 12,
   "metadata": {
    "scrolled": true
   },
   "outputs": [
    {
     "data": {
      "text/plain": [
       "array([[3.44071896e-143, 6.21089160e-067, 6.40980951e-043, ...,\n",
       "        3.18068153e-003, 1.38769553e-001, 2.03302223e-001],\n",
       "       [4.25795398e-117, 2.10007751e-043, 1.22678343e-035, ...,\n",
       "        4.02158228e-002, 2.39497134e-001, 8.27410284e-001],\n",
       "       [6.94143950e-090, 6.68209140e-043, 2.18365703e-031, ...,\n",
       "        5.51162320e-002, 3.36878943e-001, 8.76564425e-001],\n",
       "       ...,\n",
       "       [6.39682792e-001, 6.35158562e-001, 7.74087449e-001, ...,\n",
       "        1.00000000e+000, 1.00000000e+000, 1.00000000e+000],\n",
       "       [9.18929329e-001, 7.05050203e-001, 8.33648216e-001, ...,\n",
       "        1.00000000e+000, 1.00000000e+000, 1.00000000e+000],\n",
       "       [9.19856901e-001, 7.96343940e-001, 9.03229144e-001, ...,\n",
       "        1.00000000e+000, 1.00000000e+000, 1.00000000e+000]])"
      ]
     },
     "execution_count": 12,
     "metadata": {},
     "output_type": "execute_result"
    }
   ],
   "source": [
    "cost_matrix = np.array([\n",
    "    np.sort(np.random.beta(alpha, beta, N))\n",
    "    for alpha, beta in zip(alphas, betas)\n",
    "]).T\n",
    "\n",
    "cost_matrix"
   ]
  },
  {
   "cell_type": "code",
   "execution_count": 13,
   "metadata": {},
   "outputs": [
    {
     "data": {
      "image/png": "[encoded data removed]",
      "text/plain": [
       "<Figure size 432x288 with 2 Axes>"
      ]
     },
     "metadata": {
      "needs_background": "light"
     },
     "output_type": "display_data"
    }
   ],
   "source": [
    "color_map = plt.cm.get_cmap('Blues')\n",
    "\n",
    "plt.imshow(cost_matrix, cmap=color_map)\n",
    "plt.colorbar()\n",
    "plt.show()"
   ]
  },
  {
   "cell_type": "code",
   "execution_count": 14,
   "metadata": {},
   "outputs": [
    {
     "name": "stdout",
     "output_type": "stream",
     "text": [
      "34.49359159568792\n",
      "1.0\n"
     ]
    }
   ],
   "source": [
    "eff_assigner = assignment.AssignmentHelperV2(\n",
    "    cost_matrix, np.ones((N,))\n",
    ")\n",
    "eff_assignments = eff_assigner.ip_solve()\n",
    "eff_costs = eff_assigner.get_cost_increases(\n",
    "    eff_assignments, increase_matrix=cost_matrix\n",
    ")\n",
    "\n",
    "print(eff_costs.sum())\n",
    "print(eff_costs.max())"
   ]
  },
  {
   "cell_type": "code",
   "execution_count": 15,
   "metadata": {},
   "outputs": [
    {
     "name": "stdout",
     "output_type": "stream",
     "text": [
      "48.40896016030275\n",
      "0.8336482159538726\n"
     ]
    }
   ],
   "source": [
    "lex_assigner = leximin_assignment.LeximinAssignmentHelperV3(\n",
    "    cost_matrix, np.ones((N,))\n",
    ")\n",
    "lex_assignments = lex_assigner.solve()\n",
    "lex_costs = lex_assigner.get_costs(lex_assignments)\n",
    "\n",
    "print(lex_costs.sum())\n",
    "print(lex_costs.max())"
   ]
  },
  {
   "cell_type": "code",
   "execution_count": 16,
   "metadata": {},
   "outputs": [
    {
     "name": "stdout",
     "output_type": "stream",
     "text": [
      "100\n",
      "1.4034189517786952\n"
     ]
    }
   ],
   "source": [
    "print(N)\n",
    "print(lex_costs.sum() / eff_costs.sum())"
   ]
  },
  {
   "cell_type": "code",
   "execution_count": null,
   "metadata": {},
   "outputs": [],
   "source": []
  }
 ],
 "metadata": {
  "kernelspec": {
   "display_name": "Python 3",
   "language": "python",
   "name": "python3"
  },
  "language_info": {
   "codemirror_mode": {
    "name": "ipython",
    "version": 3
   },
   "file_extension": ".py",
   "mimetype": "text/x-python",
   "name": "python",
   "nbconvert_exporter": "python",
   "pygments_lexer": "ipython3",
   "version": "3.7.6"
  }
 },
 "nbformat": 4,
 "nbformat_minor": 2
}
