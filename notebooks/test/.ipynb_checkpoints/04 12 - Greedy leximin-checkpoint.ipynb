{
 "cells": [
  {
   "cell_type": "code",
   "execution_count": 1,
   "metadata": {},
   "outputs": [],
   "source": [
    "import numpy as np\n",
    "np.random.seed(0)\n",
    "\n",
    "import sys\n",
    "sys.path.append('../../')\n",
    "import leximin_assignment\n",
    "\n",
    "from tqdm import tqdm\n",
    "\n",
    "import warnings"
   ]
  },
  {
   "cell_type": "markdown",
   "metadata": {},
   "source": [
    "# Scratch code"
   ]
  },
  {
   "cell_type": "code",
   "execution_count": 5,
   "metadata": {},
   "outputs": [
    {
     "data": {
      "text/plain": [
       "array([[0.63992102, 0.14335329, 0.94466892],\n",
       "       [0.52184832, 0.41466194, 0.26455561],\n",
       "       [0.77423369, 0.45615033, 0.56843395],\n",
       "       [0.0187898 , 0.6176355 , 0.61209572],\n",
       "       [0.616934  , 0.94374808, 0.6818203 ]])"
      ]
     },
     "execution_count": 5,
     "metadata": {},
     "output_type": "execute_result"
    }
   ],
   "source": [
    "cost_matrix = np.random.rand(5, 3)\n",
    "cost_matrix"
   ]
  },
  {
   "cell_type": "code",
   "execution_count": 6,
   "metadata": {},
   "outputs": [],
   "source": [
    "capacities = np.array([1, 2, 2])"
   ]
  },
  {
   "cell_type": "code",
   "execution_count": 12,
   "metadata": {},
   "outputs": [
    {
     "data": {
      "text/plain": [
       "array([1, 2])"
      ]
     },
     "execution_count": 12,
     "metadata": {},
     "output_type": "execute_result"
    }
   ],
   "source": [
    "j = 2\n",
    "\n",
    "smallest_agents = np.argpartition(\n",
    "    cost_matrix[:, j], capacities[j] - 1\n",
    ")[: capacities[j]]\n",
    "\n",
    "smallest_agents"
   ]
  },
  {
   "cell_type": "code",
   "execution_count": 13,
   "metadata": {},
   "outputs": [
    {
     "data": {
      "text/plain": [
       "[1, 2]"
      ]
     },
     "execution_count": 13,
     "metadata": {},
     "output_type": "execute_result"
    }
   ],
   "source": [
    "assigned_agents = []\n",
    "assigned_agents += smallest_agents.tolist()\n",
    "assigned_agents"
   ]
  },
  {
   "cell_type": "code",
   "execution_count": 16,
   "metadata": {},
   "outputs": [
    {
     "data": {
      "text/plain": [
       "[True, False, False, True, True]"
      ]
     },
     "execution_count": 16,
     "metadata": {},
     "output_type": "execute_result"
    }
   ],
   "source": [
    "mask = [agent_id not in assigned_agents for agent_id in np.arange(0, cost_matrix.shape[0])]\n",
    "mask"
   ]
  },
  {
   "cell_type": "code",
   "execution_count": 19,
   "metadata": {},
   "outputs": [
    {
     "data": {
      "text/plain": [
       "array([0, 3])"
      ]
     },
     "execution_count": 19,
     "metadata": {},
     "output_type": "execute_result"
    }
   ],
   "source": [
    "j = 1\n",
    "\n",
    "smallest_agents = np.argpartition(\n",
    "    cost_matrix[mask, j], capacities[j] - 1\n",
    ")[: capacities[j]]\n",
    "\n",
    "np.arange(0, cost_matrix.shape[0])[mask][smallest_agents]"
   ]
  },
  {
   "cell_type": "code",
   "execution_count": 23,
   "metadata": {},
   "outputs": [
    {
     "name": "stdout",
     "output_type": "stream",
     "text": [
      "2 [10.  2.  2. 10. 10.]\n",
      "1 [ 1.  2.  2.  1. 10.]\n",
      "0 [1. 2. 2. 1. 0.]\n"
     ]
    }
   ],
   "source": [
    "assigned_agents = []\n",
    "assignments = np.ones(cost_matrix.shape[0]) * 10\n",
    "agent_array = np.arange(0, cost_matrix.shape[0])\n",
    "\n",
    "for j in range(cost_matrix.shape[1] - 1, -1, -1):\n",
    "    mask = [\n",
    "        agent_id not in assigned_agents \n",
    "        for agent_id in agent_array\n",
    "    ]\n",
    "    \n",
    "    filtered_smallest_agents = np.argpartition(\n",
    "        cost_matrix[mask, j], capacities[j] - 1\n",
    "    )[: capacities[j]]\n",
    "    \n",
    "    smallest_agents = agent_array[mask][filtered_smallest_agents]\n",
    "    assignments[smallest_agents] = j\n",
    "    assigned_agents += smallest_agents.tolist()\n",
    "    \n",
    "    print(j, assignments)"
   ]
  },
  {
   "cell_type": "markdown",
   "metadata": {},
   "source": [
    "# Test"
   ]
  },
  {
   "cell_type": "code",
   "execution_count": 2,
   "metadata": {},
   "outputs": [],
   "source": [
    "N = 30\n",
    "N_INTVS = 5\n",
    "N_EXPERIMENTS = 100\n",
    "probs = np.ones(N_INTVS) / N_INTVS"
   ]
  },
  {
   "cell_type": "code",
   "execution_count": 3,
   "metadata": {},
   "outputs": [
    {
     "name": "stderr",
     "output_type": "stream",
     "text": [
      "100%|██████████| 100/100 [00:56<00:00,  1.78it/s]\n"
     ]
    }
   ],
   "source": [
    "for _ in tqdm(range(N_EXPERIMENTS)):\n",
    "    capacities = np.random.multinomial(N, probs)\n",
    "    \n",
    "    # cost_matrix = np.random.rand(N, N_INTVS).round(4)\n",
    "    cost_matrix = np.random.randint(0, 100000, size=(N, N_INTVS))\n",
    "    cost_matrix.sort(axis=1)\n",
    "    \n",
    "    og_lex_assigner = leximin_assignment.LeximinAssignmentHelperV4(\n",
    "        cost_matrix, capacities\n",
    "    )\n",
    "    with warnings.catch_warnings():\n",
    "        warnings.simplefilter('ignore')\n",
    "        assignments1 = og_lex_assigner.solve()\n",
    "    \n",
    "    greedy_lex_assigner = leximin_assignment.RowSortedLeximinAssignmentHelper(\n",
    "        cost_matrix, capacities\n",
    "    )\n",
    "    assignments2 = greedy_lex_assigner.solve()\n",
    "    \n",
    "    if not np.array_equal(assignments1, assignments2):\n",
    "        print(cost_matrix)\n",
    "        print(assignments1)\n",
    "        print(assignments2)\n",
    "        break"
   ]
  },
  {
   "cell_type": "markdown",
   "metadata": {},
   "source": [
    "Conclusion: no conflict"
   ]
  },
  {
   "cell_type": "markdown",
   "metadata": {},
   "source": [
    "# Debugging"
   ]
  },
  {
   "cell_type": "code",
   "execution_count": 19,
   "metadata": {},
   "outputs": [
    {
     "data": {
      "text/plain": [
       "array([ 4,  9,  5, 10,  2])"
      ]
     },
     "execution_count": 19,
     "metadata": {},
     "output_type": "execute_result"
    }
   ],
   "source": [
    "capacities"
   ]
  },
  {
   "cell_type": "code",
   "execution_count": 20,
   "metadata": {},
   "outputs": [
    {
     "name": "stdout",
     "output_type": "stream",
     "text": [
      "[1 2 2 2 3 3 0 1 3 3 1 2 3 0 1 1 3 1 4 1 0 0 3 1 3 3 3 4 2 1]\n",
      "[1 2 0 2 3 3 2 1 3 3 1 2 3 0 1 1 3 1 4 1 0 0 3 1 3 3 3 4 2 1]\n"
     ]
    }
   ],
   "source": [
    "print(assignments1)\n",
    "print(assignments2.astype(int))"
   ]
  },
  {
   "cell_type": "code",
   "execution_count": 21,
   "metadata": {},
   "outputs": [
    {
     "data": {
      "text/plain": [
       "array([[[3381, 5528, 5853, 8204, 9549]],\n",
       "\n",
       "       [[ 246, 5616, 5853, 6410, 7555]]])"
      ]
     },
     "execution_count": 21,
     "metadata": {},
     "output_type": "execute_result"
    }
   ],
   "source": [
    "cost_matrix[np.argwhere(assignments1 != assignments2), :]"
   ]
  },
  {
   "cell_type": "code",
   "execution_count": 22,
   "metadata": {},
   "outputs": [
    {
     "data": {
      "text/plain": [
       "array([[2],\n",
       "       [0]])"
      ]
     },
     "execution_count": 22,
     "metadata": {},
     "output_type": "execute_result"
    }
   ],
   "source": [
    "assignments1[np.argwhere(assignments1 != assignments2)]"
   ]
  },
  {
   "cell_type": "code",
   "execution_count": 23,
   "metadata": {},
   "outputs": [
    {
     "data": {
      "text/plain": [
       "array([[0.],\n",
       "       [2.]])"
      ]
     },
     "execution_count": 23,
     "metadata": {},
     "output_type": "execute_result"
    }
   ],
   "source": [
    "assignments2[np.argwhere(assignments1 != assignments2)]"
   ]
  },
  {
   "cell_type": "code",
   "execution_count": null,
   "metadata": {},
   "outputs": [],
   "source": []
  }
 ],
 "metadata": {
  "kernelspec": {
   "display_name": "Python 3",
   "language": "python",
   "name": "python3"
  },
  "language_info": {
   "codemirror_mode": {
    "name": "ipython",
    "version": 3
   },
   "file_extension": ".py",
   "mimetype": "text/x-python",
   "name": "python",
   "nbconvert_exporter": "python",
   "pygments_lexer": "ipython3",
   "version": "3.7.6"
  }
 },
 "nbformat": 4,
 "nbformat_minor": 2
}
