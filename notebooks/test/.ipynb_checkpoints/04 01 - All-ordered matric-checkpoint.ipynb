{
 "cells": [
  {
   "cell_type": "code",
   "execution_count": 1,
   "metadata": {},
   "outputs": [],
   "source": [
    "import numpy as np\n",
    "np.random.seed(0)\n",
    "import matplotlib.pyplot as plt\n",
    "\n",
    "import sys\n",
    "sys.path.insert(0, '../..')\n",
    "import leximin_assignment\n",
    "import assignment\n",
    "\n",
    "from tqdm import tqdm"
   ]
  },
  {
   "cell_type": "markdown",
   "metadata": {},
   "source": [
    "# Uniform distribution - fixed to be expectations"
   ]
  },
  {
   "cell_type": "code",
   "execution_count": 6,
   "metadata": {
    "scrolled": true
   },
   "outputs": [
    {
     "data": {
      "text/plain": [
       "array([[9.99900010e-05, 2.99970003e-04, 5.99940006e-04, ...,\n",
       "        4.85051495e-01, 4.94950505e-01, 5.04949505e-01],\n",
       "       [1.99980002e-04, 4.99950005e-04, 8.99910009e-04, ...,\n",
       "        4.94850515e-01, 5.04849515e-01, 5.14848515e-01],\n",
       "       [3.99960004e-04, 7.99920008e-04, 1.29987001e-03, ...,\n",
       "        5.04749525e-01, 5.14748525e-01, 5.24647535e-01],\n",
       "       ...,\n",
       "       [4.75352465e-01, 4.85251475e-01, 4.95250475e-01, ...,\n",
       "        9.98700130e-01, 9.99200080e-01, 9.99600040e-01],\n",
       "       [4.85151485e-01, 4.95150485e-01, 5.05149485e-01, ...,\n",
       "        9.99100090e-01, 9.99500050e-01, 9.99800020e-01],\n",
       "       [4.95050495e-01, 5.05049495e-01, 5.14948505e-01, ...,\n",
       "        9.99400060e-01, 9.99700030e-01, 9.99900010e-01]])"
      ]
     },
     "execution_count": 6,
     "metadata": {},
     "output_type": "execute_result"
    }
   ],
   "source": [
    "N = 100\n",
    "\n",
    "costs = np.arange(1, N ** 2 + 1) / (N ** 2 + 1)\n",
    "\n",
    "cost_matrix = np.zeros((N, N))\n",
    "\n",
    "i = 0\n",
    "for diag_id in range(N):\n",
    "    for row in range(diag_id, -1, -1):\n",
    "        cost_matrix[row, diag_id - row] = costs[i]\n",
    "        i += 1\n",
    "\n",
    "for diag_id in range(N, 2 * N - 1):\n",
    "    for row in range(N - 1, diag_id - N, -1):\n",
    "        cost_matrix[row, diag_id - row] = costs[i]\n",
    "        i += 1\n",
    "        \n",
    "cost_matrix = np.array(cost_matrix)\n",
    "cost_matrix"
   ]
  },
  {
   "cell_type": "code",
   "execution_count": 7,
   "metadata": {},
   "outputs": [
    {
     "data": {
      "image/png": "[encoded data removed]",
      "text/plain": [
       "<Figure size 432x288 with 2 Axes>"
      ]
     },
     "metadata": {
      "needs_background": "light"
     },
     "output_type": "display_data"
    }
   ],
   "source": [
    "color_map = plt.cm.get_cmap('Blues')\n",
    "\n",
    "plt.imshow(cost_matrix, cmap=color_map)\n",
    "plt.colorbar()\n",
    "plt.show()"
   ]
  },
  {
   "cell_type": "code",
   "execution_count": 8,
   "metadata": {},
   "outputs": [
    {
     "name": "stdout",
     "output_type": "stream",
     "text": [
      "[76 75 74 73 72 71 70 69 68 67 66 65 64 63 62 61 60 59 58 57 56 55 54 53\n",
      " 52 51 50 49 48 47 46 45 44 43 42 41 40 39 38 37 36 35 34 33 32 31 30 29\n",
      " 28 27 26 25 24 23 22 21 20 19 18 17 16 15 14 13 12 11 10  9  8  7  6  5\n",
      "  4  3  2  1  0 77 78 79 80 81 82 83 84 85 86 87 88 89 90 91 92 93 94 95\n",
      " 96 97 98 99]\n",
      "45.01639836016399\n",
      "0.9999000099990001\n"
     ]
    }
   ],
   "source": [
    "eff_assigner = assignment.AssignmentHelperV2(\n",
    "    cost_matrix, np.ones((N,))\n",
    ")\n",
    "eff_assignments = eff_assigner.ip_solve()\n",
    "eff_costs = eff_assigner.get_cost_increases(\n",
    "    eff_assignments, increase_matrix=cost_matrix\n",
    ")\n",
    "\n",
    "print(eff_assignments)\n",
    "print(eff_costs.sum())\n",
    "print(eff_costs.max())"
   ]
  },
  {
   "cell_type": "code",
   "execution_count": 9,
   "metadata": {},
   "outputs": [
    {
     "name": "stdout",
     "output_type": "stream",
     "text": [
      "[99 98 97 96 95 94 93 92 91 90 89 88 87 86 85 84 83 82 81 80 79 78 77 76\n",
      " 75 74 73 72 71 70 69 68 67 66 65 64 63 62 61 60 59 58 57 56 55 54 53 52\n",
      " 51 50 49 48 47 46 45 44 43 42 41 40 39 38 37 36 35 34 33 32 31 30 29 28\n",
      " 27 26 25 24 23 22 21 20 19 18 17 16 15 14 13 12 11 10  9  8  7  6  5  4\n",
      "  3  2  1  0]\n",
      "50.0\n",
      "0.5049495050494951\n"
     ]
    }
   ],
   "source": [
    "lex_assigner = leximin_assignment.LeximinAssignmentHelperV3(\n",
    "    cost_matrix, np.ones((N,))\n",
    ")\n",
    "# lex_assignments = lex_assigner.solve()\n",
    "lex_assignments = np.arange(N - 1, -1, -1)\n",
    "lex_costs = lex_assigner.get_costs(lex_assignments)\n",
    "\n",
    "print(lex_assignments)\n",
    "print(lex_costs.sum())\n",
    "print(lex_costs.max())"
   ]
  },
  {
   "cell_type": "code",
   "execution_count": 10,
   "metadata": {},
   "outputs": [
    {
     "name": "stdout",
     "output_type": "stream",
     "text": [
      "100\n",
      "77\n",
      "1.1107063608235286\n"
     ]
    }
   ],
   "source": [
    "print(N)\n",
    "print(eff_assignments[0] + 1)\n",
    "print(lex_costs.sum() / eff_costs.sum())"
   ]
  },
  {
   "cell_type": "markdown",
   "metadata": {},
   "source": [
    "# Uniform distribution"
   ]
  },
  {
   "cell_type": "code",
   "execution_count": 11,
   "metadata": {},
   "outputs": [
    {
     "data": {
      "text/plain": [
       "array([[3.31055446e-06, 1.46296458e-05, 2.95468936e-05, ...,\n",
       "        4.98342083e-01, 5.00348743e-01, 5.02514867e-01],\n",
       "       [1.35423757e-05, 2.92171941e-05, 4.77493513e-05, ...,\n",
       "        5.00339638e-01, 5.02509397e-01, 5.04365167e-01],\n",
       "       [1.98969420e-05, 4.74312514e-05, 6.33597208e-05, ...,\n",
       "        5.02506667e-01, 5.04363330e-01, 5.06363443e-01],\n",
       "       ...,\n",
       "       [4.96451380e-01, 4.98342944e-01, 5.00375060e-01, ...,\n",
       "        9.99959674e-01, 9.99968216e-01, 9.99984091e-01],\n",
       "       [4.98342177e-01, 5.00352342e-01, 5.02516790e-01, ...,\n",
       "        9.99967111e-01, 9.99983172e-01, 9.99989628e-01],\n",
       "       [5.00349860e-01, 5.02515856e-01, 5.04367400e-01, ...,\n",
       "        9.99977952e-01, 9.99988004e-01, 9.99999012e-01]])"
      ]
     },
     "execution_count": 11,
     "metadata": {},
     "output_type": "execute_result"
    }
   ],
   "source": [
    "N = 500\n",
    "\n",
    "costs = np.sort(np.random.uniform(0, 1, N ** 2))\n",
    "\n",
    "cost_matrix = np.zeros((N, N))\n",
    "\n",
    "i = 0\n",
    "for diag_id in range(N):\n",
    "    for row in range(diag_id, -1, -1):\n",
    "        cost_matrix[row, diag_id - row] = costs[i]\n",
    "        i += 1\n",
    "\n",
    "for diag_id in range(N, 2 * N - 1):\n",
    "    for row in range(N - 1, diag_id - N, -1):\n",
    "        cost_matrix[row, diag_id - row] = costs[i]\n",
    "        i += 1\n",
    "        \n",
    "cost_matrix = np.array(cost_matrix)\n",
    "cost_matrix"
   ]
  },
  {
   "cell_type": "code",
   "execution_count": 12,
   "metadata": {},
   "outputs": [
    {
     "data": {
      "image/png": "[encoded data removed]",
      "text/plain": [
       "<Figure size 432x288 with 2 Axes>"
      ]
     },
     "metadata": {
      "needs_background": "light"
     },
     "output_type": "display_data"
    }
   ],
   "source": [
    "color_map = plt.cm.get_cmap('Blues')\n",
    "\n",
    "plt.imshow(cost_matrix, cmap=color_map)\n",
    "plt.colorbar()\n",
    "plt.show()"
   ]
  },
  {
   "cell_type": "code",
   "execution_count": 13,
   "metadata": {
    "scrolled": true
   },
   "outputs": [
    {
     "name": "stdout",
     "output_type": "stream",
     "text": [
      "[377 376 375 374 373 372 381 380 379 378 367 366 365 364 363 362 361 360\n",
      " 359 358 357 371 370 369 368 352 351 350 349 348 347 346 345 344 343 342\n",
      " 356 355 354 353 337 336 335 334 333 332 341 330 329 328 327 326 340 339\n",
      " 338 322 331 320 319 318 317 316 315 314 323 312 321 325 324 308 307 306\n",
      " 305 304 313 302 311 310 309 298 297 296 295 294 293 292 291 300 299 303\n",
      " 287 301 285 284 283 282 281 290 289 288 277 286 275 274 273 272 271 280\n",
      " 279 278 267 266 265 276 263 262 261 260 259 258 257 256 270 269 268 252\n",
      " 251 250 264 248 247 246 245 244 243 242 255 254 253 238 237 236 235 249\n",
      " 233 232 241 231 230 229 228 240 226 239 224 223 222 234 220 219 218 217\n",
      " 216 215 227 213 225 211 210 209 221 207 205 204 203 202 201 214 200 212\n",
      " 198 197 196 208 194 206 192 191 199 189 188 186 195 185 193 183 182 190\n",
      " 180 179 187 177 176 184 174 173 181 171 170 178 168 167 175 165 164 172\n",
      " 162 161 169 159 158 166 156 155 163 153 152 160 150 149 157 147 146 154\n",
      " 144 143 151 141 139 148 137 136 145 135 134 133 132 131 130 142 128 140\n",
      " 126 138 124 123 122 121 120 119 118 117 129 114 127 113 125 111 110 116\n",
      " 115 107 106 112 104 103 109 108  99  98 105  96  95 102 101 100  91  90\n",
      "  97  88  87  94  93  92  85  82  89  80  79  86  77  84  83  74  81  72\n",
      "  71  78  69  76  75  66  73  64  63  70  61  68  67  59  65  58  57  62\n",
      "  55  60  53  50  49  48  47  54  45  46  43  56  42  41  40  52  51  44\n",
      "  36  35  39  38  32  31  30  34  33  27  26  25  24  23  37  21  20  19\n",
      "  18  17  16  15  29  28  22  11  10   9   8   7   6   5   4   3   2   1\n",
      "   0  14  13  12 383 382 385 384 390 387 386 389 388 391 393 392 396 395\n",
      " 394 400 401 398 397 399 407 406 405 404 403 402 409 408 423 422 421 420\n",
      " 419 418 417 416 415 414 413 412 411 410 427 426 425 424 429 428 432 431\n",
      " 430 440 439 438 437 436 435 434 433 441 442 443 449 448 447 446 445 444\n",
      " 451 450 457 456 455 454 453 452 458 465 462 461 460 459 464 463 471 470\n",
      " 472 468 469 466 467 476 475 474 473 479 481 477 480 478 483 484 482 485\n",
      " 487 486 489 488 491 490 493 492 495 494 496 498 497 499]\n",
      "225.1004183480398\n",
      "0.9999990120313899\n"
     ]
    }
   ],
   "source": [
    "eff_assigner = assignment.AssignmentHelperV2(\n",
    "    cost_matrix, np.ones((N,))\n",
    ")\n",
    "eff_assignments = eff_assigner.ip_solve()\n",
    "eff_costs = eff_assigner.get_cost_increases(\n",
    "    eff_assignments, increase_matrix=cost_matrix\n",
    ")\n",
    "\n",
    "print(eff_assignments)\n",
    "print(eff_costs.sum())\n",
    "print(eff_costs.max())"
   ]
  },
  {
   "cell_type": "code",
   "execution_count": 14,
   "metadata": {
    "scrolled": true
   },
   "outputs": [
    {
     "name": "stdout",
     "output_type": "stream",
     "text": [
      "[499 498 497 496 495 494 493 492 491 490 489 488 487 486 485 484 483 482\n",
      " 481 480 479 478 477 476 475 474 473 472 471 470 469 468 467 466 465 464\n",
      " 463 462 461 460 459 458 457 456 455 454 453 452 451 450 449 448 447 446\n",
      " 445 444 443 442 441 440 439 438 437 436 435 434 433 432 431 430 429 428\n",
      " 427 426 425 424 423 422 421 420 419 418 417 416 415 414 413 412 411 410\n",
      " 409 408 407 406 405 404 403 402 401 400 399 398 397 396 395 394 393 392\n",
      " 391 390 389 388 387 386 385 384 383 382 381 380 379 378 377 376 375 374\n",
      " 373 372 371 370 369 368 367 366 365 364 363 362 361 360 359 358 357 356\n",
      " 355 354 353 352 351 350 349 348 347 346 345 344 343 342 341 340 339 338\n",
      " 337 336 335 334 333 332 331 330 329 328 327 326 325 324 323 322 321 320\n",
      " 319 318 317 316 315 314 313 312 311 310 309 308 307 306 305 304 303 302\n",
      " 301 300 299 298 297 296 295 294 293 292 291 290 289 288 287 286 285 284\n",
      " 283 282 281 280 279 278 277 276 275 274 273 272 271 270 269 268 267 266\n",
      " 265 264 263 262 261 260 259 258 257 256 255 254 253 252 251 250 249 248\n",
      " 247 246 245 244 243 242 241 240 239 238 237 236 235 234 233 232 231 230\n",
      " 229 228 227 226 225 224 223 222 221 220 219 218 217 216 215 214 213 212\n",
      " 211 210 209 208 207 206 205 204 203 202 201 200 199 198 197 196 195 194\n",
      " 193 192 191 190 189 188 187 186 185 184 183 182 181 180 179 178 177 176\n",
      " 175 174 173 172 171 170 169 168 167 166 165 164 163 162 161 160 159 158\n",
      " 157 156 155 154 153 152 151 150 149 148 147 146 145 144 143 142 141 140\n",
      " 139 138 137 136 135 134 133 132 131 130 129 128 127 126 125 124 123 122\n",
      " 121 120 119 118 117 116 115 114 113 112 111 110 109 108 107 106 105 104\n",
      " 103 102 101 100  99  98  97  96  95  94  93  92  91  90  89  88  87  86\n",
      "  85  84  83  82  81  80  79  78  77  76  75  74  73  72  71  70  69  68\n",
      "  67  66  65  64  63  62  61  60  59  58  57  56  55  54  53  52  51  50\n",
      "  49  48  47  46  45  44  43  42  41  40  39  38  37  36  35  34  33  32\n",
      "  31  30  29  28  27  26  25  24  23  22  21  20  19  18  17  16  15  14\n",
      "  13  12  11  10   9   8   7   6   5   4   3   2   1   0]\n",
      "250.7136439652325\n",
      "0.5025148670697707\n"
     ]
    }
   ],
   "source": [
    "lex_assigner = leximin_assignment.LeximinAssignmentHelperV3(\n",
    "    cost_matrix, np.ones((N,))\n",
    ")\n",
    "# lex_assignments = lex_assigner.solve()\n",
    "lex_assignments = np.arange(N - 1, -1, -1)\n",
    "lex_costs = lex_assigner.get_costs(lex_assignments)\n",
    "\n",
    "print(lex_assignments)\n",
    "print(lex_costs.sum())\n",
    "print(lex_costs.max())"
   ]
  },
  {
   "cell_type": "code",
   "execution_count": 15,
   "metadata": {},
   "outputs": [
    {
     "name": "stdout",
     "output_type": "stream",
     "text": [
      "500\n",
      "378\n",
      "1.1137857752782616\n"
     ]
    }
   ],
   "source": [
    "print(N)\n",
    "print(eff_assignments[0] + 1)\n",
    "print(lex_costs.sum() / eff_costs.sum())"
   ]
  },
  {
   "cell_type": "markdown",
   "metadata": {},
   "source": [
    "# U-shaped beta distribution"
   ]
  },
  {
   "cell_type": "code",
   "execution_count": 16,
   "metadata": {},
   "outputs": [
    {
     "data": {
      "text/plain": [
       "array([[8.55711728e-06, 8.34860924e-05, 2.89245647e-04, ...,\n",
       "        5.29137393e-01, 5.41277916e-01, 5.51727075e-01],\n",
       "       [7.90546606e-05, 2.33863248e-04, 5.50981011e-04, ...,\n",
       "        5.41177494e-01, 5.51708763e-01, 5.61856403e-01],\n",
       "       [1.16569401e-04, 5.46703330e-04, 9.42804939e-04, ...,\n",
       "        5.51677560e-01, 5.61626689e-01, 5.72785666e-01],\n",
       "       ...,\n",
       "       [5.19525285e-01, 5.29358382e-01, 5.41409359e-01, ...,\n",
       "        9.99837432e-01, 9.99904318e-01, 9.99955924e-01],\n",
       "       [5.29189196e-01, 5.41377437e-01, 5.51752839e-01, ...,\n",
       "        9.99861713e-01, 9.99952081e-01, 9.99978200e-01],\n",
       "       [5.41347872e-01, 5.51750440e-01, 5.61936377e-01, ...,\n",
       "        9.99929312e-01, 9.99957932e-01, 9.99998303e-01]])"
      ]
     },
     "execution_count": 16,
     "metadata": {},
     "output_type": "execute_result"
    }
   ],
   "source": [
    "N = 100\n",
    "\n",
    "costs = np.sort(np.random.beta(0.9, 0.8, N ** 2))\n",
    "\n",
    "cost_matrix = np.zeros((N, N))\n",
    "\n",
    "i = 0\n",
    "for diag_id in range(N):\n",
    "    for row in range(diag_id, -1, -1):\n",
    "        cost_matrix[row, diag_id - row] = costs[i]\n",
    "        i += 1\n",
    "\n",
    "for diag_id in range(N, 2 * N - 1):\n",
    "    for row in range(N - 1, diag_id - N, -1):\n",
    "        cost_matrix[row, diag_id - row] = costs[i]\n",
    "        i += 1\n",
    "        \n",
    "cost_matrix = np.array(cost_matrix)\n",
    "cost_matrix"
   ]
  },
  {
   "cell_type": "code",
   "execution_count": 17,
   "metadata": {},
   "outputs": [
    {
     "data": {
      "image/png": "[encoded data removed]",
      "text/plain": [
       "<Figure size 432x288 with 2 Axes>"
      ]
     },
     "metadata": {
      "needs_background": "light"
     },
     "output_type": "display_data"
    }
   ],
   "source": [
    "color_map = plt.cm.get_cmap('Blues')\n",
    "\n",
    "plt.imshow(cost_matrix, cmap=color_map)\n",
    "plt.colorbar()\n",
    "plt.show()"
   ]
  },
  {
   "cell_type": "code",
   "execution_count": 18,
   "metadata": {},
   "outputs": [
    {
     "name": "stdout",
     "output_type": "stream",
     "text": [
      "[73 72 71 70 69 66 67 68 65 64 63 60 59 62 61 55 54 58 57 56 50 53 52 51\n",
      " 46 49 48 47 42 45 44 43 39 41 40 36 38 37 33 35 34 29 32 31 30 26 28 27\n",
      " 23 25 24 20 22 21 17 19 18 14 16 15 11 13 12  9 10  7  5  4  8  2  6  3\n",
      "  0  1 76 75 74 78 77 81 80 79 84 83 82 86 85 87 89 91 90 88 94 93 92 97\n",
      " 96 95 99 98]\n",
      "46.61289505930549\n",
      "0.999978199733413\n"
     ]
    }
   ],
   "source": [
    "eff_assigner = assignment.AssignmentHelperV2(\n",
    "    cost_matrix, np.ones((N,))\n",
    ")\n",
    "eff_assignments = eff_assigner.ip_solve()\n",
    "eff_costs = eff_assigner.get_cost_increases(\n",
    "    eff_assignments, increase_matrix=cost_matrix\n",
    ")\n",
    "\n",
    "print(eff_assignments)\n",
    "print(eff_costs.sum())\n",
    "print(eff_costs.max())"
   ]
  },
  {
   "cell_type": "code",
   "execution_count": 19,
   "metadata": {},
   "outputs": [
    {
     "name": "stdout",
     "output_type": "stream",
     "text": [
      "[99 98 97 96 95 94 93 92 91 90 89 88 87 86 85 84 83 82 81 80 79 78 77 76\n",
      " 75 74 73 72 71 70 69 68 67 66 65 64 63 62 61 60 59 58 57 56 55 54 53 52\n",
      " 51 50 49 48 47 46 45 44 43 42 41 40 39 38 37 36 35 34 33 32 31 30 29 28\n",
      " 27 26 25 24 23 22 21 20 19 18 17 16 15 14 13 12 11 10  9  8  7  6  5  4\n",
      "  3  2  1  0]\n",
      "54.66009101779104\n",
      "0.551727075072714\n"
     ]
    }
   ],
   "source": [
    "lex_assigner = leximin_assignment.LeximinAssignmentHelperV3(\n",
    "    cost_matrix, np.ones((N,))\n",
    ")\n",
    "# lex_assignments = lex_assigner.solve()\n",
    "lex_assignments = np.arange(N - 1, -1, -1)\n",
    "lex_costs = lex_assigner.get_costs(lex_assignments)\n",
    "\n",
    "print(lex_assignments)\n",
    "print(lex_costs.sum())\n",
    "print(lex_costs.max())"
   ]
  },
  {
   "cell_type": "code",
   "execution_count": 20,
   "metadata": {},
   "outputs": [
    {
     "name": "stdout",
     "output_type": "stream",
     "text": [
      "100\n",
      "1.1726388362758229\n"
     ]
    }
   ],
   "source": [
    "print(N)\n",
    "print(lex_costs.sum() / eff_costs.sum())"
   ]
  },
  {
   "cell_type": "markdown",
   "metadata": {},
   "source": [
    "## Fixed $\\alpha$, varying $\\beta$\n",
    "\n",
    "### $\\alpha = 0.9$"
   ]
  },
  {
   "cell_type": "code",
   "execution_count": 38,
   "metadata": {},
   "outputs": [
    {
     "name": "stderr",
     "output_type": "stream",
     "text": [
      "100%|██████████| 9/9 [01:19<00:00,  8.82s/it]\n"
     ]
    }
   ],
   "source": [
    "N = 100\n",
    "\n",
    "alpha = 0.9\n",
    "betas = [0.9, 0.8, 0.7, 0.6, 0.5, 0.4, 0.3, 0.2, 0.1]\n",
    "pof_population = []\n",
    "\n",
    "n_experiments = 20\n",
    "\n",
    "for beta in tqdm(betas):\n",
    "    pofs = []\n",
    "    \n",
    "    for _ in range(n_experiments):\n",
    "        # Generate cost matrix\n",
    "        costs = np.sort(np.random.beta(alpha, beta, N ** 2))\n",
    "        cost_matrix = np.zeros((N, N))\n",
    "        i = 0\n",
    "        for diag_id in range(N):\n",
    "            for row in range(diag_id, -1, -1):\n",
    "                cost_matrix[row, diag_id - row] = costs[i]\n",
    "                i += 1\n",
    "\n",
    "        for diag_id in range(N, 2 * N - 1):\n",
    "            for row in range(N - 1, diag_id - N, -1):\n",
    "                cost_matrix[row, diag_id - row] = costs[i]\n",
    "                i += 1\n",
    "        cost_matrix = np.array(cost_matrix)\n",
    "        \n",
    "        # Efficient assignment\n",
    "        eff_assigner = assignment.AssignmentHelperV2(\n",
    "            cost_matrix, np.ones((N,))\n",
    "        )\n",
    "        eff_assignments = eff_assigner.ip_solve()\n",
    "        eff_costs = eff_assigner.get_cost_increases(\n",
    "            eff_assignments, increase_matrix=cost_matrix\n",
    "        )\n",
    "        \n",
    "        # Leximin assignment\n",
    "        lex_assigner = leximin_assignment.LeximinAssignmentHelperV3(\n",
    "            cost_matrix, np.ones((N,))\n",
    "        )\n",
    "        lex_assignments = np.arange(N - 1, -1, -1)\n",
    "        lex_costs = lex_assigner.get_costs(lex_assignments)\n",
    "        \n",
    "        pofs.append(lex_costs.sum() / eff_costs.sum())\n",
    "    \n",
    "    pof_population.append(pofs)"
   ]
  },
  {
   "cell_type": "code",
   "execution_count": 39,
   "metadata": {},
   "outputs": [
    {
     "data": {
      "image/png": "[encoded data removed]",
      "text/plain": [
       "<Figure size 1080x576 with 1 Axes>"
      ]
     },
     "metadata": {
      "needs_background": "light"
     },
     "output_type": "display_data"
    }
   ],
   "source": [
    "plt.figure(figsize=(15, 8))\n",
    "\n",
    "positions = [i for i in range(len(betas))]\n",
    "mean_pofs = [np.mean(pofs) for pofs in pof_population]\n",
    "\n",
    "plt.plot(positions, mean_pofs)\n",
    "plt.scatter(positions, mean_pofs)\n",
    "\n",
    "plt.boxplot(\n",
    "    pof_population,\n",
    "    positions=positions,\n",
    "    labels=betas\n",
    ")\n",
    "\n",
    "plt.show()"
   ]
  },
  {
   "cell_type": "markdown",
   "metadata": {},
   "source": [
    "### $\\alpha = 0.8$"
   ]
  },
  {
   "cell_type": "code",
   "execution_count": 40,
   "metadata": {},
   "outputs": [
    {
     "name": "stderr",
     "output_type": "stream",
     "text": [
      "100%|██████████| 9/9 [01:19<00:00,  8.81s/it]\n"
     ]
    }
   ],
   "source": [
    "N = 100\n",
    "\n",
    "alpha = 0.8\n",
    "betas = [0.9, 0.8, 0.7, 0.6, 0.5, 0.4, 0.3, 0.2, 0.1]\n",
    "pof_population = []\n",
    "\n",
    "n_experiments = 20\n",
    "\n",
    "for beta in tqdm(betas):\n",
    "    pofs = []\n",
    "    \n",
    "    for _ in range(n_experiments):\n",
    "        # Generate cost matrix\n",
    "        costs = np.sort(np.random.beta(alpha, beta, N ** 2))\n",
    "        cost_matrix = np.zeros((N, N))\n",
    "        i = 0\n",
    "        for diag_id in range(N):\n",
    "            for row in range(diag_id, -1, -1):\n",
    "                cost_matrix[row, diag_id - row] = costs[i]\n",
    "                i += 1\n",
    "\n",
    "        for diag_id in range(N, 2 * N - 1):\n",
    "            for row in range(N - 1, diag_id - N, -1):\n",
    "                cost_matrix[row, diag_id - row] = costs[i]\n",
    "                i += 1\n",
    "        cost_matrix = np.array(cost_matrix)\n",
    "        \n",
    "        # Efficient assignment\n",
    "        eff_assigner = assignment.AssignmentHelperV2(\n",
    "            cost_matrix, np.ones((N,))\n",
    "        )\n",
    "        eff_assignments = eff_assigner.ip_solve()\n",
    "        eff_costs = eff_assigner.get_cost_increases(\n",
    "            eff_assignments, increase_matrix=cost_matrix\n",
    "        )\n",
    "        \n",
    "        # Leximin assignment\n",
    "        lex_assigner = leximin_assignment.LeximinAssignmentHelperV3(\n",
    "            cost_matrix, np.ones((N,))\n",
    "        )\n",
    "        lex_assignments = np.arange(N - 1, -1, -1)\n",
    "        lex_costs = lex_assigner.get_costs(lex_assignments)\n",
    "        \n",
    "        pofs.append(lex_costs.sum() / eff_costs.sum())\n",
    "    \n",
    "    pof_population.append(pofs)"
   ]
  },
  {
   "cell_type": "code",
   "execution_count": 41,
   "metadata": {},
   "outputs": [
    {
     "data": {
      "image/png": "[encoded data removed]",
      "text/plain": [
       "<Figure size 1080x576 with 1 Axes>"
      ]
     },
     "metadata": {
      "needs_background": "light"
     },
     "output_type": "display_data"
    }
   ],
   "source": [
    "plt.figure(figsize=(15, 8))\n",
    "\n",
    "positions = [i for i in range(len(betas))]\n",
    "mean_pofs = [np.mean(pofs) for pofs in pof_population]\n",
    "\n",
    "plt.plot(positions, mean_pofs)\n",
    "plt.scatter(positions, mean_pofs)\n",
    "\n",
    "plt.boxplot(\n",
    "    pof_population,\n",
    "    positions=positions,\n",
    "    labels=betas\n",
    ")\n",
    "\n",
    "plt.show()"
   ]
  },
  {
   "cell_type": "code",
   "execution_count": 42,
   "metadata": {},
   "outputs": [
    {
     "name": "stderr",
     "output_type": "stream",
     "text": [
      "100%|██████████| 9/9 [01:21<00:00,  9.09s/it]\n"
     ]
    }
   ],
   "source": [
    "N = 100\n",
    "\n",
    "alpha = 0.7\n",
    "betas = [0.9, 0.8, 0.7, 0.6, 0.5, 0.4, 0.3, 0.2, 0.1]\n",
    "pof_population = []\n",
    "\n",
    "n_experiments = 20\n",
    "\n",
    "for beta in tqdm(betas):\n",
    "    pofs = []\n",
    "    \n",
    "    for _ in range(n_experiments):\n",
    "        # Generate cost matrix\n",
    "        costs = np.sort(np.random.beta(alpha, beta, N ** 2))\n",
    "        cost_matrix = np.zeros((N, N))\n",
    "        i = 0\n",
    "        for diag_id in range(N):\n",
    "            for row in range(diag_id, -1, -1):\n",
    "                cost_matrix[row, diag_id - row] = costs[i]\n",
    "                i += 1\n",
    "\n",
    "        for diag_id in range(N, 2 * N - 1):\n",
    "            for row in range(N - 1, diag_id - N, -1):\n",
    "                cost_matrix[row, diag_id - row] = costs[i]\n",
    "                i += 1\n",
    "        cost_matrix = np.array(cost_matrix)\n",
    "        \n",
    "        # Efficient assignment\n",
    "        eff_assigner = assignment.AssignmentHelperV2(\n",
    "            cost_matrix, np.ones((N,))\n",
    "        )\n",
    "        eff_assignments = eff_assigner.ip_solve()\n",
    "        eff_costs = eff_assigner.get_cost_increases(\n",
    "            eff_assignments, increase_matrix=cost_matrix\n",
    "        )\n",
    "        \n",
    "        # Leximin assignment\n",
    "        lex_assigner = leximin_assignment.LeximinAssignmentHelperV3(\n",
    "            cost_matrix, np.ones((N,))\n",
    "        )\n",
    "        lex_assignments = np.arange(N - 1, -1, -1)\n",
    "        lex_costs = lex_assigner.get_costs(lex_assignments)\n",
    "        \n",
    "        pofs.append(lex_costs.sum() / eff_costs.sum())\n",
    "    \n",
    "    pof_population.append(pofs)"
   ]
  },
  {
   "cell_type": "code",
   "execution_count": 43,
   "metadata": {},
   "outputs": [
    {
     "data": {
      "image/png": "[encoded data removed]",
      "text/plain": [
       "<Figure size 1080x576 with 1 Axes>"
      ]
     },
     "metadata": {
      "needs_background": "light"
     },
     "output_type": "display_data"
    }
   ],
   "source": [
    "plt.figure(figsize=(15, 8))\n",
    "\n",
    "positions = [i for i in range(len(betas))]\n",
    "mean_pofs = [np.mean(pofs) for pofs in pof_population]\n",
    "\n",
    "plt.plot(positions, mean_pofs)\n",
    "plt.scatter(positions, mean_pofs)\n",
    "\n",
    "plt.boxplot(\n",
    "    pof_population,\n",
    "    positions=positions,\n",
    "    labels=betas\n",
    ")\n",
    "\n",
    "plt.show()"
   ]
  },
  {
   "cell_type": "code",
   "execution_count": null,
   "metadata": {},
   "outputs": [],
   "source": []
  }
 ],
 "metadata": {
  "kernelspec": {
   "display_name": "Python 3",
   "language": "python",
   "name": "python3"
  },
  "language_info": {
   "codemirror_mode": {
    "name": "ipython",
    "version": 3
   },
   "file_extension": ".py",
   "mimetype": "text/x-python",
   "name": "python",
   "nbconvert_exporter": "python",
   "pygments_lexer": "ipython3",
   "version": "3.7.6"
  }
 },
 "nbformat": 4,
 "nbformat_minor": 2
}
