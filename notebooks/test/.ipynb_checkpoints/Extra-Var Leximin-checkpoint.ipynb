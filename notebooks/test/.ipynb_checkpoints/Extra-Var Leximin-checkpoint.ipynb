{
 "cells": [
  {
   "cell_type": "code",
   "execution_count": 1,
   "metadata": {},
   "outputs": [],
   "source": [
    "import numpy as np\n",
    "np.random.seed(0)\n",
    "import matplotlib.pyplot as plt\n",
    "import pulp\n",
    "\n",
    "import sys\n",
    "sys.path.insert(0, '../..')\n",
    "import bottleneck_assignment\n",
    "import leximin_assignment\n",
    "\n",
    "from tqdm import tqdm\n",
    "import time\n",
    "\n",
    "from math import isclose\n",
    "import warnings"
   ]
  },
  {
   "cell_type": "code",
   "execution_count": 2,
   "metadata": {},
   "outputs": [
    {
     "data": {
      "text/plain": [
       "array([[0.5488135 , 0.71518937, 0.60276338, 0.54488318, 0.4236548 ],\n",
       "       [0.64589411, 0.43758721, 0.891773  , 0.96366276, 0.38344152],\n",
       "       [0.79172504, 0.52889492, 0.56804456, 0.92559664, 0.07103606],\n",
       "       [0.0871293 , 0.0202184 , 0.83261985, 0.77815675, 0.87001215],\n",
       "       [0.97861834, 0.79915856, 0.46147936, 0.78052918, 0.11827443]])"
      ]
     },
     "execution_count": 2,
     "metadata": {},
     "output_type": "execute_result"
    }
   ],
   "source": [
    "cost_matrix = np.random.uniform(size=(5, 5))\n",
    "cost_matrix"
   ]
  },
  {
   "cell_type": "code",
   "execution_count": 3,
   "metadata": {},
   "outputs": [
    {
     "name": "stdout",
     "output_type": "stream",
     "text": [
      "Number of agents assigned: 0 / 5\n",
      "Current leximin: 1\n",
      "Number of agents assigned: 1 / 5\n",
      "Current leximin: 0.5448831829968969\n",
      "Number of agents assigned: 2 / 5\n",
      "Current leximin: 0.46147936225293185\n",
      "Number of agents assigned: 3 / 5\n",
      "Current leximin: 0.4375872112626925\n",
      "Number of agents assigned: 4 / 5\n",
      "Current leximin: 0.08712929970154071\n"
     ]
    },
    {
     "data": {
      "text/plain": [
       "array([3, 1, 4, 0, 2])"
      ]
     },
     "execution_count": 3,
     "metadata": {},
     "output_type": "execute_result"
    }
   ],
   "source": [
    "leximin_assigner = leximin_assignment.LeximinAssignmentHelperV2(\n",
    "    cost_matrix, np.ones((10,))\n",
    ")\n",
    "\n",
    "# leximin_assigner = leximin_assignment.LeximinAssignmentHelperV2(\n",
    "#     np.round(cost_matrix, 5), np.ones((10,))\n",
    "# )\n",
    "\n",
    "assignments = leximin_assigner.solve(verbose=True)\n",
    "assignments"
   ]
  },
  {
   "cell_type": "code",
   "execution_count": 4,
   "metadata": {},
   "outputs": [
    {
     "data": {
      "text/plain": [
       "array([[0.  , 0.98, 0.99, 1.  ],\n",
       "       [0.  , 0.98, 1.  , 1.  ],\n",
       "       [0.  , 0.  , 0.98, 1.  ],\n",
       "       [0.  , 0.  , 0.  , 0.99]])"
      ]
     },
     "execution_count": 4,
     "metadata": {},
     "output_type": "execute_result"
    }
   ],
   "source": [
    "e = 1e-2\n",
    "\n",
    "cost_matrix = np.array([\n",
    "    [0, 1 - 2 * e, 1 - e, 1],\n",
    "    [0, 1 - 2 * e, 1, 1],\n",
    "    [0, 0, 1 - 2 * e, 1],\n",
    "    [0, 0, 0, 1 - e]\n",
    "])\n",
    "capacities = [1, 1, 1, 1]\n",
    "\n",
    "cost_matrix"
   ]
  },
  {
   "cell_type": "code",
   "execution_count": 5,
   "metadata": {},
   "outputs": [
    {
     "name": "stdout",
     "output_type": "stream",
     "text": [
      "Number of agents assigned: 0 / 4\n",
      "Current leximin: 1\n",
      "Number of agents assigned: 1 / 4\n",
      "Current leximin: 0.99\n",
      "Number of agents assigned: 2 / 4\n",
      "Current leximin: 0.98\n",
      "Reusing current leximin\n",
      "Number of agents assigned: 3 / 4\n",
      "Current leximin: 0.98\n"
     ]
    },
    {
     "name": "stderr",
     "output_type": "stream",
     "text": [
      "/Users/quannguyen/anaconda3/envs/BayesFAI/lib/python3.7/site-packages/pulp/solvers.py:2080: UserWarning: GUROBI_CMD does provide good solution status of non optimal solutions\n",
      "  warnings.warn('GUROBI_CMD does provide good solution status of non optimal solutions')\n"
     ]
    },
    {
     "data": {
      "text/plain": [
       "array([0, 1, 2, 3])"
      ]
     },
     "execution_count": 5,
     "metadata": {},
     "output_type": "execute_result"
    }
   ],
   "source": [
    "leximin_assigner = leximin_assignment.LeximinAssignmentHelperV2(\n",
    "    cost_matrix, np.ones((4,))\n",
    ")\n",
    "\n",
    "assignments = leximin_assigner.solve(verbose=True)\n",
    "assignments"
   ]
  },
  {
   "cell_type": "code",
   "execution_count": 7,
   "metadata": {},
   "outputs": [
    {
     "name": "stdout",
     "output_type": "stream",
     "text": [
      "Number of agents assigned: 0 / 4\n",
      "Current leximin: 1\n",
      "Number of agents assigned: 1 / 4\n",
      "Current leximin: 0.99\n",
      "Reusing current leximin\n",
      "Number of agents assigned: 2 / 4\n",
      "Current leximin: 0.99\n",
      "Reusing current leximin\n",
      "Number of agents assigned: 3 / 4\n",
      "Current leximin: 0.99\n"
     ]
    },
    {
     "name": "stderr",
     "output_type": "stream",
     "text": [
      "/Users/quannguyen/anaconda3/envs/BayesFAI/lib/python3.7/site-packages/pulp/solvers.py:2080: UserWarning: GUROBI_CMD does provide good solution status of non optimal solutions\n",
      "  warnings.warn('GUROBI_CMD does provide good solution status of non optimal solutions')\n",
      "/Users/quannguyen/anaconda3/envs/BayesFAI/lib/python3.7/site-packages/pulp/solvers.py:2080: UserWarning: GUROBI_CMD does provide good solution status of non optimal solutions\n",
      "  warnings.warn('GUROBI_CMD does provide good solution status of non optimal solutions')\n"
     ]
    },
    {
     "data": {
      "text/plain": [
       "array([0, 1, 2, 3])"
      ]
     },
     "execution_count": 7,
     "metadata": {},
     "output_type": "execute_result"
    }
   ],
   "source": [
    "e = 1e-2\n",
    "\n",
    "cost_matrix = np.array([\n",
    "    [0, 1, 1, 1],\n",
    "    [0, 1 - e, 1, 1],\n",
    "    [0, 0, 1 - e, 1],\n",
    "    [0, 0, 0, 1 - e]\n",
    "])\n",
    "capacities = [1, 1, 1, 1]\n",
    "\n",
    "leximin_assigner = leximin_assignment.LeximinAssignmentHelperV2(\n",
    "    cost_matrix, np.ones((4,))\n",
    ")\n",
    "\n",
    "assignments = leximin_assigner.solve(verbose=True)\n",
    "assignments"
   ]
  },
  {
   "cell_type": "code",
   "execution_count": 6,
   "metadata": {},
   "outputs": [
    {
     "name": "stderr",
     "output_type": "stream",
     "text": [
      "/Users/quannguyen/anaconda3/envs/BayesFAI/lib/python3.7/site-packages/pulp/solvers.py:2080: UserWarning: GUROBI_CMD does provide good solution status of non optimal solutions\n",
      "  warnings.warn('GUROBI_CMD does provide good solution status of non optimal solutions')\n",
      "/Users/quannguyen/anaconda3/envs/BayesFAI/lib/python3.7/site-packages/pulp/solvers.py:2080: UserWarning: GUROBI_CMD does provide good solution status of non optimal solutions\n",
      "  warnings.warn('GUROBI_CMD does provide good solution status of non optimal solutions')\n"
     ]
    },
    {
     "data": {
      "text/plain": [
       "array([2, 0, 1, 3])"
      ]
     },
     "execution_count": 6,
     "metadata": {},
     "output_type": "execute_result"
    }
   ],
   "source": [
    "bottleneck_assigner = bottleneck_assignment.BottleneckAssignmentHelperV2(\n",
    "    cost_matrix, np.ones((4,))\n",
    ")\n",
    "\n",
    "thresholds, assignments = bottleneck_assigner.solve()\n",
    "assignments"
   ]
  },
  {
   "cell_type": "code",
   "execution_count": 8,
   "metadata": {
    "scrolled": false
   },
   "outputs": [
    {
     "name": "stderr",
     "output_type": "stream",
     "text": [
      "100%|██████████| 100/100 [05:49<00:00,  3.49s/it]\n"
     ]
    }
   ],
   "source": [
    "N = 20\n",
    "N_EXPERIMENTS = 100\n",
    "\n",
    "times1 = []\n",
    "times2 = []\n",
    "\n",
    "for _ in tqdm(range(N_EXPERIMENTS)):\n",
    "    try:\n",
    "        # cost_matrix = np.round(np.random.uniform(size=(N, N)), 5)\n",
    "        cost_matrix = np.random.uniform(size=(N, N))\n",
    "\n",
    "        assigner = leximin_assignment.LeximinAssignmentHelper(\n",
    "            cost_matrix, np.ones((N,))\n",
    "        )\n",
    "        with warnings.catch_warnings():  # temporarily suspense warnings\n",
    "            warnings.simplefilter('ignore')\n",
    "            t0 = time.time()\n",
    "            assignments1 = assigner.solve()\n",
    "        times1.append(time.time() - t0)\n",
    "\n",
    "        assigner = leximin_assignment.LeximinAssignmentHelperV2(\n",
    "            cost_matrix, np.ones((N,))\n",
    "        )\n",
    "        with warnings.catch_warnings():  # temporarily suspense warnings\n",
    "            warnings.simplefilter('ignore')\n",
    "            t0 = time.time()\n",
    "            assignments2 = assigner.solve()\n",
    "        times2.append(time.time() - t0)\n",
    "\n",
    "        if not np.array_equal(assignments1, assignments2):\n",
    "            print(cost_matrix)\n",
    "            print(assignments1)\n",
    "            print(assignments2)\n",
    "            break\n",
    "    \n",
    "    except TypeError:\n",
    "        print(cost_matrix)\n",
    "        break"
   ]
  },
  {
   "cell_type": "code",
   "execution_count": 9,
   "metadata": {},
   "outputs": [
    {
     "data": {
      "image/png": "[encoded data removed]",
      "text/plain": [
       "<Figure size 432x288 with 1 Axes>"
      ]
     },
     "metadata": {
      "needs_background": "light"
     },
     "output_type": "display_data"
    }
   ],
   "source": [
    "plt.hist(times1, color='r', alpha=0.2)\n",
    "plt.hist(times2, color='b', alpha=0.2)\n",
    "\n",
    "plt.show()"
   ]
  },
  {
   "cell_type": "code",
   "execution_count": null,
   "metadata": {
    "scrolled": true
   },
   "outputs": [],
   "source": [
    "cost_matrix"
   ]
  },
  {
   "cell_type": "code",
   "execution_count": null,
   "metadata": {
    "scrolled": true
   },
   "outputs": [],
   "source": [
    "assigner1 = leximin_assignment.LeximinAssignmentHelper(\n",
    "    cost_matrix, np.ones((20,))\n",
    ")\n",
    "\n",
    "assigner1.solve()"
   ]
  },
  {
   "cell_type": "code",
   "execution_count": null,
   "metadata": {},
   "outputs": [],
   "source": [
    "assigner2 = leximin_assignment.LeximinAssignmentHelperV2(\n",
    "    cost_matrix, np.ones((20,))\n",
    ")\n",
    "\n",
    "assigner2.solve()"
   ]
  },
  {
   "cell_type": "code",
   "execution_count": null,
   "metadata": {},
   "outputs": [],
   "source": [
    "assigner2.recur_solve_v2(1, {})"
   ]
  },
  {
   "cell_type": "code",
   "execution_count": null,
   "metadata": {},
   "outputs": [],
   "source": [
    "assigner2.recur_solve_v2(0.18967, {0.18967: 1})"
   ]
  },
  {
   "cell_type": "code",
   "execution_count": null,
   "metadata": {},
   "outputs": [],
   "source": [
    "cost_matrix = np.array([[0.69325, 0.70154, 0.4098 , 0.02004, 0.30195, 0.72521, 0.65729,\n",
    "        0.51344, 0.78528, 0.5419 , 0.90325, 0.69501, 0.23979, 0.90409,\n",
    "        0.60865, 0.92198, 0.76492, 0.56813, 0.76692, 0.74734],\n",
    "       [0.45098, 0.77611, 0.8676 , 0.6478 , 0.96604, 0.98407, 0.94851,\n",
    "        0.86091, 0.50249, 0.78468, 0.09865, 0.14045, 0.44792, 0.98058,\n",
    "        0.15471, 0.93187, 0.74894, 0.11574, 0.80096, 0.68817],\n",
    "       [0.76085, 0.43544, 0.40685, 0.41706, 0.61211, 0.11041, 0.20687,\n",
    "        0.16045, 0.20826, 0.93306, 0.05619, 0.92017, 0.94814, 0.65312,\n",
    "        0.98665, 0.67167, 0.26937, 0.18192, 0.89628, 0.36679],\n",
    "       [0.72806, 0.25549, 0.60582, 0.14867, 0.42457, 0.99523, 0.96813,\n",
    "        0.27632, 0.19129, 0.71514, 0.46138, 0.15079, 0.40619, 0.02648,\n",
    "        0.15088, 0.78061, 0.49483, 0.7803 , 0.07726, 0.00729],\n",
    "       [0.764  , 0.42336, 0.9697 , 0.33053, 0.32078, 0.80898, 0.18821,\n",
    "        0.58859, 0.27893, 0.03718, 0.9062 , 0.36941, 0.79006, 0.82242,\n",
    "        0.68145, 0.62644, 0.18363, 0.40562, 0.51204, 0.8893 ],\n",
    "       [0.52107, 0.4852 , 0.38371, 0.86481, 0.93364, 0.11438, 0.38379,\n",
    "        0.95478, 0.42336, 0.24703, 0.80465, 0.41234, 0.76171, 0.59656,\n",
    "        0.32539, 0.18967, 0.1388 , 0.1037 , 0.61883, 0.30354],\n",
    "       [0.73988, 0.15093, 0.00222, 0.32419, 0.85072, 0.56241, 0.21826,\n",
    "        0.13625, 0.00744, 0.49733, 0.05249, 0.20362, 0.555  , 0.04446,\n",
    "        0.22985, 0.01357, 0.53338, 0.12657, 0.05958, 0.36848],\n",
    "       [0.71596, 0.86172, 0.77023, 0.18288, 0.73088, 0.34344, 0.19054,\n",
    "        0.63041, 0.29967, 0.00269, 0.8264 , 0.19829, 0.24267, 0.42178,\n",
    "        0.69282, 0.35769, 0.9967 , 0.62485, 0.11228, 0.41851],\n",
    "       [0.61041, 0.9763 , 0.7296 , 0.74828, 0.52513, 0.93061, 0.06199,\n",
    "        0.54633, 0.21724, 0.07277, 0.9211 , 0.91341, 0.45728, 0.47939,\n",
    "        0.14387, 0.31803, 0.51976, 0.00752, 0.51074, 0.53418],\n",
    "       [0.72759, 0.19836, 0.7702 , 0.99464, 0.11323, 0.85469, 0.21915,\n",
    "        0.29281, 0.4522 , 0.21636, 0.84017, 0.67034, 0.39336, 0.57383,\n",
    "        0.5972 , 0.73993, 0.89201, 0.80059, 0.78031, 0.93002],\n",
    "       [0.31696, 0.68592, 0.59364, 0.303  , 0.16222, 0.58981, 0.4973 ,\n",
    "        0.92542, 0.50915, 0.55444, 0.67306, 0.40153, 0.39621, 0.48606,\n",
    "        0.84501, 0.99357, 0.04539, 0.35558, 0.54656, 0.22093],\n",
    "       [0.90212, 0.72638, 0.56632, 0.39979, 0.46994, 0.43517, 0.70997,\n",
    "        0.02568, 0.38274, 0.58499, 0.24027, 0.85558, 0.63326, 0.45881,\n",
    "        0.95963, 0.86768, 0.61437, 0.6395 , 0.02578, 0.97401],\n",
    "       [0.47633, 0.7096 , 0.1426 , 0.00143, 0.80269, 0.61268, 0.64071,\n",
    "        0.74158, 0.58939, 0.92146, 0.11035, 0.07929, 0.5074 , 0.02557,\n",
    "        0.445  , 0.52404, 0.83972, 0.58061, 0.97068, 0.04405],\n",
    "       [0.42357, 0.20029, 0.1829 , 0.13952, 0.5358 , 0.94544, 0.16167,\n",
    "        0.77577, 0.27242, 0.74069, 0.1495 , 0.10498, 0.03523, 0.31052,\n",
    "        0.10173, 0.37245, 0.19844, 0.81131, 0.68649, 0.67886],\n",
    "       [0.02004, 0.51118, 0.04289, 0.73459, 0.02609, 0.47724, 0.47293,\n",
    "        0.39161, 0.56859, 0.54016, 0.19398, 0.11352, 0.09347, 0.36417,\n",
    "        0.76714, 0.47063, 0.55577, 0.73156, 0.52616, 0.08567],\n",
    "       [0.76499, 0.36573, 0.66492, 0.53626, 0.61373, 0.41405, 0.41994,\n",
    "        0.8904 , 0.13314, 0.35265, 0.76019, 0.83512, 0.65128, 0.33282,\n",
    "        0.9131 , 0.75755, 0.70938, 0.59118, 0.47392, 0.79131],\n",
    "       [0.47892, 0.58718, 0.45602, 0.32574, 0.51693, 0.18492, 0.82171,\n",
    "        0.89865, 0.30653, 0.5706 , 0.11965, 0.75334, 0.97219, 0.97918,\n",
    "        0.93762, 0.80088, 0.54291, 0.49426, 0.49644, 0.01377],\n",
    "       [0.69175, 0.70115, 0.0622 , 0.86664, 0.10827, 0.80955, 0.76216,\n",
    "        0.21   , 0.00612, 0.62014, 0.03721, 0.38126, 0.64968, 0.05047,\n",
    "        0.33012, 0.89313, 0.81939, 0.46148, 0.12193, 0.56867],\n",
    "       [0.31924, 0.67931, 0.50413, 0.44456, 0.69192, 0.41655, 0.65218,\n",
    "        0.237  , 0.28438, 0.07199, 0.82362, 0.4991 , 0.7727 , 0.89959,\n",
    "        0.97775, 0.47612, 0.7609 , 0.61126, 0.81005, 0.93725],\n",
    "       [0.51927, 0.35925, 0.06512, 0.96513, 0.40811, 0.45131, 0.7832 ,\n",
    "        0.92566, 0.77327, 0.1228 , 0.9232 , 0.76771, 0.58646, 0.51024,\n",
    "        0.42734, 0.98583, 0.7548 , 0.98185, 0.81749, 0.55724]])"
   ]
  },
  {
   "cell_type": "code",
   "execution_count": null,
   "metadata": {},
   "outputs": [],
   "source": [
    "assigner2 = leximin_assignment.LeximinAssignmentHelperV2(\n",
    "    cost_matrix, np.ones((20,))\n",
    ")\n",
    "\n",
    "assigner2.solve()"
   ]
  },
  {
   "cell_type": "code",
   "execution_count": null,
   "metadata": {},
   "outputs": [],
   "source": []
  }
 ],
 "metadata": {
  "kernelspec": {
   "display_name": "Python 3",
   "language": "python",
   "name": "python3"
  },
  "language_info": {
   "codemirror_mode": {
    "name": "ipython",
    "version": 3
   },
   "file_extension": ".py",
   "mimetype": "text/x-python",
   "name": "python",
   "nbconvert_exporter": "python",
   "pygments_lexer": "ipython3",
   "version": "3.7.6"
  }
 },
 "nbformat": 4,
 "nbformat_minor": 2
}
