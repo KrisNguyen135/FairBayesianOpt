{
 "cells": [
  {
   "cell_type": "code",
   "execution_count": 1,
   "metadata": {},
   "outputs": [],
   "source": [
    "import numpy as np\n",
    "np.random.seed(0)\n",
    "import matplotlib.pyplot as plt\n",
    "import pulp\n",
    "\n",
    "import sys\n",
    "sys.path.insert(0, '../..')\n",
    "import bottleneck_assignment\n",
    "import leximin_assignment\n",
    "\n",
    "from tqdm import tqdm\n",
    "import time\n",
    "\n",
    "from math import isclose\n",
    "import warnings"
   ]
  },
  {
   "cell_type": "code",
   "execution_count": 2,
   "metadata": {},
   "outputs": [
    {
     "data": {
      "text/plain": [
       "array([[0.5488135 , 0.71518937, 0.60276338, 0.54488318, 0.4236548 ],\n",
       "       [0.64589411, 0.43758721, 0.891773  , 0.96366276, 0.38344152],\n",
       "       [0.79172504, 0.52889492, 0.56804456, 0.92559664, 0.07103606],\n",
       "       [0.0871293 , 0.0202184 , 0.83261985, 0.77815675, 0.87001215],\n",
       "       [0.97861834, 0.79915856, 0.46147936, 0.78052918, 0.11827443]])"
      ]
     },
     "execution_count": 2,
     "metadata": {},
     "output_type": "execute_result"
    }
   ],
   "source": [
    "cost_matrix = np.random.uniform(size=(5, 5))\n",
    "cost_matrix"
   ]
  },
  {
   "cell_type": "code",
   "execution_count": 3,
   "metadata": {},
   "outputs": [
    {
     "name": "stdout",
     "output_type": "stream",
     "text": [
      "Number of agents assigned: 0 / 5\n",
      "Current leximin: 1\n",
      "Number of agents assigned: 1 / 5\n",
      "Current leximin: 0.5448831829968969\n",
      "Number of agents assigned: 2 / 5\n",
      "Current leximin: 0.46147936225293185\n",
      "Number of agents assigned: 3 / 5\n",
      "Current leximin: 0.4375872112626925\n",
      "Number of agents assigned: 4 / 5\n",
      "Current leximin: 0.08712929970154071\n"
     ]
    },
    {
     "data": {
      "text/plain": [
       "array([3, 1, 4, 0, 2])"
      ]
     },
     "execution_count": 3,
     "metadata": {},
     "output_type": "execute_result"
    }
   ],
   "source": [
    "leximin_assigner = leximin_assignment.LeximinAssignmentHelperV2(\n",
    "    cost_matrix, np.ones((10,))\n",
    ")\n",
    "\n",
    "# leximin_assigner = leximin_assignment.LeximinAssignmentHelperV2(\n",
    "#     np.round(cost_matrix, 5), np.ones((10,))\n",
    "# )\n",
    "\n",
    "assignments = leximin_assigner.solve(verbose=True)\n",
    "assignments"
   ]
  },
  {
   "cell_type": "code",
   "execution_count": 4,
   "metadata": {},
   "outputs": [
    {
     "data": {
      "text/plain": [
       "array([[0.  , 0.98, 0.99, 1.  ],\n",
       "       [0.  , 0.98, 1.  , 1.  ],\n",
       "       [0.  , 0.  , 0.98, 1.  ],\n",
       "       [0.  , 0.  , 0.  , 0.99]])"
      ]
     },
     "execution_count": 4,
     "metadata": {},
     "output_type": "execute_result"
    }
   ],
   "source": [
    "e = 1e-2\n",
    "\n",
    "cost_matrix = np.array([\n",
    "    [0, 1 - 2 * e, 1 - e, 1],\n",
    "    [0, 1 - 2 * e, 1, 1],\n",
    "    [0, 0, 1 - 2 * e, 1],\n",
    "    [0, 0, 0, 1 - e]\n",
    "])\n",
    "capacities = [1, 1, 1, 1]\n",
    "\n",
    "cost_matrix"
   ]
  },
  {
   "cell_type": "code",
   "execution_count": 5,
   "metadata": {},
   "outputs": [
    {
     "name": "stdout",
     "output_type": "stream",
     "text": [
      "Number of agents assigned: 0 / 4\n",
      "Current leximin: 1\n",
      "Number of agents assigned: 1 / 4\n",
      "Current leximin: 0.99\n",
      "Number of agents assigned: 2 / 4\n",
      "Current leximin: 0.98\n",
      "Reusing current leximin\n",
      "Number of agents assigned: 3 / 4\n",
      "Current leximin: 0.98\n"
     ]
    },
    {
     "name": "stderr",
     "output_type": "stream",
     "text": [
      "/Users/quannguyen/anaconda3/envs/BayesFAI/lib/python3.7/site-packages/pulp/solvers.py:2080: UserWarning: GUROBI_CMD does provide good solution status of non optimal solutions\n",
      "  warnings.warn('GUROBI_CMD does provide good solution status of non optimal solutions')\n"
     ]
    },
    {
     "data": {
      "text/plain": [
       "array([0, 1, 2, 3])"
      ]
     },
     "execution_count": 5,
     "metadata": {},
     "output_type": "execute_result"
    }
   ],
   "source": [
    "leximin_assigner = leximin_assignment.LeximinAssignmentHelperV2(\n",
    "    cost_matrix, np.ones((4,))\n",
    ")\n",
    "\n",
    "assignments = leximin_assigner.solve(verbose=True)\n",
    "assignments"
   ]
  },
  {
   "cell_type": "code",
   "execution_count": 7,
   "metadata": {},
   "outputs": [
    {
     "name": "stdout",
     "output_type": "stream",
     "text": [
      "Number of agents assigned: 0 / 4\n",
      "Current leximin: 1\n",
      "Number of agents assigned: 1 / 4\n",
      "Current leximin: 0.99\n",
      "Reusing current leximin\n",
      "Number of agents assigned: 2 / 4\n",
      "Current leximin: 0.99\n",
      "Reusing current leximin\n",
      "Number of agents assigned: 3 / 4\n",
      "Current leximin: 0.99\n"
     ]
    },
    {
     "name": "stderr",
     "output_type": "stream",
     "text": [
      "/Users/quannguyen/anaconda3/envs/BayesFAI/lib/python3.7/site-packages/pulp/solvers.py:2080: UserWarning: GUROBI_CMD does provide good solution status of non optimal solutions\n",
      "  warnings.warn('GUROBI_CMD does provide good solution status of non optimal solutions')\n",
      "/Users/quannguyen/anaconda3/envs/BayesFAI/lib/python3.7/site-packages/pulp/solvers.py:2080: UserWarning: GUROBI_CMD does provide good solution status of non optimal solutions\n",
      "  warnings.warn('GUROBI_CMD does provide good solution status of non optimal solutions')\n"
     ]
    },
    {
     "data": {
      "text/plain": [
       "array([0, 1, 2, 3])"
      ]
     },
     "execution_count": 7,
     "metadata": {},
     "output_type": "execute_result"
    }
   ],
   "source": [
    "e = 1e-2\n",
    "\n",
    "cost_matrix = np.array([\n",
    "    [0, 1, 1, 1],\n",
    "    [0, 1 - e, 1, 1],\n",
    "    [0, 0, 1 - e, 1],\n",
    "    [0, 0, 0, 1 - e]\n",
    "])\n",
    "capacities = [1, 1, 1, 1]\n",
    "\n",
    "leximin_assigner = leximin_assignment.LeximinAssignmentHelperV2(\n",
    "    cost_matrix, np.ones((4,))\n",
    ")\n",
    "\n",
    "assignments = leximin_assigner.solve(verbose=True)\n",
    "assignments"
   ]
  },
  {
   "cell_type": "code",
   "execution_count": 6,
   "metadata": {},
   "outputs": [
    {
     "name": "stderr",
     "output_type": "stream",
     "text": [
      "/Users/quannguyen/anaconda3/envs/BayesFAI/lib/python3.7/site-packages/pulp/solvers.py:2080: UserWarning: GUROBI_CMD does provide good solution status of non optimal solutions\n",
      "  warnings.warn('GUROBI_CMD does provide good solution status of non optimal solutions')\n",
      "/Users/quannguyen/anaconda3/envs/BayesFAI/lib/python3.7/site-packages/pulp/solvers.py:2080: UserWarning: GUROBI_CMD does provide good solution status of non optimal solutions\n",
      "  warnings.warn('GUROBI_CMD does provide good solution status of non optimal solutions')\n"
     ]
    },
    {
     "data": {
      "text/plain": [
       "array([2, 0, 1, 3])"
      ]
     },
     "execution_count": 6,
     "metadata": {},
     "output_type": "execute_result"
    }
   ],
   "source": [
    "bottleneck_assigner = bottleneck_assignment.BottleneckAssignmentHelperV2(\n",
    "    cost_matrix, np.ones((4,))\n",
    ")\n",
    "\n",
    "thresholds, assignments = bottleneck_assigner.solve()\n",
    "assignments"
   ]
  },
  {
   "cell_type": "code",
   "execution_count": 8,
   "metadata": {
    "scrolled": false
   },
   "outputs": [
    {
     "name": "stderr",
     "output_type": "stream",
     "text": [
      "100%|██████████| 100/100 [05:49<00:00,  3.49s/it]\n"
     ]
    }
   ],
   "source": [
    "N = 20\n",
    "N_EXPERIMENTS = 100\n",
    "\n",
    "times1 = []\n",
    "times2 = []\n",
    "\n",
    "for _ in tqdm(range(N_EXPERIMENTS)):\n",
    "    try:\n",
    "        # cost_matrix = np.round(np.random.uniform(size=(N, N)), 5)\n",
    "        cost_matrix = np.random.uniform(size=(N, N))\n",
    "\n",
    "        assigner = leximin_assignment.LeximinAssignmentHelper(\n",
    "            cost_matrix, np.ones((N,))\n",
    "        )\n",
    "        with warnings.catch_warnings():  # temporarily suspense warnings\n",
    "            warnings.simplefilter('ignore')\n",
    "            t0 = time.time()\n",
    "            assignments1 = assigner.solve()\n",
    "        times1.append(time.time() - t0)\n",
    "\n",
    "        assigner = leximin_assignment.LeximinAssignmentHelperV2(\n",
    "            cost_matrix, np.ones((N,))\n",
    "        )\n",
    "        with warnings.catch_warnings():  # temporarily suspense warnings\n",
    "            warnings.simplefilter('ignore')\n",
    "            t0 = time.time()\n",
    "            assignments2 = assigner.solve()\n",
    "        times2.append(time.time() - t0)\n",
    "\n",
    "        if not np.array_equal(assignments1, assignments2):\n",
    "            print(cost_matrix)\n",
    "            print(assignments1)\n",
    "            print(assignments2)\n",
    "            break\n",
    "    \n",
    "    except TypeError:\n",
    "        print(cost_matrix)\n",
    "        break"
   ]
  },
  {
   "cell_type": "code",
   "execution_count": 9,
   "metadata": {},
   "outputs": [
    {
     "data": {
      "image/png": "[encoded data removed]",
      "text/plain": [
       "<Figure size 432x288 with 1 Axes>"
      ]
     },
     "metadata": {
      "needs_background": "light"
     },
     "output_type": "display_data"
    }
   ],
   "source": [
    "plt.hist(times1, color='r', alpha=0.2)\n",
    "plt.hist(times2, color='b', alpha=0.2)\n",
    "\n",
    "plt.show()"
   ]
  },
  {
   "cell_type": "code",
   "execution_count": null,
   "metadata": {},
   "outputs": [],
   "source": []
  }
 ],
 "metadata": {
  "kernelspec": {
   "display_name": "Python 3",
   "language": "python",
   "name": "python3"
  },
  "language_info": {
   "codemirror_mode": {
    "name": "ipython",
    "version": 3
   },
   "file_extension": ".py",
   "mimetype": "text/x-python",
   "name": "python",
   "nbconvert_exporter": "python",
   "pygments_lexer": "ipython3",
   "version": "3.7.6"
  }
 },
 "nbformat": 4,
 "nbformat_minor": 2
}
