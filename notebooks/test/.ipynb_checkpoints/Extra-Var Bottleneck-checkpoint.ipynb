{
 "cells": [
  {
   "cell_type": "code",
   "execution_count": 1,
   "metadata": {},
   "outputs": [],
   "source": [
    "import numpy as np\n",
    "import pulp"
   ]
  },
  {
   "cell_type": "code",
   "execution_count": 4,
   "metadata": {},
   "outputs": [
    {
     "data": {
      "text/plain": [
       "array([[0.  , 0.98, 0.99, 1.  ],\n",
       "       [0.  , 0.98, 1.  , 1.  ],\n",
       "       [0.  , 0.  , 0.98, 1.  ],\n",
       "       [0.  , 0.  , 0.  , 0.99]])"
      ]
     },
     "execution_count": 4,
     "metadata": {},
     "output_type": "execute_result"
    }
   ],
   "source": [
    "n = 4\n",
    "e = 1e-2\n",
    "\n",
    "cost_matrix = np.array([\n",
    "    [0, 1 - 2 * e, 1 - e, 1],\n",
    "    [0, 1 - 2 * e, 1, 1],\n",
    "    [0, 0, 1 - 2 * e, 1],\n",
    "    [0, 0, 0, 1 - e]\n",
    "])\n",
    "capacities = [1, 1, 1, 1]\n",
    "\n",
    "cost_matrix"
   ]
  },
  {
   "cell_type": "code",
   "execution_count": 3,
   "metadata": {},
   "outputs": [],
   "source": [
    "prob = pulp.LpProblem()"
   ]
  },
  {
   "cell_type": "code",
   "execution_count": 5,
   "metadata": {},
   "outputs": [],
   "source": [
    "x = pulp.LpVariable.dicts(\n",
    "    'assignments',\n",
    "    [(agent_id, intv_id)\n",
    "    for agent_id in range(n)\n",
    "    for intv_id in range(n)],\n",
    "    cat='Binary'\n",
    ")\n",
    "\n",
    "z = pulp.LpVariable('bottleneck', 0, 1)"
   ]
  },
  {
   "cell_type": "code",
   "execution_count": 6,
   "metadata": {},
   "outputs": [],
   "source": [
    "prob += z\n",
    "\n",
    "for agent_id in range(n):\n",
    "    prob += pulp.lpSum(\n",
    "        x[(agent_id, intv_id)]\n",
    "        for intv_id in range(n)\n",
    "    ) == 1\n",
    "\n",
    "for intv_id in range(n):\n",
    "    prob += pulp.lpSum(\n",
    "        x[(agent_id, intv_id)]\n",
    "        for agent_id in range(n)\n",
    "    ) == 1\n",
    "    \n",
    "for agent_id in range(n):\n",
    "    for intv_id in range(n):\n",
    "        prob += x[(agent_id, intv_id)] <= z"
   ]
  },
  {
   "cell_type": "code",
   "execution_count": 7,
   "metadata": {},
   "outputs": [
    {
     "data": {
      "text/plain": [
       "'Optimal'"
      ]
     },
     "execution_count": 7,
     "metadata": {},
     "output_type": "execute_result"
    }
   ],
   "source": [
    "status = prob.solve(solver=pulp.solvers.GUROBI_CMD())\n",
    "pulp.LpStatus[status]"
   ]
  },
  {
   "cell_type": "code",
   "execution_count": 8,
   "metadata": {},
   "outputs": [
    {
     "name": "stdout",
     "output_type": "stream",
     "text": [
      "0 0 0.0\n",
      "0 1 0.0\n",
      "0 2 1.0\n",
      "0 3 0.0\n",
      "1 0 1.0\n",
      "1 1 0.0\n",
      "1 2 0.0\n",
      "1 3 0.0\n",
      "2 0 0.0\n",
      "2 1 1.0\n",
      "2 2 0.0\n",
      "2 3 0.0\n",
      "3 0 0.0\n",
      "3 1 0.0\n",
      "3 2 0.0\n",
      "3 3 1.0\n"
     ]
    }
   ],
   "source": [
    "for agent_id in range(n):\n",
    "    for intv_id in range(n):\n",
    "        print(agent_id, intv_id, x[(agent_id, intv_id)].varValue)"
   ]
  },
  {
   "cell_type": "code",
   "execution_count": null,
   "metadata": {},
   "outputs": [],
   "source": []
  }
 ],
 "metadata": {
  "kernelspec": {
   "display_name": "Python 3",
   "language": "python",
   "name": "python3"
  },
  "language_info": {
   "codemirror_mode": {
    "name": "ipython",
    "version": 3
   },
   "file_extension": ".py",
   "mimetype": "text/x-python",
   "name": "python",
   "nbconvert_exporter": "python",
   "pygments_lexer": "ipython3",
   "version": "3.7.6"
  }
 },
 "nbformat": 4,
 "nbformat_minor": 2
}
