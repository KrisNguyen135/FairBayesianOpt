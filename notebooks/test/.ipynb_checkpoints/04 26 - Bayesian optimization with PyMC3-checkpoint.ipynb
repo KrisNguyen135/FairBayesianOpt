{
 "cells": [
  {
   "cell_type": "code",
   "execution_count": 1,
   "metadata": {},
   "outputs": [],
   "source": [
    "import numpy as np\n",
    "import matplotlib.pyplot as plt\n",
    "\n",
    "import pymc3 as pm\n",
    "\n",
    "from scipy.optimize import minimize\n",
    "from scipy.stats import norm\n",
    "\n",
    "import warnings\n",
    "warnings.simplefilter('ignore')"
   ]
  },
  {
   "cell_type": "code",
   "execution_count": 2,
   "metadata": {},
   "outputs": [],
   "source": [
    "class GPOptimizer:\n",
    "    def __init__(self, target_func, x_range,\n",
    "                 kernel='ExpQuad', init_points=3, render=True):\n",
    "        '''\n",
    "        x's should be continuous\n",
    "        '''\n",
    "        \n",
    "        self.target_func = target_func\n",
    "        self.cov_func = kernel\n",
    "        \n",
    "        self.x_min = np.array(x_range[0]).reshape(-1,)\n",
    "        self.x_max = np.array(x_range[1]).reshape(-1,)\n",
    "        self.x_mid = 0.5 * self.x_min + 0.5 * self.x_max\n",
    "        self.x = np.vstack((self.x_min, self.x_mid, self.x_max))\n",
    "        self.dim = self.x_min.size\n",
    "        \n",
    "        \n",
    "        for i in range(max(init_points - 3, 0)):\n",
    "            x_sample = []\n",
    "            for d in range(self.dim):\n",
    "                a = np.random.rand()\n",
    "                x_sample.append(a * self.x_min[d] * (1 - a) * self.x_max[d])\n",
    "            x_sample = np.array(x_sample).reshape(1, -1)\n",
    "            self.x = np.vstack((self.x, x_sample))\n",
    "            \n",
    "        print('Initial x:')\n",
    "        print(self.x)\n",
    "        \n",
    "        self.y = np.array([target_func(x_i) for x_i in self.x]).reshape(-1,)\n",
    "        self.prior = {\n",
    "            'nu': 1, 'theta0': 1, 'theta': 1,\n",
    "            'alpha': 1, 'beta': 1, 'alpha0': 1, 'beta0': 1\n",
    "        }\n",
    "        \n",
    "        self.render = render\n",
    "        \n",
    "    def sample(self, mode='opt', acq_func='ei'):\n",
    "        print('\\n' + '-' * 50 + '\\n')\n",
    "        \n",
    "        with pm.Model() as model:\n",
    "            theta = pm.Gamma(\n",
    "                'theta', \n",
    "                alpha=self.prior['alpha'], beta=self.prior['beta'],\n",
    "                shape=(self.dim,)\n",
    "            )\n",
    "            theta0 = pm.Gamma(\n",
    "                'theta0',\n",
    "                alpha=self.prior['alpha0'], beta=self.prior['beta']\n",
    "            )\n",
    "            \n",
    "            if self.cov_func == 'ExpQuad':\n",
    "                cov_func = theta0 ** 2 * pm.gp.cov.ExpQuad(input_dim=self.dim, ls=theta)\n",
    "            elif self.cov_func == 'Matern52':\n",
    "                cov_func = theta0 ** 2 * pm.gp.cov.Matern52(input_dim=self.dim, ls=theta)\n",
    "            else:\n",
    "                raise ValueError('Covariance function not set')\n",
    "                \n",
    "            m = pm.gp.mean.Constant(self.y.mean())\n",
    "            gp = pm.gp.Marginal(m, cov_func)\n",
    "            nu = pm.HalfCauchy('nu', self.prior['nu'])  # noise\n",
    "            gp.marginal_likelihood('f', X=self.x, y=self.y, noise=nu)\n",
    "            \n",
    "            if mode == 'mcmc':\n",
    "                trace = pm.sample(1000, chains=1)\n",
    "                \n",
    "                x_next_ls = []\n",
    "                for t in trace[::250]:  # thinning the samples\n",
    "                    x_next_ls.append(self.get_next(params=t, acq_func=acq_func, gp=gp))\n",
    "                x_next = np.array(x_next_ls).mean(axis=0)\n",
    "            \n",
    "            elif mode == 'opt':\n",
    "                map_ = pm.find_MAP()\n",
    "                x_next = self.get_next(params=map_, acq_func=acq_func, gp=gp)\n",
    "                \n",
    "            return x_next\n",
    "        \n",
    "    def get_next(self, params, acq_func, gp):\n",
    "        def acq(x_star):\n",
    "            x_star = np.array(x_star).reshape(1, -1)\n",
    "            mean, var = gp.predict(x_star, point=params, diag=True, pred_noise=False)\n",
    "            mean = mean[0]\n",
    "            std = np.sqrt(var[0])\n",
    "            \n",
    "            if acq_func == 'ei':\n",
    "                f_best = self.y.min()\n",
    "                gamma = (- f_best + mean) / std\n",
    "                \n",
    "                return std * (norm.cdf(gamma) * gamma + norm.pdf(gamma))\n",
    "            \n",
    "            elif acq_func == 'pi':\n",
    "                f_best = self.y.min()\n",
    "                gamma = (- f_best + mean) / std\n",
    "                \n",
    "                return norm.cdf(gamma)\n",
    "            \n",
    "            elif acq_func == 'lcb':\n",
    "                return mean - 2 * std\n",
    "        \n",
    "        bounds = [(low, high) for low, high in zip(self.x_min, self.x_max)]\n",
    "        result = minimize(acq, x0=self.x_mid, bounds=bounds)\n",
    "        x_next = result.x\n",
    "        \n",
    "        if self.render:\n",
    "            self.visualize(self.target_func, x_next)\n",
    "        \n",
    "        return x_next\n",
    "    \n",
    "    def optimize(self, x_exist=None, y_exist=None, \n",
    "                 mode='opt', acq_func='ei', max_iter=10):\n",
    "        if x_exist is not None and y_exist is not None:\n",
    "            self.x = x_exist\n",
    "            self.y = y_exist\n",
    "            \n",
    "        for i in range(max_iter):\n",
    "            x_next = self.sample(acq_func=acq_func, mode=mode)\n",
    "            if x_next in self.x:\n",
    "                break\n",
    "            \n",
    "            y_next = self.target_func(x_next)\n",
    "            \n",
    "            self.x = np.vstack((self.x, x_next))\n",
    "            self.y = np.hstack((self.y, y_next))\n",
    "        \n",
    "        x_star_id = np.argmin(self.y)\n",
    "        return self.x[x_star_id], self.y[x_star_id]\n",
    "    \n",
    "    def visualize(self, func, point):\n",
    "        x = np.linspace(self.x_min, self.x_max, 50)\n",
    "        y = func(x)\n",
    "        \n",
    "        plt.plot(x, y, c='k', label='True function')\n",
    "        plt.scatter(\n",
    "            self.x, self.y, \n",
    "            marker='o', s=10, color='blue', label='Current dataset'\n",
    "        )\n",
    "        plt.plot([point], [func(point)], marker='o', color='red', label='Next query')\n",
    "        \n",
    "        plt.xlim(self.x_min, self.x_max)\n",
    "        plt.legend()\n",
    "        plt.show()"
   ]
  },
  {
   "cell_type": "code",
   "execution_count": 3,
   "metadata": {},
   "outputs": [
    {
     "data": {
      "image/png": "[encoded data removed]",
      "text/plain": [
       "<Figure size 432x288 with 1 Axes>"
      ]
     },
     "metadata": {
      "needs_background": "light"
     },
     "output_type": "display_data"
    }
   ],
   "source": [
    "def f(x):\n",
    "    return np.sin(3 * x) + x ** 2 - 0.7 * x\n",
    "\n",
    "xs = np.linspace(-1, 2, 100)\n",
    "plt.plot(xs, f(xs))\n",
    "plt.show()"
   ]
  },
  {
   "cell_type": "code",
   "execution_count": null,
   "metadata": {
    "scrolled": false
   },
   "outputs": [
    {
     "name": "stdout",
     "output_type": "stream",
     "text": [
      "Initial x:\n",
      "[[-1.        ]\n",
      " [ 0.5       ]\n",
      " [ 2.        ]\n",
      " [-0.3896017 ]\n",
      " [-0.41838831]]\n",
      "\n",
      "--------------------------------------------------\n",
      "\n"
     ]
    }
   ],
   "source": [
    "optimizer = GPOptimizer(target_func=f, x_range=[-1, 2], init_points=5)\n",
    "\n",
    "optimizer.optimize(mode='opt', acq_func='lcb', max_iter=5)"
   ]
  },
  {
   "cell_type": "code",
   "execution_count": null,
   "metadata": {
    "scrolled": false
   },
   "outputs": [],
   "source": [
    "optimizer = GPOptimizer(target_func=f, x_range=[-1, 2], init_points=5)\n",
    "\n",
    "optimizer.optimize(mode='opt', acq_func='ei', max_iter=5)"
   ]
  },
  {
   "cell_type": "code",
   "execution_count": null,
   "metadata": {},
   "outputs": [],
   "source": [
    "optimizer = GPOptimizer(target_func=f, x_range=[-1, 2], init_points=5)\n",
    "\n",
    "optimizer.optimize(mode='opt', acq_func='poi', max_iter=5)"
   ]
  },
  {
   "cell_type": "code",
   "execution_count": null,
   "metadata": {},
   "outputs": [],
   "source": []
  }
 ],
 "metadata": {
  "kernelspec": {
   "display_name": "Python 3",
   "language": "python",
   "name": "python3"
  },
  "language_info": {
   "codemirror_mode": {
    "name": "ipython",
    "version": 3
   },
   "file_extension": ".py",
   "mimetype": "text/x-python",
   "name": "python",
   "nbconvert_exporter": "python",
   "pygments_lexer": "ipython3",
   "version": "3.7.6"
  }
 },
 "nbformat": 4,
 "nbformat_minor": 2
}
