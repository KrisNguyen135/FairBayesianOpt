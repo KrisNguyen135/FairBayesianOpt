{
 "cells": [
  {
   "cell_type": "code",
   "execution_count": 1,
   "metadata": {},
   "outputs": [],
   "source": [
    "import numpy as np\n",
    "np.random.seed(0)\n",
    "import matplotlib.pyplot as plt\n",
    "import pulp\n",
    "\n",
    "import sys\n",
    "sys.path.insert(0, '../..')\n",
    "import bottleneck_assignment\n",
    "\n",
    "from tqdm import tqdm\n",
    "import time\n",
    "\n",
    "from math import isclose\n",
    "import warnings"
   ]
  },
  {
   "cell_type": "code",
   "execution_count": 2,
   "metadata": {},
   "outputs": [
    {
     "data": {
      "text/plain": [
       "array([[0.5488135 , 0.71518937, 0.60276338, 0.54488318],\n",
       "       [0.4236548 , 0.64589411, 0.43758721, 0.891773  ],\n",
       "       [0.96366276, 0.38344152, 0.79172504, 0.52889492],\n",
       "       [0.56804456, 0.92559664, 0.07103606, 0.0871293 ]])"
      ]
     },
     "execution_count": 2,
     "metadata": {},
     "output_type": "execute_result"
    }
   ],
   "source": [
    "cost_matrix = np.random.uniform(size=(4, 4))\n",
    "cost_matrix"
   ]
  },
  {
   "cell_type": "code",
   "execution_count": 3,
   "metadata": {},
   "outputs": [
    {
     "name": "stdout",
     "output_type": "stream",
     "text": [
      "0.5448831829968969\n"
     ]
    },
    {
     "name": "stderr",
     "output_type": "stream",
     "text": [
      "/Users/quannguyen/anaconda3/envs/BayesFAI/lib/python3.7/site-packages/pulp/solvers.py:2080: UserWarning: GUROBI_CMD does provide good solution status of non optimal solutions\n",
      "  warnings.warn('GUROBI_CMD does provide good solution status of non optimal solutions')\n",
      "/Users/quannguyen/anaconda3/envs/BayesFAI/lib/python3.7/site-packages/pulp/solvers.py:2080: UserWarning: GUROBI_CMD does provide good solution status of non optimal solutions\n",
      "  warnings.warn('GUROBI_CMD does provide good solution status of non optimal solutions')\n",
      "/Users/quannguyen/anaconda3/envs/BayesFAI/lib/python3.7/site-packages/pulp/solvers.py:2080: UserWarning: GUROBI_CMD does provide good solution status of non optimal solutions\n",
      "  warnings.warn('GUROBI_CMD does provide good solution status of non optimal solutions')\n"
     ]
    },
    {
     "data": {
      "text/plain": [
       "array([3, 0, 1, 2])"
      ]
     },
     "execution_count": 3,
     "metadata": {},
     "output_type": "execute_result"
    }
   ],
   "source": [
    "bottleneck_assigner1 = bottleneck_assignment.BottleneckAssignmentHelperV2(\n",
    "    cost_matrix, np.ones((4,))\n",
    ")\n",
    "\n",
    "thresholds, assignment1 = bottleneck_assigner1.solve()\n",
    "print(thresholds[1])\n",
    "assignment1"
   ]
  },
  {
   "cell_type": "code",
   "execution_count": 4,
   "metadata": {},
   "outputs": [
    {
     "data": {
      "text/plain": [
       "0.544883182997"
      ]
     },
     "execution_count": 4,
     "metadata": {},
     "output_type": "execute_result"
    }
   ],
   "source": [
    "bottleneck_assigner2 = bottleneck_assignment.BottleneckAssignmentHelperV3(\n",
    "    cost_matrix, np.ones((4,))\n",
    ")\n",
    "\n",
    "c_star = bottleneck_assigner2.solve()\n",
    "c_star"
   ]
  },
  {
   "cell_type": "markdown",
   "metadata": {},
   "source": [
    "# Benchmark"
   ]
  },
  {
   "cell_type": "code",
   "execution_count": 5,
   "metadata": {},
   "outputs": [
    {
     "name": "stderr",
     "output_type": "stream",
     "text": [
      "100%|██████████| 100/100 [00:31<00:00,  3.17it/s]\n"
     ]
    }
   ],
   "source": [
    "TOLERANCE = 1e-5\n",
    "N = 20\n",
    "N_EXPERIMENTS = 100\n",
    "\n",
    "times1 = []\n",
    "times2 = []\n",
    "\n",
    "for _ in tqdm(range(N_EXPERIMENTS)):\n",
    "    cost_matrix = np.random.uniform(size=(N, N))\n",
    "    \n",
    "    assigner = bottleneck_assignment.BottleneckAssignmentHelperV2(\n",
    "        cost_matrix, np.ones((N,))\n",
    "    )\n",
    "    with warnings.catch_warnings():  # temporarily suspense warnings\n",
    "        warnings.simplefilter('ignore')\n",
    "        t0 = time.time()\n",
    "        thresholds, assignment = assigner.solve()\n",
    "    times1.append(time.time() - t0)\n",
    "    \n",
    "    assigner = bottleneck_assignment.BottleneckAssignmentHelperV3(\n",
    "        cost_matrix, np.ones((N,))\n",
    "    )\n",
    "    t0 = time.time()\n",
    "    c_star = assigner.solve()\n",
    "    times2.append(time.time() - t0)\n",
    "    \n",
    "    if not isclose(thresholds[1], c_star, rel_tol=TOLERANCE):\n",
    "        print(cost_matrix)\n",
    "        print(thresholds)\n",
    "        print(assignment)\n",
    "        print(c_star)"
   ]
  },
  {
   "cell_type": "code",
   "execution_count": 9,
   "metadata": {},
   "outputs": [
    {
     "data": {
      "image/png": "[encoded data removed]",
      "text/plain": [
       "<Figure size 432x288 with 1 Axes>"
      ]
     },
     "metadata": {
      "needs_background": "light"
     },
     "output_type": "display_data"
    }
   ],
   "source": [
    "plt.hist(times1, color='r', alpha=0.2)\n",
    "plt.hist(times2, color='b', alpha=0.2)\n",
    "\n",
    "plt.show()"
   ]
  },
  {
   "cell_type": "code",
   "execution_count": null,
   "metadata": {},
   "outputs": [],
   "source": []
  }
 ],
 "metadata": {
  "kernelspec": {
   "display_name": "Python 3",
   "language": "python",
   "name": "python3"
  },
  "language_info": {
   "codemirror_mode": {
    "name": "ipython",
    "version": 3
   },
   "file_extension": ".py",
   "mimetype": "text/x-python",
   "name": "python",
   "nbconvert_exporter": "python",
   "pygments_lexer": "ipython3",
   "version": "3.7.6"
  }
 },
 "nbformat": 4,
 "nbformat_minor": 2
}
