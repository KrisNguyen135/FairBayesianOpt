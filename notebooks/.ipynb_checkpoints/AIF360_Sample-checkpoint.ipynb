{
 "cells": [
  {
   "cell_type": "code",
   "execution_count": 45,
   "metadata": {
    "pycharm": {
     "is_executing": false
    }
   },
   "outputs": [
    {
     "name": "stderr",
     "output_type": "stream",
     "text": [
      "WARNING:root:Missing Data: 5 rows removed from CompasDataset.\n"
     ]
    },
    {
     "data": {
      "text/plain": [
       "               instance weights            features                            \\\n",
       "                                protected attribute       protected attribute   \n",
       "                                                sex   age                race   \n",
       "instance names                                                                  \n",
       "1                           1.0                 0.0  69.0                 0.0   \n",
       "3                           1.0                 0.0  34.0                 0.0   \n",
       "4                           1.0                 0.0  24.0                 0.0   \n",
       "7                           1.0                 0.0  44.0                 0.0   \n",
       "8                           1.0                 0.0  41.0                 1.0   \n",
       "...                         ...                 ...   ...                 ...   \n",
       "10996                       1.0                 0.0  23.0                 0.0   \n",
       "10997                       1.0                 0.0  23.0                 0.0   \n",
       "10999                       1.0                 0.0  57.0                 0.0   \n",
       "11000                       1.0                 1.0  33.0                 0.0   \n",
       "11001                       1.0                 1.0  23.0                 0.0   \n",
       "\n",
       "                                                                          \\\n",
       "                                                                           \n",
       "               juv_fel_count juv_misd_count juv_other_count priors_count   \n",
       "instance names                                                             \n",
       "1                        0.0            0.0             0.0          0.0   \n",
       "3                        0.0            0.0             0.0          0.0   \n",
       "4                        0.0            0.0             1.0          4.0   \n",
       "7                        0.0            0.0             0.0          0.0   \n",
       "8                        0.0            0.0             0.0         14.0   \n",
       "...                      ...            ...             ...          ...   \n",
       "10996                    0.0            0.0             0.0          0.0   \n",
       "10997                    0.0            0.0             0.0          0.0   \n",
       "10999                    0.0            0.0             0.0          0.0   \n",
       "11000                    0.0            0.0             0.0          3.0   \n",
       "11001                    0.0            0.0             0.0          2.0   \n",
       "\n",
       "                                                        ...  \\\n",
       "                                                        ...   \n",
       "               age_cat=25 - 45 age_cat=Greater than 45  ...   \n",
       "instance names                                          ...   \n",
       "1                          0.0                     1.0  ...   \n",
       "3                          1.0                     0.0  ...   \n",
       "4                          0.0                     0.0  ...   \n",
       "7                          1.0                     0.0  ...   \n",
       "8                          1.0                     0.0  ...   \n",
       "...                        ...                     ...  ...   \n",
       "10996                      0.0                     0.0  ...   \n",
       "10997                      0.0                     0.0  ...   \n",
       "10999                      0.0                     1.0  ...   \n",
       "11000                      1.0                     0.0  ...   \n",
       "11001                      0.0                     0.0  ...   \n",
       "\n",
       "                                                             \\\n",
       "                                                              \n",
       "               c_charge_desc=Viol Injunct Domestic Violence   \n",
       "instance names                                                \n",
       "1                                                       0.0   \n",
       "3                                                       0.0   \n",
       "4                                                       0.0   \n",
       "7                                                       0.0   \n",
       "8                                                       0.0   \n",
       "...                                                     ...   \n",
       "10996                                                   0.0   \n",
       "10997                                                   0.0   \n",
       "10999                                                   0.0   \n",
       "11000                                                   0.0   \n",
       "11001                                                   0.0   \n",
       "\n",
       "                                                             \\\n",
       "                                                              \n",
       "               c_charge_desc=Viol Injunction Protect Dom Vi   \n",
       "instance names                                                \n",
       "1                                                       0.0   \n",
       "3                                                       0.0   \n",
       "4                                                       0.0   \n",
       "7                                                       0.0   \n",
       "8                                                       0.0   \n",
       "...                                                     ...   \n",
       "10996                                                   0.0   \n",
       "10997                                                   0.0   \n",
       "10999                                                   0.0   \n",
       "11000                                                   0.0   \n",
       "11001                                                   0.0   \n",
       "\n",
       "                                                             \\\n",
       "                                                              \n",
       "               c_charge_desc=Viol Pretrial Release Dom Viol   \n",
       "instance names                                                \n",
       "1                                                       0.0   \n",
       "3                                                       0.0   \n",
       "4                                                       0.0   \n",
       "7                                                       0.0   \n",
       "8                                                       0.0   \n",
       "...                                                     ...   \n",
       "10996                                                   0.0   \n",
       "10997                                                   0.0   \n",
       "10999                                                   0.0   \n",
       "11000                                                   0.0   \n",
       "11001                                                   0.0   \n",
       "\n",
       "                                                           \\\n",
       "                                                            \n",
       "               c_charge_desc=Viol Prot Injunc Repeat Viol   \n",
       "instance names                                              \n",
       "1                                                     0.0   \n",
       "3                                                     0.0   \n",
       "4                                                     0.0   \n",
       "7                                                     0.0   \n",
       "8                                                     0.0   \n",
       "...                                                   ...   \n",
       "10996                                                 0.0   \n",
       "10997                                                 0.0   \n",
       "10999                                                 0.0   \n",
       "11000                                                 0.0   \n",
       "11001                                                 0.0   \n",
       "\n",
       "                                                             \\\n",
       "                                                              \n",
       "               c_charge_desc=Violation License Restrictions   \n",
       "instance names                                                \n",
       "1                                                       0.0   \n",
       "3                                                       0.0   \n",
       "4                                                       0.0   \n",
       "7                                                       0.0   \n",
       "8                                                       0.0   \n",
       "...                                                     ...   \n",
       "10996                                                   0.0   \n",
       "10997                                                   0.0   \n",
       "10999                                                   0.0   \n",
       "11000                                                   0.0   \n",
       "11001                                                   0.0   \n",
       "\n",
       "                                                            \\\n",
       "                                                             \n",
       "               c_charge_desc=Violation Of Boater Safety Id   \n",
       "instance names                                               \n",
       "1                                                      0.0   \n",
       "3                                                      0.0   \n",
       "4                                                      0.0   \n",
       "7                                                      0.0   \n",
       "8                                                      0.0   \n",
       "...                                                    ...   \n",
       "10996                                                  0.0   \n",
       "10997                                                  0.0   \n",
       "10999                                                  0.0   \n",
       "11000                                                  0.0   \n",
       "11001                                                  0.0   \n",
       "\n",
       "                                                                                   \\\n",
       "                                                                                    \n",
       "               c_charge_desc=Violation of Injunction Order/Stalking/Cyberstalking   \n",
       "instance names                                                                      \n",
       "1                                                             0.0                   \n",
       "3                                                             0.0                   \n",
       "4                                                             0.0                   \n",
       "7                                                             0.0                   \n",
       "8                                                             0.0                   \n",
       "...                                                           ...                   \n",
       "10996                                                         0.0                   \n",
       "10997                                                         0.0                   \n",
       "10999                                                         0.0                   \n",
       "11000                                                         0.0                   \n",
       "11001                                                         0.0                   \n",
       "\n",
       "                                                                            \\\n",
       "                                                                             \n",
       "               c_charge_desc=Voyeurism c_charge_desc=arrest case no charge   \n",
       "instance names                                                               \n",
       "1                                  0.0                                 0.0   \n",
       "3                                  0.0                                 0.0   \n",
       "4                                  0.0                                 0.0   \n",
       "7                                  0.0                                 0.0   \n",
       "8                                  0.0                                 0.0   \n",
       "...                                ...                                 ...   \n",
       "10996                              0.0                                 0.0   \n",
       "10997                              0.0                                 0.0   \n",
       "10999                              0.0                                 0.0   \n",
       "11000                              0.0                                 0.0   \n",
       "11001                              0.0                                 0.0   \n",
       "\n",
       "               labels  \n",
       "                       \n",
       "                       \n",
       "instance names         \n",
       "1                 0.0  \n",
       "3                 1.0  \n",
       "4                 1.0  \n",
       "7                 0.0  \n",
       "8                 1.0  \n",
       "...               ...  \n",
       "10996             0.0  \n",
       "10997             0.0  \n",
       "10999             0.0  \n",
       "11000             0.0  \n",
       "11001             1.0  \n",
       "\n",
       "[6167 rows x 403 columns]"
      ]
     },
     "execution_count": 45,
     "metadata": {},
     "output_type": "execute_result"
    }
   ],
   "source": [
    "import numpy as np\n",
    "from aif360.datasets import CompasDataset\n",
    "\n",
    "\n",
    "cd = CompasDataset()\n",
    "cd"
   ]
  },
  {
   "cell_type": "code",
   "execution_count": 46,
   "metadata": {
    "pycharm": {
     "is_executing": false,
     "name": "#%%\n"
    }
   },
   "outputs": [
    {
     "name": "stdout",
     "output_type": "stream",
     "text": [
      "(6167, 401)\n",
      "(6167, 2)\n",
      "(array([   6,    9,   11, ..., 6154, 6165, 6166]),)\n"
     ]
    }
   ],
   "source": [
    "print(cd.features.shape)\n",
    "print(cd.protected_attributes.shape)\n",
    "print(np.where(cd.protected_attributes[:, 0] == 1))"
   ]
  },
  {
   "cell_type": "code",
   "execution_count": 47,
   "metadata": {
    "pycharm": {
     "is_executing": false,
     "name": "#%%\n"
    }
   },
   "outputs": [
    {
     "data": {
      "text/plain": [
       "(4625, 401)"
      ]
     },
     "execution_count": 47,
     "metadata": {},
     "output_type": "execute_result"
    }
   ],
   "source": [
    "train, val = cd.split([0.75], shuffle=True, seed=0)\n",
    "train.features.shape"
   ]
  },
  {
   "cell_type": "code",
   "execution_count": 48,
   "metadata": {
    "pycharm": {
     "is_executing": false,
     "name": "#%%\n"
    }
   },
   "outputs": [
    {
     "name": "stdout",
     "output_type": "stream",
     "text": [
      "Favorable and unfavorable labels:\n",
      "0.0 1.0\n",
      "Protect attribute names:\n",
      "['sex', 'race']\n",
      "Privileged and unprivileged attribute values:\n",
      "[array([1.]), array([1.])] [array([0.]), array([0.])]\n"
     ]
    }
   ],
   "source": [
    "print('Favorable and unfavorable labels:')\n",
    "print(train.favorable_label, train.unfavorable_label)\n",
    "\n",
    "print('Protect attribute names:')\n",
    "print(train.protected_attribute_names)\n",
    "\n",
    "print('Privileged and unprivileged attribute values:')\n",
    "print(train.privileged_protected_attributes, train.unprivileged_protected_attributes)"
   ]
  },
  {
   "cell_type": "code",
   "execution_count": 49,
   "metadata": {
    "pycharm": {
     "name": "#%%\n"
    }
   },
   "outputs": [
    {
     "name": "stdout",
     "output_type": "stream",
     "text": [
      "Mean outcome difference:\n",
      "-0.09164636834117645\n"
     ]
    }
   ],
   "source": [
    "from aif360.metrics import BinaryLabelDatasetMetric\n",
    "\n",
    "\n",
    "binary_label_metric = BinaryLabelDatasetMetric(\n",
    "    train,\n",
    "    unprivileged_groups=[{'race': 0}],\n",
    "    privileged_groups=[{'race': 1}]\n",
    ")\n",
    "\n",
    "print('Mean outcome difference:')\n",
    "print(binary_label_metric.mean_difference())"
   ]
  },
  {
   "cell_type": "code",
   "execution_count": null,
   "metadata": {},
   "outputs": [],
   "source": []
  }
 ],
 "metadata": {
  "kernelspec": {
   "display_name": "Python 3",
   "language": "python",
   "name": "python3"
  },
  "language_info": {
   "codemirror_mode": {
    "name": "ipython",
    "version": 3
   },
   "file_extension": ".py",
   "mimetype": "text/x-python",
   "name": "python",
   "nbconvert_exporter": "python",
   "pygments_lexer": "ipython3",
   "version": "3.7.6"
  },
  "pycharm": {
   "stem_cell": {
    "cell_type": "raw",
    "metadata": {
     "collapsed": false
    },
    "source": []
   }
  }
 },
 "nbformat": 4,
 "nbformat_minor": 1
}
