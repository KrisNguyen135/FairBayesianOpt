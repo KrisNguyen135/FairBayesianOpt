{
 "cells": [
  {
   "cell_type": "code",
   "execution_count": 1,
   "metadata": {},
   "outputs": [],
   "source": [
    "import pandas as pd\n",
    "import numpy as np\n",
    "\n",
    "import matplotlib.pyplot as plt\n",
    "plt.style.use('seaborn-dark')\n",
    "\n",
    "import sys\n",
    "sys.path.insert(0, '../..')\n",
    "\n",
    "import quan_utils"
   ]
  },
  {
   "cell_type": "code",
   "execution_count": 2,
   "metadata": {},
   "outputs": [
    {
     "name": "stderr",
     "output_type": "stream",
     "text": [
      "/Users/quannguyen/anaconda3/envs/BayesFAI/lib/python3.7/site-packages/tensorflow/python/framework/dtypes.py:526: FutureWarning: Passing (type, 1) or '1type' as a synonym of type is deprecated; in a future version of numpy, it will be understood as (type, (1,)) / '(1,)type'.\n",
      "  _np_qint8 = np.dtype([(\"qint8\", np.int8, 1)])\n",
      "/Users/quannguyen/anaconda3/envs/BayesFAI/lib/python3.7/site-packages/tensorflow/python/framework/dtypes.py:527: FutureWarning: Passing (type, 1) or '1type' as a synonym of type is deprecated; in a future version of numpy, it will be understood as (type, (1,)) / '(1,)type'.\n",
      "  _np_quint8 = np.dtype([(\"quint8\", np.uint8, 1)])\n",
      "/Users/quannguyen/anaconda3/envs/BayesFAI/lib/python3.7/site-packages/tensorflow/python/framework/dtypes.py:528: FutureWarning: Passing (type, 1) or '1type' as a synonym of type is deprecated; in a future version of numpy, it will be understood as (type, (1,)) / '(1,)type'.\n",
      "  _np_qint16 = np.dtype([(\"qint16\", np.int16, 1)])\n",
      "/Users/quannguyen/anaconda3/envs/BayesFAI/lib/python3.7/site-packages/tensorflow/python/framework/dtypes.py:529: FutureWarning: Passing (type, 1) or '1type' as a synonym of type is deprecated; in a future version of numpy, it will be understood as (type, (1,)) / '(1,)type'.\n",
      "  _np_quint16 = np.dtype([(\"quint16\", np.uint16, 1)])\n",
      "/Users/quannguyen/anaconda3/envs/BayesFAI/lib/python3.7/site-packages/tensorflow/python/framework/dtypes.py:530: FutureWarning: Passing (type, 1) or '1type' as a synonym of type is deprecated; in a future version of numpy, it will be understood as (type, (1,)) / '(1,)type'.\n",
      "  _np_qint32 = np.dtype([(\"qint32\", np.int32, 1)])\n",
      "/Users/quannguyen/anaconda3/envs/BayesFAI/lib/python3.7/site-packages/tensorflow/python/framework/dtypes.py:535: FutureWarning: Passing (type, 1) or '1type' as a synonym of type is deprecated; in a future version of numpy, it will be understood as (type, (1,)) / '(1,)type'.\n",
      "  np_resource = np.dtype([(\"resource\", np.ubyte, 1)])\n"
     ]
    }
   ],
   "source": [
    "import gpflow\n",
    "import gpflowopt"
   ]
  },
  {
   "cell_type": "code",
   "execution_count": 3,
   "metadata": {},
   "outputs": [],
   "source": [
    "NUM_SAMPLES = 5\n",
    "BUDGET = 20\n",
    "\n",
    "# Both objective functions\n",
    "def f(constraint):\n",
    "    helper = quan_utils.AssignmentHelper()\n",
    "    helper.update_constraints(fairness_constraint=constraint)\n",
    "    \n",
    "    sol_df = helper.ip_solve()\n",
    "    real_n_reentries, bart_n_reentries, sol_n_reentries = helper.compare_reentry(sol_df, verbose=False)\n",
    "    prob_compare_df = helper.compare_prob(sol_df)\n",
    "    \n",
    "    return np.hstack(\n",
    "        ([[- (real_n_reentries - sol_n_reentries) / real_n_reentries * 100]],\n",
    "        [[prob_compare_df['Diff'].quantile(0.75)]])\n",
    "    )"
   ]
  },
  {
   "cell_type": "code",
   "execution_count": 4,
   "metadata": {},
   "outputs": [
    {
     "data": {
      "text/plain": [
       "array([[0.04003719],\n",
       "       [0.12749309],\n",
       "       [0.00367423],\n",
       "       [0.18838137],\n",
       "       [0.04402906]])"
      ]
     },
     "execution_count": 4,
     "metadata": {},
     "output_type": "execute_result"
    }
   ],
   "source": [
    "# Input domain\n",
    "domain = gpflowopt.domain.ContinuousParameter('constraint', 0, 0.2)\n",
    "design = gpflowopt.design.RandomDesign(NUM_SAMPLES, domain)\n",
    "X = design.generate()\n",
    "X"
   ]
  },
  {
   "cell_type": "code",
   "execution_count": 5,
   "metadata": {},
   "outputs": [],
   "source": [
    "Y = np.array([f(x) for x in X]).reshape(NUM_SAMPLES, 2)\n",
    "# Y"
   ]
  },
  {
   "cell_type": "code",
   "execution_count": 6,
   "metadata": {},
   "outputs": [],
   "source": [
    "# Y.shape"
   ]
  },
  {
   "cell_type": "code",
   "execution_count": 7,
   "metadata": {},
   "outputs": [],
   "source": [
    "# Y[:, [0]]"
   ]
  },
  {
   "cell_type": "code",
   "execution_count": 8,
   "metadata": {},
   "outputs": [
    {
     "name": "stderr",
     "output_type": "stream",
     "text": [
      "/Users/quannguyen/anaconda3/envs/BayesFAI/lib/python3.7/site-packages/gpflowopt/acquisition/acquisition.py:193: FutureWarning: arrays to stack must be passed as a \"sequence\" type such as list or tuple. Support for non-sequence iterables such as generators is deprecated as of NumPy 1.16 and will raise an error in the future.\n",
      "  return self.models[0].X.value, np.hstack(map(lambda model: model.Y.value, self.models))\n"
     ]
    }
   ],
   "source": [
    "# One model for each objective\n",
    "objective_models = [gpflow.gpr.GPR(X.copy(), Y[:, [i]].copy(),\n",
    "                                   gpflow.kernels.Matern52(1, ARD=True))\n",
    "                    for i in range(Y.shape[1])]\n",
    "\n",
    "for model in objective_models:\n",
    "    model.likelihood.variance = 0.01\n",
    "    \n",
    "hvpoi = gpflowopt.acquisition.HVProbabilityOfImprovement(objective_models)"
   ]
  },
  {
   "cell_type": "code",
   "execution_count": 9,
   "metadata": {
    "scrolled": true
   },
   "outputs": [
    {
     "name": "stdout",
     "output_type": "stream",
     "text": [
      "WARNING:tensorflow:From /Users/quannguyen/anaconda3/envs/BayesFAI/lib/python3.7/site-packages/tensorflow/python/framework/op_def_library.py:263: colocate_with (from tensorflow.python.framework.ops) is deprecated and will be removed in a future version.\n",
      "Instructions for updating:\n",
      "Colocations handled automatically by placer.\n",
      "WARNING:tensorflow:From /Users/quannguyen/anaconda3/envs/BayesFAI/lib/python3.7/site-packages/tensorflow/python/ops/math_ops.py:3066: to_int32 (from tensorflow.python.ops.math_ops) is deprecated and will be removed in a future version.\n",
      "Instructions for updating:\n",
      "Use tf.cast instead.\n"
     ]
    },
    {
     "name": "stderr",
     "output_type": "stream",
     "text": [
      "/Users/quannguyen/anaconda3/envs/BayesFAI/lib/python3.7/site-packages/gpflowopt/acquisition/hvpoi.py:92: FutureWarning: arrays to stack must be passed as a \"sequence\" type such as list or tuple. Support for non-sequence iterables such as generators is deprecated as of NumPy 1.16 and will raise an error in the future.\n",
      "  F = np.hstack((m.predict_f(feasible_samples)[0] for m in self.models))\n"
     ]
    },
    {
     "name": "stdout",
     "output_type": "stream",
     "text": [
      "WARNING:tensorflow:From /Users/quannguyen/anaconda3/envs/BayesFAI/lib/python3.7/site-packages/gpflowopt/acquisition/hvpoi.py:112: Normal.__init__ (from tensorflow.python.ops.distributions.normal) is deprecated and will be removed after 2019-01-01.\n",
      "Instructions for updating:\n",
      "The TensorFlow Distributions library has moved to TensorFlow Probability (https://github.com/tensorflow/probability). You should update all references to use `tfp.distributions` instead of `tf.distributions`.\n",
      "WARNING:tensorflow:From /Users/quannguyen/anaconda3/envs/BayesFAI/lib/python3.7/site-packages/tensorflow/python/ops/distributions/normal.py:160: Distribution.__init__ (from tensorflow.python.ops.distributions.distribution) is deprecated and will be removed after 2019-01-01.\n",
      "Instructions for updating:\n",
      "The TensorFlow Distributions library has moved to TensorFlow Probability (https://github.com/tensorflow/probability). You should update all references to use `tfp.distributions` instead of `tf.distributions`.\n",
      "WARNING:tensorflow:From /Users/quannguyen/anaconda3/envs/BayesFAI/lib/python3.7/site-packages/gpflowopt/acquisition/hvpoi.py:124: calling reduce_sum_v1 (from tensorflow.python.ops.math_ops) with keep_dims is deprecated and will be removed in a future version.\n",
      "Instructions for updating:\n",
      "keep_dims is deprecated, use keepdims instead\n",
      "WARNING:tensorflow:From /Users/quannguyen/anaconda3/envs/BayesFAI/lib/python3.7/site-packages/tensorflow/python/ops/math_grad.py:163: setdiff1d (from tensorflow.python.ops.array_ops) is deprecated and will be removed after 2018-11-30.\n",
      "Instructions for updating:\n",
      "This op will be removed after the deprecation date. Please switch to tf.sets.difference().\n"
     ]
    },
    {
     "name": "stderr",
     "output_type": "stream",
     "text": [
      "/Users/quannguyen/anaconda3/envs/BayesFAI/lib/python3.7/site-packages/gpflowopt/bo.py:150: FutureWarning: arrays to stack must be passed as a \"sequence\" type such as list or tuple. Support for non-sequence iterables such as generators is deprecated as of NumPy 1.16 and will raise an error in the future.\n",
      "  evaluations = np.hstack(map(lambda f: f(X), fxs))\n",
      "/Users/quannguyen/anaconda3/envs/BayesFAI/lib/python3.7/site-packages/gpflowopt/acquisition/acquisition.py:193: FutureWarning: arrays to stack must be passed as a \"sequence\" type such as list or tuple. Support for non-sequence iterables such as generators is deprecated as of NumPy 1.16 and will raise an error in the future.\n",
      "  return self.models[0].X.value, np.hstack(map(lambda model: model.Y.value, self.models))\n",
      "/Users/quannguyen/anaconda3/envs/BayesFAI/lib/python3.7/site-packages/gpflowopt/acquisition/hvpoi.py:92: FutureWarning: arrays to stack must be passed as a \"sequence\" type such as list or tuple. Support for non-sequence iterables such as generators is deprecated as of NumPy 1.16 and will raise an error in the future.\n",
      "  F = np.hstack((m.predict_f(feasible_samples)[0] for m in self.models))\n",
      "/Users/quannguyen/anaconda3/envs/BayesFAI/lib/python3.7/site-packages/gpflowopt/bo.py:150: FutureWarning: arrays to stack must be passed as a \"sequence\" type such as list or tuple. Support for non-sequence iterables such as generators is deprecated as of NumPy 1.16 and will raise an error in the future.\n",
      "  evaluations = np.hstack(map(lambda f: f(X), fxs))\n",
      "/Users/quannguyen/anaconda3/envs/BayesFAI/lib/python3.7/site-packages/gpflowopt/acquisition/acquisition.py:193: FutureWarning: arrays to stack must be passed as a \"sequence\" type such as list or tuple. Support for non-sequence iterables such as generators is deprecated as of NumPy 1.16 and will raise an error in the future.\n",
      "  return self.models[0].X.value, np.hstack(map(lambda model: model.Y.value, self.models))\n",
      "/Users/quannguyen/anaconda3/envs/BayesFAI/lib/python3.7/site-packages/gpflowopt/acquisition/hvpoi.py:92: FutureWarning: arrays to stack must be passed as a \"sequence\" type such as list or tuple. Support for non-sequence iterables such as generators is deprecated as of NumPy 1.16 and will raise an error in the future.\n",
      "  F = np.hstack((m.predict_f(feasible_samples)[0] for m in self.models))\n",
      "/Users/quannguyen/anaconda3/envs/BayesFAI/lib/python3.7/site-packages/gpflowopt/bo.py:150: FutureWarning: arrays to stack must be passed as a \"sequence\" type such as list or tuple. Support for non-sequence iterables such as generators is deprecated as of NumPy 1.16 and will raise an error in the future.\n",
      "  evaluations = np.hstack(map(lambda f: f(X), fxs))\n",
      "/Users/quannguyen/anaconda3/envs/BayesFAI/lib/python3.7/site-packages/gpflowopt/acquisition/acquisition.py:193: FutureWarning: arrays to stack must be passed as a \"sequence\" type such as list or tuple. Support for non-sequence iterables such as generators is deprecated as of NumPy 1.16 and will raise an error in the future.\n",
      "  return self.models[0].X.value, np.hstack(map(lambda model: model.Y.value, self.models))\n",
      "/Users/quannguyen/anaconda3/envs/BayesFAI/lib/python3.7/site-packages/gpflowopt/acquisition/hvpoi.py:92: FutureWarning: arrays to stack must be passed as a \"sequence\" type such as list or tuple. Support for non-sequence iterables such as generators is deprecated as of NumPy 1.16 and will raise an error in the future.\n",
      "  F = np.hstack((m.predict_f(feasible_samples)[0] for m in self.models))\n",
      "/Users/quannguyen/anaconda3/envs/BayesFAI/lib/python3.7/site-packages/gpflowopt/bo.py:150: FutureWarning: arrays to stack must be passed as a \"sequence\" type such as list or tuple. Support for non-sequence iterables such as generators is deprecated as of NumPy 1.16 and will raise an error in the future.\n",
      "  evaluations = np.hstack(map(lambda f: f(X), fxs))\n",
      "/Users/quannguyen/anaconda3/envs/BayesFAI/lib/python3.7/site-packages/gpflowopt/acquisition/acquisition.py:193: FutureWarning: arrays to stack must be passed as a \"sequence\" type such as list or tuple. Support for non-sequence iterables such as generators is deprecated as of NumPy 1.16 and will raise an error in the future.\n",
      "  return self.models[0].X.value, np.hstack(map(lambda model: model.Y.value, self.models))\n",
      "/Users/quannguyen/anaconda3/envs/BayesFAI/lib/python3.7/site-packages/gpflowopt/acquisition/hvpoi.py:92: FutureWarning: arrays to stack must be passed as a \"sequence\" type such as list or tuple. Support for non-sequence iterables such as generators is deprecated as of NumPy 1.16 and will raise an error in the future.\n",
      "  F = np.hstack((m.predict_f(feasible_samples)[0] for m in self.models))\n",
      "/Users/quannguyen/anaconda3/envs/BayesFAI/lib/python3.7/site-packages/gpflowopt/bo.py:150: FutureWarning: arrays to stack must be passed as a \"sequence\" type such as list or tuple. Support for non-sequence iterables such as generators is deprecated as of NumPy 1.16 and will raise an error in the future.\n",
      "  evaluations = np.hstack(map(lambda f: f(X), fxs))\n",
      "/Users/quannguyen/anaconda3/envs/BayesFAI/lib/python3.7/site-packages/gpflowopt/acquisition/acquisition.py:193: FutureWarning: arrays to stack must be passed as a \"sequence\" type such as list or tuple. Support for non-sequence iterables such as generators is deprecated as of NumPy 1.16 and will raise an error in the future.\n",
      "  return self.models[0].X.value, np.hstack(map(lambda model: model.Y.value, self.models))\n",
      "/Users/quannguyen/anaconda3/envs/BayesFAI/lib/python3.7/site-packages/gpflowopt/acquisition/hvpoi.py:92: FutureWarning: arrays to stack must be passed as a \"sequence\" type such as list or tuple. Support for non-sequence iterables such as generators is deprecated as of NumPy 1.16 and will raise an error in the future.\n",
      "  F = np.hstack((m.predict_f(feasible_samples)[0] for m in self.models))\n",
      "/Users/quannguyen/anaconda3/envs/BayesFAI/lib/python3.7/site-packages/gpflowopt/bo.py:150: FutureWarning: arrays to stack must be passed as a \"sequence\" type such as list or tuple. Support for non-sequence iterables such as generators is deprecated as of NumPy 1.16 and will raise an error in the future.\n",
      "  evaluations = np.hstack(map(lambda f: f(X), fxs))\n",
      "/Users/quannguyen/anaconda3/envs/BayesFAI/lib/python3.7/site-packages/gpflowopt/acquisition/acquisition.py:193: FutureWarning: arrays to stack must be passed as a \"sequence\" type such as list or tuple. Support for non-sequence iterables such as generators is deprecated as of NumPy 1.16 and will raise an error in the future.\n",
      "  return self.models[0].X.value, np.hstack(map(lambda model: model.Y.value, self.models))\n",
      "/Users/quannguyen/anaconda3/envs/BayesFAI/lib/python3.7/site-packages/gpflowopt/acquisition/hvpoi.py:92: FutureWarning: arrays to stack must be passed as a \"sequence\" type such as list or tuple. Support for non-sequence iterables such as generators is deprecated as of NumPy 1.16 and will raise an error in the future.\n",
      "  F = np.hstack((m.predict_f(feasible_samples)[0] for m in self.models))\n",
      "/Users/quannguyen/anaconda3/envs/BayesFAI/lib/python3.7/site-packages/gpflowopt/bo.py:150: FutureWarning: arrays to stack must be passed as a \"sequence\" type such as list or tuple. Support for non-sequence iterables such as generators is deprecated as of NumPy 1.16 and will raise an error in the future.\n",
      "  evaluations = np.hstack(map(lambda f: f(X), fxs))\n",
      "/Users/quannguyen/anaconda3/envs/BayesFAI/lib/python3.7/site-packages/gpflowopt/acquisition/acquisition.py:193: FutureWarning: arrays to stack must be passed as a \"sequence\" type such as list or tuple. Support for non-sequence iterables such as generators is deprecated as of NumPy 1.16 and will raise an error in the future.\n",
      "  return self.models[0].X.value, np.hstack(map(lambda model: model.Y.value, self.models))\n",
      "/Users/quannguyen/anaconda3/envs/BayesFAI/lib/python3.7/site-packages/gpflowopt/acquisition/hvpoi.py:92: FutureWarning: arrays to stack must be passed as a \"sequence\" type such as list or tuple. Support for non-sequence iterables such as generators is deprecated as of NumPy 1.16 and will raise an error in the future.\n",
      "  F = np.hstack((m.predict_f(feasible_samples)[0] for m in self.models))\n",
      "/Users/quannguyen/anaconda3/envs/BayesFAI/lib/python3.7/site-packages/gpflowopt/bo.py:150: FutureWarning: arrays to stack must be passed as a \"sequence\" type such as list or tuple. Support for non-sequence iterables such as generators is deprecated as of NumPy 1.16 and will raise an error in the future.\n",
      "  evaluations = np.hstack(map(lambda f: f(X), fxs))\n"
     ]
    },
    {
     "name": "stderr",
     "output_type": "stream",
     "text": [
      "/Users/quannguyen/anaconda3/envs/BayesFAI/lib/python3.7/site-packages/gpflowopt/acquisition/acquisition.py:193: FutureWarning: arrays to stack must be passed as a \"sequence\" type such as list or tuple. Support for non-sequence iterables such as generators is deprecated as of NumPy 1.16 and will raise an error in the future.\n",
      "  return self.models[0].X.value, np.hstack(map(lambda model: model.Y.value, self.models))\n",
      "/Users/quannguyen/anaconda3/envs/BayesFAI/lib/python3.7/site-packages/gpflowopt/acquisition/hvpoi.py:92: FutureWarning: arrays to stack must be passed as a \"sequence\" type such as list or tuple. Support for non-sequence iterables such as generators is deprecated as of NumPy 1.16 and will raise an error in the future.\n",
      "  F = np.hstack((m.predict_f(feasible_samples)[0] for m in self.models))\n",
      "/Users/quannguyen/anaconda3/envs/BayesFAI/lib/python3.7/site-packages/gpflowopt/bo.py:150: FutureWarning: arrays to stack must be passed as a \"sequence\" type such as list or tuple. Support for non-sequence iterables such as generators is deprecated as of NumPy 1.16 and will raise an error in the future.\n",
      "  evaluations = np.hstack(map(lambda f: f(X), fxs))\n",
      "/Users/quannguyen/anaconda3/envs/BayesFAI/lib/python3.7/site-packages/gpflowopt/acquisition/acquisition.py:193: FutureWarning: arrays to stack must be passed as a \"sequence\" type such as list or tuple. Support for non-sequence iterables such as generators is deprecated as of NumPy 1.16 and will raise an error in the future.\n",
      "  return self.models[0].X.value, np.hstack(map(lambda model: model.Y.value, self.models))\n",
      "/Users/quannguyen/anaconda3/envs/BayesFAI/lib/python3.7/site-packages/gpflowopt/acquisition/hvpoi.py:92: FutureWarning: arrays to stack must be passed as a \"sequence\" type such as list or tuple. Support for non-sequence iterables such as generators is deprecated as of NumPy 1.16 and will raise an error in the future.\n",
      "  F = np.hstack((m.predict_f(feasible_samples)[0] for m in self.models))\n",
      "/Users/quannguyen/anaconda3/envs/BayesFAI/lib/python3.7/site-packages/gpflowopt/bo.py:150: FutureWarning: arrays to stack must be passed as a \"sequence\" type such as list or tuple. Support for non-sequence iterables such as generators is deprecated as of NumPy 1.16 and will raise an error in the future.\n",
      "  evaluations = np.hstack(map(lambda f: f(X), fxs))\n",
      "/Users/quannguyen/anaconda3/envs/BayesFAI/lib/python3.7/site-packages/gpflowopt/acquisition/acquisition.py:193: FutureWarning: arrays to stack must be passed as a \"sequence\" type such as list or tuple. Support for non-sequence iterables such as generators is deprecated as of NumPy 1.16 and will raise an error in the future.\n",
      "  return self.models[0].X.value, np.hstack(map(lambda model: model.Y.value, self.models))\n",
      "/Users/quannguyen/anaconda3/envs/BayesFAI/lib/python3.7/site-packages/gpflowopt/acquisition/hvpoi.py:92: FutureWarning: arrays to stack must be passed as a \"sequence\" type such as list or tuple. Support for non-sequence iterables such as generators is deprecated as of NumPy 1.16 and will raise an error in the future.\n",
      "  F = np.hstack((m.predict_f(feasible_samples)[0] for m in self.models))\n",
      "/Users/quannguyen/anaconda3/envs/BayesFAI/lib/python3.7/site-packages/gpflowopt/bo.py:150: FutureWarning: arrays to stack must be passed as a \"sequence\" type such as list or tuple. Support for non-sequence iterables such as generators is deprecated as of NumPy 1.16 and will raise an error in the future.\n",
      "  evaluations = np.hstack(map(lambda f: f(X), fxs))\n",
      "/Users/quannguyen/anaconda3/envs/BayesFAI/lib/python3.7/site-packages/gpflowopt/acquisition/acquisition.py:193: FutureWarning: arrays to stack must be passed as a \"sequence\" type such as list or tuple. Support for non-sequence iterables such as generators is deprecated as of NumPy 1.16 and will raise an error in the future.\n",
      "  return self.models[0].X.value, np.hstack(map(lambda model: model.Y.value, self.models))\n",
      "/Users/quannguyen/anaconda3/envs/BayesFAI/lib/python3.7/site-packages/gpflowopt/acquisition/hvpoi.py:92: FutureWarning: arrays to stack must be passed as a \"sequence\" type such as list or tuple. Support for non-sequence iterables such as generators is deprecated as of NumPy 1.16 and will raise an error in the future.\n",
      "  F = np.hstack((m.predict_f(feasible_samples)[0] for m in self.models))\n",
      "/Users/quannguyen/anaconda3/envs/BayesFAI/lib/python3.7/site-packages/gpflowopt/bo.py:150: FutureWarning: arrays to stack must be passed as a \"sequence\" type such as list or tuple. Support for non-sequence iterables such as generators is deprecated as of NumPy 1.16 and will raise an error in the future.\n",
      "  evaluations = np.hstack(map(lambda f: f(X), fxs))\n",
      "/Users/quannguyen/anaconda3/envs/BayesFAI/lib/python3.7/site-packages/gpflowopt/acquisition/acquisition.py:193: FutureWarning: arrays to stack must be passed as a \"sequence\" type such as list or tuple. Support for non-sequence iterables such as generators is deprecated as of NumPy 1.16 and will raise an error in the future.\n",
      "  return self.models[0].X.value, np.hstack(map(lambda model: model.Y.value, self.models))\n",
      "/Users/quannguyen/anaconda3/envs/BayesFAI/lib/python3.7/site-packages/gpflowopt/acquisition/hvpoi.py:92: FutureWarning: arrays to stack must be passed as a \"sequence\" type such as list or tuple. Support for non-sequence iterables such as generators is deprecated as of NumPy 1.16 and will raise an error in the future.\n",
      "  F = np.hstack((m.predict_f(feasible_samples)[0] for m in self.models))\n",
      "/Users/quannguyen/anaconda3/envs/BayesFAI/lib/python3.7/site-packages/gpflowopt/bo.py:150: FutureWarning: arrays to stack must be passed as a \"sequence\" type such as list or tuple. Support for non-sequence iterables such as generators is deprecated as of NumPy 1.16 and will raise an error in the future.\n",
      "  evaluations = np.hstack(map(lambda f: f(X), fxs))\n",
      "/Users/quannguyen/anaconda3/envs/BayesFAI/lib/python3.7/site-packages/gpflowopt/acquisition/acquisition.py:193: FutureWarning: arrays to stack must be passed as a \"sequence\" type such as list or tuple. Support for non-sequence iterables such as generators is deprecated as of NumPy 1.16 and will raise an error in the future.\n",
      "  return self.models[0].X.value, np.hstack(map(lambda model: model.Y.value, self.models))\n",
      "/Users/quannguyen/anaconda3/envs/BayesFAI/lib/python3.7/site-packages/gpflowopt/acquisition/hvpoi.py:92: FutureWarning: arrays to stack must be passed as a \"sequence\" type such as list or tuple. Support for non-sequence iterables such as generators is deprecated as of NumPy 1.16 and will raise an error in the future.\n",
      "  F = np.hstack((m.predict_f(feasible_samples)[0] for m in self.models))\n",
      "/Users/quannguyen/anaconda3/envs/BayesFAI/lib/python3.7/site-packages/gpflowopt/bo.py:150: FutureWarning: arrays to stack must be passed as a \"sequence\" type such as list or tuple. Support for non-sequence iterables such as generators is deprecated as of NumPy 1.16 and will raise an error in the future.\n",
      "  evaluations = np.hstack(map(lambda f: f(X), fxs))\n",
      "/Users/quannguyen/anaconda3/envs/BayesFAI/lib/python3.7/site-packages/gpflowopt/acquisition/acquisition.py:193: FutureWarning: arrays to stack must be passed as a \"sequence\" type such as list or tuple. Support for non-sequence iterables such as generators is deprecated as of NumPy 1.16 and will raise an error in the future.\n",
      "  return self.models[0].X.value, np.hstack(map(lambda model: model.Y.value, self.models))\n",
      "/Users/quannguyen/anaconda3/envs/BayesFAI/lib/python3.7/site-packages/gpflowopt/acquisition/hvpoi.py:92: FutureWarning: arrays to stack must be passed as a \"sequence\" type such as list or tuple. Support for non-sequence iterables such as generators is deprecated as of NumPy 1.16 and will raise an error in the future.\n",
      "  F = np.hstack((m.predict_f(feasible_samples)[0] for m in self.models))\n",
      "/Users/quannguyen/anaconda3/envs/BayesFAI/lib/python3.7/site-packages/gpflowopt/bo.py:150: FutureWarning: arrays to stack must be passed as a \"sequence\" type such as list or tuple. Support for non-sequence iterables such as generators is deprecated as of NumPy 1.16 and will raise an error in the future.\n",
      "  evaluations = np.hstack(map(lambda f: f(X), fxs))\n",
      "/Users/quannguyen/anaconda3/envs/BayesFAI/lib/python3.7/site-packages/gpflowopt/acquisition/acquisition.py:193: FutureWarning: arrays to stack must be passed as a \"sequence\" type such as list or tuple. Support for non-sequence iterables such as generators is deprecated as of NumPy 1.16 and will raise an error in the future.\n",
      "  return self.models[0].X.value, np.hstack(map(lambda model: model.Y.value, self.models))\n"
     ]
    },
    {
     "name": "stderr",
     "output_type": "stream",
     "text": [
      "/Users/quannguyen/anaconda3/envs/BayesFAI/lib/python3.7/site-packages/gpflowopt/acquisition/hvpoi.py:92: FutureWarning: arrays to stack must be passed as a \"sequence\" type such as list or tuple. Support for non-sequence iterables such as generators is deprecated as of NumPy 1.16 and will raise an error in the future.\n",
      "  F = np.hstack((m.predict_f(feasible_samples)[0] for m in self.models))\n",
      "/Users/quannguyen/anaconda3/envs/BayesFAI/lib/python3.7/site-packages/gpflowopt/bo.py:150: FutureWarning: arrays to stack must be passed as a \"sequence\" type such as list or tuple. Support for non-sequence iterables such as generators is deprecated as of NumPy 1.16 and will raise an error in the future.\n",
      "  evaluations = np.hstack(map(lambda f: f(X), fxs))\n",
      "/Users/quannguyen/anaconda3/envs/BayesFAI/lib/python3.7/site-packages/gpflowopt/acquisition/acquisition.py:193: FutureWarning: arrays to stack must be passed as a \"sequence\" type such as list or tuple. Support for non-sequence iterables such as generators is deprecated as of NumPy 1.16 and will raise an error in the future.\n",
      "  return self.models[0].X.value, np.hstack(map(lambda model: model.Y.value, self.models))\n",
      "/Users/quannguyen/anaconda3/envs/BayesFAI/lib/python3.7/site-packages/gpflowopt/acquisition/hvpoi.py:92: FutureWarning: arrays to stack must be passed as a \"sequence\" type such as list or tuple. Support for non-sequence iterables such as generators is deprecated as of NumPy 1.16 and will raise an error in the future.\n",
      "  F = np.hstack((m.predict_f(feasible_samples)[0] for m in self.models))\n",
      "/Users/quannguyen/anaconda3/envs/BayesFAI/lib/python3.7/site-packages/gpflowopt/bo.py:150: FutureWarning: arrays to stack must be passed as a \"sequence\" type such as list or tuple. Support for non-sequence iterables such as generators is deprecated as of NumPy 1.16 and will raise an error in the future.\n",
      "  evaluations = np.hstack(map(lambda f: f(X), fxs))\n",
      "/Users/quannguyen/anaconda3/envs/BayesFAI/lib/python3.7/site-packages/gpflowopt/acquisition/acquisition.py:193: FutureWarning: arrays to stack must be passed as a \"sequence\" type such as list or tuple. Support for non-sequence iterables such as generators is deprecated as of NumPy 1.16 and will raise an error in the future.\n",
      "  return self.models[0].X.value, np.hstack(map(lambda model: model.Y.value, self.models))\n",
      "/Users/quannguyen/anaconda3/envs/BayesFAI/lib/python3.7/site-packages/gpflowopt/acquisition/hvpoi.py:92: FutureWarning: arrays to stack must be passed as a \"sequence\" type such as list or tuple. Support for non-sequence iterables such as generators is deprecated as of NumPy 1.16 and will raise an error in the future.\n",
      "  F = np.hstack((m.predict_f(feasible_samples)[0] for m in self.models))\n",
      "/Users/quannguyen/anaconda3/envs/BayesFAI/lib/python3.7/site-packages/gpflowopt/bo.py:150: FutureWarning: arrays to stack must be passed as a \"sequence\" type such as list or tuple. Support for non-sequence iterables such as generators is deprecated as of NumPy 1.16 and will raise an error in the future.\n",
      "  evaluations = np.hstack(map(lambda f: f(X), fxs))\n",
      "/Users/quannguyen/anaconda3/envs/BayesFAI/lib/python3.7/site-packages/gpflowopt/acquisition/acquisition.py:193: FutureWarning: arrays to stack must be passed as a \"sequence\" type such as list or tuple. Support for non-sequence iterables such as generators is deprecated as of NumPy 1.16 and will raise an error in the future.\n",
      "  return self.models[0].X.value, np.hstack(map(lambda model: model.Y.value, self.models))\n",
      "/Users/quannguyen/anaconda3/envs/BayesFAI/lib/python3.7/site-packages/gpflowopt/acquisition/hvpoi.py:92: FutureWarning: arrays to stack must be passed as a \"sequence\" type such as list or tuple. Support for non-sequence iterables such as generators is deprecated as of NumPy 1.16 and will raise an error in the future.\n",
      "  F = np.hstack((m.predict_f(feasible_samples)[0] for m in self.models))\n",
      "/Users/quannguyen/anaconda3/envs/BayesFAI/lib/python3.7/site-packages/gpflowopt/bo.py:150: FutureWarning: arrays to stack must be passed as a \"sequence\" type such as list or tuple. Support for non-sequence iterables such as generators is deprecated as of NumPy 1.16 and will raise an error in the future.\n",
      "  evaluations = np.hstack(map(lambda f: f(X), fxs))\n",
      "/Users/quannguyen/anaconda3/envs/BayesFAI/lib/python3.7/site-packages/gpflowopt/acquisition/acquisition.py:193: FutureWarning: arrays to stack must be passed as a \"sequence\" type such as list or tuple. Support for non-sequence iterables such as generators is deprecated as of NumPy 1.16 and will raise an error in the future.\n",
      "  return self.models[0].X.value, np.hstack(map(lambda model: model.Y.value, self.models))\n",
      "/Users/quannguyen/anaconda3/envs/BayesFAI/lib/python3.7/site-packages/gpflowopt/acquisition/hvpoi.py:92: FutureWarning: arrays to stack must be passed as a \"sequence\" type such as list or tuple. Support for non-sequence iterables such as generators is deprecated as of NumPy 1.16 and will raise an error in the future.\n",
      "  F = np.hstack((m.predict_f(feasible_samples)[0] for m in self.models))\n",
      "/Users/quannguyen/anaconda3/envs/BayesFAI/lib/python3.7/site-packages/gpflowopt/bo.py:150: FutureWarning: arrays to stack must be passed as a \"sequence\" type such as list or tuple. Support for non-sequence iterables such as generators is deprecated as of NumPy 1.16 and will raise an error in the future.\n",
      "  evaluations = np.hstack(map(lambda f: f(X), fxs))\n",
      "/Users/quannguyen/anaconda3/envs/BayesFAI/lib/python3.7/site-packages/gpflowopt/acquisition/acquisition.py:193: FutureWarning: arrays to stack must be passed as a \"sequence\" type such as list or tuple. Support for non-sequence iterables such as generators is deprecated as of NumPy 1.16 and will raise an error in the future.\n",
      "  return self.models[0].X.value, np.hstack(map(lambda model: model.Y.value, self.models))\n"
     ]
    }
   ],
   "source": [
    "# Combine MC step followed by L-BFGS-B\n",
    "acquisition_opt = gpflowopt.optim.StagedOptimizer([\n",
    "    gpflowopt.optim.MCOptimizer(domain, 1000),\n",
    "    gpflowopt.optim.SciPyOptimizer(domain)\n",
    "])\n",
    "\n",
    "# Run BO for 5 iterations\n",
    "optimizer = gpflowopt.BayesianOptimizer(\n",
    "    domain, hvpoi, optimizer=acquisition_opt\n",
    ")\n",
    "\n",
    "result = optimizer.optimize(f, n_iter=BUDGET)"
   ]
  },
  {
   "cell_type": "code",
   "execution_count": 10,
   "metadata": {},
   "outputs": [
    {
     "data": {
      "text/plain": [
       " constraints: array([], shape=(20, 0), dtype=float64)\n",
       "         fun: array([[-1.08140027e+01,  3.91582765e-02],\n",
       "       [-1.09623023e+01,  3.92763140e-02],\n",
       "       [-1.06347221e+01,  3.57259140e-02],\n",
       "       [-9.59244130e+00,  2.58556420e-02],\n",
       "       [-8.70533979e+00,  1.26751810e-02],\n",
       "       [-9.12177120e+00,  2.07822425e-02],\n",
       "       [-1.09140061e+01,  3.92451315e-02],\n",
       "       [-1.07695070e+01,  3.91156495e-02],\n",
       "       [-1.01002722e+01,  2.83878745e-02],\n",
       "       [-8.26498688e+00,  0.00000000e+00],\n",
       "       [-1.03614713e+01,  3.17210740e-02],\n",
       "       [-9.82706861e+00,  2.66219335e-02],\n",
       "       [-9.33983747e+00,  2.33398110e-02],\n",
       "       [-1.09688029e+01,  3.92823560e-02],\n",
       "       [-8.49693950e+00,  4.27431200e-03],\n",
       "       [-8.89750657e+00,  1.80507205e-02],\n",
       "       [-1.09353746e+01,  3.92546185e-02],\n",
       "       [-1.08697151e+01,  3.92077415e-02],\n",
       "       [-1.06880716e+01,  3.89654350e-02],\n",
       "       [-1.04913699e+01,  3.32339920e-02]])\n",
       "     message: 'OK'\n",
       "        nfev: 20\n",
       "     success: True\n",
       "           x: array([[0.12749309],\n",
       "       [0.18838137],\n",
       "       [0.07398914],\n",
       "       [0.05799637],\n",
       "       [0.05085603],\n",
       "       [0.05406317],\n",
       "       [0.15902568],\n",
       "       [0.10063836],\n",
       "       [0.06321163],\n",
       "       [0.04774985],\n",
       "       [0.0668808 ],\n",
       "       [0.06029867],\n",
       "       [0.05578106],\n",
       "       [0.19992699],\n",
       "       [0.04927652],\n",
       "       [0.05239676],\n",
       "       [0.17467135],\n",
       "       [0.14384141],\n",
       "       [0.08601349],\n",
       "       [0.06937648]])"
      ]
     },
     "execution_count": 10,
     "metadata": {},
     "output_type": "execute_result"
    }
   ],
   "source": [
    "result"
   ]
  },
  {
   "cell_type": "code",
   "execution_count": 11,
   "metadata": {},
   "outputs": [
    {
     "data": {
      "text/plain": [
       "array([[-1.09687969e+01,  3.91600952e-02],\n",
       "       [-1.08697001e+01,  3.91380157e-02],\n",
       "       [-1.08140012e+01,  3.90925117e-02],\n",
       "       [-1.07687191e+01,  3.90620692e-02],\n",
       "       [-1.06893219e+01,  3.88899495e-02],\n",
       "       [-1.06346242e+01,  3.57211249e-02],\n",
       "       [-1.03602240e+01,  3.13639373e-02],\n",
       "       [-1.00979731e+01,  2.86837501e-02],\n",
       "       [-9.83265527e+00,  2.71252288e-02],\n",
       "       [-9.59145749e+00,  2.58437433e-02],\n",
       "       [-9.33572725e+00,  2.35575708e-02],\n",
       "       [-9.12313032e+00,  2.04451022e-02],\n",
       "       [-8.90678756e+00,  1.61101388e-02],\n",
       "       [-8.69952701e+00,  1.12612991e-02],\n",
       "       [-8.48169247e+00,  6.27951989e-03],\n",
       "       [-8.26857556e+00,  2.38395508e-03],\n",
       "       [-8.06142462e+00, -4.46686313e-05],\n",
       "       [-7.75920503e+00, -1.33894107e-03]])"
      ]
     },
     "execution_count": 11,
     "metadata": {},
     "output_type": "execute_result"
    }
   ],
   "source": [
    "optimizer.acquisition.pareto.front.value"
   ]
  },
  {
   "cell_type": "code",
   "execution_count": 22,
   "metadata": {},
   "outputs": [
    {
     "data": {
      "image/png": "[encoded data removed]",
      "text/plain": [
       "<Figure size 432x288 with 1 Axes>"
      ]
     },
     "metadata": {},
     "output_type": "display_data"
    }
   ],
   "source": [
    "plt.hist(hvpoi.data[0], bins=20)\n",
    "plt.show()"
   ]
  },
  {
   "cell_type": "code",
   "execution_count": 12,
   "metadata": {},
   "outputs": [
    {
     "data": {
      "image/png": "[encoded data removed]",
      "text/plain": [
       "<Figure size 936x720 with 2 Axes>"
      ]
     },
     "metadata": {},
     "output_type": "display_data"
    }
   ],
   "source": [
    "plt.figure(figsize=(13, 10))\n",
    "\n",
    "_, dom = gpflowopt.pareto.non_dominated_sort(hvpoi.data[1])\n",
    "\n",
    "plt.scatter(\n",
    "    hvpoi.data[1][:, 0],\n",
    "    hvpoi.data[1][:, 1],\n",
    "    c=dom,\n",
    "    s=100\n",
    ")\n",
    "plt.colorbar()\n",
    "\n",
    "for i, constraint in enumerate(hvpoi.data[0]):\n",
    "    plt.annotate(\n",
    "        f'{float(constraint):.4f}',\n",
    "        (hvpoi.data[1][i, 0], hvpoi.data[1][i, 1]),\n",
    "        fontsize=10\n",
    "    )\n",
    "\n",
    "plt.xlabel('Percentage in reentry probability', fontsize=16)\n",
    "plt.ylabel('Third quartile in increased reentry probability', fontsize=16)\n",
    "    \n",
    "plt.show()"
   ]
  },
  {
   "cell_type": "markdown",
   "metadata": {},
   "source": [
    "# Scratch paper"
   ]
  },
  {
   "cell_type": "code",
   "execution_count": 13,
   "metadata": {},
   "outputs": [
    {
     "data": {
      "text/plain": [
       "2"
      ]
     },
     "execution_count": 13,
     "metadata": {},
     "output_type": "execute_result"
    }
   ],
   "source": [
    "optimizer.acquisition.data[1].shape[1]"
   ]
  },
  {
   "cell_type": "code",
   "execution_count": 14,
   "metadata": {},
   "outputs": [
    {
     "data": {
      "text/plain": [
       "array([1])"
      ]
     },
     "execution_count": 14,
     "metadata": {},
     "output_type": "execute_result"
    }
   ],
   "source": [
    "np.atleast_1d(1)"
   ]
  },
  {
   "cell_type": "code",
   "execution_count": 15,
   "metadata": {},
   "outputs": [
    {
     "name": "stderr",
     "output_type": "stream",
     "text": [
      "/Users/quannguyen/anaconda3/envs/BayesFAI/lib/python3.7/site-packages/ipykernel_launcher.py:1: FutureWarning: arrays to stack must be passed as a \"sequence\" type such as list or tuple. Support for non-sequence iterables such as generators is deprecated as of NumPy 1.16 and will raise an error in the future.\n",
      "  \"\"\"Entry point for launching an IPython kernel.\n"
     ]
    },
    {
     "ename": "IndexError",
     "evalue": "tuple index out of range",
     "output_type": "error",
     "traceback": [
      "\u001b[0;31m---------------------------------------------------------------------------\u001b[0m",
      "\u001b[0;31mIndexError\u001b[0m                                Traceback (most recent call last)",
      "\u001b[0;32m<ipython-input-15-4856a4d29ccb>\u001b[0m in \u001b[0;36m<module>\u001b[0;34m\u001b[0m\n\u001b[0;32m----> 1\u001b[0;31m \u001b[0mnp\u001b[0m\u001b[0;34m.\u001b[0m\u001b[0mhstack\u001b[0m\u001b[0;34m(\u001b[0m\u001b[0mmap\u001b[0m\u001b[0;34m(\u001b[0m\u001b[0;32mlambda\u001b[0m \u001b[0mx\u001b[0m\u001b[0;34m:\u001b[0m \u001b[0;34m(\u001b[0m\u001b[0;36m0\u001b[0m\u001b[0;34m,\u001b[0m \u001b[0;36m1\u001b[0m\u001b[0;34m)\u001b[0m\u001b[0;34m,\u001b[0m \u001b[0;34m[\u001b[0m\u001b[0;36m1\u001b[0m\u001b[0;34m]\u001b[0m\u001b[0;34m)\u001b[0m\u001b[0;34m)\u001b[0m\u001b[0;34m.\u001b[0m\u001b[0mshape\u001b[0m\u001b[0;34m[\u001b[0m\u001b[0;36m1\u001b[0m\u001b[0;34m]\u001b[0m\u001b[0;34m\u001b[0m\u001b[0;34m\u001b[0m\u001b[0m\n\u001b[0m",
      "\u001b[0;31mIndexError\u001b[0m: tuple index out of range"
     ]
    }
   ],
   "source": [
    "np.hstack(map(lambda x: (0, 1), [1])).shape[1]"
   ]
  },
  {
   "cell_type": "code",
   "execution_count": 16,
   "metadata": {},
   "outputs": [
    {
     "data": {
      "text/plain": [
       "(1, 2)"
      ]
     },
     "execution_count": 16,
     "metadata": {},
     "output_type": "execute_result"
    }
   ],
   "source": [
    "np.hstack(([[0]], [[1]])).shape"
   ]
  },
  {
   "cell_type": "code",
   "execution_count": 17,
   "metadata": {},
   "outputs": [
    {
     "data": {
      "text/plain": [
       "(3, 2)"
      ]
     },
     "execution_count": 17,
     "metadata": {},
     "output_type": "execute_result"
    }
   ],
   "source": [
    "np.array([np.hstack(([[0]], [[1]])) for _ in range(3)]).reshape(3, 2).shape"
   ]
  },
  {
   "cell_type": "code",
   "execution_count": 18,
   "metadata": {},
   "outputs": [
    {
     "data": {
      "text/plain": [
       "(18,)"
      ]
     },
     "execution_count": 18,
     "metadata": {},
     "output_type": "execute_result"
    }
   ],
   "source": [
    "optimizer.acquisition.pareto.front.value[:, 0].shape"
   ]
  },
  {
   "cell_type": "code",
   "execution_count": 19,
   "metadata": {},
   "outputs": [
    {
     "data": {
      "text/plain": [
       "(20,)"
      ]
     },
     "execution_count": 19,
     "metadata": {},
     "output_type": "execute_result"
    }
   ],
   "source": [
    "result.x.flatten().shape"
   ]
  },
  {
   "cell_type": "code",
   "execution_count": 20,
   "metadata": {},
   "outputs": [
    {
     "data": {
      "text/plain": [
       "(array([[0.04003719],\n",
       "        [0.12749309],\n",
       "        [0.00367423],\n",
       "        [0.18838137],\n",
       "        [0.04402906],\n",
       "        [0.07398914],\n",
       "        [0.05799637],\n",
       "        [0.05085603],\n",
       "        [0.05406317],\n",
       "        [0.15902568],\n",
       "        [0.10063836],\n",
       "        [0.06321163],\n",
       "        [0.04774985],\n",
       "        [0.0668808 ],\n",
       "        [0.06029867],\n",
       "        [0.05578106],\n",
       "        [0.19992699],\n",
       "        [0.04927652],\n",
       "        [0.05239676],\n",
       "        [0.17467135],\n",
       "        [0.14384141],\n",
       "        [0.08601349],\n",
       "        [0.04625999],\n",
       "        [0.11360579],\n",
       "        [0.06937648]]), array([[-7.26032864e+00,  0.00000000e+00],\n",
       "        [-1.08140027e+01,  3.91582765e-02],\n",
       "        [-4.27160033e+00,  0.00000000e+00],\n",
       "        [-1.09623023e+01,  3.92763140e-02],\n",
       "        [-7.75384347e+00,  0.00000000e+00],\n",
       "        [-1.06347221e+01,  3.57259140e-02],\n",
       "        [-9.59244130e+00,  2.58556420e-02],\n",
       "        [-8.70533979e+00,  1.26751810e-02],\n",
       "        [-9.12177120e+00,  2.07822425e-02],\n",
       "        [-1.09140061e+01,  3.92451315e-02],\n",
       "        [-1.07695070e+01,  3.91156495e-02],\n",
       "        [-1.01002722e+01,  2.83878745e-02],\n",
       "        [-8.26498688e+00,  0.00000000e+00],\n",
       "        [-1.03614713e+01,  3.17210740e-02],\n",
       "        [-9.82706861e+00,  2.66219335e-02],\n",
       "        [-9.33983747e+00,  2.33398110e-02],\n",
       "        [-1.09688029e+01,  3.92823560e-02],\n",
       "        [-8.49693950e+00,  4.27431200e-03],\n",
       "        [-8.89750657e+00,  1.80507205e-02],\n",
       "        [-1.09353746e+01,  3.92546185e-02],\n",
       "        [-1.08697151e+01,  3.92077415e-02],\n",
       "        [-1.06880716e+01,  3.89654350e-02],\n",
       "        [-8.05279994e+00,  0.00000000e+00],\n",
       "        [-1.08040544e+01,  3.91762545e-02],\n",
       "        [-1.04913699e+01,  3.32339920e-02]]))"
      ]
     },
     "execution_count": 20,
     "metadata": {},
     "output_type": "execute_result"
    }
   ],
   "source": [
    "hvpoi.data"
   ]
  },
  {
   "cell_type": "code",
   "execution_count": 21,
   "metadata": {},
   "outputs": [
    {
     "data": {
      "text/plain": [
       "array([3, 0, 4, 0, 2, 0, 0, 0, 0, 0, 0, 0, 0, 0, 0, 0, 0, 0, 0, 0, 0, 0,\n",
       "       1, 1, 0])"
      ]
     },
     "execution_count": 21,
     "metadata": {},
     "output_type": "execute_result"
    }
   ],
   "source": [
    "dom"
   ]
  },
  {
   "cell_type": "code",
   "execution_count": null,
   "metadata": {},
   "outputs": [],
   "source": []
  }
 ],
 "metadata": {
  "kernelspec": {
   "display_name": "Python 3",
   "language": "python",
   "name": "python3"
  },
  "language_info": {
   "codemirror_mode": {
    "name": "ipython",
    "version": 3
   },
   "file_extension": ".py",
   "mimetype": "text/x-python",
   "name": "python",
   "nbconvert_exporter": "python",
   "pygments_lexer": "ipython3",
   "version": "3.7.6"
  }
 },
 "nbformat": 4,
 "nbformat_minor": 2
}
