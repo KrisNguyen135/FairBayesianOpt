{
 "cells": [
  {
   "cell_type": "code",
   "execution_count": 1,
   "metadata": {},
   "outputs": [],
   "source": [
    "import pandas as pd\n",
    "import numpy as np\n",
    "import pulp\n",
    "\n",
    "import sys\n",
    "sys.path.insert(0, '../..')\n",
    "import bottleneck_assignment\n",
    "import assignment\n",
    "\n",
    "import matplotlib.pyplot as plt\n",
    "plt.style.use('seaborn-darkgrid')\n",
    "import matplotlib\n",
    "matplotlib.rcParams.update({'font.size': 13})\n",
    "\n",
    "import time"
   ]
  },
  {
   "cell_type": "code",
   "execution_count": 2,
   "metadata": {},
   "outputs": [
    {
     "name": "stdout",
     "output_type": "stream",
     "text": [
      "Searching between 3 and 9\n",
      "Searching between 3 and 7\n",
      "Searching between 3 and 6\n"
     ]
    },
    {
     "name": "stderr",
     "output_type": "stream",
     "text": [
      "/Users/quannguyen/anaconda3/envs/BayesFAI/lib/python3.7/site-packages/pulp/solvers.py:2080: UserWarning: GUROBI_CMD does provide good solution status of non optimal solutions\n",
      "  warnings.warn('GUROBI_CMD does provide good solution status of non optimal solutions')\n"
     ]
    },
    {
     "data": {
      "text/plain": [
       "array([4, 5])"
      ]
     },
     "execution_count": 2,
     "metadata": {},
     "output_type": "execute_result"
    }
   ],
   "source": [
    "helper = bottleneck_assignment.BottleneckAssignmentHelperV2(\n",
    "    np.array([\n",
    "        [8, 2, 3, 3],\n",
    "        [2, 7, 5, 8],\n",
    "        [0, 9, 8, 4],\n",
    "        [2, 5, 6, 3]\n",
    "    ]),\n",
    "    [1, 1, 1, 1]\n",
    ")\n",
    "\n",
    "helper.solve(verbose=True)"
   ]
  },
  {
   "cell_type": "code",
   "execution_count": 3,
   "metadata": {},
   "outputs": [
    {
     "data": {
      "text/plain": [
       "4.0"
      ]
     },
     "execution_count": 3,
     "metadata": {},
     "output_type": "execute_result"
    }
   ],
   "source": [
    "helper = bottleneck_assignment.BottleneckAssignmentHelperV2(\n",
    "    np.array([\n",
    "        [np.pi, np.sqrt(3), 54392],\n",
    "        [0, np.e ** 3, np.e ** 3],\n",
    "        [-2, np.sin(np.pi / 8), 4]\n",
    "    ]),\n",
    "    [1, 1, 1]\n",
    ")\n",
    "\n",
    "helper.solve(verbose=True)"
   ]
  },
  {
   "cell_type": "code",
   "execution_count": 4,
   "metadata": {},
   "outputs": [
    {
     "data": {
      "text/html": [
       "<div>\n",
       "<style scoped>\n",
       "    .dataframe tbody tr th:only-of-type {\n",
       "        vertical-align: middle;\n",
       "    }\n",
       "\n",
       "    .dataframe tbody tr th {\n",
       "        vertical-align: top;\n",
       "    }\n",
       "\n",
       "    .dataframe thead th {\n",
       "        text-align: right;\n",
       "    }\n",
       "</style>\n",
       "<table border=\"1\" class=\"dataframe\">\n",
       "  <thead>\n",
       "    <tr style=\"text-align: right;\">\n",
       "      <th></th>\n",
       "      <th>ES</th>\n",
       "      <th>PSH</th>\n",
       "      <th>TH</th>\n",
       "      <th>RRH</th>\n",
       "      <th>PREV</th>\n",
       "    </tr>\n",
       "  </thead>\n",
       "  <tbody>\n",
       "    <tr>\n",
       "      <th>2</th>\n",
       "      <td>0.138807</td>\n",
       "      <td>0.000000</td>\n",
       "      <td>0.077800</td>\n",
       "      <td>0.148701</td>\n",
       "      <td>0.029491</td>\n",
       "    </tr>\n",
       "    <tr>\n",
       "      <th>3</th>\n",
       "      <td>0.080806</td>\n",
       "      <td>0.654604</td>\n",
       "      <td>0.031637</td>\n",
       "      <td>0.072591</td>\n",
       "      <td>0.000000</td>\n",
       "    </tr>\n",
       "    <tr>\n",
       "      <th>4</th>\n",
       "      <td>0.086533</td>\n",
       "      <td>0.069397</td>\n",
       "      <td>0.035603</td>\n",
       "      <td>0.091095</td>\n",
       "      <td>0.000000</td>\n",
       "    </tr>\n",
       "    <tr>\n",
       "      <th>7</th>\n",
       "      <td>0.094090</td>\n",
       "      <td>0.000000</td>\n",
       "      <td>0.142770</td>\n",
       "      <td>0.158622</td>\n",
       "      <td>0.065307</td>\n",
       "    </tr>\n",
       "    <tr>\n",
       "      <th>8</th>\n",
       "      <td>0.111943</td>\n",
       "      <td>0.031211</td>\n",
       "      <td>0.065289</td>\n",
       "      <td>0.063653</td>\n",
       "      <td>0.000000</td>\n",
       "    </tr>\n",
       "  </tbody>\n",
       "</table>\n",
       "</div>"
      ],
      "text/plain": [
       "         ES       PSH        TH       RRH      PREV\n",
       "2  0.138807  0.000000  0.077800  0.148701  0.029491\n",
       "3  0.080806  0.654604  0.031637  0.072591  0.000000\n",
       "4  0.086533  0.069397  0.035603  0.091095  0.000000\n",
       "7  0.094090  0.000000  0.142770  0.158622  0.065307\n",
       "8  0.111943  0.031211  0.065289  0.063653  0.000000"
      ]
     },
     "execution_count": 4,
     "metadata": {},
     "output_type": "execute_result"
    }
   ],
   "source": [
    "prob_df = pd.read_csv('../../data/data_avg.csv', index_col=0)\n",
    "subset_prob_df = prob_df[prob_df['Used']]\n",
    "capacity_df = prob_df['Real'].value_counts()\n",
    "types = ['ES', 'PSH', 'TH', 'RRH', 'PREV']\n",
    "\n",
    "increase_from_best_df = subset_prob_df.copy()\n",
    "increase_from_best_df['Best'] = increase_from_best_df[types].min(axis=1)\n",
    "for type_ in types:\n",
    "    increase_from_best_df[type_] = subset_prob_df[type_] - increase_from_best_df['Best']\n",
    "increase_from_best_df = increase_from_best_df[types]\n",
    "\n",
    "increase_from_best_df.head()"
   ]
  },
  {
   "cell_type": "code",
   "execution_count": 5,
   "metadata": {},
   "outputs": [
    {
     "data": {
      "image/png": "[encoded data removed]",
      "text/plain": [
       "<Figure size 432x288 with 1 Axes>"
      ]
     },
     "metadata": {},
     "output_type": "display_data"
    }
   ],
   "source": [
    "plt.hist(increase_from_best_df.to_numpy().flatten(), bins=50)\n",
    "plt.show()"
   ]
  },
  {
   "cell_type": "code",
   "execution_count": 6,
   "metadata": {
    "scrolled": true
   },
   "outputs": [
    {
     "name": "stderr",
     "output_type": "stream",
     "text": [
      "/Users/quannguyen/anaconda3/envs/BayesFAI/lib/python3.7/site-packages/pulp/solvers.py:2080: UserWarning: GUROBI_CMD does provide good solution status of non optimal solutions\n",
      "  warnings.warn('GUROBI_CMD does provide good solution status of non optimal solutions')\n"
     ]
    },
    {
     "name": "stdout",
     "output_type": "stream",
     "text": [
      "Searching between 0.021094955 and 0.801554275\n"
     ]
    },
    {
     "name": "stderr",
     "output_type": "stream",
     "text": [
      "/Users/quannguyen/anaconda3/envs/BayesFAI/lib/python3.7/site-packages/pulp/solvers.py:2080: UserWarning: GUROBI_CMD does provide good solution status of non optimal solutions\n",
      "  warnings.warn('GUROBI_CMD does provide good solution status of non optimal solutions')\n"
     ]
    },
    {
     "name": "stdout",
     "output_type": "stream",
     "text": [
      "Searching between 0.093918491 and 0.801554275\n"
     ]
    },
    {
     "name": "stderr",
     "output_type": "stream",
     "text": [
      "/Users/quannguyen/anaconda3/envs/BayesFAI/lib/python3.7/site-packages/pulp/solvers.py:2080: UserWarning: GUROBI_CMD does provide good solution status of non optimal solutions\n",
      "  warnings.warn('GUROBI_CMD does provide good solution status of non optimal solutions')\n"
     ]
    },
    {
     "name": "stdout",
     "output_type": "stream",
     "text": [
      "Searching between 0.19467070600000003 and 0.801554275\n"
     ]
    },
    {
     "name": "stderr",
     "output_type": "stream",
     "text": [
      "/Users/quannguyen/anaconda3/envs/BayesFAI/lib/python3.7/site-packages/pulp/solvers.py:2080: UserWarning: GUROBI_CMD does provide good solution status of non optimal solutions\n",
      "  warnings.warn('GUROBI_CMD does provide good solution status of non optimal solutions')\n"
     ]
    },
    {
     "name": "stdout",
     "output_type": "stream",
     "text": [
      "Searching between 0.307160741 and 0.801554275\n",
      "Searching between 0.307160741 and 0.401839292\n"
     ]
    },
    {
     "name": "stderr",
     "output_type": "stream",
     "text": [
      "/Users/quannguyen/anaconda3/envs/BayesFAI/lib/python3.7/site-packages/pulp/solvers.py:2080: UserWarning: GUROBI_CMD does provide good solution status of non optimal solutions\n",
      "  warnings.warn('GUROBI_CMD does provide good solution status of non optimal solutions')\n"
     ]
    },
    {
     "name": "stdout",
     "output_type": "stream",
     "text": [
      "Searching between 0.348290327 and 0.401839292\n"
     ]
    },
    {
     "name": "stderr",
     "output_type": "stream",
     "text": [
      "/Users/quannguyen/anaconda3/envs/BayesFAI/lib/python3.7/site-packages/pulp/solvers.py:2080: UserWarning: GUROBI_CMD does provide good solution status of non optimal solutions\n",
      "  warnings.warn('GUROBI_CMD does provide good solution status of non optimal solutions')\n"
     ]
    },
    {
     "name": "stdout",
     "output_type": "stream",
     "text": [
      "Searching between 0.37268020100000004 and 0.401839292\n"
     ]
    },
    {
     "name": "stderr",
     "output_type": "stream",
     "text": [
      "/Users/quannguyen/anaconda3/envs/BayesFAI/lib/python3.7/site-packages/pulp/solvers.py:2080: UserWarning: GUROBI_CMD does provide good solution status of non optimal solutions\n",
      "  warnings.warn('GUROBI_CMD does provide good solution status of non optimal solutions')\n"
     ]
    },
    {
     "name": "stdout",
     "output_type": "stream",
     "text": [
      "Searching between 0.38588789500000004 and 0.401839292\n",
      "Searching between 0.38588789500000004 and 0.39406465600000007\n"
     ]
    },
    {
     "name": "stderr",
     "output_type": "stream",
     "text": [
      "/Users/quannguyen/anaconda3/envs/BayesFAI/lib/python3.7/site-packages/pulp/solvers.py:2080: UserWarning: GUROBI_CMD does provide good solution status of non optimal solutions\n",
      "  warnings.warn('GUROBI_CMD does provide good solution status of non optimal solutions')\n"
     ]
    },
    {
     "name": "stdout",
     "output_type": "stream",
     "text": [
      "Searching between 0.390127914 and 0.39406465600000007\n"
     ]
    },
    {
     "name": "stderr",
     "output_type": "stream",
     "text": [
      "/Users/quannguyen/anaconda3/envs/BayesFAI/lib/python3.7/site-packages/pulp/solvers.py:2080: UserWarning: GUROBI_CMD does provide good solution status of non optimal solutions\n",
      "  warnings.warn('GUROBI_CMD does provide good solution status of non optimal solutions')\n"
     ]
    },
    {
     "name": "stdout",
     "output_type": "stream",
     "text": [
      "Searching between 0.3920954670000001 and 0.39406465600000007\n",
      "Searching between 0.3920954670000001 and 0.392969303\n"
     ]
    },
    {
     "name": "stderr",
     "output_type": "stream",
     "text": [
      "/Users/quannguyen/anaconda3/envs/BayesFAI/lib/python3.7/site-packages/pulp/solvers.py:2080: UserWarning: GUROBI_CMD does provide good solution status of non optimal solutions\n",
      "  warnings.warn('GUROBI_CMD does provide good solution status of non optimal solutions')\n"
     ]
    },
    {
     "name": "stdout",
     "output_type": "stream",
     "text": [
      "Searching between 0.39272293700000005 and 0.392969303\n",
      "Searching between 0.39272293700000005 and 0.39286463200000005\n"
     ]
    },
    {
     "name": "stderr",
     "output_type": "stream",
     "text": [
      "/Users/quannguyen/anaconda3/envs/BayesFAI/lib/python3.7/site-packages/pulp/solvers.py:2080: UserWarning: GUROBI_CMD does provide good solution status of non optimal solutions\n",
      "  warnings.warn('GUROBI_CMD does provide good solution status of non optimal solutions')\n"
     ]
    },
    {
     "name": "stdout",
     "output_type": "stream",
     "text": [
      "Searching between 0.392810789 and 0.39286463200000005\n",
      "[0.39281079 0.39285834]\n",
      "Took 34.8566 seconds\n"
     ]
    }
   ],
   "source": [
    "helper = bottleneck_assignment.BottleneckAssignmentHelperV2(\n",
    "    increase_from_best_df.to_numpy(),\n",
    "    capacity_df.sort_index().to_numpy()\n",
    ")\n",
    "\n",
    "t0 = time.time()\n",
    "print(helper.solve(verbose=True))\n",
    "print(f'Took {time.time() - t0:.4f} seconds')"
   ]
  },
  {
   "cell_type": "code",
   "execution_count": 7,
   "metadata": {},
   "outputs": [
    {
     "name": "stderr",
     "output_type": "stream",
     "text": [
      "/Users/quannguyen/anaconda3/envs/BayesFAI/lib/python3.7/site-packages/pulp/solvers.py:2080: UserWarning: GUROBI_CMD does provide good solution status of non optimal solutions\n",
      "  warnings.warn('GUROBI_CMD does provide good solution status of non optimal solutions')\n"
     ]
    },
    {
     "name": "stdout",
     "output_type": "stream",
     "text": [
      "0.39281079 Not Solved\n",
      "0.39285834 Optimal\n",
      "0.4 Optimal\n",
      "0.45 Optimal\n",
      "0.5 Optimal\n",
      "0.55 Optimal\n",
      "0.6 Optimal\n",
      "0.65 Optimal\n",
      "0.7 Optimal\n"
     ]
    }
   ],
   "source": [
    "constraints = [0.39281079, 0.39285834, 0.4, 0.45, 0.5, 0.55, 0.6, 0.65, 0.7]\n",
    "\n",
    "summed_probs = []\n",
    "compare_dfs = []\n",
    "\n",
    "for constraint in constraints:\n",
    "    helper = assignment.AssignmentHelper(prob_df=subset_prob_df)\n",
    "    helper.update_constraints(\n",
    "        fairness_best_constraint=constraint,\n",
    "        capacity_df=capacity_df\n",
    "    )\n",
    "    \n",
    "    sol_df = helper.ip_solve()\n",
    "    if sol_df is False:\n",
    "        summed_probs.append(False)\n",
    "        compare_dfs.append(False)\n",
    "    else:\n",
    "        summed_probs.append(pulp.value(helper.prob.objective))\n",
    "        compare_dfs.append(helper.compare_prob(sol_df))\n",
    "    \n",
    "    print(constraint, pulp.LpStatus[helper.prob.status])"
   ]
  },
  {
   "cell_type": "code",
   "execution_count": 8,
   "metadata": {},
   "outputs": [
    {
     "data": {
      "image/png": "[encoded data removed]",
      "text/plain": [
       "<Figure size 936x720 with 1 Axes>"
      ]
     },
     "metadata": {},
     "output_type": "display_data"
    }
   ],
   "source": [
    "f, ax1 = plt.subplots(figsize=(13, 10))\n",
    "\n",
    "for c_idx, c in enumerate(constraints):\n",
    "    df = compare_dfs[c_idx]\n",
    "    \n",
    "    if df is not False:\n",
    "        ax1.boxplot(\n",
    "            df['Input_to_best'],\n",
    "            positions=[c_idx],\n",
    "            # widths=[0.1]\n",
    "        )\n",
    "\n",
    "ax1.plot(\n",
    "    [i for i in range(len(constraints))],\n",
    "    [df['Input_to_best'].max()\n",
    "     if df is not False else np.nan\n",
    "     for df in compare_dfs]\n",
    ")\n",
    "    \n",
    "ax1.set_xlabel('Maximum allowed probability increase', fontsize=16)\n",
    "ax1.set_ylabel('Increase from ind. best allocations', fontsize=16)\n",
    "ax1.set_xlim(-1, len(constraints))\n",
    "\n",
    "ax1.set_xticks([i for i in range(len(constraints))])\n",
    "ax1.set_xticklabels(constraints)\n",
    "\n",
    "# ax2 = ax1.twinx()\n",
    "# ax2.plot([i for i in range(1, len(constraints))])\n",
    "\n",
    "plt.show()"
   ]
  },
  {
   "cell_type": "code",
   "execution_count": 9,
   "metadata": {},
   "outputs": [
    {
     "data": {
      "image/png": "[encoded data removed]",
      "text/plain": [
       "<Figure size 936x720 with 1 Axes>"
      ]
     },
     "metadata": {},
     "output_type": "display_data"
    }
   ],
   "source": [
    "f, ax = plt.subplots(figsize=(13, 10))\n",
    "\n",
    "ax.plot(\n",
    "    [i for i in range(1, len(constraints))], summed_probs[1:],\n",
    "    c='red'\n",
    ")\n",
    "\n",
    "ax.set_xlabel('Maximum allowed probability increase', fontsize=16)\n",
    "ax.set_ylabel('Summed reentry probability', fontsize=16)\n",
    "ax.set_xlim(-1, len(constraints))\n",
    "\n",
    "ax.set_xticks([i for i in range(len(constraints))])\n",
    "ax.set_xticklabels(constraints)\n",
    "\n",
    "plt.show()"
   ]
  },
  {
   "cell_type": "code",
   "execution_count": 10,
   "metadata": {},
   "outputs": [
    {
     "data": {
      "text/plain": [
       "[False,\n",
       " 2302.734326293996,\n",
       " 2302.721215620996,\n",
       " 2302.525906114997,\n",
       " 2302.525906114997,\n",
       " 2302.525906114997,\n",
       " 2302.525906114997,\n",
       " 2302.525906114997,\n",
       " 2302.525906114997]"
      ]
     },
     "execution_count": 10,
     "metadata": {},
     "output_type": "execute_result"
    }
   ],
   "source": [
    "summed_probs"
   ]
  },
  {
   "cell_type": "code",
   "execution_count": 11,
   "metadata": {},
   "outputs": [
    {
     "data": {
      "text/plain": [
       "[False,\n",
       " 0.17641833823533754,\n",
       " 0.17642302731724027,\n",
       " 0.17649288050250472,\n",
       " 0.17649288050250472,\n",
       " 0.17649288050250472,\n",
       " 0.17649288050250472,\n",
       " 0.17649288050250472,\n",
       " 0.17649288050250472]"
      ]
     },
     "execution_count": 11,
     "metadata": {},
     "output_type": "execute_result"
    }
   ],
   "source": [
    "reductions = []\n",
    "\n",
    "for prob in summed_probs:\n",
    "    if prob is False:\n",
    "        reductions.append(False)\n",
    "    else:\n",
    "        reductions.append((2796 - prob) / 2796)\n",
    "\n",
    "reductions"
   ]
  },
  {
   "cell_type": "code",
   "execution_count": null,
   "metadata": {},
   "outputs": [],
   "source": []
  }
 ],
 "metadata": {
  "kernelspec": {
   "display_name": "Python 3",
   "language": "python",
   "name": "python3"
  },
  "language_info": {
   "codemirror_mode": {
    "name": "ipython",
    "version": 3
   },
   "file_extension": ".py",
   "mimetype": "text/x-python",
   "name": "python",
   "nbconvert_exporter": "python",
   "pygments_lexer": "ipython3",
   "version": "3.7.6"
  }
 },
 "nbformat": 4,
 "nbformat_minor": 2
}
