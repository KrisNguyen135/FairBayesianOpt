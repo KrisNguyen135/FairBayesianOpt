{
 "cells": [
  {
   "cell_type": "code",
   "execution_count": 1,
   "metadata": {},
   "outputs": [],
   "source": [
    "import pandas as pd\n",
    "import numpy as np\n",
    "np.random.seed(0)\n",
    "import pulp\n",
    "\n",
    "import sys\n",
    "sys.path.insert(0, '../..')\n",
    "import bottleneck_assignment\n",
    "import assignment\n",
    "\n",
    "import matplotlib.pyplot as plt\n",
    "plt.style.use('seaborn-darkgrid')\n",
    "import matplotlib\n",
    "matplotlib.rcParams.update({'font.size': 13})\n",
    "\n",
    "import time\n",
    "\n",
    "import warnings"
   ]
  },
  {
   "cell_type": "code",
   "execution_count": 7,
   "metadata": {},
   "outputs": [],
   "source": [
    "N_EXPERIMENTS = 100\n",
    "\n",
    "for _ in range(N_EXPERIMENTS):\n",
    "    n = np.random.randint(1, 50)\n",
    "    \n",
    "    cost_matrix = np.random.random_sample((n, n))\n",
    "    min_matrix = np.repeat(\n",
    "        cost_matrix.min(axis=1), n\n",
    "    ).reshape(cost_matrix.shape)\n",
    "    increase_matrix = cost_matrix - min_matrix\n",
    "    capacities = np.ones((n,))\n",
    "    \n",
    "    eff_assign_helper1 = assignment.AssignmentHelperV2(\n",
    "        cost_matrix, capacities\n",
    "    )\n",
    "    assignments1 = eff_assign_helper1.ip_solve()\n",
    "    \n",
    "    eff_assign_helper2 = assignment.AssignmentHelperV2(\n",
    "        increase_matrix, capacities\n",
    "    )\n",
    "    assignments2 = eff_assign_helper2.ip_solve()\n",
    "    \n",
    "    # print(assignments1)\n",
    "    # print(assignments2)\n",
    "    # print()\n",
    "    \n",
    "    if not np.array_equal(assignments1, assignments2):\n",
    "        print('Here')\n",
    "        break"
   ]
  },
  {
   "cell_type": "markdown",
   "metadata": {},
   "source": [
    "# Conclusion\n",
    "\n",
    "Efficient assignment on a cost matrix yields the same result as efficient assignment on the corresponding increase matrix."
   ]
  },
  {
   "cell_type": "code",
   "execution_count": null,
   "metadata": {},
   "outputs": [],
   "source": []
  }
 ],
 "metadata": {
  "kernelspec": {
   "display_name": "Python 3",
   "language": "python",
   "name": "python3"
  },
  "language_info": {
   "codemirror_mode": {
    "name": "ipython",
    "version": 3
   },
   "file_extension": ".py",
   "mimetype": "text/x-python",
   "name": "python",
   "nbconvert_exporter": "python",
   "pygments_lexer": "ipython3",
   "version": "3.7.6"
  }
 },
 "nbformat": 4,
 "nbformat_minor": 2
}
