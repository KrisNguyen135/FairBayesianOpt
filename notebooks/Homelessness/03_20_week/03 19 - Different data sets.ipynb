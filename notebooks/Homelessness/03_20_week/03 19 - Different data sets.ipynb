{
 "cells": [
  {
   "cell_type": "code",
   "execution_count": 1,
   "metadata": {},
   "outputs": [],
   "source": [
    "import pandas as pd\n",
    "import numpy as np\n",
    "np.random.seed(0)\n",
    "import pulp\n",
    "\n",
    "import sys\n",
    "sys.path.insert(0, '../..')\n",
    "import assignment\n",
    "\n",
    "import matplotlib.pyplot as plt\n",
    "plt.style.use('seaborn-darkgrid')\n",
    "import matplotlib\n",
    "matplotlib.rcParams.update({'font.size': 15})\n",
    "\n",
    "import time\n",
    "from tqdm import tqdm\n",
    "\n",
    "import warnings"
   ]
  },
  {
   "cell_type": "code",
   "execution_count": 29,
   "metadata": {},
   "outputs": [
    {
     "data": {
      "text/html": [
       "<div>\n",
       "<style scoped>\n",
       "    .dataframe tbody tr th:only-of-type {\n",
       "        vertical-align: middle;\n",
       "    }\n",
       "\n",
       "    .dataframe tbody tr th {\n",
       "        vertical-align: top;\n",
       "    }\n",
       "\n",
       "    .dataframe thead th {\n",
       "        text-align: right;\n",
       "    }\n",
       "</style>\n",
       "<table border=\"1\" class=\"dataframe\">\n",
       "  <thead>\n",
       "    <tr style=\"text-align: right;\">\n",
       "      <th></th>\n",
       "      <th>Real</th>\n",
       "      <th>Reentered</th>\n",
       "      <th>Week</th>\n",
       "      <th>Used</th>\n",
       "    </tr>\n",
       "    <tr>\n",
       "      <th>HouseholdID</th>\n",
       "      <th></th>\n",
       "      <th></th>\n",
       "      <th></th>\n",
       "      <th></th>\n",
       "    </tr>\n",
       "  </thead>\n",
       "  <tbody>\n",
       "    <tr>\n",
       "      <th>2028039</th>\n",
       "      <td>2</td>\n",
       "      <td>0</td>\n",
       "      <td>33</td>\n",
       "      <td>False</td>\n",
       "    </tr>\n",
       "    <tr>\n",
       "      <th>2036520</th>\n",
       "      <td>2</td>\n",
       "      <td>0</td>\n",
       "      <td>283</td>\n",
       "      <td>True</td>\n",
       "    </tr>\n",
       "    <tr>\n",
       "      <th>2108682</th>\n",
       "      <td>2</td>\n",
       "      <td>0</td>\n",
       "      <td>205</td>\n",
       "      <td>True</td>\n",
       "    </tr>\n",
       "    <tr>\n",
       "      <th>2116994</th>\n",
       "      <td>2</td>\n",
       "      <td>0</td>\n",
       "      <td>244</td>\n",
       "      <td>True</td>\n",
       "    </tr>\n",
       "    <tr>\n",
       "      <th>2154639</th>\n",
       "      <td>2</td>\n",
       "      <td>0</td>\n",
       "      <td>107</td>\n",
       "      <td>False</td>\n",
       "    </tr>\n",
       "  </tbody>\n",
       "</table>\n",
       "</div>"
      ],
      "text/plain": [
       "             Real  Reentered  Week   Used\n",
       "HouseholdID                              \n",
       "2028039         2          0    33  False\n",
       "2036520         2          0   283   True\n",
       "2108682         2          0   205   True\n",
       "2116994         2          0   244   True\n",
       "2154639         2          0   107  False"
      ]
     },
     "execution_count": 29,
     "metadata": {},
     "output_type": "execute_result"
    }
   ],
   "source": [
    "usage_columns = ['Real', 'Reentered', 'Week', 'Used']\n",
    "\n",
    "usage_df = pd.read_csv(\n",
    "    '../../data/subset_data.csv', index_col='HouseholdID'\n",
    ").drop('Unnamed: 0', axis=1)[usage_columns]\n",
    "usage_df.head()"
   ]
  },
  {
   "cell_type": "code",
   "execution_count": 51,
   "metadata": {},
   "outputs": [
    {
     "name": "stdout",
     "output_type": "stream",
     "text": [
      "Shape before join: (13940, 6)\n",
      "Shape after join: (13940, 10)\n",
      "\n",
      "All households\n",
      "- Number of households: 13940\n",
      "- Optimized cost: 2989.9553964065\n",
      "- Original cost: 3987\n",
      "- Original estimated cost: 3875.4206969328216\n",
      "\n",
      "Used households\n",
      "- Number of households: 10043\n",
      "- Optimized cost: 1827.261717924134\n",
      "- Original cost: 2765\n",
      "- Original estimated cost: 2687.600345811662\n"
     ]
    }
   ],
   "source": [
    "path_to_file = '../../data/dat_all_preds_100_without_022720.csv'\n",
    "types = ['ES', 'TH', 'RRH', 'PREV']\n",
    "assignment_map = {1: 0, 3: 1, 4: 2, 5: 3}\n",
    "\n",
    "# Process the data set\n",
    "df = pd.read_csv(path_to_file, index_col='HouseholdID').drop('Unnamed: 0', axis=1)\n",
    "print('Shape before join:', df.shape)\n",
    "df = df.join(usage_df, lsuffix='_old')\n",
    "print('Shape after join:', df.shape)\n",
    "capacity_df = df['Real'].value_counts()\n",
    "\n",
    "for name, df in [('All households', df), ('Used households', df[df['Used']])]:\n",
    "    print()\n",
    "    print(name)\n",
    "    print('- Number of households:', df.shape[0])\n",
    "    \n",
    "    cost_matrix = df[types].to_numpy()\n",
    "    capacities = capacity_df.sort_index().to_numpy()\n",
    "\n",
    "    # Compute the assignment\n",
    "    assigner = assignment.AssignmentHelperV2(cost_matrix, capacities)\n",
    "    assignments = assigner.ip_solve()\n",
    "\n",
    "    total_cost = assigner.get_cost(assignments, cost_matrix)\n",
    "\n",
    "    # Compare with the real assignment\n",
    "    original_assignments = df['Real'].to_numpy()\n",
    "    original_assignments = np.vectorize(assignment_map.get)(original_assignments)\n",
    "\n",
    "    # original_total_cost = sum(\n",
    "    #     cost_matrix[agent_id, original_assignments[agent_id]]\n",
    "    #     for agent_id in range(cost_matrix.shape[0])\n",
    "    # )\n",
    "    original_total_cost = assigner.get_cost(original_assignments, cost_matrix)\n",
    "\n",
    "    print('- Optimized cost:', total_cost)\n",
    "    print('- Original cost:', df['Reentered'].sum())\n",
    "    print('- Original estimated cost:', original_total_cost)"
   ]
  },
  {
   "cell_type": "code",
   "execution_count": 50,
   "metadata": {},
   "outputs": [
    {
     "name": "stdout",
     "output_type": "stream",
     "text": [
      "Shape before join: (14211, 7)\n",
      "Shape after join: (14211, 11)\n",
      "\n",
      "All households\n",
      "- Number of households: 14211\n",
      "- Optimized cost: 3650.061983372012\n",
      "- Original cost: 4082\n",
      "- Original estimated cost: 4084.472900467309\n",
      "\n",
      "Used households\n",
      "- Number of households: 10129\n",
      "- Optimized cost: 2300.510196034292\n",
      "- Original cost: 2796\n",
      "- Original estimated cost: 2793.895941862182\n"
     ]
    }
   ],
   "source": [
    "path_to_file = '../../data/dat_all_preds_100_withpsh_022720.csv'\n",
    "types = ['ES', 'PSH', 'TH', 'RRH', 'PREV']\n",
    "assignment_map = {i: i - 1 for i in range(1, 6)}\n",
    "\n",
    "# Process the data set\n",
    "df = pd.read_csv(path_to_file, index_col='HouseholdID').drop('Unnamed: 0', axis=1)\n",
    "print('Shape before join:', df.shape)\n",
    "df = df.join(usage_df, lsuffix='_old')\n",
    "print('Shape after join:', df.shape)\n",
    "capacity_df = df['Real'].value_counts()\n",
    "\n",
    "for name, df in [('All households', df), ('Used households', df[df['Used']])]:\n",
    "    print()\n",
    "    print(name)\n",
    "    print('- Number of households:', df.shape[0])\n",
    "    \n",
    "    cost_matrix = df[types].to_numpy()\n",
    "    capacities = capacity_df.sort_index().to_numpy()\n",
    "\n",
    "    # Compute the assignment\n",
    "    assigner = assignment.AssignmentHelperV2(cost_matrix, capacities)\n",
    "    assignments = assigner.ip_solve()\n",
    "\n",
    "    total_cost = assigner.get_cost(assignments, cost_matrix)\n",
    "\n",
    "    # Compare with the real assignment\n",
    "    original_assignments = df['Real'].to_numpy()\n",
    "    original_assignments = np.vectorize(assignment_map.get)(original_assignments)\n",
    "\n",
    "    # original_total_cost = sum(\n",
    "    #     cost_matrix[agent_id, original_assignments[agent_id]]\n",
    "    #     for agent_id in range(cost_matrix.shape[0])\n",
    "    # )\n",
    "    original_total_cost = assigner.get_cost(original_assignments, cost_matrix)\n",
    "\n",
    "    print('- Optimized cost:', total_cost)\n",
    "    print('- Original cost:', df['Reentered'].sum())\n",
    "    print('- Original estimated cost:', original_total_cost)"
   ]
  },
  {
   "cell_type": "code",
   "execution_count": 61,
   "metadata": {},
   "outputs": [
    {
     "name": "stdout",
     "output_type": "stream",
     "text": [
      "Shape before join: (13940, 6)\n",
      "Shape after join: (13940, 10)\n",
      "\n",
      "All households\n",
      "- Number of households: 13940\n",
      "- Optimized cost: 2983.887127661806\n",
      "- Original cost: 3987\n",
      "- Original estimated cost: 3900.5806508812657\n",
      "\n",
      "Used households\n",
      "- Number of households: 10043\n",
      "- Optimized cost: 1837.0828789611237\n",
      "- Original cost: 2765\n",
      "- Original estimated cost: 2724.7732631535696\n"
     ]
    }
   ],
   "source": [
    "path_to_file = '../../data/weekly_OOSProbs_dat_030120_noPSH.csv'\n",
    "types = ['ES', 'TH', 'RRH', 'Prev']\n",
    "assignment_map = {1: 0, 3: 1, 4: 2, 5: 3}\n",
    "\n",
    "# Process the data set\n",
    "df = pd.read_csv(path_to_file, index_col='HouseholdID').drop('Unnamed: 0', axis=1)\n",
    "print('Shape before join:', df.shape)\n",
    "df = df.join(usage_df, lsuffix='_old')\n",
    "print('Shape after join:', df.shape)\n",
    "capacity_df = df['Real'].value_counts()\n",
    "\n",
    "for name, df in [('All households', df), ('Used households', df[df['Used']])]:\n",
    "    print()\n",
    "    print(name)\n",
    "    print('- Number of households:', df.shape[0])\n",
    "    \n",
    "    # capacity_df = df['Real'].value_counts()\n",
    "    cost_matrix = df[types].to_numpy()\n",
    "    capacities = capacity_df.sort_index().to_numpy()\n",
    "\n",
    "    # Compute the assignment\n",
    "    assigner = assignment.AssignmentHelperV2(cost_matrix, capacities)\n",
    "    assignments = assigner.ip_solve()\n",
    "\n",
    "    total_cost = assigner.get_cost(assignments, cost_matrix)\n",
    "\n",
    "    # Compare with the real assignment\n",
    "    original_assignments = df['Real'].to_numpy()\n",
    "    original_assignments = np.vectorize(assignment_map.get)(original_assignments)\n",
    "\n",
    "    # original_total_cost = sum(\n",
    "    #     cost_matrix[agent_id, original_assignments[agent_id]]\n",
    "    #     for agent_id in range(cost_matrix.shape[0])\n",
    "    # )\n",
    "    original_total_cost = assigner.get_cost(original_assignments, cost_matrix)\n",
    "\n",
    "    print('- Optimized cost:', total_cost)\n",
    "    print('- Original cost:', df['Reentered'].sum())\n",
    "    print('- Original estimated cost:', original_total_cost)"
   ]
  },
  {
   "cell_type": "code",
   "execution_count": 57,
   "metadata": {},
   "outputs": [
    {
     "data": {
      "text/plain": [
       "array([4441, 2451,  846, 6202])"
      ]
     },
     "execution_count": 57,
     "metadata": {},
     "output_type": "execute_result"
    }
   ],
   "source": [
    "capacities"
   ]
  },
  {
   "cell_type": "code",
   "execution_count": 56,
   "metadata": {},
   "outputs": [
    {
     "data": {
      "text/plain": [
       "(array([0, 1, 2, 3]), array([ 544, 2451,  846, 6202]))"
      ]
     },
     "execution_count": 56,
     "metadata": {},
     "output_type": "execute_result"
    }
   ],
   "source": [
    "np.unique(assignments, return_counts=True)"
   ]
  },
  {
   "cell_type": "code",
   "execution_count": 53,
   "metadata": {},
   "outputs": [
    {
     "name": "stdout",
     "output_type": "stream",
     "text": [
      "Shape before join: (14211, 7)\n",
      "Shape after join: (14211, 11)\n",
      "\n",
      "All households\n",
      "- Number of households: 14211\n",
      "- Optimized cost: 3575.6969635077476\n",
      "- Original cost: 4082\n",
      "- Original estimated cost: 4082.91515836435\n",
      "\n",
      "Used households\n",
      "- Number of households: 10129\n",
      "- Optimized cost: 2281.7630233549735\n",
      "- Original cost: 2796\n",
      "- Original estimated cost: 2816.5312889986076\n"
     ]
    }
   ],
   "source": [
    "path_to_file = '../../data/weekly_OOSProbs_dat_030120_notthinned.csv'\n",
    "types = ['ES', 'PSH', 'TH', 'RRH', 'Prev']\n",
    "assignment_map = {i: i - 1 for i in range(1, 6)}\n",
    "\n",
    "# Process the data set\n",
    "df = pd.read_csv(path_to_file, index_col='HouseholdID').drop('Unnamed: 0', axis=1)\n",
    "print('Shape before join:', df.shape)\n",
    "df = df.join(usage_df, lsuffix='_old')\n",
    "print('Shape after join:', df.shape)\n",
    "capacity_df = df['Real'].value_counts()\n",
    "\n",
    "for name, df in [('All households', df), ('Used households', df[df['Used']])]:\n",
    "    print()\n",
    "    print(name)\n",
    "    print('- Number of households:', df.shape[0])\n",
    "    \n",
    "    cost_matrix = df[types].to_numpy()\n",
    "    capacities = capacity_df.sort_index().to_numpy()\n",
    "\n",
    "    # Compute the assignment\n",
    "    assigner = assignment.AssignmentHelperV2(cost_matrix, capacities)\n",
    "    assignments = assigner.ip_solve()\n",
    "\n",
    "    total_cost = assigner.get_cost(assignments, cost_matrix)\n",
    "\n",
    "    # Compare with the real assignment\n",
    "    original_assignments = df['Real'].to_numpy()\n",
    "    original_assignments = np.vectorize(assignment_map.get)(original_assignments)\n",
    "\n",
    "    # original_total_cost = sum(\n",
    "    #     cost_matrix[agent_id, original_assignments[agent_id]]\n",
    "    #     for agent_id in range(cost_matrix.shape[0])\n",
    "    # )\n",
    "    original_total_cost = assigner.get_cost(original_assignments, cost_matrix)\n",
    "\n",
    "    print('- Optimized cost:', total_cost)\n",
    "    print('- Original cost:', df['Reentered'].sum())\n",
    "    print('- Original estimated cost:', original_total_cost)"
   ]
  },
  {
   "cell_type": "code",
   "execution_count": null,
   "metadata": {},
   "outputs": [],
   "source": []
  }
 ],
 "metadata": {
  "kernelspec": {
   "display_name": "Python 3",
   "language": "python",
   "name": "python3"
  },
  "language_info": {
   "codemirror_mode": {
    "name": "ipython",
    "version": 3
   },
   "file_extension": ".py",
   "mimetype": "text/x-python",
   "name": "python",
   "nbconvert_exporter": "python",
   "pygments_lexer": "ipython3",
   "version": "3.7.6"
  }
 },
 "nbformat": 4,
 "nbformat_minor": 2
}
