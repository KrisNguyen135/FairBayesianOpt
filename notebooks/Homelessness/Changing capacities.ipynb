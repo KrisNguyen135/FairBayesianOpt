{
 "cells": [
  {
   "cell_type": "code",
   "execution_count": 1,
   "metadata": {},
   "outputs": [],
   "source": [
    "import pandas as pd\n",
    "import numpy as np\n",
    "\n",
    "import matplotlib.pyplot as plt\n",
    "plt.style.use('seaborn-dark')\n",
    "\n",
    "import sys\n",
    "sys.path.insert(0, '../..')\n",
    "\n",
    "import quan_utils"
   ]
  },
  {
   "cell_type": "code",
   "execution_count": 2,
   "metadata": {},
   "outputs": [],
   "source": [
    "prob_df = pd.read_csv('../../data/data.csv', index_col=0)\n",
    "capacity_df = prob_df['Real'].value_counts()\n",
    "\n",
    "NUM_SAMPLES = 5\n",
    "BUDGETS = [10, 10, 10, 10, 10]\n",
    "TYPES = ['ES', 'PSH', 'TH', 'RRH', 'PREV']\n",
    "COST_TYPES = ['linear', 'linear', 'linear', 'linear', 'linear']\n",
    "\n",
    "\n",
    "def capacity_cost(capacity_increases):\n",
    "    running_total = 0\n",
    "    \n",
    "    for type_index, increase in enumerate(capacity_increases):\n",
    "        if COST_TYPES[type_index] == 'linear':\n",
    "            running_total += increase\n",
    "        elif COST_TYPES[type_index] == 'log':\n",
    "            running_total += np.log(increase + 1)\n",
    "        elif COST_TYPES[type_index] == 'quadratic':\n",
    "            running_total += increase ** 2\n",
    "    \n",
    "    return running_total\n",
    "\n",
    "\n",
    "# All objective functions\n",
    "def f(x):\n",
    "    fairness_constraint = x[0]\n",
    "    \n",
    "    helper = quan_utils.AssignmentHelper()\n",
    "    \n",
    "    new_capacity_df = capacity_df.copy()\n",
    "    for type_index, type_ in enumerate(TYPES):\n",
    "        new_capacity_df.loc[type_index + 1] += x[type_index + 1]\n",
    "    \n",
    "    helper.update_constraints(\n",
    "        fairness_constraint=fairness_constraint,\n",
    "        capacity_df=new_capacity_df\n",
    "    )\n",
    "    \n",
    "    sol_df = helper.ip_solve()\n",
    "    real_n_reentries, bart_n_reentries, sol_n_reentries = helper.compare_reentry(sol_df, verbose=False)\n",
    "    prob_compare_df = helper.compare_prob(sol_df)\n",
    "    \n",
    "    # return np.hstack((\n",
    "    #     [[- (real_n_reentries - sol_n_reentries) / real_n_reentries * 100]],\n",
    "    #     [[prob_compare_df[prob_compare_df['Diff'] > 0]['Diff'].mean()]],\n",
    "    #     capacity_cost(x[1 :])\n",
    "    # ))\n",
    "    \n",
    "    return (\n",
    "        (real_n_reentries - sol_n_reentries) / real_n_reentries * 100,\n",
    "        prob_compare_df['Diff'].max(),\n",
    "        prob_compare_df[prob_compare_df['Diff'] > 0]['Diff'].mean(),\n",
    "        prob_compare_df[prob_compare_df['Diff'] > 0]['Diff'].quantile(0.75),\n",
    "        prob_compare_df['Diff'].max() - prob_compare_df['Diff'].min(),\n",
    "        capacity_cost(x[1:])\n",
    "    )"
   ]
  },
  {
   "cell_type": "code",
   "execution_count": 3,
   "metadata": {},
   "outputs": [
    {
     "data": {
      "text/plain": [
       "[[[0.05, 0, 0, 0, 0, 0],\n",
       "  [0.05, 0, 0, 0, 0, 10],\n",
       "  [0.05, 0, 0, 0, 0, 20],\n",
       "  [0.05, 0, 0, 0, 0, 30],\n",
       "  [0.05, 0, 0, 0, 0, 40]],\n",
       " [[0.05, 10, 0, 0, 0, 0],\n",
       "  [0.05, 10, 0, 0, 0, 10],\n",
       "  [0.05, 10, 0, 0, 0, 20],\n",
       "  [0.05, 10, 0, 0, 0, 30],\n",
       "  [0.05, 10, 0, 0, 0, 40]],\n",
       " [[0.05, 20, 0, 0, 0, 0],\n",
       "  [0.05, 20, 0, 0, 0, 10],\n",
       "  [0.05, 20, 0, 0, 0, 20],\n",
       "  [0.05, 20, 0, 0, 0, 30],\n",
       "  [0.05, 20, 0, 0, 0, 40]],\n",
       " [[0.05, 30, 0, 0, 0, 0],\n",
       "  [0.05, 30, 0, 0, 0, 10],\n",
       "  [0.05, 30, 0, 0, 0, 20],\n",
       "  [0.05, 30, 0, 0, 0, 30],\n",
       "  [0.05, 30, 0, 0, 0, 40]],\n",
       " [[0.05, 40, 0, 0, 0, 0],\n",
       "  [0.05, 40, 0, 0, 0, 10],\n",
       "  [0.05, 40, 0, 0, 0, 20],\n",
       "  [0.05, 40, 0, 0, 0, 30],\n",
       "  [0.05, 40, 0, 0, 0, 40]]]"
      ]
     },
     "execution_count": 3,
     "metadata": {},
     "output_type": "execute_result"
    }
   ],
   "source": [
    "increase_budget = 5\n",
    "\n",
    "xs = [[[0.05, i * 10, 0, 0, 0, j * 10] \n",
    "       for j in range(increase_budget)]\n",
    "      for i in range(increase_budget)]\n",
    "xs"
   ]
  },
  {
   "cell_type": "code",
   "execution_count": 4,
   "metadata": {},
   "outputs": [
    {
     "name": "stdout",
     "output_type": "stream",
     "text": [
      "0 0\n",
      "0 1\n",
      "0 2\n",
      "0 3\n",
      "0 4\n",
      "1 0\n",
      "1 1\n",
      "1 2\n",
      "1 3\n",
      "1 4\n",
      "2 0\n",
      "2 1\n",
      "2 2\n",
      "2 3\n",
      "2 4\n",
      "3 0\n",
      "3 1\n",
      "3 2\n",
      "3 3\n",
      "3 4\n",
      "4 0\n",
      "4 1\n",
      "4 2\n",
      "4 3\n",
      "4 4\n"
     ]
    }
   ],
   "source": [
    "percentage_reductions = []\n",
    "max_prob_diff = []\n",
    "avg_pos_prob_increase = []\n",
    "thirdq_pos_prob_increase = []\n",
    "range_prob_diff = []\n",
    "capacity_costs = []\n",
    "\n",
    "for i in range(increase_budget):\n",
    "    print(i)\n",
    "    \n",
    "    percentage_reductions.append([])\n",
    "    max_prob_diff.append([])\n",
    "    avg_pos_prob_increase.append([])\n",
    "    thirdq_pos_prob_increase.append([])\n",
    "    range_prob_diff.append([])\n",
    "    capacity_costs.append([])\n",
    "    \n",
    "    for j in range(increase_budget):\n",
    "        result = f(xs[i][j])\n",
    "        \n",
    "        percentage_reductions[-1].append(result[0])\n",
    "        max_prob_diff[-1].append(result[1])\n",
    "        avg_pos_prob_increase[-1].append(result[2])\n",
    "        thirdq_pos_prob_increase[-1].append(result[3])\n",
    "        range_prob_diff[-1].append(result[4])\n",
    "        capacity_costs[-1].append(result[5])"
   ]
  },
  {
   "cell_type": "code",
   "execution_count": 14,
   "metadata": {},
   "outputs": [
    {
     "data": {
      "image/png": "[encoded data removed]",
      "text/plain": [
       "<Figure size 720x936 with 12 Axes>"
      ]
     },
     "metadata": {},
     "output_type": "display_data"
    }
   ],
   "source": [
    "xlabels = [i * 10 for i in range(increase_budget)]\n",
    "ylabels = [j * 10 for j in range(increase_budget)]\n",
    "\n",
    "f, ax = plt.subplots(3, 2, figsize=(10, 13), sharex=True, sharey=True)\n",
    "\n",
    "# Utility and cost in the first row\n",
    "m = ax[0][0].imshow(percentage_reductions, cmap='viridis')\n",
    "f.colorbar(m, ax=ax[0][0])\n",
    "ax[0][0].set_title('Total reentry probability')\n",
    "\n",
    "m = ax[0][1].imshow(capacity_costs, cmap='viridis')\n",
    "f.colorbar(m, ax=ax[0][1])\n",
    "ax[0][1].set_title('Cost of increasing capacity')\n",
    "\n",
    "# Second and third rows contain fairness metrics\n",
    "m = ax[1][0].imshow(max_prob_diff, cmap='viridis')\n",
    "f.colorbar(m, ax=ax[1][0])\n",
    "ax[1][0].set_title('Max increased reentry probability')\n",
    "\n",
    "m = ax[1][1].imshow(avg_pos_prob_increase, cmap='viridis')\n",
    "f.colorbar(m, ax=ax[1][1])\n",
    "ax[1][1].set_title('Mean increased reentry probability')\n",
    "\n",
    "m = ax[2][0].imshow(thirdq_pos_prob_increase, cmap='viridis')\n",
    "f.colorbar(m, ax=ax[2][0])\n",
    "ax[2][0].set_title('Third quantile increased reentry probability')\n",
    "\n",
    "m = ax[2][1].imshow(range_prob_diff, cmap='viridis')\n",
    "f.colorbar(m, ax=ax[2][1])\n",
    "ax[2][1].set_title('Range of change in reentry probability')\n",
    "\n",
    "ax[0][0].set_yticks([i for i in range(increase_budget)])\n",
    "ax[0][0].set_yticklabels(ylabels)\n",
    "ax[1][0].set_yticks([i for i in range(increase_budget)])\n",
    "ax[1][0].set_yticklabels(ylabels)\n",
    "ax[2][0].set_yticks([i for i in range(increase_budget)])\n",
    "ax[2][0].set_yticklabels(ylabels)\n",
    "\n",
    "ax[2][0].set_xticks([i for i in range(increase_budget)])\n",
    "ax[2][0].set_xticklabels(xlabels)\n",
    "ax[2][1].set_xticks([i for i in range(increase_budget)])\n",
    "ax[2][1].set_xticklabels(xlabels)\n",
    "\n",
    "for row in range(3):\n",
    "    for col in range(2):\n",
    "        ax[row][col].set_xticks(\n",
    "            [i - 0.5 for i in range(increase_budget + 1)], \n",
    "            minor=True\n",
    "        )\n",
    "        ax[row][col].set_yticks(\n",
    "            [i - 0.5 for i in range(increase_budget + 1)], \n",
    "            minor=True\n",
    "        )\n",
    "        ax[row][col].grid(b=None)\n",
    "        ax[row][col].grid(which='minor')\n",
    "\n",
    "plt.show()"
   ]
  },
  {
   "cell_type": "markdown",
   "metadata": {},
   "source": [
    "# Scratch paper"
   ]
  },
  {
   "cell_type": "code",
   "execution_count": 7,
   "metadata": {},
   "outputs": [
    {
     "data": {
      "text/plain": [
       "[[8.574815287359408,\n",
       "  8.603610015605359,\n",
       "  8.632362810485326,\n",
       "  8.661072933072301,\n",
       "  8.689746286403963],\n",
       " [8.574815287359408,\n",
       "  8.603610015605359,\n",
       "  8.632362810485326,\n",
       "  8.661072933072301,\n",
       "  8.689746286403963],\n",
       " [8.574815287359408,\n",
       "  8.603610015605359,\n",
       "  8.632362810485326,\n",
       "  8.661072933072301,\n",
       "  8.689746286403963],\n",
       " [8.574815287359408,\n",
       "  8.603610015605359,\n",
       "  8.632362810485326,\n",
       "  8.661072933072301,\n",
       "  8.689746286403963],\n",
       " [8.574815287359408,\n",
       "  8.603610015605359,\n",
       "  8.632362810485326,\n",
       "  8.661072933072301,\n",
       "  8.689746286403963]]"
      ]
     },
     "execution_count": 7,
     "metadata": {},
     "output_type": "execute_result"
    }
   ],
   "source": [
    "percentage_reductions"
   ]
  },
  {
   "cell_type": "code",
   "execution_count": 8,
   "metadata": {},
   "outputs": [
    {
     "data": {
      "text/plain": [
       "[[0.0, 100.0, 400.0, 900.0, 1600.0],\n",
       " [2.3978952727983707,\n",
       "  102.39789527279837,\n",
       "  402.3978952727984,\n",
       "  902.3978952727983,\n",
       "  1602.3978952727985],\n",
       " [3.044522437723423,\n",
       "  103.04452243772343,\n",
       "  403.0445224377234,\n",
       "  903.0445224377235,\n",
       "  1603.0445224377233],\n",
       " [3.4339872044851463,\n",
       "  103.43398720448515,\n",
       "  403.43398720448516,\n",
       "  903.4339872044851,\n",
       "  1603.4339872044852],\n",
       " [3.713572066704308,\n",
       "  103.7135720667043,\n",
       "  403.71357206670433,\n",
       "  903.7135720667043,\n",
       "  1603.7135720667043]]"
      ]
     },
     "execution_count": 8,
     "metadata": {},
     "output_type": "execute_result"
    }
   ],
   "source": [
    "capacity_costs"
   ]
  },
  {
   "cell_type": "code",
   "execution_count": 9,
   "metadata": {},
   "outputs": [
    {
     "data": {
      "text/plain": [
       "[[0.049991355000000015,\n",
       "  0.049991355000000015,\n",
       "  0.049991355000000015,\n",
       "  0.049991355000000015,\n",
       "  0.049991355000000015],\n",
       " [0.049991355000000015,\n",
       "  0.049991355000000015,\n",
       "  0.049991355000000015,\n",
       "  0.049991355000000015,\n",
       "  0.049991355000000015],\n",
       " [0.049991355000000015,\n",
       "  0.049991355000000015,\n",
       "  0.049991355000000015,\n",
       "  0.049991355000000015,\n",
       "  0.049991355000000015],\n",
       " [0.049991355000000015,\n",
       "  0.049991355000000015,\n",
       "  0.049991355000000015,\n",
       "  0.049991355000000015,\n",
       "  0.049991355000000015],\n",
       " [0.049991355000000015,\n",
       "  0.049991355000000015,\n",
       "  0.049991355000000015,\n",
       "  0.049991355000000015,\n",
       "  0.049991355000000015]]"
      ]
     },
     "execution_count": 9,
     "metadata": {},
     "output_type": "execute_result"
    }
   ],
   "source": [
    "max_prob_diff"
   ]
  },
  {
   "cell_type": "code",
   "execution_count": 10,
   "metadata": {},
   "outputs": [
    {
     "data": {
      "text/plain": [
       "[[0.03564648812158137,\n",
       "  0.03565402612513543,\n",
       "  0.03565134688539691,\n",
       "  0.03565553537527115,\n",
       "  0.035654497960108555],\n",
       " [0.03564648812158137,\n",
       "  0.03565402612513543,\n",
       "  0.03565134688539691,\n",
       "  0.03565553537527115,\n",
       "  0.035654497960108555],\n",
       " [0.03564648812158137,\n",
       "  0.03565402612513543,\n",
       "  0.03565134688539691,\n",
       "  0.03565553537527115,\n",
       "  0.035654497960108555],\n",
       " [0.03564648812158137,\n",
       "  0.03565402612513543,\n",
       "  0.03565134688539691,\n",
       "  0.03565553537527115,\n",
       "  0.035654497960108555],\n",
       " [0.03564648812158137,\n",
       "  0.03565402612513543,\n",
       "  0.03565134688539691,\n",
       "  0.03565553537527115,\n",
       "  0.035654497960108555]]"
      ]
     },
     "execution_count": 10,
     "metadata": {},
     "output_type": "execute_result"
    }
   ],
   "source": [
    "avg_pos_prob_increase"
   ]
  },
  {
   "cell_type": "code",
   "execution_count": 11,
   "metadata": {},
   "outputs": [
    {
     "data": {
      "text/plain": [
       "[[0.04444853,\n",
       "  0.04444862025,\n",
       "  0.044445466,\n",
       "  0.04442554950000002,\n",
       "  0.04441993200000002],\n",
       " [0.04444853,\n",
       "  0.04444862025,\n",
       "  0.044445466,\n",
       "  0.04442554950000002,\n",
       "  0.04441993200000002],\n",
       " [0.04444853,\n",
       "  0.04444862025,\n",
       "  0.044445466,\n",
       "  0.04442554950000002,\n",
       "  0.04441993200000002],\n",
       " [0.04444853,\n",
       "  0.04444862025,\n",
       "  0.044445466,\n",
       "  0.04442554950000002,\n",
       "  0.04441993200000002],\n",
       " [0.04444853,\n",
       "  0.04444862025,\n",
       "  0.044445466,\n",
       "  0.04442554950000002,\n",
       "  0.04441993200000002]]"
      ]
     },
     "execution_count": 11,
     "metadata": {},
     "output_type": "execute_result"
    }
   ],
   "source": [
    "thirdq_pos_prob_increase"
   ]
  },
  {
   "cell_type": "code",
   "execution_count": 12,
   "metadata": {},
   "outputs": [
    {
     "data": {
      "text/plain": [
       "[[0.7922888290000001,\n",
       "  0.7922888290000001,\n",
       "  0.7922888290000001,\n",
       "  0.7922888290000001,\n",
       "  0.7922888290000001],\n",
       " [0.7922888290000001,\n",
       "  0.7922888290000001,\n",
       "  0.7922888290000001,\n",
       "  0.7922888290000001,\n",
       "  0.7922888290000001],\n",
       " [0.7922888290000001,\n",
       "  0.7922888290000001,\n",
       "  0.7922888290000001,\n",
       "  0.7922888290000001,\n",
       "  0.7922888290000001],\n",
       " [0.7922888290000001,\n",
       "  0.7922888290000001,\n",
       "  0.7922888290000001,\n",
       "  0.7922888290000001,\n",
       "  0.7922888290000001],\n",
       " [0.7922888290000001,\n",
       "  0.7922888290000001,\n",
       "  0.7922888290000001,\n",
       "  0.7922888290000001,\n",
       "  0.7922888290000001]]"
      ]
     },
     "execution_count": 12,
     "metadata": {},
     "output_type": "execute_result"
    }
   ],
   "source": [
    "range_prob_diff"
   ]
  },
  {
   "cell_type": "code",
   "execution_count": null,
   "metadata": {},
   "outputs": [],
   "source": []
  }
 ],
 "metadata": {
  "kernelspec": {
   "display_name": "Python 3",
   "language": "python",
   "name": "python3"
  },
  "language_info": {
   "codemirror_mode": {
    "name": "ipython",
    "version": 3
   },
   "file_extension": ".py",
   "mimetype": "text/x-python",
   "name": "python",
   "nbconvert_exporter": "python",
   "pygments_lexer": "ipython3",
   "version": "3.7.6"
  }
 },
 "nbformat": 4,
 "nbformat_minor": 2
}
