{
 "cells": [
  {
   "cell_type": "code",
   "execution_count": 1,
   "metadata": {},
   "outputs": [],
   "source": [
    "import pandas as pd\n",
    "import numpy as np\n",
    "\n",
    "import matplotlib.pyplot as plt\n",
    "plt.style.use('seaborn-dark')\n",
    "import matplotlib\n",
    "matplotlib.rcParams.update({'font.size': 15})\n",
    "\n",
    "import sys\n",
    "sys.path.insert(0, '../..')\n",
    "\n",
    "import quan_utils\n",
    "import pulp"
   ]
  },
  {
   "cell_type": "code",
   "execution_count": 2,
   "metadata": {},
   "outputs": [],
   "source": [
    "prob_df = pd.read_csv('../../data/data.csv', index_col=0)\n",
    "capacity_df = prob_df['Real'].value_counts()\n",
    "\n",
    "constraints = np.linspace(0.4, 0.6, 11)"
   ]
  },
  {
   "cell_type": "code",
   "execution_count": 15,
   "metadata": {},
   "outputs": [
    {
     "data": {
      "text/html": [
       "<div>\n",
       "<style scoped>\n",
       "    .dataframe tbody tr th:only-of-type {\n",
       "        vertical-align: middle;\n",
       "    }\n",
       "\n",
       "    .dataframe tbody tr th {\n",
       "        vertical-align: top;\n",
       "    }\n",
       "\n",
       "    .dataframe thead th {\n",
       "        text-align: right;\n",
       "    }\n",
       "</style>\n",
       "<table border=\"1\" class=\"dataframe\">\n",
       "  <thead>\n",
       "    <tr style=\"text-align: right;\">\n",
       "      <th></th>\n",
       "      <th>HouseholdID</th>\n",
       "      <th>Real</th>\n",
       "      <th>Reentered</th>\n",
       "      <th>ES</th>\n",
       "      <th>PSH</th>\n",
       "      <th>TH</th>\n",
       "      <th>RRH</th>\n",
       "      <th>PREV</th>\n",
       "      <th>Best</th>\n",
       "    </tr>\n",
       "  </thead>\n",
       "  <tbody>\n",
       "    <tr>\n",
       "      <th>1</th>\n",
       "      <td>2028039</td>\n",
       "      <td>2</td>\n",
       "      <td>0</td>\n",
       "      <td>0.153207</td>\n",
       "      <td>0.000000</td>\n",
       "      <td>0.078216</td>\n",
       "      <td>0.125825</td>\n",
       "      <td>0.019835</td>\n",
       "      <td>0.271801</td>\n",
       "    </tr>\n",
       "    <tr>\n",
       "      <th>2</th>\n",
       "      <td>2036520</td>\n",
       "      <td>2</td>\n",
       "      <td>0</td>\n",
       "      <td>0.138807</td>\n",
       "      <td>0.000000</td>\n",
       "      <td>0.077800</td>\n",
       "      <td>0.148701</td>\n",
       "      <td>0.029491</td>\n",
       "      <td>0.188743</td>\n",
       "    </tr>\n",
       "    <tr>\n",
       "      <th>3</th>\n",
       "      <td>2108682</td>\n",
       "      <td>2</td>\n",
       "      <td>0</td>\n",
       "      <td>0.080806</td>\n",
       "      <td>0.654604</td>\n",
       "      <td>0.031637</td>\n",
       "      <td>0.072591</td>\n",
       "      <td>0.000000</td>\n",
       "      <td>0.106168</td>\n",
       "    </tr>\n",
       "    <tr>\n",
       "      <th>4</th>\n",
       "      <td>2116994</td>\n",
       "      <td>2</td>\n",
       "      <td>0</td>\n",
       "      <td>0.086533</td>\n",
       "      <td>0.069397</td>\n",
       "      <td>0.035603</td>\n",
       "      <td>0.091095</td>\n",
       "      <td>0.000000</td>\n",
       "      <td>0.148293</td>\n",
       "    </tr>\n",
       "    <tr>\n",
       "      <th>5</th>\n",
       "      <td>2154639</td>\n",
       "      <td>2</td>\n",
       "      <td>0</td>\n",
       "      <td>0.109084</td>\n",
       "      <td>0.364372</td>\n",
       "      <td>0.042330</td>\n",
       "      <td>0.075311</td>\n",
       "      <td>0.000000</td>\n",
       "      <td>0.190321</td>\n",
       "    </tr>\n",
       "  </tbody>\n",
       "</table>\n",
       "</div>"
      ],
      "text/plain": [
       "   HouseholdID  Real  Reentered        ES       PSH        TH       RRH  \\\n",
       "1      2028039     2          0  0.153207  0.000000  0.078216  0.125825   \n",
       "2      2036520     2          0  0.138807  0.000000  0.077800  0.148701   \n",
       "3      2108682     2          0  0.080806  0.654604  0.031637  0.072591   \n",
       "4      2116994     2          0  0.086533  0.069397  0.035603  0.091095   \n",
       "5      2154639     2          0  0.109084  0.364372  0.042330  0.075311   \n",
       "\n",
       "       PREV      Best  \n",
       "1  0.019835  0.271801  \n",
       "2  0.029491  0.188743  \n",
       "3  0.000000  0.106168  \n",
       "4  0.000000  0.148293  \n",
       "5  0.000000  0.190321  "
      ]
     },
     "execution_count": 15,
     "metadata": {},
     "output_type": "execute_result"
    }
   ],
   "source": [
    "types = ['ES', 'PSH', 'TH', 'RRH', 'PREV']\n",
    "\n",
    "increase_from_best_df = prob_df.copy()\n",
    "increase_from_best_df['Best'] = increase_from_best_df[types].min(axis=1)\n",
    "for type_ in types:\n",
    "    increase_from_best_df[type_] = increase_from_best_df[type_] - increase_from_best_df['Best']\n",
    "    \n",
    "increase_from_best_df.head()"
   ]
  },
  {
   "cell_type": "code",
   "execution_count": 20,
   "metadata": {},
   "outputs": [
    {
     "data": {
      "text/plain": [
       "4.780999999995372e-06"
      ]
     },
     "execution_count": 20,
     "metadata": {},
     "output_type": "execute_result"
    }
   ],
   "source": [
    "increase_from_best_df[increase_from_best_df[types] > 0][types].min().min()"
   ]
  },
  {
   "cell_type": "code",
   "execution_count": 34,
   "metadata": {},
   "outputs": [
    {
     "name": "stderr",
     "output_type": "stream",
     "text": [
      "/Users/quannguyen/anaconda3/envs/BayesFAI/lib/python3.7/site-packages/pulp/solvers.py:2080: UserWarning: GUROBI_CMD does provide good solution status of non optimal solutions\n",
      "  warnings.warn('GUROBI_CMD does provide good solution status of non optimal solutions')\n"
     ]
    },
    {
     "name": "stdout",
     "output_type": "stream",
     "text": [
      "0.4 Not Solved\n"
     ]
    },
    {
     "name": "stderr",
     "output_type": "stream",
     "text": [
      "/Users/quannguyen/anaconda3/envs/BayesFAI/lib/python3.7/site-packages/pulp/solvers.py:2080: UserWarning: GUROBI_CMD does provide good solution status of non optimal solutions\n",
      "  warnings.warn('GUROBI_CMD does provide good solution status of non optimal solutions')\n"
     ]
    },
    {
     "name": "stdout",
     "output_type": "stream",
     "text": [
      "0.42000000000000004 Not Solved\n",
      "0.44 Optimal\n",
      "0.46 Optimal\n",
      "0.48 Optimal\n",
      "0.5 Optimal\n",
      "0.52 Optimal\n",
      "0.54 Optimal\n",
      "0.56 Optimal\n",
      "0.58 Optimal\n",
      "0.6 Optimal\n"
     ]
    }
   ],
   "source": [
    "compare_dfs = []\n",
    "\n",
    "for constraint in constraints:\n",
    "    helper = quan_utils.AssignmentHelper()\n",
    "    helper.update_constraints(fairness_best_constraint=constraint)\n",
    "    \n",
    "    sol_df = helper.ip_solve()\n",
    "    if sol_df is False:\n",
    "        compare_dfs.append(False)\n",
    "    else:\n",
    "        compare_dfs.append(helper.compare_prob(sol_df))\n",
    "    \n",
    "    print(constraint, pulp.LpStatus[helper.prob.status])"
   ]
  },
  {
   "cell_type": "code",
   "execution_count": 49,
   "metadata": {},
   "outputs": [
    {
     "data": {
      "image/png": "[encoded data removed]",
      "text/plain": [
       "<Figure size 936x720 with 1 Axes>"
      ]
     },
     "metadata": {},
     "output_type": "display_data"
    }
   ],
   "source": [
    "f, ax1 = plt.subplots(figsize=(13, 10))\n",
    "\n",
    "for c_idx, c in enumerate(constraints):\n",
    "    df = compare_dfs[c_idx]\n",
    "    \n",
    "    if df is not False:\n",
    "        ax1.boxplot(\n",
    "            df['Input_to_best'],\n",
    "            positions=[round(c, 2)],\n",
    "            widths=[0.005]\n",
    "        )\n",
    "\n",
    "# ax2 = ax1.twinx()\n",
    "ax1.plot(\n",
    "    constraints,\n",
    "    [df['Input_to_best'].max()\n",
    "     if df is not False else np.nan\n",
    "     for df in compare_dfs]\n",
    ")\n",
    "        \n",
    "ax1.set_ylabel('Increase from ind. best allocations', color='red', fontsize=16)\n",
    "ax1.set_xlim(np.min(constraints) - 0.01, np.max(constraints) + 0.01)\n",
    "\n",
    "ax1.set_xticks(constraints)\n",
    "ax1.set_xticklabels(np.round(constraints, 2))\n",
    "\n",
    "plt.show()"
   ]
  },
  {
   "cell_type": "code",
   "execution_count": 50,
   "metadata": {},
   "outputs": [
    {
     "name": "stderr",
     "output_type": "stream",
     "text": [
      "/Users/quannguyen/anaconda3/envs/BayesFAI/lib/python3.7/site-packages/pulp/solvers.py:2080: UserWarning: GUROBI_CMD does provide good solution status of non optimal solutions\n",
      "  warnings.warn('GUROBI_CMD does provide good solution status of non optimal solutions')\n"
     ]
    },
    {
     "name": "stdout",
     "output_type": "stream",
     "text": [
      "0.42 Not Solved\n"
     ]
    },
    {
     "name": "stderr",
     "output_type": "stream",
     "text": [
      "/Users/quannguyen/anaconda3/envs/BayesFAI/lib/python3.7/site-packages/pulp/solvers.py:2080: UserWarning: GUROBI_CMD does provide good solution status of non optimal solutions\n",
      "  warnings.warn('GUROBI_CMD does provide good solution status of non optimal solutions')\n"
     ]
    },
    {
     "name": "stdout",
     "output_type": "stream",
     "text": [
      "0.424 Not Solved\n"
     ]
    },
    {
     "name": "stderr",
     "output_type": "stream",
     "text": [
      "/Users/quannguyen/anaconda3/envs/BayesFAI/lib/python3.7/site-packages/pulp/solvers.py:2080: UserWarning: GUROBI_CMD does provide good solution status of non optimal solutions\n",
      "  warnings.warn('GUROBI_CMD does provide good solution status of non optimal solutions')\n"
     ]
    },
    {
     "name": "stdout",
     "output_type": "stream",
     "text": [
      "0.428 Not Solved\n"
     ]
    },
    {
     "name": "stderr",
     "output_type": "stream",
     "text": [
      "/Users/quannguyen/anaconda3/envs/BayesFAI/lib/python3.7/site-packages/pulp/solvers.py:2080: UserWarning: GUROBI_CMD does provide good solution status of non optimal solutions\n",
      "  warnings.warn('GUROBI_CMD does provide good solution status of non optimal solutions')\n"
     ]
    },
    {
     "name": "stdout",
     "output_type": "stream",
     "text": [
      "0.432 Not Solved\n",
      "0.436 Optimal\n",
      "0.44 Optimal\n",
      "0.444 Optimal\n",
      "0.448 Optimal\n",
      "0.452 Optimal\n",
      "0.456 Optimal\n",
      "0.46 Optimal\n"
     ]
    }
   ],
   "source": [
    "constraints = np.linspace(0.42, 0.46, 11)\n",
    "\n",
    "compare_dfs = []\n",
    "\n",
    "for constraint in constraints:\n",
    "    helper = quan_utils.AssignmentHelper()\n",
    "    helper.update_constraints(fairness_best_constraint=constraint)\n",
    "    \n",
    "    sol_df = helper.ip_solve()\n",
    "    if sol_df is False:\n",
    "        compare_dfs.append(False)\n",
    "    else:\n",
    "        compare_dfs.append(helper.compare_prob(sol_df))\n",
    "    \n",
    "    print(constraint, pulp.LpStatus[helper.prob.status])"
   ]
  },
  {
   "cell_type": "code",
   "execution_count": 52,
   "metadata": {},
   "outputs": [
    {
     "data": {
      "image/png": "[encoded data removed]",
      "text/plain": [
       "<Figure size 936x720 with 1 Axes>"
      ]
     },
     "metadata": {},
     "output_type": "display_data"
    }
   ],
   "source": [
    "f, ax1 = plt.subplots(figsize=(13, 10))\n",
    "\n",
    "for c_idx, c in enumerate(constraints):\n",
    "    df = compare_dfs[c_idx]\n",
    "    \n",
    "    if df is not False:\n",
    "        ax1.boxplot(\n",
    "            df['Input_to_best'],\n",
    "            positions=[round(c, 3)],\n",
    "            widths=[0.001]\n",
    "        )\n",
    "\n",
    "# ax2 = ax1.twinx()\n",
    "ax1.plot(\n",
    "    constraints,\n",
    "    [df['Input_to_best'].max()\n",
    "     if df is not False else np.nan\n",
    "     for df in compare_dfs]\n",
    ")\n",
    "        \n",
    "ax1.set_ylabel('Increase from ind. best allocations', color='red', fontsize=16)\n",
    "ax1.set_xlim(np.min(constraints) - 0.001, np.max(constraints) + 0.001)\n",
    "\n",
    "ax1.set_xticks(constraints)\n",
    "ax1.set_xticklabels(np.round(constraints, 3))\n",
    "\n",
    "plt.show()"
   ]
  },
  {
   "cell_type": "code",
   "execution_count": 3,
   "metadata": {},
   "outputs": [],
   "source": [
    "def is_feasible(constraint):\n",
    "    helper = quan_utils.AssignmentHelper()\n",
    "    helper.update_constraints(fairness_best_constraint=constraint)\n",
    "    \n",
    "    sol_df = helper.ip_solve()\n",
    "    \n",
    "    if sol_df is False:\n",
    "        return False\n",
    "    return True\n",
    "\n",
    "def binary_search(lower_bound, upper_bound, num_iters):\n",
    "    iter_count = 0\n",
    "    \n",
    "    if is_feasible(lower_bound):\n",
    "        return lower_bound, iter_count\n",
    "    \n",
    "    if not is_feasible(upper_bound):\n",
    "        return upper_bound, iter_count\n",
    "    \n",
    "    while iter_count < num_iters:\n",
    "        print(f'Search in {lower_bound} and {upper_bound}')\n",
    "        \n",
    "        mid = (lower_bound + upper_bound) / 2\n",
    "        \n",
    "        if is_feasible(mid):\n",
    "            upper_bound = mid\n",
    "            iter_count += 1\n",
    "        \n",
    "        else:\n",
    "            lower_bound = mid\n",
    "            iter_count += 1\n",
    "    \n",
    "    if is_feasible(mid):\n",
    "        return mid, iter_count\n",
    "    \n",
    "    return upper_bound, iter_count"
   ]
  },
  {
   "cell_type": "code",
   "execution_count": 10,
   "metadata": {},
   "outputs": [
    {
     "name": "stderr",
     "output_type": "stream",
     "text": [
      "/Users/quannguyen/anaconda3/envs/BayesFAI/lib/python3.7/site-packages/pulp/solvers.py:2080: UserWarning: GUROBI_CMD does provide good solution status of non optimal solutions\n",
      "  warnings.warn('GUROBI_CMD does provide good solution status of non optimal solutions')\n"
     ]
    },
    {
     "name": "stdout",
     "output_type": "stream",
     "text": [
      "Search in 0.42 and 0.436\n"
     ]
    },
    {
     "name": "stderr",
     "output_type": "stream",
     "text": [
      "/Users/quannguyen/anaconda3/envs/BayesFAI/lib/python3.7/site-packages/pulp/solvers.py:2080: UserWarning: GUROBI_CMD does provide good solution status of non optimal solutions\n",
      "  warnings.warn('GUROBI_CMD does provide good solution status of non optimal solutions')\n"
     ]
    },
    {
     "name": "stdout",
     "output_type": "stream",
     "text": [
      "Search in 0.428 and 0.436\n"
     ]
    },
    {
     "name": "stderr",
     "output_type": "stream",
     "text": [
      "/Users/quannguyen/anaconda3/envs/BayesFAI/lib/python3.7/site-packages/pulp/solvers.py:2080: UserWarning: GUROBI_CMD does provide good solution status of non optimal solutions\n",
      "  warnings.warn('GUROBI_CMD does provide good solution status of non optimal solutions')\n"
     ]
    },
    {
     "name": "stdout",
     "output_type": "stream",
     "text": [
      "Search in 0.432 and 0.436\n",
      "Search in 0.432 and 0.434\n",
      "Search in 0.432 and 0.433\n",
      "Search in 0.432 and 0.4325\n",
      "Search in 0.432 and 0.43225\n",
      "Search in 0.432 and 0.432125\n",
      "Search in 0.432 and 0.4320625\n",
      "Search in 0.432 and 0.43203125\n",
      "Search in 0.432 and 0.432015625\n",
      "Search in 0.432 and 0.4320078125\n"
     ]
    },
    {
     "name": "stderr",
     "output_type": "stream",
     "text": [
      "/Users/quannguyen/anaconda3/envs/BayesFAI/lib/python3.7/site-packages/pulp/solvers.py:2080: UserWarning: GUROBI_CMD does provide good solution status of non optimal solutions\n",
      "  warnings.warn('GUROBI_CMD does provide good solution status of non optimal solutions')\n"
     ]
    },
    {
     "name": "stdout",
     "output_type": "stream",
     "text": [
      "Search in 0.43200390624999996 and 0.4320078125\n",
      "Search in 0.43200390624999996 and 0.43200585937499997\n",
      "Search in 0.43200390624999996 and 0.43200488281249994\n"
     ]
    },
    {
     "name": "stderr",
     "output_type": "stream",
     "text": [
      "/Users/quannguyen/anaconda3/envs/BayesFAI/lib/python3.7/site-packages/pulp/solvers.py:2080: UserWarning: GUROBI_CMD does provide good solution status of non optimal solutions\n",
      "  warnings.warn('GUROBI_CMD does provide good solution status of non optimal solutions')\n"
     ]
    },
    {
     "name": "stdout",
     "output_type": "stream",
     "text": [
      "Search in 0.43200439453124995 and 0.43200488281249994\n",
      "Search in 0.43200439453124995 and 0.43200463867187494\n"
     ]
    },
    {
     "name": "stderr",
     "output_type": "stream",
     "text": [
      "/Users/quannguyen/anaconda3/envs/BayesFAI/lib/python3.7/site-packages/pulp/solvers.py:2080: UserWarning: GUROBI_CMD does provide good solution status of non optimal solutions\n",
      "  warnings.warn('GUROBI_CMD does provide good solution status of non optimal solutions')\n"
     ]
    },
    {
     "name": "stdout",
     "output_type": "stream",
     "text": [
      "Search in 0.43200451660156247 and 0.43200463867187494\n",
      "Search in 0.43200451660156247 and 0.43200457763671873\n"
     ]
    },
    {
     "name": "stderr",
     "output_type": "stream",
     "text": [
      "/Users/quannguyen/anaconda3/envs/BayesFAI/lib/python3.7/site-packages/pulp/solvers.py:2080: UserWarning: GUROBI_CMD does provide good solution status of non optimal solutions\n",
      "  warnings.warn('GUROBI_CMD does provide good solution status of non optimal solutions')\n"
     ]
    },
    {
     "name": "stdout",
     "output_type": "stream",
     "text": [
      "Search in 0.4320045471191406 and 0.43200457763671873\n"
     ]
    },
    {
     "name": "stderr",
     "output_type": "stream",
     "text": [
      "/Users/quannguyen/anaconda3/envs/BayesFAI/lib/python3.7/site-packages/pulp/solvers.py:2080: UserWarning: GUROBI_CMD does provide good solution status of non optimal solutions\n",
      "  warnings.warn('GUROBI_CMD does provide good solution status of non optimal solutions')\n",
      "/Users/quannguyen/anaconda3/envs/BayesFAI/lib/python3.7/site-packages/pulp/solvers.py:2080: UserWarning: GUROBI_CMD does provide good solution status of non optimal solutions\n",
      "  warnings.warn('GUROBI_CMD does provide good solution status of non optimal solutions')\n"
     ]
    },
    {
     "data": {
      "text/plain": [
       "(0.43200457763671873, 20)"
      ]
     },
     "execution_count": 10,
     "metadata": {},
     "output_type": "execute_result"
    }
   ],
   "source": [
    "binary_search(0.42, 0.436, 20)"
   ]
  },
  {
   "cell_type": "code",
   "execution_count": 22,
   "metadata": {},
   "outputs": [
    {
     "data": {
      "text/plain": [
       "True"
      ]
     },
     "execution_count": 22,
     "metadata": {},
     "output_type": "execute_result"
    }
   ],
   "source": [
    "is_feasible(0.4320046)"
   ]
  },
  {
   "cell_type": "code",
   "execution_count": 23,
   "metadata": {},
   "outputs": [
    {
     "data": {
      "text/plain": [
       "True"
      ]
     },
     "execution_count": 23,
     "metadata": {},
     "output_type": "execute_result"
    }
   ],
   "source": [
    "is_feasible(0.43200458)"
   ]
  },
  {
   "cell_type": "code",
   "execution_count": null,
   "metadata": {},
   "outputs": [],
   "source": []
  }
 ],
 "metadata": {
  "kernelspec": {
   "display_name": "Python 3",
   "language": "python",
   "name": "python3"
  },
  "language_info": {
   "codemirror_mode": {
    "name": "ipython",
    "version": 3
   },
   "file_extension": ".py",
   "mimetype": "text/x-python",
   "name": "python",
   "nbconvert_exporter": "python",
   "pygments_lexer": "ipython3",
   "version": "3.7.6"
  }
 },
 "nbformat": 4,
 "nbformat_minor": 2
}
