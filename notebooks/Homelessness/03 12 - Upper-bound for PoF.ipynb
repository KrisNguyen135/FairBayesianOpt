{
 "cells": [
  {
   "cell_type": "code",
   "execution_count": 1,
   "metadata": {},
   "outputs": [],
   "source": [
    "import pandas as pd\n",
    "import numpy as np\n",
    "np.random.seed(0)\n",
    "import pulp\n",
    "\n",
    "import sys\n",
    "sys.path.insert(0, '../..')\n",
    "import bottleneck_assignment\n",
    "import assignment\n",
    "\n",
    "import matplotlib.pyplot as plt\n",
    "plt.style.use('seaborn-darkgrid')\n",
    "import matplotlib\n",
    "matplotlib.rcParams.update({'font.size': 13})\n",
    "\n",
    "import time\n",
    "from tqdm import tqdm\n",
    "\n",
    "import warnings"
   ]
  },
  {
   "cell_type": "code",
   "execution_count": 2,
   "metadata": {},
   "outputs": [],
   "source": [
    "def get_ratios(cost_matrix, n, utility=False):\n",
    "    min_matrix = np.repeat(\n",
    "        cost_matrix.min(axis=1), n\n",
    "    ).reshape(cost_matrix.shape)\n",
    "    increase_matrix = cost_matrix - min_matrix\n",
    "    capacities = np.ones((n,))\n",
    "\n",
    "    # Efficient assignment\n",
    "    eff_assign_helper = assignment.AssignmentHelperV2(\n",
    "        cost_matrix, capacities\n",
    "    )\n",
    "\n",
    "    assignments = eff_assign_helper.ip_solve()\n",
    "\n",
    "    cost1 = eff_assign_helper.get_cost(assignments)\n",
    "    cost_increases = eff_assign_helper.get_cost_increases(\n",
    "        assignments, increase_matrix=increase_matrix\n",
    "    )\n",
    "    bottleneck1 = cost_increases.max()\n",
    "\n",
    "    # Bottleneck assignment\n",
    "    with warnings.catch_warnings():  # temporarily suspense warnings\n",
    "        warnings.simplefilter('ignore')\n",
    "        bottleneck_helper = bottleneck_assignment.BottleneckAssignmentHelperV2(\n",
    "            increase_matrix, capacities\n",
    "        )\n",
    "\n",
    "        c_star_thresholds, bottleneck_assignments = bottleneck_helper.solve(verbose=False)\n",
    "\n",
    "    cost2 = eff_assign_helper.get_cost(bottleneck_assignments)\n",
    "    cost_increases = eff_assign_helper.get_cost_increases(\n",
    "        bottleneck_assignments, increase_matrix=increase_matrix\n",
    "    )\n",
    "    bottleneck2 = cost_increases.max()\n",
    "    \n",
    "    # print(assignments)\n",
    "    # print(bottleneck_assignments)\n",
    "    \n",
    "    # If stats are utility-based, return:\n",
    "    # - efficient utility / bottleneck utility\n",
    "    # - maximized bottleneck / efficient bottleneck\n",
    "    if utility:\n",
    "        return (n - cost1) / (n - cost2), (1 - bottleneck2) / (1 - bottleneck1)\n",
    "    \n",
    "    # Else return:\n",
    "    # - bottleneck cost / efficient cost\n",
    "    # - efficient bottleneck / minimized bottleneck\n",
    "    return cost2 / cost1, bottleneck1 / bottleneck2"
   ]
  },
  {
   "cell_type": "code",
   "execution_count": 6,
   "metadata": {},
   "outputs": [
    {
     "data": {
      "text/plain": [
       "array([[0.67781654, 0.27000797, 0.73519402, 0.96218855],\n",
       "       [0.24875314, 0.57615733, 0.59204193, 0.57225191],\n",
       "       [0.22308163, 0.95274901, 0.44712538, 0.84640867],\n",
       "       [0.69947928, 0.29743695, 0.81379782, 0.39650574]])"
      ]
     },
     "execution_count": 6,
     "metadata": {},
     "output_type": "execute_result"
    }
   ],
   "source": [
    "N = 4\n",
    "\n",
    "cost_matrix = np.random.random_sample((N, N))\n",
    "min_matrix = np.repeat(\n",
    "    cost_matrix.min(axis=1), N\n",
    ").reshape(cost_matrix.shape)\n",
    "increase_matrix = cost_matrix - min_matrix\n",
    "capacities = np.ones((N,))\n",
    "\n",
    "cost_matrix"
   ]
  },
  {
   "cell_type": "code",
   "execution_count": 7,
   "metadata": {},
   "outputs": [
    {
     "data": {
      "text/plain": [
       "array([[0.40780856, 0.        , 0.46518605, 0.69218057],\n",
       "       [0.        , 0.32740419, 0.34328879, 0.32349876],\n",
       "       [0.        , 0.72966738, 0.22404375, 0.62332704],\n",
       "       [0.40204232, 0.        , 0.51636087, 0.09906879]])"
      ]
     },
     "execution_count": 7,
     "metadata": {},
     "output_type": "execute_result"
    }
   ],
   "source": [
    "increase_matrix"
   ]
  },
  {
   "cell_type": "code",
   "execution_count": 8,
   "metadata": {},
   "outputs": [
    {
     "name": "stdout",
     "output_type": "stream",
     "text": [
      "Assignment:\n",
      "[1 0 2 3]\n",
      "\n",
      "Cost:\n",
      "1.3623922361767349\n",
      "\n",
      "Bottleneck:\n",
      "0.22404374597700905\n"
     ]
    }
   ],
   "source": [
    "eff_assign_helper = assignment.AssignmentHelperV2(\n",
    "    cost_matrix, capacities\n",
    ")\n",
    "\n",
    "assignments = eff_assign_helper.ip_solve()\n",
    "print('Assignment:')\n",
    "print(assignments)\n",
    "print()\n",
    "\n",
    "cost = eff_assign_helper.get_cost(assignments)\n",
    "print('Cost:')\n",
    "print(cost)\n",
    "print()\n",
    "\n",
    "cost_increases = eff_assign_helper.get_cost_increases(assignments)\n",
    "print('Bottleneck:')\n",
    "print(cost_increases.max())"
   ]
  },
  {
   "cell_type": "markdown",
   "metadata": {},
   "source": [
    "# Verify bounds"
   ]
  },
  {
   "cell_type": "code",
   "execution_count": 10,
   "metadata": {},
   "outputs": [
    {
     "data": {
      "text/plain": [
       "array([[0.   , 1.   , 1.   , 1.   , 1.   , 1.   , 1.   , 1.   , 1.   ,\n",
       "        1.   ],\n",
       "       [0.   , 0.999, 1.   , 1.   , 1.   , 1.   , 1.   , 1.   , 1.   ,\n",
       "        1.   ],\n",
       "       [0.   , 0.   , 0.999, 1.   , 1.   , 1.   , 1.   , 1.   , 1.   ,\n",
       "        1.   ],\n",
       "       [0.   , 0.   , 0.   , 0.999, 1.   , 1.   , 1.   , 1.   , 1.   ,\n",
       "        1.   ],\n",
       "       [0.   , 0.   , 0.   , 0.   , 0.999, 1.   , 1.   , 1.   , 1.   ,\n",
       "        1.   ],\n",
       "       [0.   , 0.   , 0.   , 0.   , 0.   , 0.999, 1.   , 1.   , 1.   ,\n",
       "        1.   ],\n",
       "       [0.   , 0.   , 0.   , 0.   , 0.   , 0.   , 0.999, 1.   , 1.   ,\n",
       "        1.   ],\n",
       "       [0.   , 0.   , 0.   , 0.   , 0.   , 0.   , 0.   , 0.999, 1.   ,\n",
       "        1.   ],\n",
       "       [0.   , 0.   , 0.   , 0.   , 0.   , 0.   , 0.   , 0.   , 0.999,\n",
       "        1.   ],\n",
       "       [0.   , 0.   , 0.   , 0.   , 0.   , 0.   , 0.   , 0.   , 0.   ,\n",
       "        0.999]])"
      ]
     },
     "execution_count": 10,
     "metadata": {},
     "output_type": "execute_result"
    }
   ],
   "source": [
    "N = 10\n",
    "\n",
    "epsilon = 1e-3\n",
    "\n",
    "cost_matrix = []\n",
    "for i in range(1, N + 1):\n",
    "    temp_row = []\n",
    "    for j in range(1, N + 1):\n",
    "        if j < i:\n",
    "            temp_row.append(0)\n",
    "        elif j == i:\n",
    "            temp_row.append(1 - epsilon)\n",
    "        else:\n",
    "            temp_row.append(1)\n",
    "    \n",
    "    cost_matrix.append(temp_row)\n",
    "\n",
    "cost_matrix[0][0] = 0\n",
    "cost_matrix = np.array(cost_matrix)\n",
    "cost_matrix"
   ]
  },
  {
   "cell_type": "code",
   "execution_count": 11,
   "metadata": {},
   "outputs": [
    {
     "data": {
      "text/plain": [
       "(8.991, 1.001001001001001)"
      ]
     },
     "execution_count": 11,
     "metadata": {},
     "output_type": "execute_result"
    }
   ],
   "source": [
    "get_ratios(cost_matrix, N)"
   ]
  },
  {
   "cell_type": "markdown",
   "metadata": {},
   "source": [
    "# Experiments"
   ]
  },
  {
   "cell_type": "code",
   "execution_count": 7,
   "metadata": {},
   "outputs": [],
   "source": [
    "def generate_plot(n, n_experiments):\n",
    "    pof_cost = []\n",
    "    ordered_pof_cost = []\n",
    "    \n",
    "    for _ in tqdm(range(n_experiments)):\n",
    "        cost_matrix = np.random.random_sample((n, n))\n",
    "        \n",
    "        cost_ratio, bottleneck_ratio = get_ratios(cost_matrix, n)\n",
    "        pof_cost.append(cost_ratio)\n",
    "        # pof_bottleneck.append(bottleneck_ratio)\n",
    "        \n",
    "        cost_matrix.sort(axis=1)\n",
    "        cost_ratio, bottleneck_ratio = get_ratios(cost_matrix, n)\n",
    "        ordered_pof_cost.append(cost_ratio)\n",
    "        \n",
    "    f, ax = plt.subplots(2, 1, figsize=(20, 20), sharex=True, sharey=True)\n",
    "    ax[0].hist(pof_cost, bins=20)\n",
    "    ax[0].set_title('PoF (Bottleneck cost / efficient cost)')\n",
    "    \n",
    "    # ax[1].hist(pof_bottleneck, bins=20)\n",
    "    # ax[1].set_title('Efficient bottleneck / minimized bottleneck')\n",
    "    \n",
    "    ax[1].hist(ordered_pof_cost, bins=20)\n",
    "    ax[1].set_title('PoF with ordered cost matrices')\n",
    "        \n",
    "    return pof_cost, ordered_pof_cost"
   ]
  },
  {
   "cell_type": "code",
   "execution_count": 9,
   "metadata": {
    "scrolled": false
   },
   "outputs": [
    {
     "name": "stderr",
     "output_type": "stream",
     "text": [
      "100%|██████████| 200/200 [07:12<00:00,  2.16s/it]\n"
     ]
    },
    {
     "data": {
      "image/png": "[encoded data removed]",
      "text/plain": [
       "<Figure size 1440x1440 with 2 Axes>"
      ]
     },
     "metadata": {},
     "output_type": "display_data"
    }
   ],
   "source": [
    "result = generate_plot(50, 200)"
   ]
  },
  {
   "cell_type": "code",
   "execution_count": null,
   "metadata": {},
   "outputs": [],
   "source": []
  }
 ],
 "metadata": {
  "kernelspec": {
   "display_name": "Python 3",
   "language": "python",
   "name": "python3"
  },
  "language_info": {
   "codemirror_mode": {
    "name": "ipython",
    "version": 3
   },
   "file_extension": ".py",
   "mimetype": "text/x-python",
   "name": "python",
   "nbconvert_exporter": "python",
   "pygments_lexer": "ipython3",
   "version": "3.7.6"
  }
 },
 "nbformat": 4,
 "nbformat_minor": 2
}
