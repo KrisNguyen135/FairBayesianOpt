{
 "cells": [
  {
   "cell_type": "code",
   "execution_count": 1,
   "metadata": {},
   "outputs": [],
   "source": [
    "import pandas as pd\n",
    "import numpy as np\n",
    "np.random.seed(0)\n",
    "import pulp\n",
    "\n",
    "import sys\n",
    "sys.path.insert(0, '../..')\n",
    "import leximin_assignment\n",
    "import bottleneck_assignment\n",
    "import assignment\n",
    "\n",
    "import matplotlib.pyplot as plt\n",
    "plt.style.use('seaborn-darkgrid')\n",
    "import matplotlib\n",
    "matplotlib.rcParams.update({'font.size': 15})\n",
    "\n",
    "import warnings\n",
    "from tqdm import tqdm"
   ]
  },
  {
   "cell_type": "markdown",
   "metadata": {},
   "source": [
    "# When the first column is all-zero"
   ]
  },
  {
   "cell_type": "code",
   "execution_count": 28,
   "metadata": {},
   "outputs": [
    {
     "data": {
      "text/plain": [
       "array([ 28198, 101560, 300533, 314428, 356142, 524165, 783093, 879912])"
      ]
     },
     "execution_count": 28,
     "metadata": {},
     "output_type": "execute_result"
    }
   ],
   "source": [
    "N = 5\n",
    "\n",
    "thresholds = np.sort(np.random.randint(0, 10 ** 6, N * 2 - 2))\n",
    "thresholds"
   ]
  },
  {
   "cell_type": "code",
   "execution_count": 29,
   "metadata": {},
   "outputs": [
    {
     "data": {
      "text/plain": [
       "array([[ 31697,  81990,  84787,  90636,  95020],\n",
       "       [301169, 303707, 306220, 307225, 311909],\n",
       "       [437382, 440627, 447225, 476593, 511427],\n",
       "       [786624, 833999, 850325, 869230, 874191]])"
      ]
     },
     "execution_count": 29,
     "metadata": {},
     "output_type": "execute_result"
    }
   ],
   "source": [
    "nonzero_cost_matrix = np.array([\n",
    "    np.sort(np.random.randint(thresholds[2 * i], thresholds[2 * i + 1] + 1, N))\n",
    "    for i in range(N - 1)\n",
    "])\n",
    "\n",
    "nonzero_cost_matrix"
   ]
  },
  {
   "cell_type": "code",
   "execution_count": 31,
   "metadata": {},
   "outputs": [
    {
     "data": {
      "text/plain": [
       "array([[     0,  31697, 301169, 437382, 786624],\n",
       "       [     0,  81990, 303707, 440627, 833999],\n",
       "       [     0,  84787, 306220, 447225, 850325],\n",
       "       [     0,  90636, 307225, 476593, 869230],\n",
       "       [     0,  95020, 311909, 511427, 874191]])"
      ]
     },
     "execution_count": 31,
     "metadata": {},
     "output_type": "execute_result"
    }
   ],
   "source": [
    "cost_matrix = np.concatenate((\n",
    "    np.zeros((N,1)),\n",
    "    nonzero_cost_matrix.T\n",
    "), axis=1).astype(int)\n",
    "\n",
    "cost_matrix"
   ]
  },
  {
   "cell_type": "markdown",
   "metadata": {},
   "source": [
    "# Arbitrary cost matrix"
   ]
  },
  {
   "cell_type": "code",
   "execution_count": 32,
   "metadata": {},
   "outputs": [],
   "source": [
    "def get_expected_efficient_assignments(thresholds):\n",
    "    neg_ranges = np.array([\n",
    "        thresholds[2 * i] - thresholds[2 * i + 1]\n",
    "        for i in range(N)\n",
    "    ])  # the negative ranges are more convenient to sort\n",
    "    \n",
    "    assignments = np.argsort(neg_ranges)\n",
    "    expected_cost = (np.arange(1, N + 1).dot(- neg_ranges[assignments])) / (N + 1) \\\n",
    "                    + thresholds[::2].sum()\n",
    "    \n",
    "    return assignments, expected_cost\n",
    "\n",
    "def get_expected_leximin_assignments(thresholds):\n",
    "    ranges = np.array([\n",
    "        thresholds[2 * i + 1] - thresholds[2 * i]\n",
    "        for i in range(N)\n",
    "    ])\n",
    "    \n",
    "    assignments = np.arange(N - 1, -1, -1)\n",
    "    expected_cost = (np.arange(1, N + 1).dot(ranges[assignments])) / (N + 1) \\\n",
    "                    + thresholds[::2].sum()\n",
    "    \n",
    "    return assignments, expected_cost"
   ]
  },
  {
   "cell_type": "code",
   "execution_count": 48,
   "metadata": {},
   "outputs": [
    {
     "data": {
      "text/plain": [
       "array([ 59799,  66203, 120717, 189861, 252122, 301343, 321681, 497498,\n",
       "       515194, 530422, 579729, 637747, 656841, 712149, 773591, 834269,\n",
       "       862466, 925458, 967531, 972898])"
      ]
     },
     "execution_count": 48,
     "metadata": {},
     "output_type": "execute_result"
    }
   ],
   "source": [
    "N = 10\n",
    "N_EXPERIMENTS = 5000\n",
    "UPPER_LIM = 10 ** 6\n",
    "\n",
    "thresholds = np.sort(np.random.randint(0, UPPER_LIM + 1, N * 2))\n",
    "thresholds"
   ]
  },
  {
   "cell_type": "code",
   "execution_count": 49,
   "metadata": {},
   "outputs": [
    {
     "name": "stderr",
     "output_type": "stream",
     "text": [
      "100%|██████████| 5000/5000 [22:55<00:00,  3.63it/s]\n"
     ]
    }
   ],
   "source": [
    "efficient_costs = []\n",
    "leximin_costs = []\n",
    "\n",
    "for _ in tqdm(range(N_EXPERIMENTS)):\n",
    "    cost_matrix = np.array([\n",
    "        np.sort(np.random.randint(thresholds[2 * i], thresholds[2 * i + 1] + 1, N))\n",
    "        for i in range(N)\n",
    "    ]).T.astype(int)\n",
    "    \n",
    "    # Efficient assignment\n",
    "    efficient_assigner = assignment.AssignmentHelperV2(\n",
    "        cost_matrix, np.ones(N)\n",
    "    )\n",
    "    efficient_assignments = efficient_assigner.ip_solve()\n",
    "    efficient_cost = efficient_assigner.get_cost(\n",
    "        efficient_assignments, cost_matrix\n",
    "    )\n",
    "    \n",
    "    efficient_costs.append(efficient_cost / UPPER_LIM)\n",
    "    \n",
    "    # Leximin assignment\n",
    "    leximin_assigner = leximin_assignment.LeximinAssignmentHelperV3(\n",
    "        cost_matrix, np.ones(N)\n",
    "    )\n",
    "    with warnings.catch_warnings():\n",
    "        warnings.simplefilter('ignore')\n",
    "        leximin_assignments = leximin_assigner.solve()\n",
    "    leximin_cost = leximin_assigner.get_cost(\n",
    "        leximin_assignments, cost_matrix\n",
    "    )\n",
    "    \n",
    "    leximin_costs.append(leximin_cost / UPPER_LIM)"
   ]
  },
  {
   "cell_type": "code",
   "execution_count": 50,
   "metadata": {},
   "outputs": [
    {
     "name": "stdout",
     "output_type": "stream",
     "text": [
      "Expected efficient cost: 5.286526272727272\n",
      "Empirical efficient cost average: 5.260263392\n",
      "Expected leximin cost: 5.403025363636363\n",
      "Empirical leximin cost average: 5.402468283199999\n"
     ]
    },
    {
     "data": {
      "image/png": "[encoded data removed]",
      "text/plain": [
       "<Figure size 720x1080 with 2 Axes>"
      ]
     },
     "metadata": {},
     "output_type": "display_data"
    }
   ],
   "source": [
    "expected_efficient_assignments, expected_efficient_cost = get_expected_efficient_assignments(\n",
    "    thresholds\n",
    ")\n",
    "expected_efficient_cost /= UPPER_LIM\n",
    "print('Expected efficient cost:', expected_efficient_cost)\n",
    "print('Empirical efficient cost average:', np.mean(efficient_costs))\n",
    "\n",
    "expected_leximin_assignments, expected_leximin_cost = get_expected_leximin_assignments(\n",
    "    thresholds\n",
    ")\n",
    "expected_leximin_cost /= UPPER_LIM\n",
    "print('Expected leximin cost:', expected_leximin_cost)\n",
    "print('Empirical leximin cost average:', np.mean(leximin_costs))\n",
    "\n",
    "fig, ax = plt.subplots(2, 1, figsize=(10, 15), sharex=True, sharey=True)\n",
    "\n",
    "ax[0].hist(efficient_costs, alpha=0.5, bins=20)\n",
    "ax[0].axvline(np.mean(efficient_costs), c='y', label='Empirical cost average')\n",
    "ax[0].axvline(expected_efficient_cost, c='r', label='Expected cost')\n",
    "\n",
    "ax[0].legend()\n",
    "ax[0].set_ylabel('Efficient assignment costs')\n",
    "\n",
    "ax[1].hist(leximin_costs, alpha=0.5, bins=20)\n",
    "ax[1].axvline(np.mean(leximin_costs), c='y', label='Empirical cost average')\n",
    "ax[1].axvline(expected_leximin_cost, c='r', label='Expected cost')\n",
    "\n",
    "ax[1].legend()\n",
    "ax[1].set_ylabel('Leximin assignment costs')\n",
    "\n",
    "plt.show()"
   ]
  },
  {
   "cell_type": "code",
   "execution_count": null,
   "metadata": {},
   "outputs": [],
   "source": []
  }
 ],
 "metadata": {
  "kernelspec": {
   "display_name": "Python 3",
   "language": "python",
   "name": "python3"
  },
  "language_info": {
   "codemirror_mode": {
    "name": "ipython",
    "version": 3
   },
   "file_extension": ".py",
   "mimetype": "text/x-python",
   "name": "python",
   "nbconvert_exporter": "python",
   "pygments_lexer": "ipython3",
   "version": "3.7.6"
  }
 },
 "nbformat": 4,
 "nbformat_minor": 2
}
