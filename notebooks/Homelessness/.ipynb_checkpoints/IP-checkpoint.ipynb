{
 "cells": [
  {
   "cell_type": "code",
   "execution_count": 1,
   "metadata": {},
   "outputs": [],
   "source": [
    "import pulp\n",
    "\n",
    "import pandas as pd\n",
    "import numpy as np\n",
    "\n",
    "import matplotlib.pyplot as plt\n",
    "plt.style.use('seaborn-darkgrid')\n",
    "\n",
    "import time"
   ]
  },
  {
   "cell_type": "code",
   "execution_count": 2,
   "metadata": {},
   "outputs": [
    {
     "name": "stdout",
     "output_type": "stream",
     "text": [
      "(10129, 10)\n"
     ]
    },
    {
     "data": {
      "text/html": [
       "<div>\n",
       "<style scoped>\n",
       "    .dataframe tbody tr th:only-of-type {\n",
       "        vertical-align: middle;\n",
       "    }\n",
       "\n",
       "    .dataframe tbody tr th {\n",
       "        vertical-align: top;\n",
       "    }\n",
       "\n",
       "    .dataframe thead th {\n",
       "        text-align: right;\n",
       "    }\n",
       "</style>\n",
       "<table border=\"1\" class=\"dataframe\">\n",
       "  <thead>\n",
       "    <tr style=\"text-align: right;\">\n",
       "      <th></th>\n",
       "      <th>HouseholdID</th>\n",
       "      <th>Real</th>\n",
       "      <th>Reentered</th>\n",
       "      <th>ES</th>\n",
       "      <th>PSH</th>\n",
       "      <th>TH</th>\n",
       "      <th>RRH</th>\n",
       "      <th>PREV</th>\n",
       "      <th>Week</th>\n",
       "      <th>Used</th>\n",
       "    </tr>\n",
       "  </thead>\n",
       "  <tbody>\n",
       "    <tr>\n",
       "      <th>2</th>\n",
       "      <td>2036520</td>\n",
       "      <td>2</td>\n",
       "      <td>0</td>\n",
       "      <td>0.327550</td>\n",
       "      <td>0.188743</td>\n",
       "      <td>0.266543</td>\n",
       "      <td>0.337444</td>\n",
       "      <td>0.218234</td>\n",
       "      <td>283</td>\n",
       "      <td>True</td>\n",
       "    </tr>\n",
       "    <tr>\n",
       "      <th>3</th>\n",
       "      <td>2108682</td>\n",
       "      <td>2</td>\n",
       "      <td>0</td>\n",
       "      <td>0.186973</td>\n",
       "      <td>0.760772</td>\n",
       "      <td>0.137805</td>\n",
       "      <td>0.178759</td>\n",
       "      <td>0.106168</td>\n",
       "      <td>205</td>\n",
       "      <td>True</td>\n",
       "    </tr>\n",
       "    <tr>\n",
       "      <th>4</th>\n",
       "      <td>2116994</td>\n",
       "      <td>2</td>\n",
       "      <td>0</td>\n",
       "      <td>0.234827</td>\n",
       "      <td>0.217690</td>\n",
       "      <td>0.183896</td>\n",
       "      <td>0.239388</td>\n",
       "      <td>0.148293</td>\n",
       "      <td>244</td>\n",
       "      <td>True</td>\n",
       "    </tr>\n",
       "    <tr>\n",
       "      <th>7</th>\n",
       "      <td>200001139</td>\n",
       "      <td>5</td>\n",
       "      <td>1</td>\n",
       "      <td>0.570296</td>\n",
       "      <td>0.476207</td>\n",
       "      <td>0.618977</td>\n",
       "      <td>0.634829</td>\n",
       "      <td>0.541514</td>\n",
       "      <td>161</td>\n",
       "      <td>True</td>\n",
       "    </tr>\n",
       "    <tr>\n",
       "      <th>8</th>\n",
       "      <td>200001156</td>\n",
       "      <td>5</td>\n",
       "      <td>0</td>\n",
       "      <td>0.274172</td>\n",
       "      <td>0.193441</td>\n",
       "      <td>0.227518</td>\n",
       "      <td>0.225883</td>\n",
       "      <td>0.162229</td>\n",
       "      <td>271</td>\n",
       "      <td>True</td>\n",
       "    </tr>\n",
       "  </tbody>\n",
       "</table>\n",
       "</div>"
      ],
      "text/plain": [
       "   HouseholdID  Real  Reentered        ES       PSH        TH       RRH  \\\n",
       "2      2036520     2          0  0.327550  0.188743  0.266543  0.337444   \n",
       "3      2108682     2          0  0.186973  0.760772  0.137805  0.178759   \n",
       "4      2116994     2          0  0.234827  0.217690  0.183896  0.239388   \n",
       "7    200001139     5          1  0.570296  0.476207  0.618977  0.634829   \n",
       "8    200001156     5          0  0.274172  0.193441  0.227518  0.225883   \n",
       "\n",
       "       PREV  Week  Used  \n",
       "2  0.218234   283  True  \n",
       "3  0.106168   205  True  \n",
       "4  0.148293   244  True  \n",
       "7  0.541514   161  True  \n",
       "8  0.162229   271  True  "
      ]
     },
     "execution_count": 2,
     "metadata": {},
     "output_type": "execute_result"
    }
   ],
   "source": [
    "df = pd.read_csv('../../data/data.csv', index_col=0)\n",
    "df = pd.read_csv('../../data/subset_data.csv', index_col=0)\n",
    "capacity_df = df['Real'].value_counts()\n",
    "df = df[df['Used']]\n",
    "\n",
    "print(df.shape)\n",
    "df.head()"
   ]
  },
  {
   "cell_type": "code",
   "execution_count": 3,
   "metadata": {},
   "outputs": [
    {
     "data": {
      "text/plain": [
       "5    6202\n",
       "1    4441\n",
       "3    2451\n",
       "4     846\n",
       "2     271\n",
       "Name: Real, dtype: int64"
      ]
     },
     "execution_count": 3,
     "metadata": {},
     "output_type": "execute_result"
    }
   ],
   "source": [
    "capacity_df"
   ]
  },
  {
   "cell_type": "code",
   "execution_count": 4,
   "metadata": {},
   "outputs": [],
   "source": [
    "households = list(df.index)\n",
    "types = ['ES', 'PSH', 'TH', 'RRH', 'PREV']"
   ]
  },
  {
   "cell_type": "code",
   "execution_count": 5,
   "metadata": {},
   "outputs": [],
   "source": [
    "x = pulp.LpVariable.dicts(\n",
    "    'assignment',\n",
    "    [(household, type_) for household in households for type_ in types],\n",
    "    cat='Binary'\n",
    ")\n",
    "\n",
    "prob = pulp.LpProblem('homelessness', pulp.LpMinimize)\n",
    "\n",
    "prob += pulp.lpSum(x[(household, type_)] * df.loc[household, type_] \n",
    "                   for household in households for type_ in types)\n",
    "\n",
    "for household in households:\n",
    "    prob += pulp.lpSum(x[(household, type_)] for type_ in types) == 1\n",
    "    \n",
    "for type_index, type_ in enumerate(types):\n",
    "    prob += pulp.lpSum(x[(household, type_)] for household in households) <= capacity_df.loc[type_index + 1]"
   ]
  },
  {
   "cell_type": "code",
   "execution_count": 6,
   "metadata": {},
   "outputs": [],
   "source": [
    "# t0 = time.time()\n",
    "# prob.solve()\n",
    "# print(pulp.LpStatus[prob.status])\n",
    "# print(f'Took {time.time() - t0:.4f} seconds')"
   ]
  },
  {
   "cell_type": "code",
   "execution_count": 7,
   "metadata": {},
   "outputs": [
    {
     "name": "stdout",
     "output_type": "stream",
     "text": [
      "Optimal\n",
      "Took 1.6466 seconds\n"
     ]
    }
   ],
   "source": [
    "t0 = time.time()\n",
    "prob.solve(solver=pulp.solvers.GUROBI_CMD())\n",
    "print(pulp.LpStatus[prob.status])\n",
    "print(f'Took {time.time() - t0:.4f} seconds')"
   ]
  },
  {
   "cell_type": "code",
   "execution_count": 8,
   "metadata": {},
   "outputs": [
    {
     "data": {
      "text/html": [
       "<div>\n",
       "<style scoped>\n",
       "    .dataframe tbody tr th:only-of-type {\n",
       "        vertical-align: middle;\n",
       "    }\n",
       "\n",
       "    .dataframe tbody tr th {\n",
       "        vertical-align: top;\n",
       "    }\n",
       "\n",
       "    .dataframe thead th {\n",
       "        text-align: right;\n",
       "    }\n",
       "</style>\n",
       "<table border=\"1\" class=\"dataframe\">\n",
       "  <thead>\n",
       "    <tr style=\"text-align: right;\">\n",
       "      <th></th>\n",
       "      <th>ES</th>\n",
       "      <th>PSH</th>\n",
       "      <th>TH</th>\n",
       "      <th>RRH</th>\n",
       "      <th>PREV</th>\n",
       "    </tr>\n",
       "  </thead>\n",
       "  <tbody>\n",
       "    <tr>\n",
       "      <th>2</th>\n",
       "      <td>0.0</td>\n",
       "      <td>0.0</td>\n",
       "      <td>0.0</td>\n",
       "      <td>0.0</td>\n",
       "      <td>1.0</td>\n",
       "    </tr>\n",
       "    <tr>\n",
       "      <th>3</th>\n",
       "      <td>0.0</td>\n",
       "      <td>0.0</td>\n",
       "      <td>1.0</td>\n",
       "      <td>0.0</td>\n",
       "      <td>0.0</td>\n",
       "    </tr>\n",
       "    <tr>\n",
       "      <th>4</th>\n",
       "      <td>0.0</td>\n",
       "      <td>0.0</td>\n",
       "      <td>1.0</td>\n",
       "      <td>0.0</td>\n",
       "      <td>0.0</td>\n",
       "    </tr>\n",
       "    <tr>\n",
       "      <th>7</th>\n",
       "      <td>1.0</td>\n",
       "      <td>0.0</td>\n",
       "      <td>0.0</td>\n",
       "      <td>0.0</td>\n",
       "      <td>0.0</td>\n",
       "    </tr>\n",
       "    <tr>\n",
       "      <th>8</th>\n",
       "      <td>0.0</td>\n",
       "      <td>0.0</td>\n",
       "      <td>0.0</td>\n",
       "      <td>0.0</td>\n",
       "      <td>1.0</td>\n",
       "    </tr>\n",
       "  </tbody>\n",
       "</table>\n",
       "</div>"
      ],
      "text/plain": [
       "    ES  PSH   TH  RRH  PREV\n",
       "2  0.0  0.0  0.0  0.0   1.0\n",
       "3  0.0  0.0  1.0  0.0   0.0\n",
       "4  0.0  0.0  1.0  0.0   0.0\n",
       "7  1.0  0.0  0.0  0.0   0.0\n",
       "8  0.0  0.0  0.0  0.0   1.0"
      ]
     },
     "execution_count": 8,
     "metadata": {},
     "output_type": "execute_result"
    }
   ],
   "source": [
    "optimal_df = pd.DataFrame(columns=types)\n",
    "\n",
    "for household in households:\n",
    "    for type_ in types:\n",
    "        optimal_df.loc[household, type_] = x[(household, type_)].varValue\n",
    "\n",
    "optimal_df.head()"
   ]
  },
  {
   "cell_type": "code",
   "execution_count": 9,
   "metadata": {
    "scrolled": true
   },
   "outputs": [],
   "source": [
    "optimal_df.to_csv('../../data/optimal_subset.csv')"
   ]
  },
  {
   "cell_type": "code",
   "execution_count": 10,
   "metadata": {},
   "outputs": [
    {
     "name": "stdout",
     "output_type": "stream",
     "text": [
      "2302.525906114997\n"
     ]
    }
   ],
   "source": [
    "print(prob.objective.value())"
   ]
  },
  {
   "cell_type": "code",
   "execution_count": 11,
   "metadata": {},
   "outputs": [
    {
     "name": "stdout",
     "output_type": "stream",
     "text": [
      "Optimal\n",
      "Took 11.3892 seconds\n"
     ]
    }
   ],
   "source": [
    "t0 = time.time()\n",
    "prob.solve(solver=pulp.solvers.GLPK_CMD())\n",
    "print(pulp.LpStatus[prob.status])\n",
    "print(f'Took {time.time() - t0:.4f} seconds')"
   ]
  },
  {
   "cell_type": "code",
   "execution_count": 12,
   "metadata": {},
   "outputs": [
    {
     "name": "stdout",
     "output_type": "stream",
     "text": [
      "2302.525906114997\n"
     ]
    }
   ],
   "source": [
    "print(prob.objective.value())"
   ]
  },
  {
   "cell_type": "code",
   "execution_count": 13,
   "metadata": {},
   "outputs": [
    {
     "data": {
      "text/html": [
       "<div>\n",
       "<style scoped>\n",
       "    .dataframe tbody tr th:only-of-type {\n",
       "        vertical-align: middle;\n",
       "    }\n",
       "\n",
       "    .dataframe tbody tr th {\n",
       "        vertical-align: top;\n",
       "    }\n",
       "\n",
       "    .dataframe thead th {\n",
       "        text-align: right;\n",
       "    }\n",
       "</style>\n",
       "<table border=\"1\" class=\"dataframe\">\n",
       "  <thead>\n",
       "    <tr style=\"text-align: right;\">\n",
       "      <th></th>\n",
       "      <th>ES</th>\n",
       "      <th>PSH</th>\n",
       "      <th>TH</th>\n",
       "      <th>RRH</th>\n",
       "      <th>PREV</th>\n",
       "    </tr>\n",
       "  </thead>\n",
       "  <tbody>\n",
       "    <tr>\n",
       "      <th>2</th>\n",
       "      <td>0.0</td>\n",
       "      <td>0.0</td>\n",
       "      <td>0.0</td>\n",
       "      <td>0.0</td>\n",
       "      <td>1.0</td>\n",
       "    </tr>\n",
       "    <tr>\n",
       "      <th>3</th>\n",
       "      <td>0.0</td>\n",
       "      <td>0.0</td>\n",
       "      <td>1.0</td>\n",
       "      <td>0.0</td>\n",
       "      <td>0.0</td>\n",
       "    </tr>\n",
       "    <tr>\n",
       "      <th>4</th>\n",
       "      <td>0.0</td>\n",
       "      <td>0.0</td>\n",
       "      <td>1.0</td>\n",
       "      <td>0.0</td>\n",
       "      <td>0.0</td>\n",
       "    </tr>\n",
       "    <tr>\n",
       "      <th>7</th>\n",
       "      <td>1.0</td>\n",
       "      <td>0.0</td>\n",
       "      <td>0.0</td>\n",
       "      <td>0.0</td>\n",
       "      <td>0.0</td>\n",
       "    </tr>\n",
       "    <tr>\n",
       "      <th>8</th>\n",
       "      <td>0.0</td>\n",
       "      <td>0.0</td>\n",
       "      <td>0.0</td>\n",
       "      <td>0.0</td>\n",
       "      <td>1.0</td>\n",
       "    </tr>\n",
       "  </tbody>\n",
       "</table>\n",
       "</div>"
      ],
      "text/plain": [
       "    ES  PSH   TH  RRH  PREV\n",
       "2  0.0  0.0  0.0  0.0   1.0\n",
       "3  0.0  0.0  1.0  0.0   0.0\n",
       "4  0.0  0.0  1.0  0.0   0.0\n",
       "7  1.0  0.0  0.0  0.0   0.0\n",
       "8  0.0  0.0  0.0  0.0   1.0"
      ]
     },
     "execution_count": 13,
     "metadata": {},
     "output_type": "execute_result"
    }
   ],
   "source": [
    "optimal_df = pd.DataFrame(columns=types)\n",
    "\n",
    "for household in households:\n",
    "    for type_ in types:\n",
    "        optimal_df.loc[household, type_] = x[(household, type_)].varValue\n",
    "\n",
    "optimal_df.head()"
   ]
  },
  {
   "cell_type": "code",
   "execution_count": 14,
   "metadata": {},
   "outputs": [
    {
     "data": {
      "text/plain": [
       "2302.525906114997"
      ]
     },
     "execution_count": 14,
     "metadata": {},
     "output_type": "execute_result"
    }
   ],
   "source": [
    "running_sum = 0\n",
    "for household in households:\n",
    "    running_sum += sum(x[(household, type_)].varValue * df.loc[household, type_] for type_ in types)\n",
    "\n",
    "running_sum"
   ]
  },
  {
   "cell_type": "code",
   "execution_count": null,
   "metadata": {},
   "outputs": [],
   "source": []
  }
 ],
 "metadata": {
  "kernelspec": {
   "display_name": "Python 3",
   "language": "python",
   "name": "python3"
  },
  "language_info": {
   "codemirror_mode": {
    "name": "ipython",
    "version": 3
   },
   "file_extension": ".py",
   "mimetype": "text/x-python",
   "name": "python",
   "nbconvert_exporter": "python",
   "pygments_lexer": "ipython3",
   "version": "3.7.6"
  }
 },
 "nbformat": 4,
 "nbformat_minor": 2
}
