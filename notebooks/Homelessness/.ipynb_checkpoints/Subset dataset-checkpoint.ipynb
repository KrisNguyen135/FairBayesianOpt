{
 "cells": [
  {
   "cell_type": "code",
   "execution_count": 1,
   "metadata": {},
   "outputs": [],
   "source": [
    "import pandas as pd\n",
    "import numpy as np\n",
    "\n",
    "import matplotlib.pyplot as plt\n",
    "plt.style.use('seaborn-dark')\n",
    "\n",
    "import time\n",
    "\n",
    "import pulp"
   ]
  },
  {
   "cell_type": "code",
   "execution_count": 2,
   "metadata": {},
   "outputs": [],
   "source": [
    "import sys\n",
    "sys.path.insert(0, '../..')\n",
    "\n",
    "import quan_utils"
   ]
  },
  {
   "cell_type": "code",
   "execution_count": 3,
   "metadata": {},
   "outputs": [],
   "source": [
    "subset_prob_df = pd.read_csv('../../data/subset_data.csv', index_col=0)\n",
    "prob_df = pd.read_csv('../../data/data.csv', index_col=0)"
   ]
  },
  {
   "cell_type": "code",
   "execution_count": 4,
   "metadata": {},
   "outputs": [
    {
     "data": {
      "text/html": [
       "<div>\n",
       "<style scoped>\n",
       "    .dataframe tbody tr th:only-of-type {\n",
       "        vertical-align: middle;\n",
       "    }\n",
       "\n",
       "    .dataframe tbody tr th {\n",
       "        vertical-align: top;\n",
       "    }\n",
       "\n",
       "    .dataframe thead th {\n",
       "        text-align: right;\n",
       "    }\n",
       "</style>\n",
       "<table border=\"1\" class=\"dataframe\">\n",
       "  <thead>\n",
       "    <tr style=\"text-align: right;\">\n",
       "      <th></th>\n",
       "      <th>HouseholdID</th>\n",
       "      <th>Real</th>\n",
       "      <th>Reentered</th>\n",
       "      <th>ES</th>\n",
       "      <th>PSH</th>\n",
       "      <th>TH</th>\n",
       "      <th>RRH</th>\n",
       "      <th>PREV</th>\n",
       "      <th>Week</th>\n",
       "      <th>Used</th>\n",
       "    </tr>\n",
       "  </thead>\n",
       "  <tbody>\n",
       "    <tr>\n",
       "      <th>1</th>\n",
       "      <td>2028039</td>\n",
       "      <td>2</td>\n",
       "      <td>0</td>\n",
       "      <td>0.425008</td>\n",
       "      <td>0.271801</td>\n",
       "      <td>0.350017</td>\n",
       "      <td>0.397626</td>\n",
       "      <td>0.291637</td>\n",
       "      <td>33</td>\n",
       "      <td>False</td>\n",
       "    </tr>\n",
       "    <tr>\n",
       "      <th>2</th>\n",
       "      <td>2036520</td>\n",
       "      <td>2</td>\n",
       "      <td>0</td>\n",
       "      <td>0.327550</td>\n",
       "      <td>0.188743</td>\n",
       "      <td>0.266543</td>\n",
       "      <td>0.337444</td>\n",
       "      <td>0.218234</td>\n",
       "      <td>283</td>\n",
       "      <td>True</td>\n",
       "    </tr>\n",
       "    <tr>\n",
       "      <th>3</th>\n",
       "      <td>2108682</td>\n",
       "      <td>2</td>\n",
       "      <td>0</td>\n",
       "      <td>0.186973</td>\n",
       "      <td>0.760772</td>\n",
       "      <td>0.137805</td>\n",
       "      <td>0.178759</td>\n",
       "      <td>0.106168</td>\n",
       "      <td>205</td>\n",
       "      <td>True</td>\n",
       "    </tr>\n",
       "    <tr>\n",
       "      <th>4</th>\n",
       "      <td>2116994</td>\n",
       "      <td>2</td>\n",
       "      <td>0</td>\n",
       "      <td>0.234827</td>\n",
       "      <td>0.217690</td>\n",
       "      <td>0.183896</td>\n",
       "      <td>0.239388</td>\n",
       "      <td>0.148293</td>\n",
       "      <td>244</td>\n",
       "      <td>True</td>\n",
       "    </tr>\n",
       "    <tr>\n",
       "      <th>5</th>\n",
       "      <td>2154639</td>\n",
       "      <td>2</td>\n",
       "      <td>0</td>\n",
       "      <td>0.299406</td>\n",
       "      <td>0.554693</td>\n",
       "      <td>0.232651</td>\n",
       "      <td>0.265632</td>\n",
       "      <td>0.190321</td>\n",
       "      <td>107</td>\n",
       "      <td>False</td>\n",
       "    </tr>\n",
       "  </tbody>\n",
       "</table>\n",
       "</div>"
      ],
      "text/plain": [
       "   HouseholdID  Real  Reentered        ES       PSH        TH       RRH  \\\n",
       "1      2028039     2          0  0.425008  0.271801  0.350017  0.397626   \n",
       "2      2036520     2          0  0.327550  0.188743  0.266543  0.337444   \n",
       "3      2108682     2          0  0.186973  0.760772  0.137805  0.178759   \n",
       "4      2116994     2          0  0.234827  0.217690  0.183896  0.239388   \n",
       "5      2154639     2          0  0.299406  0.554693  0.232651  0.265632   \n",
       "\n",
       "       PREV  Week   Used  \n",
       "1  0.291637    33  False  \n",
       "2  0.218234   283   True  \n",
       "3  0.106168   205   True  \n",
       "4  0.148293   244   True  \n",
       "5  0.190321   107  False  "
      ]
     },
     "execution_count": 4,
     "metadata": {},
     "output_type": "execute_result"
    }
   ],
   "source": [
    "subset_prob_df.head()"
   ]
  },
  {
   "cell_type": "code",
   "execution_count": 5,
   "metadata": {},
   "outputs": [
    {
     "data": {
      "text/plain": [
       "True     10129\n",
       "False     4082\n",
       "Name: Used, dtype: int64"
      ]
     },
     "execution_count": 5,
     "metadata": {},
     "output_type": "execute_result"
    }
   ],
   "source": [
    "subset_prob_df['Used'].value_counts()"
   ]
  },
  {
   "cell_type": "code",
   "execution_count": 6,
   "metadata": {},
   "outputs": [
    {
     "data": {
      "text/plain": [
       "(10129, 10)"
      ]
     },
     "execution_count": 6,
     "metadata": {},
     "output_type": "execute_result"
    }
   ],
   "source": [
    "subset_prob_df = subset_prob_df[subset_prob_df['Used']]\n",
    "subset_prob_df.shape"
   ]
  },
  {
   "cell_type": "code",
   "execution_count": 7,
   "metadata": {},
   "outputs": [
    {
     "data": {
      "text/plain": [
       "5    6202\n",
       "1    4441\n",
       "3    2451\n",
       "4     846\n",
       "2     271\n",
       "Name: Real, dtype: int64"
      ]
     },
     "execution_count": 7,
     "metadata": {},
     "output_type": "execute_result"
    }
   ],
   "source": [
    "prob_df['Real'].value_counts()"
   ]
  },
  {
   "cell_type": "code",
   "execution_count": 8,
   "metadata": {},
   "outputs": [],
   "source": [
    "helper = helper = quan_utils.AssignmentHelper(prob_df=subset_prob_df)\n",
    "helper.update_constraints(capacity_df=prob_df['Real'].value_counts())"
   ]
  },
  {
   "cell_type": "code",
   "execution_count": 9,
   "metadata": {},
   "outputs": [
    {
     "name": "stdout",
     "output_type": "stream",
     "text": [
      "Took 13.4702 seconds\n"
     ]
    },
    {
     "data": {
      "text/html": [
       "<div>\n",
       "<style scoped>\n",
       "    .dataframe tbody tr th:only-of-type {\n",
       "        vertical-align: middle;\n",
       "    }\n",
       "\n",
       "    .dataframe tbody tr th {\n",
       "        vertical-align: top;\n",
       "    }\n",
       "\n",
       "    .dataframe thead th {\n",
       "        text-align: right;\n",
       "    }\n",
       "</style>\n",
       "<table border=\"1\" class=\"dataframe\">\n",
       "  <thead>\n",
       "    <tr style=\"text-align: right;\">\n",
       "      <th></th>\n",
       "      <th>ES</th>\n",
       "      <th>PSH</th>\n",
       "      <th>TH</th>\n",
       "      <th>RRH</th>\n",
       "      <th>PREV</th>\n",
       "    </tr>\n",
       "  </thead>\n",
       "  <tbody>\n",
       "    <tr>\n",
       "      <th>2</th>\n",
       "      <td>0.0</td>\n",
       "      <td>0.0</td>\n",
       "      <td>0.0</td>\n",
       "      <td>0.0</td>\n",
       "      <td>1.0</td>\n",
       "    </tr>\n",
       "    <tr>\n",
       "      <th>3</th>\n",
       "      <td>0.0</td>\n",
       "      <td>0.0</td>\n",
       "      <td>1.0</td>\n",
       "      <td>0.0</td>\n",
       "      <td>0.0</td>\n",
       "    </tr>\n",
       "    <tr>\n",
       "      <th>4</th>\n",
       "      <td>0.0</td>\n",
       "      <td>0.0</td>\n",
       "      <td>1.0</td>\n",
       "      <td>0.0</td>\n",
       "      <td>0.0</td>\n",
       "    </tr>\n",
       "    <tr>\n",
       "      <th>7</th>\n",
       "      <td>1.0</td>\n",
       "      <td>0.0</td>\n",
       "      <td>0.0</td>\n",
       "      <td>0.0</td>\n",
       "      <td>0.0</td>\n",
       "    </tr>\n",
       "    <tr>\n",
       "      <th>8</th>\n",
       "      <td>0.0</td>\n",
       "      <td>0.0</td>\n",
       "      <td>0.0</td>\n",
       "      <td>0.0</td>\n",
       "      <td>1.0</td>\n",
       "    </tr>\n",
       "  </tbody>\n",
       "</table>\n",
       "</div>"
      ],
      "text/plain": [
       "    ES  PSH   TH  RRH  PREV\n",
       "2  0.0  0.0  0.0  0.0   1.0\n",
       "3  0.0  0.0  1.0  0.0   0.0\n",
       "4  0.0  0.0  1.0  0.0   0.0\n",
       "7  1.0  0.0  0.0  0.0   0.0\n",
       "8  0.0  0.0  0.0  0.0   1.0"
      ]
     },
     "execution_count": 9,
     "metadata": {},
     "output_type": "execute_result"
    }
   ],
   "source": [
    "t0 = time.time()\n",
    "sol_df = helper.ip_solve()\n",
    "print(f'Took {time.time() - t0:.4f} seconds')\n",
    "sol_df.head()"
   ]
  },
  {
   "cell_type": "code",
   "execution_count": 10,
   "metadata": {},
   "outputs": [
    {
     "data": {
      "text/plain": [
       "'Optimal'"
      ]
     },
     "execution_count": 10,
     "metadata": {},
     "output_type": "execute_result"
    }
   ],
   "source": [
    "pulp.LpStatus[helper.prob.status]"
   ]
  },
  {
   "cell_type": "code",
   "execution_count": 11,
   "metadata": {},
   "outputs": [
    {
     "data": {
      "text/plain": [
       "ES       359.0\n",
       "PSH      271.0\n",
       "TH      2451.0\n",
       "RRH      846.0\n",
       "PREV    6202.0\n",
       "dtype: float64"
      ]
     },
     "execution_count": 11,
     "metadata": {},
     "output_type": "execute_result"
    }
   ],
   "source": [
    "sol_df.sum(axis=0)"
   ]
  },
  {
   "cell_type": "code",
   "execution_count": 12,
   "metadata": {},
   "outputs": [
    {
     "data": {
      "text/plain": [
       "1714.43270462"
      ]
     },
     "execution_count": 12,
     "metadata": {},
     "output_type": "execute_result"
    }
   ],
   "source": [
    "helper.prob_df[helper.types].min(axis=1).sum()"
   ]
  },
  {
   "cell_type": "code",
   "execution_count": 13,
   "metadata": {},
   "outputs": [
    {
     "data": {
      "text/plain": [
       "2302.525906114997"
      ]
     },
     "execution_count": 13,
     "metadata": {},
     "output_type": "execute_result"
    }
   ],
   "source": [
    "helper.prob.objective.value()"
   ]
  },
  {
   "cell_type": "code",
   "execution_count": 14,
   "metadata": {},
   "outputs": [
    {
     "name": "stdout",
     "output_type": "stream",
     "text": [
      "Total number of reentered households: 2796\n",
      "BART-estimated: 2795.9972\n",
      "Input assignment: 2302.5259\n",
      "Percentage reduction in reentry probability: 17.649288050250473\n",
      "Max difference in reentry probability: 0.34084333600000005\n",
      "Mean difference in reentry probability: -0.04871865940458081\n"
     ]
    }
   ],
   "source": [
    "real_n_reentries, bart_n_reentries, uncon_sol_n_reentries = helper.compare_reentry(sol_df)\n",
    "print(f'Percentage reduction in reentry probability: {(real_n_reentries - uncon_sol_n_reentries) / real_n_reentries * 100}')\n",
    "\n",
    "prob_compare_df = helper.compare_prob(sol_df)\n",
    "print(f'Max difference in reentry probability: {prob_compare_df[\"Diff\"].max()}')\n",
    "print(f'Mean difference in reentry probability: {prob_compare_df[\"Diff\"].mean()}')"
   ]
  },
  {
   "cell_type": "code",
   "execution_count": 15,
   "metadata": {},
   "outputs": [
    {
     "data": {
      "image/png": "[encoded data removed]",
      "text/plain": [
       "<Figure size 432x288 with 1 Axes>"
      ]
     },
     "metadata": {},
     "output_type": "display_data"
    }
   ],
   "source": [
    "plt.hist(prob_compare_df[prob_compare_df['Diff'] != 0]['Diff'], bins=30)\n",
    "plt.show()"
   ]
  },
  {
   "cell_type": "code",
   "execution_count": 15,
   "metadata": {},
   "outputs": [],
   "source": [
    "helper = helper = quan_utils.AssignmentHelper()\n",
    "helper.update_constraints()"
   ]
  },
  {
   "cell_type": "code",
   "execution_count": 16,
   "metadata": {},
   "outputs": [
    {
     "name": "stdout",
     "output_type": "stream",
     "text": [
      "Took 20.0518 seconds\n"
     ]
    },
    {
     "data": {
      "text/html": [
       "<div>\n",
       "<style scoped>\n",
       "    .dataframe tbody tr th:only-of-type {\n",
       "        vertical-align: middle;\n",
       "    }\n",
       "\n",
       "    .dataframe tbody tr th {\n",
       "        vertical-align: top;\n",
       "    }\n",
       "\n",
       "    .dataframe thead th {\n",
       "        text-align: right;\n",
       "    }\n",
       "</style>\n",
       "<table border=\"1\" class=\"dataframe\">\n",
       "  <thead>\n",
       "    <tr style=\"text-align: right;\">\n",
       "      <th></th>\n",
       "      <th>ES</th>\n",
       "      <th>PSH</th>\n",
       "      <th>TH</th>\n",
       "      <th>RRH</th>\n",
       "      <th>PREV</th>\n",
       "    </tr>\n",
       "  </thead>\n",
       "  <tbody>\n",
       "    <tr>\n",
       "      <th>1</th>\n",
       "      <td>0.0</td>\n",
       "      <td>0.0</td>\n",
       "      <td>0.0</td>\n",
       "      <td>0.0</td>\n",
       "      <td>1.0</td>\n",
       "    </tr>\n",
       "    <tr>\n",
       "      <th>2</th>\n",
       "      <td>0.0</td>\n",
       "      <td>0.0</td>\n",
       "      <td>0.0</td>\n",
       "      <td>0.0</td>\n",
       "      <td>1.0</td>\n",
       "    </tr>\n",
       "    <tr>\n",
       "      <th>3</th>\n",
       "      <td>0.0</td>\n",
       "      <td>0.0</td>\n",
       "      <td>1.0</td>\n",
       "      <td>0.0</td>\n",
       "      <td>0.0</td>\n",
       "    </tr>\n",
       "    <tr>\n",
       "      <th>4</th>\n",
       "      <td>0.0</td>\n",
       "      <td>0.0</td>\n",
       "      <td>1.0</td>\n",
       "      <td>0.0</td>\n",
       "      <td>0.0</td>\n",
       "    </tr>\n",
       "    <tr>\n",
       "      <th>5</th>\n",
       "      <td>0.0</td>\n",
       "      <td>0.0</td>\n",
       "      <td>1.0</td>\n",
       "      <td>0.0</td>\n",
       "      <td>0.0</td>\n",
       "    </tr>\n",
       "  </tbody>\n",
       "</table>\n",
       "</div>"
      ],
      "text/plain": [
       "    ES  PSH   TH  RRH  PREV\n",
       "1  0.0  0.0  0.0  0.0   1.0\n",
       "2  0.0  0.0  0.0  0.0   1.0\n",
       "3  0.0  0.0  1.0  0.0   0.0\n",
       "4  0.0  0.0  1.0  0.0   0.0\n",
       "5  0.0  0.0  1.0  0.0   0.0"
      ]
     },
     "execution_count": 16,
     "metadata": {},
     "output_type": "execute_result"
    }
   ],
   "source": [
    "t0 = time.time()\n",
    "sol_df = helper.ip_solve()\n",
    "print(f'Took {time.time() - t0:.4f} seconds')\n",
    "sol_df.head()"
   ]
  },
  {
   "cell_type": "code",
   "execution_count": 17,
   "metadata": {},
   "outputs": [
    {
     "data": {
      "text/plain": [
       "'Optimal'"
      ]
     },
     "execution_count": 17,
     "metadata": {},
     "output_type": "execute_result"
    }
   ],
   "source": [
    "pulp.LpStatus[helper.prob.status]"
   ]
  },
  {
   "cell_type": "code",
   "execution_count": 18,
   "metadata": {},
   "outputs": [
    {
     "data": {
      "text/plain": [
       "ES      4441.0\n",
       "PSH      271.0\n",
       "TH      2451.0\n",
       "RRH      846.0\n",
       "PREV    6202.0\n",
       "dtype: float64"
      ]
     },
     "execution_count": 18,
     "metadata": {},
     "output_type": "execute_result"
    }
   ],
   "source": [
    "sol_df.sum(axis=0)"
   ]
  },
  {
   "cell_type": "code",
   "execution_count": 19,
   "metadata": {},
   "outputs": [
    {
     "data": {
      "text/plain": [
       "2497.9808768479998"
      ]
     },
     "execution_count": 19,
     "metadata": {},
     "output_type": "execute_result"
    }
   ],
   "source": [
    "helper.prob_df[helper.types].min(axis=1).sum()"
   ]
  },
  {
   "cell_type": "code",
   "execution_count": 20,
   "metadata": {},
   "outputs": [
    {
     "data": {
      "text/plain": [
       "3627.0456566409853"
      ]
     },
     "execution_count": 20,
     "metadata": {},
     "output_type": "execute_result"
    }
   ],
   "source": [
    "helper.prob.objective.value()"
   ]
  },
  {
   "cell_type": "code",
   "execution_count": 21,
   "metadata": {},
   "outputs": [
    {
     "name": "stdout",
     "output_type": "stream",
     "text": [
      "Total number of reentered households: 4082\n",
      "BART-estimated: 4085.7049\n",
      "Input assignment: 3627.0457\n",
      "Percentage reduction in reentry probability: 11.14537832824632\n",
      "Max difference in reentry probability: 0.48047754\n",
      "Mean difference in reentry probability: -0.032274946601857736\n"
     ]
    }
   ],
   "source": [
    "real_n_reentries, bart_n_reentries, uncon_sol_n_reentries = helper.compare_reentry(sol_df)\n",
    "print(f'Percentage reduction in reentry probability: {(real_n_reentries - uncon_sol_n_reentries) / real_n_reentries * 100}')\n",
    "\n",
    "prob_compare_df = helper.compare_prob(sol_df)\n",
    "print(f'Max difference in reentry probability: {prob_compare_df[\"Diff\"].max()}')\n",
    "print(f'Mean difference in reentry probability: {prob_compare_df[\"Diff\"].mean()}')"
   ]
  },
  {
   "cell_type": "code",
   "execution_count": 24,
   "metadata": {},
   "outputs": [
    {
     "name": "stdout",
     "output_type": "stream",
     "text": [
      "(4082, 10)\n"
     ]
    },
    {
     "data": {
      "text/html": [
       "<div>\n",
       "<style scoped>\n",
       "    .dataframe tbody tr th:only-of-type {\n",
       "        vertical-align: middle;\n",
       "    }\n",
       "\n",
       "    .dataframe tbody tr th {\n",
       "        vertical-align: top;\n",
       "    }\n",
       "\n",
       "    .dataframe thead th {\n",
       "        text-align: right;\n",
       "    }\n",
       "</style>\n",
       "<table border=\"1\" class=\"dataframe\">\n",
       "  <thead>\n",
       "    <tr style=\"text-align: right;\">\n",
       "      <th></th>\n",
       "      <th>HouseholdID</th>\n",
       "      <th>Real</th>\n",
       "      <th>Reentered</th>\n",
       "      <th>ES</th>\n",
       "      <th>PSH</th>\n",
       "      <th>TH</th>\n",
       "      <th>RRH</th>\n",
       "      <th>PREV</th>\n",
       "      <th>Week</th>\n",
       "      <th>Used</th>\n",
       "    </tr>\n",
       "  </thead>\n",
       "  <tbody>\n",
       "    <tr>\n",
       "      <th>1</th>\n",
       "      <td>2028039</td>\n",
       "      <td>2</td>\n",
       "      <td>0</td>\n",
       "      <td>0.425008</td>\n",
       "      <td>0.271801</td>\n",
       "      <td>0.350017</td>\n",
       "      <td>0.397626</td>\n",
       "      <td>0.291637</td>\n",
       "      <td>33</td>\n",
       "      <td>False</td>\n",
       "    </tr>\n",
       "    <tr>\n",
       "      <th>5</th>\n",
       "      <td>2154639</td>\n",
       "      <td>2</td>\n",
       "      <td>0</td>\n",
       "      <td>0.299406</td>\n",
       "      <td>0.554693</td>\n",
       "      <td>0.232651</td>\n",
       "      <td>0.265632</td>\n",
       "      <td>0.190321</td>\n",
       "      <td>107</td>\n",
       "      <td>False</td>\n",
       "    </tr>\n",
       "    <tr>\n",
       "      <th>6</th>\n",
       "      <td>200001080</td>\n",
       "      <td>1</td>\n",
       "      <td>1</td>\n",
       "      <td>0.781217</td>\n",
       "      <td>0.691468</td>\n",
       "      <td>0.764820</td>\n",
       "      <td>0.754706</td>\n",
       "      <td>0.704289</td>\n",
       "      <td>96</td>\n",
       "      <td>False</td>\n",
       "    </tr>\n",
       "    <tr>\n",
       "      <th>10</th>\n",
       "      <td>200001171</td>\n",
       "      <td>5</td>\n",
       "      <td>1</td>\n",
       "      <td>0.638970</td>\n",
       "      <td>0.780866</td>\n",
       "      <td>0.555111</td>\n",
       "      <td>0.585469</td>\n",
       "      <td>0.506257</td>\n",
       "      <td>119</td>\n",
       "      <td>False</td>\n",
       "    </tr>\n",
       "    <tr>\n",
       "      <th>13</th>\n",
       "      <td>200001212</td>\n",
       "      <td>1</td>\n",
       "      <td>1</td>\n",
       "      <td>0.680390</td>\n",
       "      <td>0.747923</td>\n",
       "      <td>0.607343</td>\n",
       "      <td>0.592242</td>\n",
       "      <td>0.537909</td>\n",
       "      <td>109</td>\n",
       "      <td>False</td>\n",
       "    </tr>\n",
       "  </tbody>\n",
       "</table>\n",
       "</div>"
      ],
      "text/plain": [
       "    HouseholdID  Real  Reentered        ES       PSH        TH       RRH  \\\n",
       "1       2028039     2          0  0.425008  0.271801  0.350017  0.397626   \n",
       "5       2154639     2          0  0.299406  0.554693  0.232651  0.265632   \n",
       "6     200001080     1          1  0.781217  0.691468  0.764820  0.754706   \n",
       "10    200001171     5          1  0.638970  0.780866  0.555111  0.585469   \n",
       "13    200001212     1          1  0.680390  0.747923  0.607343  0.592242   \n",
       "\n",
       "        PREV  Week   Used  \n",
       "1   0.291637    33  False  \n",
       "5   0.190321   107  False  \n",
       "6   0.704289    96  False  \n",
       "10  0.506257   119  False  \n",
       "13  0.537909   109  False  "
      ]
     },
     "execution_count": 24,
     "metadata": {},
     "output_type": "execute_result"
    }
   ],
   "source": [
    "week_prob_df = pd.read_csv('../../data/subset_data.csv', index_col=0)\n",
    "unused_prob_df = week_prob_df[~week_prob_df['Used']]\n",
    "\n",
    "print(unused_prob_df.shape)\n",
    "unused_prob_df.head()"
   ]
  },
  {
   "cell_type": "code",
   "execution_count": 28,
   "metadata": {},
   "outputs": [
    {
     "data": {
      "image/png": "[encoded data removed]",
      "text/plain": [
       "<Figure size 936x1440 with 15 Axes>"
      ]
     },
     "metadata": {},
     "output_type": "display_data"
    }
   ],
   "source": [
    "types = ['ES', 'PSH', 'TH', 'RRH', 'PREV']\n",
    "\n",
    "f, ax = plt.subplots(len(types), 3, figsize=(13, 20))\n",
    "\n",
    "for type_index, type_ in enumerate(types):\n",
    "    ax[type_index][0].hist(subset_prob_df[type_], bins=30)\n",
    "    ax[type_index][1].hist(unused_prob_df[type_], bins=30)\n",
    "    ax[type_index][2].hist(prob_df[type_], bins=30)\n",
    "    \n",
    "    ax[type_index][0].set_ylabel(type_)\n",
    "\n",
    "ax[0][0].set_title('Used subset')\n",
    "ax[0][1].set_title('Unused subset')\n",
    "ax[0][2].set_title('Full data set')\n",
    "\n",
    "plt.show()"
   ]
  },
  {
   "cell_type": "code",
   "execution_count": 31,
   "metadata": {},
   "outputs": [
    {
     "data": {
      "image/png": "[encoded data removed]",
      "text/plain": [
       "<Figure size 936x1440 with 10 Axes>"
      ]
     },
     "metadata": {},
     "output_type": "display_data"
    }
   ],
   "source": [
    "types = ['ES', 'PSH', 'TH', 'RRH', 'PREV']\n",
    "\n",
    "f, ax = plt.subplots(len(types), 2, figsize=(13, 20))\n",
    "\n",
    "for type_index, type_ in enumerate(types):\n",
    "    ax[type_index][0].hist(subset_prob_df[type_], bins=30, alpha=0.3, label='Used', density=True)\n",
    "    ax[type_index][0].hist(unused_prob_df[type_], bins=30, alpha=0.3, label='Unused', density=True)\n",
    "    ax[type_index][1].hist(prob_df[type_], bins=30)\n",
    "    \n",
    "    ax[type_index][0].set_ylabel(type_)\n",
    "\n",
    "ax[0][0].set_title('Used/unused subset')\n",
    "ax[0][1].set_title('Full data set')\n",
    "\n",
    "plt.show()"
   ]
  },
  {
   "cell_type": "code",
   "execution_count": null,
   "metadata": {},
   "outputs": [],
   "source": []
  }
 ],
 "metadata": {
  "kernelspec": {
   "display_name": "Python 3",
   "language": "python",
   "name": "python3"
  },
  "language_info": {
   "codemirror_mode": {
    "name": "ipython",
    "version": 3
   },
   "file_extension": ".py",
   "mimetype": "text/x-python",
   "name": "python",
   "nbconvert_exporter": "python",
   "pygments_lexer": "ipython3",
   "version": "3.7.6"
  }
 },
 "nbformat": 4,
 "nbformat_minor": 2
}
