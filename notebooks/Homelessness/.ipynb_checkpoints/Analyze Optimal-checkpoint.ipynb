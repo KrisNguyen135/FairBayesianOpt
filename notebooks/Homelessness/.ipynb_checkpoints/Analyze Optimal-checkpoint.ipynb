{
 "cells": [
  {
   "cell_type": "code",
   "execution_count": 1,
   "metadata": {},
   "outputs": [],
   "source": [
    "import pandas as pd\n",
    "import numpy as np\n",
    "\n",
    "import matplotlib.pyplot as plt\n",
    "plt.style.use('seaborn-darkgrid')"
   ]
  },
  {
   "cell_type": "code",
   "execution_count": 4,
   "metadata": {},
   "outputs": [
    {
     "data": {
      "text/html": [
       "<div>\n",
       "<style scoped>\n",
       "    .dataframe tbody tr th:only-of-type {\n",
       "        vertical-align: middle;\n",
       "    }\n",
       "\n",
       "    .dataframe tbody tr th {\n",
       "        vertical-align: top;\n",
       "    }\n",
       "\n",
       "    .dataframe thead th {\n",
       "        text-align: right;\n",
       "    }\n",
       "</style>\n",
       "<table border=\"1\" class=\"dataframe\">\n",
       "  <thead>\n",
       "    <tr style=\"text-align: right;\">\n",
       "      <th></th>\n",
       "      <th>HouseholdID</th>\n",
       "      <th>Real</th>\n",
       "      <th>Reentered</th>\n",
       "      <th>ES</th>\n",
       "      <th>PSH</th>\n",
       "      <th>TH</th>\n",
       "      <th>RRH</th>\n",
       "      <th>PREV</th>\n",
       "    </tr>\n",
       "  </thead>\n",
       "  <tbody>\n",
       "    <tr>\n",
       "      <th>1</th>\n",
       "      <td>2028039</td>\n",
       "      <td>2</td>\n",
       "      <td>0</td>\n",
       "      <td>0.425008</td>\n",
       "      <td>0.271801</td>\n",
       "      <td>0.350017</td>\n",
       "      <td>0.397626</td>\n",
       "      <td>0.291637</td>\n",
       "    </tr>\n",
       "    <tr>\n",
       "      <th>2</th>\n",
       "      <td>2036520</td>\n",
       "      <td>2</td>\n",
       "      <td>0</td>\n",
       "      <td>0.327550</td>\n",
       "      <td>0.188743</td>\n",
       "      <td>0.266543</td>\n",
       "      <td>0.337444</td>\n",
       "      <td>0.218234</td>\n",
       "    </tr>\n",
       "    <tr>\n",
       "      <th>3</th>\n",
       "      <td>2108682</td>\n",
       "      <td>2</td>\n",
       "      <td>0</td>\n",
       "      <td>0.186973</td>\n",
       "      <td>0.760772</td>\n",
       "      <td>0.137805</td>\n",
       "      <td>0.178759</td>\n",
       "      <td>0.106168</td>\n",
       "    </tr>\n",
       "    <tr>\n",
       "      <th>4</th>\n",
       "      <td>2116994</td>\n",
       "      <td>2</td>\n",
       "      <td>0</td>\n",
       "      <td>0.234827</td>\n",
       "      <td>0.217690</td>\n",
       "      <td>0.183896</td>\n",
       "      <td>0.239388</td>\n",
       "      <td>0.148293</td>\n",
       "    </tr>\n",
       "    <tr>\n",
       "      <th>5</th>\n",
       "      <td>2154639</td>\n",
       "      <td>2</td>\n",
       "      <td>0</td>\n",
       "      <td>0.299406</td>\n",
       "      <td>0.554693</td>\n",
       "      <td>0.232651</td>\n",
       "      <td>0.265632</td>\n",
       "      <td>0.190321</td>\n",
       "    </tr>\n",
       "  </tbody>\n",
       "</table>\n",
       "</div>"
      ],
      "text/plain": [
       "   HouseholdID  Real  Reentered        ES       PSH        TH       RRH  \\\n",
       "1      2028039     2          0  0.425008  0.271801  0.350017  0.397626   \n",
       "2      2036520     2          0  0.327550  0.188743  0.266543  0.337444   \n",
       "3      2108682     2          0  0.186973  0.760772  0.137805  0.178759   \n",
       "4      2116994     2          0  0.234827  0.217690  0.183896  0.239388   \n",
       "5      2154639     2          0  0.299406  0.554693  0.232651  0.265632   \n",
       "\n",
       "       PREV  \n",
       "1  0.291637  \n",
       "2  0.218234  \n",
       "3  0.106168  \n",
       "4  0.148293  \n",
       "5  0.190321  "
      ]
     },
     "execution_count": 4,
     "metadata": {},
     "output_type": "execute_result"
    }
   ],
   "source": [
    "df = pd.read_csv('../../data/data.csv', index_col=0)\n",
    "df.head()"
   ]
  },
  {
   "cell_type": "code",
   "execution_count": 5,
   "metadata": {},
   "outputs": [],
   "source": [
    "households = [i for i in range(1, df.shape[0])]\n",
    "types = ['ES', 'PSH', 'TH', 'RRH', 'PREV']"
   ]
  },
  {
   "cell_type": "code",
   "execution_count": 4,
   "metadata": {},
   "outputs": [
    {
     "data": {
      "text/html": [
       "<div>\n",
       "<style scoped>\n",
       "    .dataframe tbody tr th:only-of-type {\n",
       "        vertical-align: middle;\n",
       "    }\n",
       "\n",
       "    .dataframe tbody tr th {\n",
       "        vertical-align: top;\n",
       "    }\n",
       "\n",
       "    .dataframe thead th {\n",
       "        text-align: right;\n",
       "    }\n",
       "</style>\n",
       "<table border=\"1\" class=\"dataframe\">\n",
       "  <thead>\n",
       "    <tr style=\"text-align: right;\">\n",
       "      <th></th>\n",
       "      <th>ES</th>\n",
       "      <th>PSH</th>\n",
       "      <th>TH</th>\n",
       "      <th>RRH</th>\n",
       "      <th>PREV</th>\n",
       "    </tr>\n",
       "  </thead>\n",
       "  <tbody>\n",
       "    <tr>\n",
       "      <th>1</th>\n",
       "      <td>1.0</td>\n",
       "      <td>0.0</td>\n",
       "      <td>0.0</td>\n",
       "      <td>0.0</td>\n",
       "      <td>0.0</td>\n",
       "    </tr>\n",
       "    <tr>\n",
       "      <th>2</th>\n",
       "      <td>1.0</td>\n",
       "      <td>0.0</td>\n",
       "      <td>0.0</td>\n",
       "      <td>0.0</td>\n",
       "      <td>0.0</td>\n",
       "    </tr>\n",
       "    <tr>\n",
       "      <th>3</th>\n",
       "      <td>0.0</td>\n",
       "      <td>0.0</td>\n",
       "      <td>1.0</td>\n",
       "      <td>0.0</td>\n",
       "      <td>0.0</td>\n",
       "    </tr>\n",
       "    <tr>\n",
       "      <th>4</th>\n",
       "      <td>0.0</td>\n",
       "      <td>0.0</td>\n",
       "      <td>0.0</td>\n",
       "      <td>0.0</td>\n",
       "      <td>1.0</td>\n",
       "    </tr>\n",
       "    <tr>\n",
       "      <th>5</th>\n",
       "      <td>0.0</td>\n",
       "      <td>0.0</td>\n",
       "      <td>0.0</td>\n",
       "      <td>0.0</td>\n",
       "      <td>1.0</td>\n",
       "    </tr>\n",
       "  </tbody>\n",
       "</table>\n",
       "</div>"
      ],
      "text/plain": [
       "    ES  PSH   TH  RRH  PREV\n",
       "1  1.0  0.0  0.0  0.0   0.0\n",
       "2  1.0  0.0  0.0  0.0   0.0\n",
       "3  0.0  0.0  1.0  0.0   0.0\n",
       "4  0.0  0.0  0.0  0.0   1.0\n",
       "5  0.0  0.0  0.0  0.0   1.0"
      ]
     },
     "execution_count": 4,
     "metadata": {},
     "output_type": "execute_result"
    }
   ],
   "source": [
    "optimal_df = pd.read_csv('../../data/optimal.csv', index_col=0)\n",
    "optimal_df.head()"
   ]
  },
  {
   "cell_type": "code",
   "execution_count": 5,
   "metadata": {},
   "outputs": [],
   "source": [
    "def compare_reentry(assignment_df, name=None):\n",
    "    print(f'Total number of reentered households: {df[\"Reentered\"].sum()}')\n",
    "    \n",
    "    # BART-estimated\n",
    "    running_result = 0\n",
    "    for household in households:\n",
    "        running_result += df.loc[household, types[df.loc[household, 'Real'] - 1]]\n",
    "    \n",
    "    print(f'Bart-estimated: {running_result}')\n",
    "    \n",
    "    # Input assignment\n",
    "    running_result = 0\n",
    "    for household in households:\n",
    "        running_result += sum(assignment_df.loc[household, type_] * df.loc[household, type_] for type_ in types)\n",
    "    \n",
    "    if name is not None:\n",
    "        print(f'{name}: {running_result}')\n",
    "    else:\n",
    "        print(f'Input assignment: {running_result}')"
   ]
  },
  {
   "cell_type": "code",
   "execution_count": 6,
   "metadata": {},
   "outputs": [
    {
     "name": "stdout",
     "output_type": "stream",
     "text": [
      "Total number of reentered households: 4082\n",
      "Bart-estimated: 4085.5576013000014\n",
      "Optimal solution: 4022.9664101700073\n"
     ]
    }
   ],
   "source": [
    "compare_reentry(optimal_df, 'Optimal solution')"
   ]
  },
  {
   "cell_type": "code",
   "execution_count": 7,
   "metadata": {},
   "outputs": [
    {
     "data": {
      "text/html": [
       "<div>\n",
       "<style scoped>\n",
       "    .dataframe tbody tr th:only-of-type {\n",
       "        vertical-align: middle;\n",
       "    }\n",
       "\n",
       "    .dataframe tbody tr th {\n",
       "        vertical-align: top;\n",
       "    }\n",
       "\n",
       "    .dataframe thead th {\n",
       "        text-align: right;\n",
       "    }\n",
       "</style>\n",
       "<table border=\"1\" class=\"dataframe\">\n",
       "  <thead>\n",
       "    <tr style=\"text-align: right;\">\n",
       "      <th></th>\n",
       "      <th>Real</th>\n",
       "      <th>Optimal</th>\n",
       "    </tr>\n",
       "  </thead>\n",
       "  <tbody>\n",
       "    <tr>\n",
       "      <th>1</th>\n",
       "      <td>0.271801</td>\n",
       "      <td>0.425008</td>\n",
       "    </tr>\n",
       "    <tr>\n",
       "      <th>2</th>\n",
       "      <td>0.188743</td>\n",
       "      <td>0.32755</td>\n",
       "    </tr>\n",
       "    <tr>\n",
       "      <th>3</th>\n",
       "      <td>0.760772</td>\n",
       "      <td>0.137805</td>\n",
       "    </tr>\n",
       "    <tr>\n",
       "      <th>4</th>\n",
       "      <td>0.21769</td>\n",
       "      <td>0.148293</td>\n",
       "    </tr>\n",
       "    <tr>\n",
       "      <th>5</th>\n",
       "      <td>0.554693</td>\n",
       "      <td>0.190321</td>\n",
       "    </tr>\n",
       "  </tbody>\n",
       "</table>\n",
       "</div>"
      ],
      "text/plain": [
       "       Real   Optimal\n",
       "1  0.271801  0.425008\n",
       "2  0.188743   0.32755\n",
       "3  0.760772  0.137805\n",
       "4   0.21769  0.148293\n",
       "5  0.554693  0.190321"
      ]
     },
     "execution_count": 7,
     "metadata": {},
     "output_type": "execute_result"
    }
   ],
   "source": [
    "prob_compare_df = pd.DataFrame(columns=['Real', 'Optimal'])\n",
    "\n",
    "for household in households:\n",
    "    prob_compare_df.loc[household, 'Real'] = df.loc[household, types[df.loc[household, 'Real'] - 1]]\n",
    "    prob_compare_df.loc[household, 'Optimal'] = df.loc[\n",
    "        household,\n",
    "        types[np.where(optimal_df.loc[household] == 1)[0][0]]\n",
    "    ]\n",
    "    \n",
    "prob_compare_df.head()"
   ]
  },
  {
   "cell_type": "code",
   "execution_count": 8,
   "metadata": {},
   "outputs": [
    {
     "data": {
      "image/png": "[encoded data removed]",
      "text/plain": [
       "<Figure size 432x288 with 1 Axes>"
      ]
     },
     "metadata": {},
     "output_type": "display_data"
    }
   ],
   "source": [
    "prob_compare_df['Diff'] = prob_compare_df['Optimal'] - prob_compare_df['Real']\n",
    "plt.hist(prob_compare_df[prob_compare_df['Diff'] != 0]['Diff'], bins=30)\n",
    "plt.show()"
   ]
  },
  {
   "cell_type": "markdown",
   "metadata": {},
   "source": [
    "# Default vs. Gurobi"
   ]
  },
  {
   "cell_type": "code",
   "execution_count": 2,
   "metadata": {},
   "outputs": [],
   "source": [
    "optimal_df = pd.read_csv('../../data/optimal.csv', index_col=0)\n",
    "optimal_gurobi_df = pd.read_csv('../../data/optimal_gurobi.csv', index_col=0)"
   ]
  },
  {
   "cell_type": "code",
   "execution_count": 9,
   "metadata": {},
   "outputs": [],
   "source": [
    "def objective_fn(assignment_df):\n",
    "    running_result = 0\n",
    "    for household in households:\n",
    "        running_result += df.loc[\n",
    "            household, \n",
    "            types[np.where(assignment_df.loc[household] == 1)[0][0]]\n",
    "        ]\n",
    "    \n",
    "    return running_result"
   ]
  },
  {
   "cell_type": "code",
   "execution_count": 10,
   "metadata": {},
   "outputs": [
    {
     "name": "stdout",
     "output_type": "stream",
     "text": [
      "Default solver: 4022.9664101700073\n",
      "Gurobi: 4044.2944191979923\n"
     ]
    }
   ],
   "source": [
    "print(f'Default solver: {objective_fn(optimal_df)}')\n",
    "print(f'Gurobi: {objective_fn(optimal_gurobi_df)}')"
   ]
  },
  {
   "cell_type": "code",
   "execution_count": null,
   "metadata": {},
   "outputs": [],
   "source": []
  }
 ],
 "metadata": {
  "kernelspec": {
   "display_name": "Python 3",
   "language": "python",
   "name": "python3"
  },
  "language_info": {
   "codemirror_mode": {
    "name": "ipython",
    "version": 3
   },
   "file_extension": ".py",
   "mimetype": "text/x-python",
   "name": "python",
   "nbconvert_exporter": "python",
   "pygments_lexer": "ipython3",
   "version": "3.7.6"
  }
 },
 "nbformat": 4,
 "nbformat_minor": 2
}
