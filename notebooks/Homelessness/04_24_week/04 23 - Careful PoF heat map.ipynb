{
 "cells": [
  {
   "cell_type": "code",
   "execution_count": 1,
   "metadata": {},
   "outputs": [],
   "source": [
    "import pandas as pd\n",
    "import numpy as np\n",
    "np.random.seed(0)\n",
    "from scipy.optimize import linear_sum_assignment\n",
    "\n",
    "import matplotlib.pyplot as plt\n",
    "plt.style.use('seaborn-darkgrid')\n",
    "plt.rcParams['figure.figsize'] = 20, 13\n",
    "plt.rcParams['font.size'] = 20\n",
    "plt.rcParams['lines.linewidth'] = 2\n",
    "import seaborn as sns\n",
    "\n",
    "import sys\n",
    "sys.path.insert(0, '../../..')\n",
    "import leximin_assignment\n",
    "import matrix_gen\n",
    "\n",
    "from tqdm import tqdm\n",
    "\n",
    "import warnings"
   ]
  },
  {
   "cell_type": "code",
   "execution_count": 2,
   "metadata": {},
   "outputs": [],
   "source": [
    "def custom_eff_assignment(cost_matrix, capacities):\n",
    "    full_cost_matrix = np.repeat(cost_matrix, capacities, axis=1)\n",
    "    row_ind, col_ind = linear_sum_assignment(full_cost_matrix)\n",
    "    \n",
    "    return full_cost_matrix[row_ind, col_ind].sum()"
   ]
  },
  {
   "cell_type": "code",
   "execution_count": 3,
   "metadata": {},
   "outputs": [],
   "source": [
    "N = 20\n",
    "N_INTVS = 4\n",
    "N_EXPERIMENTS = 10\n",
    "CAPACITIES = np.ones((N_INTVS,), dtype=int) * (N // N_INTVS)"
   ]
  },
  {
   "cell_type": "code",
   "execution_count": 8,
   "metadata": {},
   "outputs": [],
   "source": [
    "matrix_generator = matrix_gen.MatrixGenerator(\n",
    "    np.random.beta, (0.001, 0.001), N, N_INTVS\n",
    ")"
   ]
  },
  {
   "cell_type": "code",
   "execution_count": 9,
   "metadata": {},
   "outputs": [
    {
     "data": {
      "text/plain": [
       "18"
      ]
     },
     "execution_count": 9,
     "metadata": {},
     "output_type": "execute_result"
    }
   ],
   "source": [
    "(_, sorted_matrix), (__, sorted_increase_matrix) = matrix_generator.get_increase_matrix_pair(\n",
    "    round_=False\n",
    ")\n",
    "\n",
    "np.sum(sorted_matrix[:, -1] == 1)"
   ]
  },
  {
   "cell_type": "code",
   "execution_count": 10,
   "metadata": {},
   "outputs": [
    {
     "data": {
      "text/plain": [
       "array([[1.00000000e+000, 1.00000000e+000, 1.00000000e+000,\n",
       "        1.00000000e+000],\n",
       "       [1.46227382e-052, 1.00000000e+000, 1.00000000e+000,\n",
       "        1.00000000e+000],\n",
       "       [0.00000000e+000, 0.00000000e+000, 1.00000000e+000,\n",
       "        1.00000000e+000],\n",
       "       [0.00000000e+000, 2.50262025e-241, 7.61772811e-128,\n",
       "        1.67532021e-008],\n",
       "       [0.00000000e+000, 2.25521025e-159, 8.39593227e-001,\n",
       "        1.00000000e+000],\n",
       "       [1.00000000e+000, 1.00000000e+000, 1.00000000e+000,\n",
       "        1.00000000e+000],\n",
       "       [0.00000000e+000, 3.71090297e-221, 8.15127108e-105,\n",
       "        1.00000000e+000],\n",
       "       [0.00000000e+000, 0.00000000e+000, 1.00000000e+000,\n",
       "        1.00000000e+000],\n",
       "       [1.00000000e+000, 1.00000000e+000, 1.00000000e+000,\n",
       "        1.00000000e+000],\n",
       "       [0.00000000e+000, 1.70825785e-081, 1.00000000e+000,\n",
       "        1.00000000e+000],\n",
       "       [5.37948538e-045, 1.00000000e+000, 1.00000000e+000,\n",
       "        1.00000000e+000],\n",
       "       [0.00000000e+000, 0.00000000e+000, 0.00000000e+000,\n",
       "        1.00000000e+000],\n",
       "       [0.00000000e+000, 0.00000000e+000, 0.00000000e+000,\n",
       "        2.27951301e-002],\n",
       "       [0.00000000e+000, 1.00000000e+000, 1.00000000e+000,\n",
       "        1.00000000e+000],\n",
       "       [0.00000000e+000, 0.00000000e+000, 1.81878928e-059,\n",
       "        1.00000000e+000],\n",
       "       [7.70317857e-008, 1.00000000e+000, 1.00000000e+000,\n",
       "        1.00000000e+000],\n",
       "       [0.00000000e+000, 0.00000000e+000, 1.00000000e+000,\n",
       "        1.00000000e+000],\n",
       "       [0.00000000e+000, 1.00000000e+000, 1.00000000e+000,\n",
       "        1.00000000e+000],\n",
       "       [0.00000000e+000, 2.71135832e-176, 3.06828090e-083,\n",
       "        1.00000000e+000],\n",
       "       [2.59250051e-082, 1.00000000e+000, 1.00000000e+000,\n",
       "        1.00000000e+000]])"
      ]
     },
     "execution_count": 10,
     "metadata": {},
     "output_type": "execute_result"
    }
   ],
   "source": [
    "sorted_matrix"
   ]
  },
  {
   "cell_type": "code",
   "execution_count": 12,
   "metadata": {},
   "outputs": [
    {
     "data": {
      "text/plain": [
       "array([0, 2])"
      ]
     },
     "execution_count": 12,
     "metadata": {},
     "output_type": "execute_result"
    }
   ],
   "source": [
    "a = np.array([\n",
    "    [1, 2, 3],\n",
    "    [2, 3, 4],\n",
    "    [2, 3, 3]\n",
    "])\n",
    "\n",
    "np.argwhere(a[:, -1] == a[:, -1].min()).flatten()"
   ]
  },
  {
   "cell_type": "code",
   "execution_count": null,
   "metadata": {},
   "outputs": [],
   "source": []
  }
 ],
 "metadata": {
  "kernelspec": {
   "display_name": "Python 3",
   "language": "python",
   "name": "python3"
  },
  "language_info": {
   "codemirror_mode": {
    "name": "ipython",
    "version": 3
   },
   "file_extension": ".py",
   "mimetype": "text/x-python",
   "name": "python",
   "nbconvert_exporter": "python",
   "pygments_lexer": "ipython3",
   "version": "3.7.6"
  }
 },
 "nbformat": 4,
 "nbformat_minor": 2
}
