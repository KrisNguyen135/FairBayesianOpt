{
 "cells": [
  {
   "cell_type": "code",
   "execution_count": 1,
   "metadata": {},
   "outputs": [],
   "source": [
    "import pandas as pd\n",
    "import numpy as np\n",
    "np.random.seed(0)\n",
    "\n",
    "import matplotlib.pyplot as plt\n",
    "plt.style.use('seaborn-darkgrid')\n",
    "plt.rcParams['figure.figsize'] = 20, 13\n",
    "plt.rcParams['font.size'] = 20\n",
    "plt.rcParams['lines.linewidth'] = 2\n",
    "import seaborn as sns\n",
    "\n",
    "import sys\n",
    "sys.path.insert(0, '../../..')\n",
    "import assignment\n",
    "import leximin_assignment\n",
    "import matrix_gen\n",
    "\n",
    "from tqdm import tqdm\n",
    "\n",
    "import warnings"
   ]
  },
  {
   "cell_type": "code",
   "execution_count": 7,
   "metadata": {},
   "outputs": [],
   "source": [
    "N = 30\n",
    "N_INTVS = 5\n",
    "N_EXPERIMENTS = 10\n",
    "CAPACITIES = np.ones((N_INTVS,), dtype=int) * (N // N_INTVS)"
   ]
  },
  {
   "cell_type": "code",
   "execution_count": null,
   "metadata": {
    "scrolled": false
   },
   "outputs": [
    {
     "name": "stdout",
     "output_type": "stream",
     "text": [
      "0.1\n"
     ]
    }
   ],
   "source": [
    "PS = [0.1, 0.2, 0.3, 0.4, 0.5, 0.6, 0.7, 0.8, 0.9]\n",
    "\n",
    "pof_pop = [[] for _ in PS]\n",
    "\n",
    "for p_id, p in enumerate(PS):\n",
    "    print(p)\n",
    "    \n",
    "    matrix_generator = matrix_gen.MatrixGenerator(\n",
    "        np.random.binomial, (1, p), N, N_INTVS\n",
    "    )\n",
    "    \n",
    "    success_count = 0\n",
    "    while success_count < N_EXPERIMENTS:\n",
    "        (_, sorted_matrix), (__, sorted_increase_matrix) = matrix_generator.get_increase_matrix_pair(\n",
    "            round_=False\n",
    "        )\n",
    "        \n",
    "        # Efficient\n",
    "        eff_assigner = assignment.AssignmentHelperV2(\n",
    "            sorted_increase_matrix, CAPACITIES\n",
    "        )\n",
    "        eff_assignments = eff_assigner.ip_solve()\n",
    "        eff_cost = eff_assigner.get_cost(\n",
    "            eff_assignments, cost_matrix=sorted_matrix\n",
    "        )\n",
    "\n",
    "        # Leximin\n",
    "        lex_assigner = leximin_assignment.LeximinAssignmentHelperV3(\n",
    "            sorted_increase_matrix, CAPACITIES\n",
    "        )\n",
    "        with warnings.catch_warnings():\n",
    "            warnings.simplefilter('ignore')\n",
    "            lex_assignments = lex_assigner.solve()\n",
    "        lex_cost = eff_assigner.get_cost(\n",
    "            lex_assignments, cost_matrix=sorted_matrix\n",
    "        )\n",
    "        \n",
    "        # print(sorted_increase_matrix)\n",
    "        # print(eff_assignments)\n",
    "        # print(lex_assignments)\n",
    "        # print(eff_cost, lex_cost)\n",
    "        \n",
    "        if lex_cost == eff_cost == 0:\n",
    "            pof_pop[p_id].append(1)\n",
    "        else:\n",
    "            pof_pop[p_id].append(lex_cost / eff_cost)\n",
    "        success_count += 1"
   ]
  },
  {
   "cell_type": "code",
   "execution_count": null,
   "metadata": {},
   "outputs": [],
   "source": [
    "plt.boxplot(\n",
    "    pof_pop,\n",
    "    labels=PS\n",
    ")\n",
    "plt.show()"
   ]
  },
  {
   "cell_type": "code",
   "execution_count": null,
   "metadata": {},
   "outputs": [],
   "source": []
  }
 ],
 "metadata": {
  "kernelspec": {
   "display_name": "Python 3",
   "language": "python",
   "name": "python3"
  },
  "language_info": {
   "codemirror_mode": {
    "name": "ipython",
    "version": 3
   },
   "file_extension": ".py",
   "mimetype": "text/x-python",
   "name": "python",
   "nbconvert_exporter": "python",
   "pygments_lexer": "ipython3",
   "version": "3.7.6"
  }
 },
 "nbformat": 4,
 "nbformat_minor": 2
}
