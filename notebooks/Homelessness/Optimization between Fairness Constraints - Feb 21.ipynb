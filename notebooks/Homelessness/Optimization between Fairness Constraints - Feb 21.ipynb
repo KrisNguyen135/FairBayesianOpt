{
 "cells": [
  {
   "cell_type": "code",
   "execution_count": 1,
   "metadata": {},
   "outputs": [],
   "source": [
    "import pandas as pd\n",
    "import numpy as np\n",
    "\n",
    "import matplotlib.pyplot as plt\n",
    "plt.style.use('seaborn-dark')\n",
    "\n",
    "import sys\n",
    "sys.path.insert(0, '../..')\n",
    "\n",
    "import quan_utils"
   ]
  },
  {
   "cell_type": "code",
   "execution_count": 2,
   "metadata": {},
   "outputs": [
    {
     "name": "stderr",
     "output_type": "stream",
     "text": [
      "/Users/quannguyen/anaconda3/envs/BayesFAI/lib/python3.7/site-packages/tensorflow/python/framework/dtypes.py:526: FutureWarning: Passing (type, 1) or '1type' as a synonym of type is deprecated; in a future version of numpy, it will be understood as (type, (1,)) / '(1,)type'.\n",
      "  _np_qint8 = np.dtype([(\"qint8\", np.int8, 1)])\n",
      "/Users/quannguyen/anaconda3/envs/BayesFAI/lib/python3.7/site-packages/tensorflow/python/framework/dtypes.py:527: FutureWarning: Passing (type, 1) or '1type' as a synonym of type is deprecated; in a future version of numpy, it will be understood as (type, (1,)) / '(1,)type'.\n",
      "  _np_quint8 = np.dtype([(\"quint8\", np.uint8, 1)])\n",
      "/Users/quannguyen/anaconda3/envs/BayesFAI/lib/python3.7/site-packages/tensorflow/python/framework/dtypes.py:528: FutureWarning: Passing (type, 1) or '1type' as a synonym of type is deprecated; in a future version of numpy, it will be understood as (type, (1,)) / '(1,)type'.\n",
      "  _np_qint16 = np.dtype([(\"qint16\", np.int16, 1)])\n",
      "/Users/quannguyen/anaconda3/envs/BayesFAI/lib/python3.7/site-packages/tensorflow/python/framework/dtypes.py:529: FutureWarning: Passing (type, 1) or '1type' as a synonym of type is deprecated; in a future version of numpy, it will be understood as (type, (1,)) / '(1,)type'.\n",
      "  _np_quint16 = np.dtype([(\"quint16\", np.uint16, 1)])\n",
      "/Users/quannguyen/anaconda3/envs/BayesFAI/lib/python3.7/site-packages/tensorflow/python/framework/dtypes.py:530: FutureWarning: Passing (type, 1) or '1type' as a synonym of type is deprecated; in a future version of numpy, it will be understood as (type, (1,)) / '(1,)type'.\n",
      "  _np_qint32 = np.dtype([(\"qint32\", np.int32, 1)])\n",
      "/Users/quannguyen/anaconda3/envs/BayesFAI/lib/python3.7/site-packages/tensorflow/python/framework/dtypes.py:535: FutureWarning: Passing (type, 1) or '1type' as a synonym of type is deprecated; in a future version of numpy, it will be understood as (type, (1,)) / '(1,)type'.\n",
      "  np_resource = np.dtype([(\"resource\", np.ubyte, 1)])\n"
     ]
    }
   ],
   "source": [
    "import gpflow\n",
    "import gpflowopt"
   ]
  },
  {
   "cell_type": "code",
   "execution_count": 3,
   "metadata": {},
   "outputs": [],
   "source": [
    "prob_df = pd.read_csv('../../data/data.csv', index_col=0)\n",
    "# capacity_df = prob_df['Real'].value_counts()\n",
    "\n",
    "\n",
    "# All objective functions\n",
    "def obj_f(x):\n",
    "    real_alloc_constraint = x[:, 0]\n",
    "    best_alloc_constraint = x[:, 1]\n",
    "    \n",
    "    helper = quan_utils.AssignmentHelper()\n",
    "    \n",
    "    helper.update_constraints(\n",
    "        fairness_constraint=real_alloc_constraint,\n",
    "        fairness_best_constraint=best_alloc_constraint\n",
    "    )\n",
    "    \n",
    "    sol_df = helper.ip_solve()\n",
    "    if sol_df is False:\n",
    "        return np.hstack((\n",
    "            # [[0]],\n",
    "            [[1]],\n",
    "            [[1]]\n",
    "        ))\n",
    "    \n",
    "    # real_n_reentries, bart_n_reentries, sol_n_reentries = helper.compare_reentry(sol_df, verbose=False)\n",
    "    prob_compare_df = helper.compare_prob(sol_df)\n",
    "    \n",
    "    return np.hstack((\n",
    "        # [[- (real_n_reentries - sol_n_reentries) / real_n_reentries * 100]],\n",
    "        [[prob_compare_df[prob_compare_df['Input_to_real'] > 0]['Input_to_real'].max()]],\n",
    "        [[prob_compare_df[prob_compare_df['Input_to_best'] > 0]['Input_to_best'].max()]]\n",
    "    ))"
   ]
  },
  {
   "cell_type": "code",
   "execution_count": 4,
   "metadata": {},
   "outputs": [
    {
     "data": {
      "text/plain": [
       "array([[0.1525, 0.75  ],\n",
       "       [0.105 , 0.    ],\n",
       "       [0.01  , 0.5   ],\n",
       "       [0.2   , 0.25  ],\n",
       "       [0.0575, 1.    ]])"
      ]
     },
     "execution_count": 4,
     "metadata": {},
     "output_type": "execute_result"
    }
   ],
   "source": [
    "NUM_SAMPLES = 5\n",
    "\n",
    "# Input domain\n",
    "domain = gpflowopt.domain.ContinuousParameter('fairness constraint', 0.01, 0.2) \\\n",
    "         + gpflowopt.domain.ContinuousParameter('fairness best_constraint', 0, 1)\n",
    "design = gpflowopt.design.LatinHyperCube(NUM_SAMPLES, domain)\n",
    "X = design.generate()\n",
    "X"
   ]
  },
  {
   "cell_type": "code",
   "execution_count": 5,
   "metadata": {},
   "outputs": [
    {
     "name": "stderr",
     "output_type": "stream",
     "text": [
      "/Users/quannguyen/anaconda3/envs/BayesFAI/lib/python3.7/site-packages/pulp/solvers.py:2080: UserWarning: GUROBI_CMD does provide good solution status of non optimal solutions\n",
      "  warnings.warn('GUROBI_CMD does provide good solution status of non optimal solutions')\n",
      "/Users/quannguyen/anaconda3/envs/BayesFAI/lib/python3.7/site-packages/pulp/solvers.py:2080: UserWarning: GUROBI_CMD does provide good solution status of non optimal solutions\n",
      "  warnings.warn('GUROBI_CMD does provide good solution status of non optimal solutions')\n",
      "/Users/quannguyen/anaconda3/envs/BayesFAI/lib/python3.7/site-packages/pulp/solvers.py:2080: UserWarning: GUROBI_CMD does provide good solution status of non optimal solutions\n",
      "  warnings.warn('GUROBI_CMD does provide good solution status of non optimal solutions')\n"
     ]
    },
    {
     "data": {
      "text/plain": [
       "array([[0.1508268 , 0.5309186 ],\n",
       "       [1.        , 1.        ],\n",
       "       [1.        , 1.        ],\n",
       "       [1.        , 1.        ],\n",
       "       [0.057494  , 0.55801695]])"
      ]
     },
     "execution_count": 5,
     "metadata": {},
     "output_type": "execute_result"
    }
   ],
   "source": [
    "NUM_OBJS = 2\n",
    "\n",
    "Y = np.array([obj_f(x.reshape(1, 2)) for x in X]).reshape(NUM_SAMPLES, NUM_OBJS)\n",
    "Y"
   ]
  },
  {
   "cell_type": "code",
   "execution_count": 6,
   "metadata": {},
   "outputs": [
    {
     "name": "stderr",
     "output_type": "stream",
     "text": [
      "/Users/quannguyen/anaconda3/envs/BayesFAI/lib/python3.7/site-packages/gpflowopt/acquisition/acquisition.py:193: FutureWarning: arrays to stack must be passed as a \"sequence\" type such as list or tuple. Support for non-sequence iterables such as generators is deprecated as of NumPy 1.16 and will raise an error in the future.\n",
      "  return self.models[0].X.value, np.hstack(map(lambda model: model.Y.value, self.models))\n"
     ]
    }
   ],
   "source": [
    "# One model for each objective\n",
    "objective_models = [gpflow.gpr.GPR(X.copy(), Y[:, [i]].copy(),\n",
    "                                   gpflow.kernels.Matern52(2, ARD=True))\n",
    "                    for i in range(Y.shape[1])]\n",
    "\n",
    "for model in objective_models:\n",
    "    model.likelihood.variance = 0.01\n",
    "    \n",
    "hvpoi = gpflowopt.acquisition.HVProbabilityOfImprovement(objective_models)"
   ]
  },
  {
   "cell_type": "code",
   "execution_count": 7,
   "metadata": {
    "scrolled": true
   },
   "outputs": [
    {
     "name": "stdout",
     "output_type": "stream",
     "text": [
      "WARNING:tensorflow:From /Users/quannguyen/anaconda3/envs/BayesFAI/lib/python3.7/site-packages/tensorflow/python/framework/op_def_library.py:263: colocate_with (from tensorflow.python.framework.ops) is deprecated and will be removed in a future version.\n",
      "Instructions for updating:\n",
      "Colocations handled automatically by placer.\n"
     ]
    },
    {
     "name": "stderr",
     "output_type": "stream",
     "text": [
      "/Users/quannguyen/anaconda3/envs/BayesFAI/lib/python3.7/site-packages/gpflowopt/domain.py:97: FutureWarning: arrays to stack must be passed as a \"sequence\" type such as list or tuple. Support for non-sequence iterables such as generators is deprecated as of NumPy 1.16 and will raise an error in the future.\n",
      "  return np.vstack(map(lambda p: p.value, self._parameters)).T\n"
     ]
    },
    {
     "name": "stdout",
     "output_type": "stream",
     "text": [
      "WARNING:tensorflow:From /Users/quannguyen/anaconda3/envs/BayesFAI/lib/python3.7/site-packages/tensorflow/python/ops/math_ops.py:3066: to_int32 (from tensorflow.python.ops.math_ops) is deprecated and will be removed in a future version.\n",
      "Instructions for updating:\n",
      "Use tf.cast instead.\n"
     ]
    },
    {
     "name": "stderr",
     "output_type": "stream",
     "text": [
      "/Users/quannguyen/anaconda3/envs/BayesFAI/lib/python3.7/site-packages/gpflowopt/acquisition/hvpoi.py:92: FutureWarning: arrays to stack must be passed as a \"sequence\" type such as list or tuple. Support for non-sequence iterables such as generators is deprecated as of NumPy 1.16 and will raise an error in the future.\n",
      "  F = np.hstack((m.predict_f(feasible_samples)[0] for m in self.models))\n"
     ]
    },
    {
     "name": "stdout",
     "output_type": "stream",
     "text": [
      "WARNING:tensorflow:From /Users/quannguyen/anaconda3/envs/BayesFAI/lib/python3.7/site-packages/gpflowopt/acquisition/hvpoi.py:112: Normal.__init__ (from tensorflow.python.ops.distributions.normal) is deprecated and will be removed after 2019-01-01.\n",
      "Instructions for updating:\n",
      "The TensorFlow Distributions library has moved to TensorFlow Probability (https://github.com/tensorflow/probability). You should update all references to use `tfp.distributions` instead of `tf.distributions`.\n",
      "WARNING:tensorflow:From /Users/quannguyen/anaconda3/envs/BayesFAI/lib/python3.7/site-packages/tensorflow/python/ops/distributions/normal.py:160: Distribution.__init__ (from tensorflow.python.ops.distributions.distribution) is deprecated and will be removed after 2019-01-01.\n",
      "Instructions for updating:\n",
      "The TensorFlow Distributions library has moved to TensorFlow Probability (https://github.com/tensorflow/probability). You should update all references to use `tfp.distributions` instead of `tf.distributions`.\n",
      "WARNING:tensorflow:From /Users/quannguyen/anaconda3/envs/BayesFAI/lib/python3.7/site-packages/gpflowopt/acquisition/hvpoi.py:124: calling reduce_sum_v1 (from tensorflow.python.ops.math_ops) with keep_dims is deprecated and will be removed in a future version.\n",
      "Instructions for updating:\n",
      "keep_dims is deprecated, use keepdims instead\n",
      "WARNING:tensorflow:From /Users/quannguyen/anaconda3/envs/BayesFAI/lib/python3.7/site-packages/tensorflow/python/ops/math_grad.py:163: setdiff1d (from tensorflow.python.ops.array_ops) is deprecated and will be removed after 2018-11-30.\n",
      "Instructions for updating:\n",
      "This op will be removed after the deprecation date. Please switch to tf.sets.difference().\n"
     ]
    },
    {
     "name": "stderr",
     "output_type": "stream",
     "text": [
      "/Users/quannguyen/anaconda3/envs/BayesFAI/lib/python3.7/site-packages/gpflowopt/bo.py:150: FutureWarning: arrays to stack must be passed as a \"sequence\" type such as list or tuple. Support for non-sequence iterables such as generators is deprecated as of NumPy 1.16 and will raise an error in the future.\n",
      "  evaluations = np.hstack(map(lambda f: f(X), fxs))\n",
      "/Users/quannguyen/anaconda3/envs/BayesFAI/lib/python3.7/site-packages/gpflowopt/acquisition/acquisition.py:193: FutureWarning: arrays to stack must be passed as a \"sequence\" type such as list or tuple. Support for non-sequence iterables such as generators is deprecated as of NumPy 1.16 and will raise an error in the future.\n",
      "  return self.models[0].X.value, np.hstack(map(lambda model: model.Y.value, self.models))\n",
      "/Users/quannguyen/anaconda3/envs/BayesFAI/lib/python3.7/site-packages/gpflowopt/acquisition/hvpoi.py:92: FutureWarning: arrays to stack must be passed as a \"sequence\" type such as list or tuple. Support for non-sequence iterables such as generators is deprecated as of NumPy 1.16 and will raise an error in the future.\n",
      "  F = np.hstack((m.predict_f(feasible_samples)[0] for m in self.models))\n",
      "/Users/quannguyen/anaconda3/envs/BayesFAI/lib/python3.7/site-packages/gpflowopt/bo.py:150: FutureWarning: arrays to stack must be passed as a \"sequence\" type such as list or tuple. Support for non-sequence iterables such as generators is deprecated as of NumPy 1.16 and will raise an error in the future.\n",
      "  evaluations = np.hstack(map(lambda f: f(X), fxs))\n",
      "/Users/quannguyen/anaconda3/envs/BayesFAI/lib/python3.7/site-packages/gpflowopt/acquisition/acquisition.py:193: FutureWarning: arrays to stack must be passed as a \"sequence\" type such as list or tuple. Support for non-sequence iterables such as generators is deprecated as of NumPy 1.16 and will raise an error in the future.\n",
      "  return self.models[0].X.value, np.hstack(map(lambda model: model.Y.value, self.models))\n",
      "/Users/quannguyen/anaconda3/envs/BayesFAI/lib/python3.7/site-packages/gpflowopt/acquisition/hvpoi.py:92: FutureWarning: arrays to stack must be passed as a \"sequence\" type such as list or tuple. Support for non-sequence iterables such as generators is deprecated as of NumPy 1.16 and will raise an error in the future.\n",
      "  F = np.hstack((m.predict_f(feasible_samples)[0] for m in self.models))\n",
      "/Users/quannguyen/anaconda3/envs/BayesFAI/lib/python3.7/site-packages/gpflowopt/bo.py:150: FutureWarning: arrays to stack must be passed as a \"sequence\" type such as list or tuple. Support for non-sequence iterables such as generators is deprecated as of NumPy 1.16 and will raise an error in the future.\n",
      "  evaluations = np.hstack(map(lambda f: f(X), fxs))\n",
      "/Users/quannguyen/anaconda3/envs/BayesFAI/lib/python3.7/site-packages/gpflowopt/acquisition/acquisition.py:193: FutureWarning: arrays to stack must be passed as a \"sequence\" type such as list or tuple. Support for non-sequence iterables such as generators is deprecated as of NumPy 1.16 and will raise an error in the future.\n",
      "  return self.models[0].X.value, np.hstack(map(lambda model: model.Y.value, self.models))\n",
      "/Users/quannguyen/anaconda3/envs/BayesFAI/lib/python3.7/site-packages/gpflowopt/acquisition/hvpoi.py:92: FutureWarning: arrays to stack must be passed as a \"sequence\" type such as list or tuple. Support for non-sequence iterables such as generators is deprecated as of NumPy 1.16 and will raise an error in the future.\n",
      "  F = np.hstack((m.predict_f(feasible_samples)[0] for m in self.models))\n",
      "/Users/quannguyen/anaconda3/envs/BayesFAI/lib/python3.7/site-packages/gpflowopt/bo.py:150: FutureWarning: arrays to stack must be passed as a \"sequence\" type such as list or tuple. Support for non-sequence iterables such as generators is deprecated as of NumPy 1.16 and will raise an error in the future.\n",
      "  evaluations = np.hstack(map(lambda f: f(X), fxs))\n",
      "/Users/quannguyen/anaconda3/envs/BayesFAI/lib/python3.7/site-packages/gpflowopt/acquisition/acquisition.py:193: FutureWarning: arrays to stack must be passed as a \"sequence\" type such as list or tuple. Support for non-sequence iterables such as generators is deprecated as of NumPy 1.16 and will raise an error in the future.\n",
      "  return self.models[0].X.value, np.hstack(map(lambda model: model.Y.value, self.models))\n",
      "/Users/quannguyen/anaconda3/envs/BayesFAI/lib/python3.7/site-packages/gpflowopt/acquisition/hvpoi.py:92: FutureWarning: arrays to stack must be passed as a \"sequence\" type such as list or tuple. Support for non-sequence iterables such as generators is deprecated as of NumPy 1.16 and will raise an error in the future.\n",
      "  F = np.hstack((m.predict_f(feasible_samples)[0] for m in self.models))\n",
      "/Users/quannguyen/anaconda3/envs/BayesFAI/lib/python3.7/site-packages/gpflowopt/bo.py:150: FutureWarning: arrays to stack must be passed as a \"sequence\" type such as list or tuple. Support for non-sequence iterables such as generators is deprecated as of NumPy 1.16 and will raise an error in the future.\n",
      "  evaluations = np.hstack(map(lambda f: f(X), fxs))\n",
      "/Users/quannguyen/anaconda3/envs/BayesFAI/lib/python3.7/site-packages/gpflowopt/acquisition/acquisition.py:193: FutureWarning: arrays to stack must be passed as a \"sequence\" type such as list or tuple. Support for non-sequence iterables such as generators is deprecated as of NumPy 1.16 and will raise an error in the future.\n",
      "  return self.models[0].X.value, np.hstack(map(lambda model: model.Y.value, self.models))\n",
      "/Users/quannguyen/anaconda3/envs/BayesFAI/lib/python3.7/site-packages/gpflowopt/acquisition/hvpoi.py:92: FutureWarning: arrays to stack must be passed as a \"sequence\" type such as list or tuple. Support for non-sequence iterables such as generators is deprecated as of NumPy 1.16 and will raise an error in the future.\n",
      "  F = np.hstack((m.predict_f(feasible_samples)[0] for m in self.models))\n",
      "/Users/quannguyen/anaconda3/envs/BayesFAI/lib/python3.7/site-packages/gpflowopt/bo.py:150: FutureWarning: arrays to stack must be passed as a \"sequence\" type such as list or tuple. Support for non-sequence iterables such as generators is deprecated as of NumPy 1.16 and will raise an error in the future.\n",
      "  evaluations = np.hstack(map(lambda f: f(X), fxs))\n",
      "/Users/quannguyen/anaconda3/envs/BayesFAI/lib/python3.7/site-packages/gpflowopt/acquisition/acquisition.py:193: FutureWarning: arrays to stack must be passed as a \"sequence\" type such as list or tuple. Support for non-sequence iterables such as generators is deprecated as of NumPy 1.16 and will raise an error in the future.\n",
      "  return self.models[0].X.value, np.hstack(map(lambda model: model.Y.value, self.models))\n",
      "/Users/quannguyen/anaconda3/envs/BayesFAI/lib/python3.7/site-packages/gpflowopt/acquisition/hvpoi.py:92: FutureWarning: arrays to stack must be passed as a \"sequence\" type such as list or tuple. Support for non-sequence iterables such as generators is deprecated as of NumPy 1.16 and will raise an error in the future.\n",
      "  F = np.hstack((m.predict_f(feasible_samples)[0] for m in self.models))\n",
      "/Users/quannguyen/anaconda3/envs/BayesFAI/lib/python3.7/site-packages/gpflowopt/bo.py:150: FutureWarning: arrays to stack must be passed as a \"sequence\" type such as list or tuple. Support for non-sequence iterables such as generators is deprecated as of NumPy 1.16 and will raise an error in the future.\n",
      "  evaluations = np.hstack(map(lambda f: f(X), fxs))\n",
      "/Users/quannguyen/anaconda3/envs/BayesFAI/lib/python3.7/site-packages/gpflowopt/acquisition/acquisition.py:193: FutureWarning: arrays to stack must be passed as a \"sequence\" type such as list or tuple. Support for non-sequence iterables such as generators is deprecated as of NumPy 1.16 and will raise an error in the future.\n",
      "  return self.models[0].X.value, np.hstack(map(lambda model: model.Y.value, self.models))\n",
      "/Users/quannguyen/anaconda3/envs/BayesFAI/lib/python3.7/site-packages/gpflowopt/acquisition/hvpoi.py:92: FutureWarning: arrays to stack must be passed as a \"sequence\" type such as list or tuple. Support for non-sequence iterables such as generators is deprecated as of NumPy 1.16 and will raise an error in the future.\n",
      "  F = np.hstack((m.predict_f(feasible_samples)[0] for m in self.models))\n",
      "/Users/quannguyen/anaconda3/envs/BayesFAI/lib/python3.7/site-packages/gpflowopt/bo.py:150: FutureWarning: arrays to stack must be passed as a \"sequence\" type such as list or tuple. Support for non-sequence iterables such as generators is deprecated as of NumPy 1.16 and will raise an error in the future.\n",
      "  evaluations = np.hstack(map(lambda f: f(X), fxs))\n"
     ]
    },
    {
     "name": "stderr",
     "output_type": "stream",
     "text": [
      "/Users/quannguyen/anaconda3/envs/BayesFAI/lib/python3.7/site-packages/gpflowopt/acquisition/acquisition.py:193: FutureWarning: arrays to stack must be passed as a \"sequence\" type such as list or tuple. Support for non-sequence iterables such as generators is deprecated as of NumPy 1.16 and will raise an error in the future.\n",
      "  return self.models[0].X.value, np.hstack(map(lambda model: model.Y.value, self.models))\n",
      "/Users/quannguyen/anaconda3/envs/BayesFAI/lib/python3.7/site-packages/gpflowopt/acquisition/hvpoi.py:92: FutureWarning: arrays to stack must be passed as a \"sequence\" type such as list or tuple. Support for non-sequence iterables such as generators is deprecated as of NumPy 1.16 and will raise an error in the future.\n",
      "  F = np.hstack((m.predict_f(feasible_samples)[0] for m in self.models))\n",
      "/Users/quannguyen/anaconda3/envs/BayesFAI/lib/python3.7/site-packages/gpflowopt/bo.py:150: FutureWarning: arrays to stack must be passed as a \"sequence\" type such as list or tuple. Support for non-sequence iterables such as generators is deprecated as of NumPy 1.16 and will raise an error in the future.\n",
      "  evaluations = np.hstack(map(lambda f: f(X), fxs))\n",
      "/Users/quannguyen/anaconda3/envs/BayesFAI/lib/python3.7/site-packages/gpflowopt/acquisition/acquisition.py:193: FutureWarning: arrays to stack must be passed as a \"sequence\" type such as list or tuple. Support for non-sequence iterables such as generators is deprecated as of NumPy 1.16 and will raise an error in the future.\n",
      "  return self.models[0].X.value, np.hstack(map(lambda model: model.Y.value, self.models))\n",
      "/Users/quannguyen/anaconda3/envs/BayesFAI/lib/python3.7/site-packages/gpflowopt/acquisition/hvpoi.py:92: FutureWarning: arrays to stack must be passed as a \"sequence\" type such as list or tuple. Support for non-sequence iterables such as generators is deprecated as of NumPy 1.16 and will raise an error in the future.\n",
      "  F = np.hstack((m.predict_f(feasible_samples)[0] for m in self.models))\n",
      "/Users/quannguyen/anaconda3/envs/BayesFAI/lib/python3.7/site-packages/gpflowopt/bo.py:150: FutureWarning: arrays to stack must be passed as a \"sequence\" type such as list or tuple. Support for non-sequence iterables such as generators is deprecated as of NumPy 1.16 and will raise an error in the future.\n",
      "  evaluations = np.hstack(map(lambda f: f(X), fxs))\n",
      "/Users/quannguyen/anaconda3/envs/BayesFAI/lib/python3.7/site-packages/gpflowopt/acquisition/acquisition.py:193: FutureWarning: arrays to stack must be passed as a \"sequence\" type such as list or tuple. Support for non-sequence iterables such as generators is deprecated as of NumPy 1.16 and will raise an error in the future.\n",
      "  return self.models[0].X.value, np.hstack(map(lambda model: model.Y.value, self.models))\n"
     ]
    }
   ],
   "source": [
    "BUDGET = 10\n",
    "\n",
    "# Combine MC step followed by L-BFGS-B\n",
    "acquisition_opt = gpflowopt.optim.StagedOptimizer([\n",
    "    gpflowopt.optim.MCOptimizer(domain, 1000),\n",
    "    gpflowopt.optim.SciPyOptimizer(domain)\n",
    "])\n",
    "\n",
    "# Run BO\n",
    "optimizer = gpflowopt.BayesianOptimizer(\n",
    "    domain, hvpoi, optimizer=acquisition_opt\n",
    ")\n",
    "\n",
    "result = optimizer.optimize(obj_f, n_iter=BUDGET)"
   ]
  },
  {
   "cell_type": "code",
   "execution_count": 8,
   "metadata": {},
   "outputs": [
    {
     "data": {
      "text/plain": [
       " constraints: array([], shape=(10, 0), dtype=float64)\n",
       "         fun: array([[0.057494  , 0.55801695],\n",
       "       [0.12367213, 0.53360549],\n",
       "       [0.17662699, 0.52825288],\n",
       "       [0.03318348, 0.57148758],\n",
       "       [0.08828039, 0.54228367],\n",
       "       [0.14237789, 0.5309186 ],\n",
       "       [0.07287821, 0.54596009],\n",
       "       [0.04638311, 0.56608073],\n",
       "       [0.10268385, 0.5365947 ],\n",
       "       [0.06485454, 0.55295661]])\n",
       "     message: 'OK'\n",
       "        nfev: 10\n",
       "     success: True\n",
       "           x: array([[0.0575    , 1.        ],\n",
       "       [0.12413475, 0.94125316],\n",
       "       [0.18019259, 0.78240967],\n",
       "       [0.03318381, 0.91237977],\n",
       "       [0.09007764, 0.89397569],\n",
       "       [0.14365885, 0.78754674],\n",
       "       [0.0728968 , 0.90555737],\n",
       "       [0.04638488, 0.91095194],\n",
       "       [0.1036711 , 0.88500538],\n",
       "       [0.06485878, 0.90948632]])"
      ]
     },
     "execution_count": 8,
     "metadata": {},
     "output_type": "execute_result"
    }
   ],
   "source": [
    "result"
   ]
  },
  {
   "cell_type": "code",
   "execution_count": 9,
   "metadata": {},
   "outputs": [
    {
     "data": {
      "text/plain": [
       "(array([[0.1525    , 0.75      ],\n",
       "        [0.105     , 0.        ],\n",
       "        [0.01      , 0.5       ],\n",
       "        [0.2       , 0.25      ],\n",
       "        [0.0575    , 1.        ],\n",
       "        [0.15290538, 0.86458615],\n",
       "        [0.12413475, 0.94125316],\n",
       "        [0.18019259, 0.78240967],\n",
       "        [0.03318381, 0.91237977],\n",
       "        [0.09007764, 0.89397569],\n",
       "        [0.14365885, 0.78754674],\n",
       "        [0.0728968 , 0.90555737],\n",
       "        [0.04638488, 0.91095194],\n",
       "        [0.1036711 , 0.88500538],\n",
       "        [0.06485878, 0.90948632]]), array([[0.1508268 , 0.5309186 ],\n",
       "        [1.        , 1.        ],\n",
       "        [1.        , 1.        ],\n",
       "        [1.        , 1.        ],\n",
       "        [0.057494  , 0.55801695],\n",
       "        [0.15283173, 0.5309186 ],\n",
       "        [0.12367213, 0.53360549],\n",
       "        [0.17662699, 0.52825288],\n",
       "        [0.03318348, 0.57148758],\n",
       "        [0.08828039, 0.54228367],\n",
       "        [0.14237789, 0.5309186 ],\n",
       "        [0.07287821, 0.54596009],\n",
       "        [0.04638311, 0.56608073],\n",
       "        [0.10268385, 0.5365947 ],\n",
       "        [0.06485454, 0.55295661]]))"
      ]
     },
     "execution_count": 9,
     "metadata": {},
     "output_type": "execute_result"
    }
   ],
   "source": [
    "hvpoi.data"
   ]
  },
  {
   "cell_type": "code",
   "execution_count": 17,
   "metadata": {},
   "outputs": [
    {
     "data": {
      "image/png": "[encoded data removed]",
      "text/plain": [
       "<Figure size 720x576 with 2 Axes>"
      ]
     },
     "metadata": {},
     "output_type": "display_data"
    }
   ],
   "source": [
    "_, dom = gpflowopt.pareto.non_dominated_sort(hvpoi.data[1])\n",
    "\n",
    "plt.figure(figsize=(10, 8))\n",
    "\n",
    "plt.scatter(hvpoi.data[0][dom != 12, 1], hvpoi.data[0][dom != 12, 0],\n",
    "            c=dom[dom!= 12], s=100, cmap='viridis')\n",
    "plt.colorbar()\n",
    "plt.scatter(hvpoi.data[0][dom == 12, 1], hvpoi.data[0][dom == 12, 0],\n",
    "            c='white', s=100, cmap='viridis')\n",
    "\n",
    "my_xlim = plt.xlim()\n",
    "plt.xlim(my_xlim[1], my_xlim[0])\n",
    "my_ylim = plt.ylim()\n",
    "plt.ylim(my_ylim[1], my_ylim[0])\n",
    "\n",
    "plt.xlabel('Ind. best alloc. constraint', fontsize=16)\n",
    "plt.ylabel('Original alloc. constraint', fontsize=16)\n",
    "\n",
    "plt.show()"
   ]
  },
  {
   "cell_type": "code",
   "execution_count": 14,
   "metadata": {},
   "outputs": [
    {
     "data": {
      "image/png": "[encoded data removed]",
      "text/plain": [
       "<Figure size 720x576 with 2 Axes>"
      ]
     },
     "metadata": {},
     "output_type": "display_data"
    }
   ],
   "source": [
    "plt.figure(figsize=(10, 8))\n",
    "\n",
    "plt.scatter(hvpoi.data[1][dom != 12, 0], hvpoi.data[1][dom != 12, 1], \n",
    "            c=dom[dom!= 12], s=100, cmap='viridis')\n",
    "plt.colorbar()\n",
    "\n",
    "plt.xlabel('Max increased prob. from original alloc.', fontsize=16)\n",
    "plt.ylabel('Max increased prob. from ind. best alloc.', fontsize=16)\n",
    "\n",
    "plt.show()"
   ]
  },
  {
   "cell_type": "code",
   "execution_count": 12,
   "metadata": {},
   "outputs": [
    {
     "data": {
      "text/plain": [
       "array([ 1, 12, 12, 12,  0,  2,  0,  0,  0,  0,  0,  0,  0,  0,  0])"
      ]
     },
     "execution_count": 12,
     "metadata": {},
     "output_type": "execute_result"
    }
   ],
   "source": [
    "dom"
   ]
  },
  {
   "cell_type": "code",
   "execution_count": null,
   "metadata": {},
   "outputs": [],
   "source": []
  }
 ],
 "metadata": {
  "kernelspec": {
   "display_name": "Python 3",
   "language": "python",
   "name": "python3"
  },
  "language_info": {
   "codemirror_mode": {
    "name": "ipython",
    "version": 3
   },
   "file_extension": ".py",
   "mimetype": "text/x-python",
   "name": "python",
   "nbconvert_exporter": "python",
   "pygments_lexer": "ipython3",
   "version": "3.7.6"
  }
 },
 "nbformat": 4,
 "nbformat_minor": 2
}
