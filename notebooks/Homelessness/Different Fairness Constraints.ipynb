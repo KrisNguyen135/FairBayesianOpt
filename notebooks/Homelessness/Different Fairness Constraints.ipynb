{
 "cells": [
  {
   "cell_type": "code",
   "execution_count": 1,
   "metadata": {},
   "outputs": [],
   "source": [
    "import pandas as pd\n",
    "import numpy as np\n",
    "\n",
    "import matplotlib.pyplot as plt\n",
    "plt.style.use('seaborn-darkgrid')\n",
    "\n",
    "import time"
   ]
  },
  {
   "cell_type": "code",
   "execution_count": 2,
   "metadata": {},
   "outputs": [],
   "source": [
    "import sys\n",
    "sys.path.insert(0, '../..')\n",
    "\n",
    "import quan_utils"
   ]
  },
  {
   "cell_type": "code",
   "execution_count": null,
   "metadata": {},
   "outputs": [
    {
     "name": "stdout",
     "output_type": "stream",
     "text": [
      "Creating variables\n",
      "Setting up problem\n",
      "Setting up objective function\n"
     ]
    }
   ],
   "source": [
    "helper = quan_utils.AssignmentHelper()\n",
    "helper.update_constraints()"
   ]
  },
  {
   "cell_type": "code",
   "execution_count": 4,
   "metadata": {},
   "outputs": [
    {
     "name": "stdout",
     "output_type": "stream",
     "text": [
      "Took 1.2093 seconds\n"
     ]
    },
    {
     "data": {
      "text/html": [
       "<div>\n",
       "<style scoped>\n",
       "    .dataframe tbody tr th:only-of-type {\n",
       "        vertical-align: middle;\n",
       "    }\n",
       "\n",
       "    .dataframe tbody tr th {\n",
       "        vertical-align: top;\n",
       "    }\n",
       "\n",
       "    .dataframe thead th {\n",
       "        text-align: right;\n",
       "    }\n",
       "</style>\n",
       "<table border=\"1\" class=\"dataframe\">\n",
       "  <thead>\n",
       "    <tr style=\"text-align: right;\">\n",
       "      <th></th>\n",
       "      <th>ES</th>\n",
       "      <th>PSH</th>\n",
       "      <th>TH</th>\n",
       "      <th>RRH</th>\n",
       "      <th>PREV</th>\n",
       "    </tr>\n",
       "  </thead>\n",
       "  <tbody>\n",
       "    <tr>\n",
       "      <th>1</th>\n",
       "      <td>0.0</td>\n",
       "      <td>0.0</td>\n",
       "      <td>0.0</td>\n",
       "      <td>0.0</td>\n",
       "      <td>1.0</td>\n",
       "    </tr>\n",
       "    <tr>\n",
       "      <th>2</th>\n",
       "      <td>0.0</td>\n",
       "      <td>0.0</td>\n",
       "      <td>1.0</td>\n",
       "      <td>0.0</td>\n",
       "      <td>0.0</td>\n",
       "    </tr>\n",
       "    <tr>\n",
       "      <th>3</th>\n",
       "      <td>0.0</td>\n",
       "      <td>0.0</td>\n",
       "      <td>1.0</td>\n",
       "      <td>0.0</td>\n",
       "      <td>0.0</td>\n",
       "    </tr>\n",
       "    <tr>\n",
       "      <th>4</th>\n",
       "      <td>0.0</td>\n",
       "      <td>0.0</td>\n",
       "      <td>1.0</td>\n",
       "      <td>0.0</td>\n",
       "      <td>0.0</td>\n",
       "    </tr>\n",
       "    <tr>\n",
       "      <th>5</th>\n",
       "      <td>0.0</td>\n",
       "      <td>0.0</td>\n",
       "      <td>1.0</td>\n",
       "      <td>0.0</td>\n",
       "      <td>0.0</td>\n",
       "    </tr>\n",
       "  </tbody>\n",
       "</table>\n",
       "</div>"
      ],
      "text/plain": [
       "    ES  PSH   TH  RRH  PREV\n",
       "1  0.0  0.0  0.0  0.0   1.0\n",
       "2  0.0  0.0  1.0  0.0   0.0\n",
       "3  0.0  0.0  1.0  0.0   0.0\n",
       "4  0.0  0.0  1.0  0.0   0.0\n",
       "5  0.0  0.0  1.0  0.0   0.0"
      ]
     },
     "execution_count": 4,
     "metadata": {},
     "output_type": "execute_result"
    }
   ],
   "source": [
    "t0 = time.time()\n",
    "sol_df = helper.ip_solve()\n",
    "print(f'Took {time.time() - t0:.4f} seconds')\n",
    "sol_df.head()"
   ]
  },
  {
   "cell_type": "code",
   "execution_count": 5,
   "metadata": {},
   "outputs": [
    {
     "name": "stdout",
     "output_type": "stream",
     "text": [
      "Total number of reentered households: 396\n",
      "BART-estimated: 389.7662\n",
      "Input assignment: 341.9093\n",
      "396 389.7662175899996 341.9093257240004\n"
     ]
    }
   ],
   "source": [
    "real_n_reentries, bart_n_reentries, uncon_sol_n_reentries = helper.compare_reentry(sol_df)\n",
    "print(real_n_reentries, bart_n_reentries, uncon_sol_n_reentries)"
   ]
  },
  {
   "cell_type": "code",
   "execution_count": 6,
   "metadata": {},
   "outputs": [
    {
     "data": {
      "image/png": "[encoded data removed]",
      "text/plain": [
       "<Figure size 432x288 with 1 Axes>"
      ]
     },
     "metadata": {},
     "output_type": "display_data"
    }
   ],
   "source": [
    "helper.visualize_increased_prob(sol_df)"
   ]
  },
  {
   "cell_type": "code",
   "execution_count": 7,
   "metadata": {},
   "outputs": [
    {
     "name": "stdout",
     "output_type": "stream",
     "text": [
      "Processing constraint 0.0\n",
      "Processing constraint 0.01\n",
      "Processing constraint 0.02\n",
      "Processing constraint 0.03\n",
      "Processing constraint 0.04\n",
      "Processing constraint 0.05\n",
      "Processing constraint 0.06\n",
      "Processing constraint 0.07\n",
      "Processing constraint 0.08\n",
      "Processing constraint 0.09\n",
      "Processing constraint 0.1\n"
     ]
    },
    {
     "data": {
      "text/plain": [
       "[8.204503597222365,\n",
       " 8.758460185606179,\n",
       " 9.180312971969846,\n",
       " 9.605988636363765,\n",
       " 10.10636828080819,\n",
       " 10.714329284090972,\n",
       " 11.400616325505007,\n",
       " 12.493816241161559,\n",
       " 13.208244842171684,\n",
       " 13.29385391464636,\n",
       " 13.37069505050494]"
      ]
     },
     "execution_count": 7,
     "metadata": {},
     "output_type": "execute_result"
    }
   ],
   "source": [
    "fairness_constraints = [i / 100 for i in range(11)]\n",
    "percentage_reductions = []\n",
    "\n",
    "for constraint in fairness_constraints:\n",
    "    print(f'Processing constraint {constraint}')\n",
    "    \n",
    "    helper = quan_utils.AssignmentHelper()\n",
    "    helper.update_constraints(fairness_constraint=constraint)\n",
    "    \n",
    "    sol_df = helper.ip_solve()\n",
    "    real_n_reentries, bart_n_reentries, sol_n_reentries = helper.compare_reentry(sol_df, verbose=False)\n",
    "    # print(real_n_reentries, bart_n_reentries, sol_n_reentries)\n",
    "    \n",
    "    percentage_reductions.append(\n",
    "        (real_n_reentries - sol_n_reentries) / real_n_reentries * 100\n",
    "    )\n",
    "\n",
    "percentage_reductions"
   ]
  },
  {
   "cell_type": "code",
   "execution_count": 10,
   "metadata": {},
   "outputs": [
    {
     "data": {
      "image/png": "[encoded data removed]",
      "text/plain": [
       "<Figure size 432x288 with 1 Axes>"
      ]
     },
     "metadata": {},
     "output_type": "display_data"
    }
   ],
   "source": [
    "plt.axhline(\n",
    "    (real_n_reentries - uncon_sol_n_reentries) / real_n_reentries * 100,\n",
    "    c='red',\n",
    "    label='Unconstrained optimization'\n",
    ")\n",
    "plt.scatter(fairness_constraints, percentage_reductions)\n",
    "plt.plot(fairness_constraints, percentage_reductions)\n",
    "\n",
    "plt.legend()\n",
    "plt.show()"
   ]
  },
  {
   "cell_type": "code",
   "execution_count": null,
   "metadata": {},
   "outputs": [],
   "source": []
  }
 ],
 "metadata": {
  "kernelspec": {
   "display_name": "Python 3",
   "language": "python",
   "name": "python3"
  },
  "language_info": {
   "codemirror_mode": {
    "name": "ipython",
    "version": 3
   },
   "file_extension": ".py",
   "mimetype": "text/x-python",
   "name": "python",
   "nbconvert_exporter": "python",
   "pygments_lexer": "ipython3",
   "version": "3.7.6"
  }
 },
 "nbformat": 4,
 "nbformat_minor": 2
}
