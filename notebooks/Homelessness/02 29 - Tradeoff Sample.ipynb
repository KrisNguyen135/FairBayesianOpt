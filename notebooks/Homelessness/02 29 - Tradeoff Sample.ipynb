{
 "cells": [
  {
   "cell_type": "code",
   "execution_count": 1,
   "metadata": {},
   "outputs": [],
   "source": [
    "import pandas as pd\n",
    "import numpy as np\n",
    "np.random.seed(0)\n",
    "import pulp\n",
    "\n",
    "import sys\n",
    "sys.path.insert(0, '../..')\n",
    "import bottleneck_assignment\n",
    "import assignment\n",
    "\n",
    "import matplotlib.pyplot as plt\n",
    "plt.style.use('seaborn-darkgrid')\n",
    "import matplotlib\n",
    "matplotlib.rcParams.update({'font.size': 13})\n",
    "\n",
    "import time\n",
    "\n",
    "import warnings"
   ]
  },
  {
   "cell_type": "code",
   "execution_count": 2,
   "metadata": {},
   "outputs": [],
   "source": [
    "sample_probs = np.array([\n",
    "    [0.1, 0.8, 0.9],\n",
    "    [0.3, 0.7, 0.9],\n",
    "    [0.2, 0.3, 0.6]\n",
    "])\n",
    "\n",
    "cost_matrix = np.array([\n",
    "    [0, 0.7, 0.8],\n",
    "    [0, 0.4, 0.6],\n",
    "    [0, 0.1, 0.4]\n",
    "])"
   ]
  },
  {
   "cell_type": "code",
   "execution_count": 3,
   "metadata": {},
   "outputs": [
    {
     "name": "stdout",
     "output_type": "stream",
     "text": [
      "[0 2 1]\n",
      "[0.  0.6 0.1]\n"
     ]
    }
   ],
   "source": [
    "eff_assign_helper = assignment.AssignmentHelperV2(\n",
    "    sample_probs,\n",
    "    [1, 1, 1]\n",
    ")\n",
    "\n",
    "assignments = eff_assign_helper.ip_solve()\n",
    "print(assignments)\n",
    "\n",
    "cost_increases = eff_assign_helper.get_cost_increases(assignments)\n",
    "print(cost_increases)"
   ]
  },
  {
   "cell_type": "code",
   "execution_count": 4,
   "metadata": {},
   "outputs": [
    {
     "name": "stdout",
     "output_type": "stream",
     "text": [
      "Searching between 0.0 and 0.8\n",
      "Searching between 0.0 and 0.6\n",
      "Searching between 0.0 and 0.4\n"
     ]
    },
    {
     "name": "stderr",
     "output_type": "stream",
     "text": [
      "/Users/quannguyen/anaconda3/envs/BayesFAI/lib/python3.7/site-packages/pulp/solvers.py:2080: UserWarning: GUROBI_CMD does provide good solution status of non optimal solutions\n",
      "  warnings.warn('GUROBI_CMD does provide good solution status of non optimal solutions')\n",
      "/Users/quannguyen/anaconda3/envs/BayesFAI/lib/python3.7/site-packages/pulp/solvers.py:2080: UserWarning: GUROBI_CMD does provide good solution status of non optimal solutions\n",
      "  warnings.warn('GUROBI_CMD does provide good solution status of non optimal solutions')\n"
     ]
    },
    {
     "data": {
      "text/plain": [
       "(array([0.1, 0.4]), array([0, 1, 2]))"
      ]
     },
     "execution_count": 4,
     "metadata": {},
     "output_type": "execute_result"
    }
   ],
   "source": [
    "bottleneck_helper = bottleneck_assignment.BottleneckAssignmentHelperV2(\n",
    "    cost_matrix,\n",
    "    [1, 1, 1]\n",
    ")\n",
    "\n",
    "bottleneck_helper.solve(verbose=True)"
   ]
  },
  {
   "cell_type": "markdown",
   "metadata": {},
   "source": [
    "# n-by-2 costs"
   ]
  },
  {
   "cell_type": "code",
   "execution_count": 3,
   "metadata": {
    "scrolled": true
   },
   "outputs": [
    {
     "name": "stdout",
     "output_type": "stream",
     "text": [
      "Cost matrix:\n",
      "[[0.11827443 0.63992102]\n",
      " [0.14335329 0.94466892]\n",
      " [0.52184832 0.41466194]]\n",
      "\n",
      "Increase matrix:\n",
      "[[0.         0.52164659]\n",
      " [0.         0.80131563]\n",
      " [0.10718638 0.        ]]\n",
      "\n",
      "Capacities: [1, 2]\n",
      "\n",
      "Efficient assignment: [1 0 1]\n",
      "Cost increases in efficient assignment: [0.52164659 0.         0.        ]\n",
      "\n",
      "Searching between 0.0 and 0.8013156300000001\n",
      "Searching between 0.0 and 0.5216465899999999\n",
      "Minimum bottleneck: [0.10718638 0.52164659]\n",
      "Bottleneck assignment: [1 0 1]\n",
      "Cost increases in bottleneck assignment: [0.52164659 0.         0.        ]\n"
     ]
    },
    {
     "name": "stderr",
     "output_type": "stream",
     "text": [
      "/Users/quannguyen/anaconda3/envs/BayesFAI/lib/python3.7/site-packages/pulp/solvers.py:2080: UserWarning: GUROBI_CMD does provide good solution status of non optimal solutions\n",
      "  warnings.warn('GUROBI_CMD does provide good solution status of non optimal solutions')\n",
      "/Users/quannguyen/anaconda3/envs/BayesFAI/lib/python3.7/site-packages/pulp/solvers.py:2080: UserWarning: GUROBI_CMD does provide good solution status of non optimal solutions\n",
      "  warnings.warn('GUROBI_CMD does provide good solution status of non optimal solutions')\n"
     ]
    }
   ],
   "source": [
    "N_INTVS = 2\n",
    "n_agents = 3  # np.random.randint(10, 20)\n",
    "\n",
    "# cost_matrix = np.random.rand(n_agents, N_INTVS)\n",
    "cost_matrix = np.array([\n",
    "    [0.11827443, 0.63992102],\n",
    "    [0.14335329, 0.94466892],\n",
    "    [0.52184832, 0.41466194],\n",
    "])\n",
    "print('Cost matrix:')\n",
    "print(cost_matrix)\n",
    "print()\n",
    "\n",
    "min_matrix = np.repeat(\n",
    "    cost_matrix.min(axis=1), N_INTVS\n",
    ").reshape(cost_matrix.shape)\n",
    "increase_matrix = cost_matrix - min_matrix\n",
    "print('Increase matrix:')\n",
    "print(increase_matrix)\n",
    "print()\n",
    "\n",
    "capacities = [np.random.randint(1, n_agents - 1)]\n",
    "capacities.append(n_agents - capacities[0])\n",
    "print('Capacities:', capacities)\n",
    "print()\n",
    "\n",
    "# Efficient assignment solver\n",
    "assign_helper = assignment.AssignmentHelperV2(\n",
    "    cost_matrix, capacities\n",
    ")\n",
    "assignments = assign_helper.ip_solve()\n",
    "print('Efficient assignment:', assignments)\n",
    "cost_increases = assign_helper.get_cost_increases(\n",
    "    assignments, increase_matrix=increase_matrix\n",
    ")\n",
    "print('Cost increases in efficient assignment:', cost_increases)\n",
    "print()\n",
    "\n",
    "# Bottleneck assignment solver\n",
    "bottleneck_helper = bottleneck_assignment.BottleneckAssignmentHelperV2(\n",
    "    increase_matrix, capacities\n",
    ")\n",
    "c_star_thresholds, bottleneck_assignments = bottleneck_helper.solve(verbose=True)\n",
    "print('Minimum bottleneck:', c_star_thresholds)\n",
    "print('Bottleneck assignment:', bottleneck_assignments)\n",
    "cost_increases = assign_helper.get_cost_increases(\n",
    "    bottleneck_assignments, increase_matrix=increase_matrix\n",
    ")\n",
    "print('Cost increases in bottleneck assignment:', cost_increases)"
   ]
  },
  {
   "cell_type": "code",
   "execution_count": 12,
   "metadata": {
    "scrolled": true
   },
   "outputs": [],
   "source": [
    "N_INTVS = 2\n",
    "n_experiments = 100\n",
    "\n",
    "for experiment in range(n_experiments):\n",
    "    n_agents = np.random.randint(10, 20)\n",
    "\n",
    "    cost_matrix = np.random.rand(n_agents, N_INTVS)\n",
    "\n",
    "    min_matrix = np.repeat(\n",
    "        cost_matrix.min(axis=1), N_INTVS\n",
    "    ).reshape(cost_matrix.shape)\n",
    "    increase_matrix = cost_matrix - min_matrix\n",
    "\n",
    "    capacities = [np.random.randint(1, n_agents - 1)]\n",
    "    capacities.append(n_agents - capacities[0])\n",
    "\n",
    "    # Efficient assignment solver\n",
    "    assign_helper = assignment.AssignmentHelperV2(\n",
    "        cost_matrix, capacities\n",
    "    )\n",
    "    assignments = assign_helper.ip_solve()\n",
    "    efficiency = sum([cost_matrix[agent_id, assignments[agent_id]]\n",
    "                      for agent_id in range(n_agents)])\n",
    "    cost_increases = assign_helper.get_cost_increases(\n",
    "        assignments, increase_matrix=increase_matrix\n",
    "    )\n",
    "\n",
    "    # Bottleneck assignment solver\n",
    "    bottleneck_helper = bottleneck_assignment.BottleneckAssignmentHelperV2(\n",
    "        increase_matrix, capacities\n",
    "    )\n",
    "    with warnings.catch_warnings():  # temporarily suspense warnings\n",
    "        warnings.simplefilter('ignore')\n",
    "        c_star_thresholds, bottleneck_assignments = bottleneck_helper.solve(verbose=False)\n",
    "    bottleneck_efficiency = sum([cost_matrix[agent_id, bottleneck_assignments[agent_id]]\n",
    "                                 for agent_id in range(n_agents)])\n",
    "    bottleneck_cost_increases = assign_helper.get_cost_increases(\n",
    "        bottleneck_assignments, increase_matrix=increase_matrix\n",
    "    )\n",
    "    \n",
    "    if cost_increases.max() != bottleneck_cost_increases.max() \\\n",
    "            or efficiency != bottleneck_efficiency:\n",
    "        print(f'Experiment {experiment}')\n",
    "        print()\n",
    "        \n",
    "        print('Cost matrix:')\n",
    "        print(cost_matrix)\n",
    "        print()\n",
    "    \n",
    "        print('Increase matrix:')\n",
    "        print(increase_matrix)\n",
    "        print()\n",
    "        \n",
    "        print('Capacities:', capacities)\n",
    "        print()\n",
    "        \n",
    "        print('Efficient assignment:', assignments)\n",
    "        print('Cost increases in efficient assignment:', cost_increases)\n",
    "        print()\n",
    "        \n",
    "        print('Minimum bottleneck:', c_star_thresholds)\n",
    "        print('Bottleneck assignment:', bottleneck_assignments)\n",
    "        print('Cost increases in bottleneck assignment:', bottleneck_cost_increases)\n",
    "        print()\n",
    "        \n",
    "        print('=' * 40)\n",
    "        \n",
    "#     print(efficiency, bottleneck_efficiency)\n",
    "#     print(cost_increases.max(), bottleneck_cost_increases.max())\n",
    "#     print()"
   ]
  },
  {
   "cell_type": "code",
   "execution_count": 19,
   "metadata": {
    "scrolled": false
   },
   "outputs": [
    {
     "name": "stdout",
     "output_type": "stream",
     "text": [
      "Experiment 0\n",
      "\n",
      "Cost matrix:\n",
      "[[0.1 0.8 0.9]\n",
      " [0.3 0.7 0.9]\n",
      " [0.2 0.3 0.6]]\n",
      "\n",
      "Increase matrix:\n",
      "[[0.  0.7 0.8]\n",
      " [0.  0.4 0.6]\n",
      " [0.  0.1 0.4]]\n",
      "\n",
      "Capacities: [1, 1, 1]\n",
      "\n",
      "Efficient assignment: [0 2 1]\n",
      "Efficiency: 1.3\n",
      "Cost increases: [0.  0.6 0.1]\n",
      "Max cost increase: 0.6000000000000001\n",
      "\n",
      "Minimum bottleneck: [0.1 0.4]\n",
      "Bottleneck assignment: [0 1 2]\n",
      "Efficiency: 1.4\n",
      "Cost increases: [0.  0.4 0.4]\n",
      "Max cost increase: 0.39999999999999997\n",
      "\n",
      "========================================\n"
     ]
    },
    {
     "name": "stderr",
     "output_type": "stream",
     "text": [
      "/Users/quannguyen/anaconda3/envs/BayesFAI/lib/python3.7/site-packages/pulp/solvers.py:2080: UserWarning: GUROBI_CMD does provide good solution status of non optimal solutions\n",
      "  warnings.warn('GUROBI_CMD does provide good solution status of non optimal solutions')\n",
      "/Users/quannguyen/anaconda3/envs/BayesFAI/lib/python3.7/site-packages/pulp/solvers.py:2080: UserWarning: GUROBI_CMD does provide good solution status of non optimal solutions\n",
      "  warnings.warn('GUROBI_CMD does provide good solution status of non optimal solutions')\n"
     ]
    }
   ],
   "source": [
    "n_agents = 3\n",
    "\n",
    "cost_matrix = np.array([\n",
    "    [0.1, 0.8, 0.9],\n",
    "    [0.3, 0.7, 0.9],\n",
    "    [0.2, 0.3, 0.6]\n",
    "])\n",
    "capacities = [1, 1, 1]\n",
    "\n",
    "min_matrix = np.repeat(\n",
    "    cost_matrix.min(axis=1), N_INTVS\n",
    ").reshape(cost_matrix.shape)\n",
    "increase_matrix = cost_matrix - min_matrix\n",
    "\n",
    "# Efficient assignment solver\n",
    "assign_helper = assignment.AssignmentHelperV2(\n",
    "    cost_matrix, capacities\n",
    ")\n",
    "assignments = assign_helper.ip_solve()\n",
    "efficiency = sum([cost_matrix[agent_id, assignments[agent_id]]\n",
    "                  for agent_id in range(n_agents)])\n",
    "cost_increases = assign_helper.get_cost_increases(\n",
    "    assignments, increase_matrix=increase_matrix\n",
    ")\n",
    "\n",
    "# Bottleneck assignment solver\n",
    "bottleneck_helper = bottleneck_assignment.BottleneckAssignmentHelperV2(\n",
    "    increase_matrix, capacities\n",
    ")\n",
    "c_star_thresholds, bottleneck_assignments = bottleneck_helper.solve(verbose=False)\n",
    "bottleneck_efficiency = sum([cost_matrix[agent_id, bottleneck_assignments[agent_id]]\n",
    "                             for agent_id in range(n_agents)])\n",
    "bottleneck_cost_increases = assign_helper.get_cost_increases(\n",
    "    bottleneck_assignments, increase_matrix=increase_matrix\n",
    ")\n",
    "\n",
    "if cost_increases.max() != bottleneck_cost_increases.max() \\\n",
    "        or efficiency != bottleneck_efficiency:\n",
    "    print(f'Experiment {experiment}')\n",
    "    print()\n",
    "\n",
    "    print('Cost matrix:')\n",
    "    print(cost_matrix)\n",
    "    print()\n",
    "\n",
    "    print('Increase matrix:')\n",
    "    print(increase_matrix)\n",
    "    print()\n",
    "\n",
    "    print('Capacities:', capacities)\n",
    "    print()\n",
    "\n",
    "    print('Efficient assignment:', assignments)\n",
    "    print('Efficiency:', efficiency)\n",
    "    print('Cost increases:', cost_increases)\n",
    "    print('Max cost increase:', cost_increases.max())\n",
    "    print()\n",
    "\n",
    "    print('Minimum bottleneck:', c_star_thresholds)\n",
    "    print('Bottleneck assignment:', bottleneck_assignments)\n",
    "    print('Efficiency:', bottleneck_efficiency)\n",
    "    print('Cost increases:', bottleneck_cost_increases)\n",
    "    print('Max cost increase:', bottleneck_cost_increases.max())\n",
    "    print()\n",
    "\n",
    "    print('=' * 40)"
   ]
  },
  {
   "cell_type": "code",
   "execution_count": 3,
   "metadata": {},
   "outputs": [
    {
     "name": "stderr",
     "output_type": "stream",
     "text": [
      "/Users/quannguyen/anaconda3/envs/BayesFAI/lib/python3.7/site-packages/pulp/solvers.py:2080: UserWarning: GUROBI_CMD does provide good solution status of non optimal solutions\n",
      "  warnings.warn('GUROBI_CMD does provide good solution status of non optimal solutions')\n",
      "/Users/quannguyen/anaconda3/envs/BayesFAI/lib/python3.7/site-packages/pulp/solvers.py:2080: UserWarning: GUROBI_CMD does provide good solution status of non optimal solutions\n",
      "  warnings.warn('GUROBI_CMD does provide good solution status of non optimal solutions')\n"
     ]
    }
   ],
   "source": [
    "FLOATING_POINTS = 1e-10\n",
    "\n",
    "def get_predicted_stats(m, n, q, p, eps, capacities):\n",
    "    if capacities[1] > capacities[2]:\n",
    "        eff1 = 2 * q * eps + p * q + n * eps\n",
    "        eff2 = 2 * p * q + n * eps\n",
    "    else:\n",
    "        eff1 = 2 * q * eps + p * n + n * eps\n",
    "        eff2 = p * q + n * p + n * eps\n",
    "    \n",
    "    return (eff1, p + 2 * eps), (eff2, p + eps)\n",
    "\n",
    "\n",
    "def float_equal(x, y):\n",
    "    return abs(x - y) < FLOATING_POINTS\n",
    "\n",
    "\n",
    "\n",
    "N_INTVS = 3\n",
    "n_experiments = 1\n",
    "\n",
    "# Randomly generated stats\n",
    "n_agents = np.random.randint(10, 20)\n",
    "\n",
    "capacities = [np.random.randint(1, n_agents - 2)]\n",
    "capacities.append(np.random.randint(1, n_agents - 1 - capacities[0]))\n",
    "capacities.append(n_agents - capacities[0] - capacities[1])\n",
    "\n",
    "m = capacities[0]\n",
    "n = max(capacities[1], capacities[2])\n",
    "q = min(capacities[1], capacities[2])\n",
    "\n",
    "# Set up a conflicting example\n",
    "p = np.random.uniform(0, 1)\n",
    "eps = np.random.uniform(0, min([\n",
    "    max([0, n / (3 * q - n) * p if 3 * q != n else 1]),\n",
    "    p / 2,\n",
    "    (1 - p) / 2\n",
    "]))\n",
    "\n",
    "cost_matrix = np.concatenate([\n",
    "    [[0, 1, 1] for _ in range(m)],\n",
    "    [[0, eps, p + eps] for _ in range(n)],\n",
    "    [[0, p, p + 2 * eps] for _ in range(q)]\n",
    "])\n",
    "\n",
    "min_matrix = np.repeat(\n",
    "    cost_matrix.min(axis=1), N_INTVS\n",
    ").reshape(cost_matrix.shape)\n",
    "increase_matrix = cost_matrix - min_matrix\n",
    "\n",
    "# Efficient assignment solver\n",
    "assign_helper = assignment.AssignmentHelperV2(\n",
    "    cost_matrix, capacities\n",
    ")\n",
    "assignments = assign_helper.ip_solve()\n",
    "efficiency = sum([cost_matrix[agent_id, assignments[agent_id]]\n",
    "                  for agent_id in range(n_agents)])\n",
    "cost_increases = assign_helper.get_cost_increases(\n",
    "    assignments, increase_matrix=increase_matrix\n",
    ")\n",
    "\n",
    "# Bottleneck assignment solver\n",
    "bottleneck_helper = bottleneck_assignment.BottleneckAssignmentHelperV2(\n",
    "    increase_matrix, capacities\n",
    ")\n",
    "c_star_thresholds, bottleneck_assignments = bottleneck_helper.solve(verbose=False)\n",
    "bottleneck_efficiency = sum([cost_matrix[agent_id, bottleneck_assignments[agent_id]]\n",
    "                             for agent_id in range(n_agents)])\n",
    "bottleneck_cost_increases = assign_helper.get_cost_increases(\n",
    "    bottleneck_assignments, increase_matrix=increase_matrix\n",
    ")\n",
    "\n",
    "stats = get_predicted_stats(m, n, q, p, eps, capacities)\n",
    "\n",
    "if not (float_equal(stats[0][0], efficiency) and float_equal(stats[0][1], cost_increases.max())\n",
    "        and float_equal(stats[1][0], bottleneck_efficiency)\n",
    "        and float_equal(stats[1][1], bottleneck_cost_increases.max())):\n",
    "    print('Cost matrix:')\n",
    "    print(cost_matrix)\n",
    "    print()\n",
    "\n",
    "    print('Capacities:', capacities)\n",
    "    print()\n",
    "\n",
    "    print('Efficient assignment:', assignments)\n",
    "    print('Efficiency:', efficiency)\n",
    "    print('Predicted efficiency:', )\n",
    "    print('Cost increases:', cost_increases)\n",
    "    print('Max cost increase:', cost_increases.max())\n",
    "    print()\n",
    "\n",
    "    print('Minimum bottleneck:', c_star_thresholds)\n",
    "    print('Bottleneck assignment:', bottleneck_assignments)\n",
    "    print('Efficiency:', bottleneck_efficiency)\n",
    "    print('Cost increases:', bottleneck_cost_increases)\n",
    "    print('Max cost increase:', bottleneck_cost_increases.max())\n",
    "    print()\n",
    "\n",
    "    print('Predicted stats:')\n",
    "    print('Efficient assignment:')\n",
    "    print(stats[0])\n",
    "    print('Bottleneck assignment:')\n",
    "    print(stats[1])"
   ]
  },
  {
   "cell_type": "code",
   "execution_count": 8,
   "metadata": {},
   "outputs": [
    {
     "name": "stdout",
     "output_type": "stream",
     "text": [
      "Done\n"
     ]
    }
   ],
   "source": [
    "N_INTVS = 3\n",
    "n_experiments = 100\n",
    "\n",
    "for _ in range(n_experiments):    \n",
    "    # Randomly generated stats\n",
    "    n_agents = np.random.randint(10, 20)\n",
    "\n",
    "    capacities = [np.random.randint(1, n_agents - 2)]\n",
    "    capacities.append(np.random.randint(1, n_agents - 1 - capacities[0]))\n",
    "    capacities.append(n_agents - capacities[0] - capacities[1])\n",
    "\n",
    "    m = capacities[0]\n",
    "    n = max(capacities[1], capacities[2])\n",
    "    q = min(capacities[1], capacities[2])\n",
    "\n",
    "    # Set up a conflicting example\n",
    "    p = 0\n",
    "    while p == 0:\n",
    "        p = np.random.uniform(0, 1)\n",
    "    eps = 0\n",
    "    while eps == 0:\n",
    "        eps = np.random.uniform(0, min([\n",
    "            max([0, n / (3 * q - n) * p if 3 * q > n else 1]),\n",
    "            p / 2,\n",
    "            (1 - p) / 2\n",
    "        ]))\n",
    "\n",
    "    cost_matrix = np.concatenate([\n",
    "        [[0, 1, 1] for _ in range(m)],\n",
    "        [[0, eps, p + eps] for _ in range(n)],\n",
    "        [[0, p, p + 2 * eps] for _ in range(q)]\n",
    "    ])\n",
    "\n",
    "    min_matrix = np.repeat(\n",
    "        cost_matrix.min(axis=1), N_INTVS\n",
    "    ).reshape(cost_matrix.shape)\n",
    "    increase_matrix = cost_matrix - min_matrix\n",
    "\n",
    "    # Efficient assignment solver\n",
    "    assign_helper = assignment.AssignmentHelperV2(\n",
    "        cost_matrix, capacities\n",
    "    )\n",
    "    assignments = assign_helper.ip_solve()\n",
    "    efficiency = sum([cost_matrix[agent_id, assignments[agent_id]]\n",
    "                      for agent_id in range(n_agents)])\n",
    "    cost_increases = assign_helper.get_cost_increases(\n",
    "        assignments, increase_matrix=increase_matrix\n",
    "    )\n",
    "\n",
    "    # Bottleneck assignment solver\n",
    "    bottleneck_helper = bottleneck_assignment.BottleneckAssignmentHelperV2(\n",
    "        increase_matrix, capacities\n",
    "    )\n",
    "    with warnings.catch_warnings():  # temporarily suspense warnings\n",
    "        warnings.simplefilter('ignore')\n",
    "        c_star_thresholds, bottleneck_assignments = bottleneck_helper.solve(verbose=False)\n",
    "    bottleneck_efficiency = sum([cost_matrix[agent_id, bottleneck_assignments[agent_id]]\n",
    "                                 for agent_id in range(n_agents)])\n",
    "    bottleneck_cost_increases = assign_helper.get_cost_increases(\n",
    "        bottleneck_assignments, increase_matrix=increase_matrix\n",
    "    )\n",
    "\n",
    "    stats = get_predicted_stats(m, n, q, p, eps, capacities)\n",
    "\n",
    "    if not (float_equal(stats[0][0], efficiency) and float_equal(stats[0][1], cost_increases.max())\n",
    "            and float_equal(stats[1][0], bottleneck_efficiency)\n",
    "            and float_equal(stats[1][1], bottleneck_cost_increases.max())):\n",
    "        print('Cost matrix:')\n",
    "        print(cost_matrix)\n",
    "        print()\n",
    "\n",
    "        print('Capacities:', capacities)\n",
    "        print()\n",
    "\n",
    "        print('Efficient assignment:', assignments)\n",
    "        print('Efficiency:', efficiency)\n",
    "        print('Predicted efficiency:', )\n",
    "        print('Cost increases:', cost_increases)\n",
    "        print('Max cost increase:', cost_increases.max())\n",
    "        print()\n",
    "\n",
    "        print('Minimum bottleneck:', c_star_thresholds)\n",
    "        print('Bottleneck assignment:', bottleneck_assignments)\n",
    "        print('Efficiency:', bottleneck_efficiency)\n",
    "        print('Cost increases:', bottleneck_cost_increases)\n",
    "        print('Max cost increase:', bottleneck_cost_increases.max())\n",
    "        print()\n",
    "\n",
    "        print('Predicted stats:')\n",
    "        print('Efficient assignment:')\n",
    "        print(stats[0])\n",
    "        print('Bottleneck assignment:')\n",
    "        print(stats[1])\n",
    "        print()\n",
    "        print('=' * 40)\n",
    "\n",
    "print('Done')"
   ]
  },
  {
   "cell_type": "markdown",
   "metadata": {},
   "source": [
    "# Scratch paper / pending"
   ]
  },
  {
   "cell_type": "code",
   "execution_count": 17,
   "metadata": {},
   "outputs": [
    {
     "name": "stdout",
     "output_type": "stream",
     "text": [
      "Experiment 0\n",
      "\n",
      "Cost matrix:\n",
      "[[0.36234998 0.48844713 0.93367646]\n",
      " [0.10742452 0.33950267 0.40212063]\n",
      " [0.76183465 0.82231485 0.96337442]\n",
      " [0.010792   0.10092634 0.13996707]\n",
      " [0.13336027 0.38888888 0.92108572]\n",
      " [0.16085469 0.53580051 0.57248321]\n",
      " [0.03486336 0.07873472 0.79267538]\n",
      " [0.34608133 0.84581161 0.98407994]\n",
      " [0.23637194 0.57381632 0.90047887]\n",
      " [0.39338516 0.76935769 0.83984988]\n",
      " [0.31260788 0.47689061 0.67567665]\n",
      " [0.09270437 0.30034118 0.69808731]\n",
      " [0.08961729 0.34470529 0.39110502]\n",
      " [0.39318863 0.57115667 0.9963373 ]]\n",
      "\n",
      "Increase matrix:\n",
      "[[0.         0.12609715 0.57132648]\n",
      " [0.         0.23207815 0.29469611]\n",
      " [0.         0.0604802  0.20153977]\n",
      " [0.         0.09013434 0.12917507]\n",
      " [0.         0.25552861 0.78772546]\n",
      " [0.         0.37494582 0.41162852]\n",
      " [0.         0.04387136 0.75781202]\n",
      " [0.         0.49973028 0.63799861]\n",
      " [0.         0.33744438 0.66410693]\n",
      " [0.         0.37597253 0.44646472]\n",
      " [0.         0.16428274 0.36306878]\n",
      " [0.         0.20763681 0.60538294]\n",
      " [0.         0.255088   0.30148773]\n",
      " [0.         0.17796804 0.60314867]]\n",
      "\n",
      "Capacities: [7, 5, 2]\n",
      "\n",
      "Efficient assignment: [1 2 1 2 0 0 1 0 0 0 1 0 0 1]\n",
      "Efficiency: 4.432006733936377\n",
      "Cost increases: [0.12609715 0.29469611 0.0604802  0.12917507 0.         0.\n",
      " 0.04387136 0.         0.         0.         0.16428274 0.\n",
      " 0.         0.17796804]\n",
      "Max cost increase: 0.2946961099769576\n",
      "\n",
      "Minimum bottleneck: [0.20153977 0.20763681]\n",
      "Bottleneck assignment: [1 0 2 2 0 0 1 0 0 0 1 1 0 1]\n",
      "Efficiency: 4.486007004687079\n",
      "Cost increases: [0.12609715 0.         0.20153977 0.12917507 0.         0.\n",
      " 0.04387136 0.         0.         0.         0.16428274 0.20763681\n",
      " 0.         0.17796804]\n",
      "Max cost increase: 0.20763681010822488\n",
      "\n",
      "========================================\n"
     ]
    },
    {
     "name": "stderr",
     "output_type": "stream",
     "text": [
      "/Users/quannguyen/anaconda3/envs/BayesFAI/lib/python3.7/site-packages/pulp/solvers.py:2080: UserWarning: GUROBI_CMD does provide good solution status of non optimal solutions\n",
      "  warnings.warn('GUROBI_CMD does provide good solution status of non optimal solutions')\n",
      "/Users/quannguyen/anaconda3/envs/BayesFAI/lib/python3.7/site-packages/pulp/solvers.py:2080: UserWarning: GUROBI_CMD does provide good solution status of non optimal solutions\n",
      "  warnings.warn('GUROBI_CMD does provide good solution status of non optimal solutions')\n",
      "/Users/quannguyen/anaconda3/envs/BayesFAI/lib/python3.7/site-packages/pulp/solvers.py:2080: UserWarning: GUROBI_CMD does provide good solution status of non optimal solutions\n",
      "  warnings.warn('GUROBI_CMD does provide good solution status of non optimal solutions')\n"
     ]
    }
   ],
   "source": [
    "N_INTVS = 3\n",
    "\n",
    "n_experiments = 1\n",
    "\n",
    "for experiment in range(n_experiments):\n",
    "    n_agents = np.random.randint(10, 20)\n",
    "\n",
    "    cost_matrix = np.random.rand(n_agents, N_INTVS)\n",
    "    cost_matrix.sort()\n",
    "\n",
    "    min_matrix = np.repeat(\n",
    "        cost_matrix.min(axis=1), N_INTVS\n",
    "    ).reshape(cost_matrix.shape)\n",
    "    increase_matrix = cost_matrix - min_matrix\n",
    "\n",
    "    capacities = [np.random.randint(1, n_agents - 2)]\n",
    "    capacities.append(np.random.randint(1, n_agents - 1 - capacities[0]))\n",
    "    capacities.append(n_agents - capacities[0] - capacities[1])\n",
    "\n",
    "    # Efficient assignment solver\n",
    "    assign_helper = assignment.AssignmentHelperV2(\n",
    "        cost_matrix, capacities\n",
    "    )\n",
    "    assignments = assign_helper.ip_solve()\n",
    "    efficiency = sum([cost_matrix[agent_id, assignments[agent_id]]\n",
    "                      for agent_id in range(n_agents)])\n",
    "    cost_increases = assign_helper.get_cost_increases(\n",
    "        assignments, increase_matrix=increase_matrix\n",
    "    )\n",
    "\n",
    "    # Bottleneck assignment solver\n",
    "    bottleneck_helper = bottleneck_assignment.BottleneckAssignmentHelperV2(\n",
    "        increase_matrix, capacities\n",
    "    )\n",
    "    c_star_thresholds, bottleneck_assignments = bottleneck_helper.solve(verbose=False)\n",
    "    bottleneck_efficiency = sum([cost_matrix[agent_id, bottleneck_assignments[agent_id]]\n",
    "                                 for agent_id in range(n_agents)])\n",
    "    bottleneck_cost_increases = assign_helper.get_cost_increases(\n",
    "        bottleneck_assignments, increase_matrix=increase_matrix\n",
    "    )\n",
    "    \n",
    "    if cost_increases.max() != bottleneck_cost_increases.max() \\\n",
    "            or efficiency != bottleneck_efficiency:\n",
    "        print(f'Experiment {experiment}')\n",
    "        print()\n",
    "        \n",
    "        print('Cost matrix:')\n",
    "        print(cost_matrix)\n",
    "        print()\n",
    "    \n",
    "        print('Increase matrix:')\n",
    "        print(increase_matrix)\n",
    "        print()\n",
    "        \n",
    "        print('Capacities:', capacities)\n",
    "        print()\n",
    "        \n",
    "        print('Efficient assignment:', assignments)\n",
    "        print('Efficiency:', efficiency)\n",
    "        print('Cost increases:', cost_increases)\n",
    "        print('Max cost increase:', cost_increases.max())\n",
    "        print()\n",
    "        \n",
    "        print('Minimum bottleneck:', c_star_thresholds)\n",
    "        print('Bottleneck assignment:', bottleneck_assignments)\n",
    "        print('Efficiency:', bottleneck_efficiency)\n",
    "        print('Cost increases:', bottleneck_cost_increases)\n",
    "        print('Max cost increase:', bottleneck_cost_increases.max())\n",
    "        print()\n",
    "        \n",
    "        print('=' * 40)"
   ]
  },
  {
   "cell_type": "markdown",
   "metadata": {},
   "source": [
    "# Real data"
   ]
  },
  {
   "cell_type": "code",
   "execution_count": 2,
   "metadata": {
    "scrolled": true
   },
   "outputs": [
    {
     "name": "stdout",
     "output_type": "stream",
     "text": [
      "Efficient assignment cost: 3627.0456566409853\n",
      "Bottleneck cost increase in efficient assignment: 0.5050538149999999\n",
      "\n"
     ]
    },
    {
     "name": "stderr",
     "output_type": "stream",
     "text": [
      "/Users/quannguyen/anaconda3/envs/BayesFAI/lib/python3.7/site-packages/pulp/solvers.py:2080: UserWarning: GUROBI_CMD does provide good solution status of non optimal solutions\n",
      "  warnings.warn('GUROBI_CMD does provide good solution status of non optimal solutions')\n"
     ]
    },
    {
     "name": "stdout",
     "output_type": "stream",
     "text": [
      "Searching between 0.0 and 0.801554275\n"
     ]
    },
    {
     "name": "stderr",
     "output_type": "stream",
     "text": [
      "/Users/quannguyen/anaconda3/envs/BayesFAI/lib/python3.7/site-packages/pulp/solvers.py:2080: UserWarning: GUROBI_CMD does provide good solution status of non optimal solutions\n",
      "  warnings.warn('GUROBI_CMD does provide good solution status of non optimal solutions')\n"
     ]
    },
    {
     "name": "stdout",
     "output_type": "stream",
     "text": [
      "Searching between 0.09417985000000004 and 0.801554275\n"
     ]
    },
    {
     "name": "stderr",
     "output_type": "stream",
     "text": [
      "/Users/quannguyen/anaconda3/envs/BayesFAI/lib/python3.7/site-packages/pulp/solvers.py:2080: UserWarning: GUROBI_CMD does provide good solution status of non optimal solutions\n",
      "  warnings.warn('GUROBI_CMD does provide good solution status of non optimal solutions')\n"
     ]
    },
    {
     "name": "stdout",
     "output_type": "stream",
     "text": [
      "Searching between 0.1987406 and 0.801554275\n"
     ]
    },
    {
     "name": "stderr",
     "output_type": "stream",
     "text": [
      "/Users/quannguyen/anaconda3/envs/BayesFAI/lib/python3.7/site-packages/pulp/solvers.py:2080: UserWarning: GUROBI_CMD does provide good solution status of non optimal solutions\n",
      "  warnings.warn('GUROBI_CMD does provide good solution status of non optimal solutions')\n"
     ]
    },
    {
     "name": "stdout",
     "output_type": "stream",
     "text": [
      "Searching between 0.313398092 and 0.801554275\n"
     ]
    },
    {
     "name": "stderr",
     "output_type": "stream",
     "text": [
      "/Users/quannguyen/anaconda3/envs/BayesFAI/lib/python3.7/site-packages/pulp/solvers.py:2080: UserWarning: GUROBI_CMD does provide good solution status of non optimal solutions\n",
      "  warnings.warn('GUROBI_CMD does provide good solution status of non optimal solutions')\n"
     ]
    },
    {
     "name": "stdout",
     "output_type": "stream",
     "text": [
      "Searching between 0.40616548399999997 and 0.801554275\n",
      "Searching between 0.40616548399999997 and 0.48455962599999997\n",
      "Searching between 0.40616548399999997 and 0.439483239\n"
     ]
    },
    {
     "name": "stderr",
     "output_type": "stream",
     "text": [
      "/Users/quannguyen/anaconda3/envs/BayesFAI/lib/python3.7/site-packages/pulp/solvers.py:2080: UserWarning: GUROBI_CMD does provide good solution status of non optimal solutions\n",
      "  warnings.warn('GUROBI_CMD does provide good solution status of non optimal solutions')\n"
     ]
    },
    {
     "name": "stdout",
     "output_type": "stream",
     "text": [
      "Searching between 0.422195906 and 0.439483239\n"
     ]
    },
    {
     "name": "stderr",
     "output_type": "stream",
     "text": [
      "/Users/quannguyen/anaconda3/envs/BayesFAI/lib/python3.7/site-packages/pulp/solvers.py:2080: UserWarning: GUROBI_CMD does provide good solution status of non optimal solutions\n",
      "  warnings.warn('GUROBI_CMD does provide good solution status of non optimal solutions')\n"
     ]
    },
    {
     "name": "stdout",
     "output_type": "stream",
     "text": [
      "Searching between 0.430898569 and 0.439483239\n",
      "Searching between 0.430898569 and 0.43493862800000005\n",
      "Searching between 0.430898569 and 0.43314850200000005\n"
     ]
    },
    {
     "name": "stderr",
     "output_type": "stream",
     "text": [
      "/Users/quannguyen/anaconda3/envs/BayesFAI/lib/python3.7/site-packages/pulp/solvers.py:2080: UserWarning: GUROBI_CMD does provide good solution status of non optimal solutions\n",
      "  warnings.warn('GUROBI_CMD does provide good solution status of non optimal solutions')\n"
     ]
    },
    {
     "name": "stdout",
     "output_type": "stream",
     "text": [
      "Searching between 0.4320012750000001 and 0.43314850200000005\n",
      "Searching between 0.4320012750000001 and 0.432561553\n",
      "Searching between 0.4320012750000001 and 0.4323181039999999\n",
      "Searching between 0.4320012750000001 and 0.4321277969999999\n",
      "Searching between 0.4320012750000001 and 0.43212075400000005\n",
      "Minimum bottleneck: [0.43200128 0.43200557]\n",
      "Bottleneck assignment cost: 3628.099694887985\n",
      "Bottleneck cost increases in bottleneck assignment: 0.43200557499999986\n"
     ]
    }
   ],
   "source": [
    "def get_assignment_cost(assignments, cost_matrix):\n",
    "    running_cost = 0\n",
    "    for agent_id in range(cost_matrix.shape[0]):\n",
    "        running_cost += cost_matrix[agent_id, assignments[agent_id]]\n",
    "    \n",
    "    return running_cost\n",
    "\n",
    "prob_df = pd.read_csv('../../data/subset_data.csv', index_col=0)\n",
    "cost_matrix = prob_df[['ES', 'PSH', 'TH', 'RRH', 'PREV']].to_numpy()\n",
    "capacity_df = prob_df['Real'].value_counts()\n",
    "\n",
    "min_matrix = np.repeat(\n",
    "    cost_matrix.min(axis=1), cost_matrix.shape[1]\n",
    ").reshape(cost_matrix.shape)\n",
    "increase_matrix = cost_matrix - min_matrix\n",
    "capacities = capacity_df.sort_index().to_numpy()\n",
    "\n",
    "# Efficient assignment solver\n",
    "assign_helper = assignment.AssignmentHelperV2(\n",
    "    cost_matrix, capacities\n",
    ")\n",
    "assignments = assign_helper.ip_solve()\n",
    "print('Efficient assignment cost:', get_assignment_cost(assignments, cost_matrix))\n",
    "cost_increases = assign_helper.get_cost_increases(\n",
    "    assignments, increase_matrix=increase_matrix\n",
    ")\n",
    "print('Bottleneck cost increase in efficient assignment:', cost_increases.max())\n",
    "print()\n",
    "\n",
    "# Bottleneck assignment solver\n",
    "bottleneck_helper = bottleneck_assignment.BottleneckAssignmentHelperV2(\n",
    "    increase_matrix, capacities\n",
    ")\n",
    "c_star_thresholds, bottleneck_assignments = bottleneck_helper.solve(verbose=True)\n",
    "print('Minimum bottleneck:', c_star_thresholds)\n",
    "print('Bottleneck assignment cost:', get_assignment_cost(bottleneck_assignments, cost_matrix))\n",
    "cost_increases = assign_helper.get_cost_increases(\n",
    "    bottleneck_assignments, increase_matrix=increase_matrix\n",
    ")\n",
    "print('Bottleneck cost increases in bottleneck assignment:', cost_increases.max())"
   ]
  },
  {
   "cell_type": "code",
   "execution_count": null,
   "metadata": {},
   "outputs": [],
   "source": []
  }
 ],
 "metadata": {
  "kernelspec": {
   "display_name": "Python 3",
   "language": "python",
   "name": "python3"
  },
  "language_info": {
   "codemirror_mode": {
    "name": "ipython",
    "version": 3
   },
   "file_extension": ".py",
   "mimetype": "text/x-python",
   "name": "python",
   "nbconvert_exporter": "python",
   "pygments_lexer": "ipython3",
   "version": "3.7.6"
  }
 },
 "nbformat": 4,
 "nbformat_minor": 2
}
