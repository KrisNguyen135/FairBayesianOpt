{
 "cells": [
  {
   "cell_type": "code",
   "execution_count": 1,
   "metadata": {},
   "outputs": [],
   "source": [
    "import pandas as pd\n",
    "import numpy as np\n",
    "import pulp\n",
    "\n",
    "import sys\n",
    "sys.path.insert(0, '../..')\n",
    "import bottleneck_assignment\n",
    "import assignment\n",
    "\n",
    "import matplotlib.pyplot as plt\n",
    "plt.style.use('seaborn-darkgrid')\n",
    "import matplotlib\n",
    "matplotlib.rcParams.update({'font.size': 13})\n",
    "\n",
    "import time"
   ]
  },
  {
   "cell_type": "code",
   "execution_count": 2,
   "metadata": {},
   "outputs": [
    {
     "name": "stdout",
     "output_type": "stream",
     "text": [
      "Searching between 3 and 9\n",
      "Searching between 3 and 7\n",
      "Searching between 3 and 6\n"
     ]
    },
    {
     "name": "stderr",
     "output_type": "stream",
     "text": [
      "/Users/quannguyen/anaconda3/envs/BayesFAI/lib/python3.7/site-packages/pulp/solvers.py:2080: UserWarning: GUROBI_CMD does provide good solution status of non optimal solutions\n",
      "  warnings.warn('GUROBI_CMD does provide good solution status of non optimal solutions')\n"
     ]
    },
    {
     "data": {
      "text/plain": [
       "array([4, 5])"
      ]
     },
     "execution_count": 2,
     "metadata": {},
     "output_type": "execute_result"
    }
   ],
   "source": [
    "helper = bottleneck_assignment.BottleneckAssignmentHelperV2(\n",
    "    np.array([\n",
    "        [8, 2, 3, 3],\n",
    "        [2, 7, 5, 8],\n",
    "        [0, 9, 8, 4],\n",
    "        [2, 5, 6, 3]\n",
    "    ]),\n",
    "    [1, 1, 1, 1]\n",
    ")\n",
    "\n",
    "helper.solve(verbose=True)"
   ]
  },
  {
   "cell_type": "code",
   "execution_count": 3,
   "metadata": {},
   "outputs": [
    {
     "data": {
      "text/plain": [
       "4.0"
      ]
     },
     "execution_count": 3,
     "metadata": {},
     "output_type": "execute_result"
    }
   ],
   "source": [
    "helper = bottleneck_assignment.BottleneckAssignmentHelperV2(\n",
    "    np.array([\n",
    "        [np.pi, np.sqrt(3), 54392],\n",
    "        [0, np.e ** 3, np.e ** 3],\n",
    "        [-2, np.sin(np.pi / 8), 4]\n",
    "    ]),\n",
    "    [1, 1, 1]\n",
    ")\n",
    "\n",
    "helper.solve(verbose=True)"
   ]
  },
  {
   "cell_type": "code",
   "execution_count": 4,
   "metadata": {},
   "outputs": [],
   "source": [
    "prob_df = pd.read_csv('../../data/data.csv', index_col=0)\n",
    "capacity_df = prob_df['Real'].value_counts()\n",
    "types = ['ES', 'PSH', 'TH', 'RRH', 'PREV']\n",
    "\n",
    "increase_from_best_df = prob_df.copy()\n",
    "increase_from_best_df['Best'] = increase_from_best_df[types].min(axis=1)\n",
    "for type_ in types:\n",
    "    increase_from_best_df[type_] = prob_df[type_] - increase_from_best_df['Best']\n",
    "increase_from_best_df = increase_from_best_df[types]\n",
    "\n",
    "helper = bottleneck_assignment.BottleneckAssignmentHelperV2(\n",
    "    increase_from_best_df.to_numpy(),\n",
    "    capacity_df.sort_index().to_numpy()\n",
    ")"
   ]
  },
  {
   "cell_type": "code",
   "execution_count": 5,
   "metadata": {},
   "outputs": [
    {
     "data": {
      "image/png": "[encoded data removed]",
      "text/plain": [
       "<Figure size 432x288 with 1 Axes>"
      ]
     },
     "metadata": {},
     "output_type": "display_data"
    }
   ],
   "source": [
    "plt.hist(increase_from_best_df.to_numpy().flatten(), bins=50)\n",
    "plt.show()"
   ]
  },
  {
   "cell_type": "code",
   "execution_count": 6,
   "metadata": {
    "scrolled": true
   },
   "outputs": [
    {
     "name": "stderr",
     "output_type": "stream",
     "text": [
      "/Users/quannguyen/anaconda3/envs/BayesFAI/lib/python3.7/site-packages/pulp/solvers.py:2080: UserWarning: GUROBI_CMD does provide good solution status of non optimal solutions\n",
      "  warnings.warn('GUROBI_CMD does provide good solution status of non optimal solutions')\n"
     ]
    },
    {
     "name": "stdout",
     "output_type": "stream",
     "text": [
      "Searching between 0.021094955 and 0.801554275\n"
     ]
    },
    {
     "name": "stderr",
     "output_type": "stream",
     "text": [
      "/Users/quannguyen/anaconda3/envs/BayesFAI/lib/python3.7/site-packages/pulp/solvers.py:2080: UserWarning: GUROBI_CMD does provide good solution status of non optimal solutions\n",
      "  warnings.warn('GUROBI_CMD does provide good solution status of non optimal solutions')\n"
     ]
    },
    {
     "name": "stdout",
     "output_type": "stream",
     "text": [
      "Searching between 0.09667532000000001 and 0.801554275\n"
     ]
    },
    {
     "name": "stderr",
     "output_type": "stream",
     "text": [
      "/Users/quannguyen/anaconda3/envs/BayesFAI/lib/python3.7/site-packages/pulp/solvers.py:2080: UserWarning: GUROBI_CMD does provide good solution status of non optimal solutions\n",
      "  warnings.warn('GUROBI_CMD does provide good solution status of non optimal solutions')\n"
     ]
    },
    {
     "name": "stdout",
     "output_type": "stream",
     "text": [
      "Searching between 0.203843269 and 0.801554275\n"
     ]
    },
    {
     "name": "stderr",
     "output_type": "stream",
     "text": [
      "/Users/quannguyen/anaconda3/envs/BayesFAI/lib/python3.7/site-packages/pulp/solvers.py:2080: UserWarning: GUROBI_CMD does provide good solution status of non optimal solutions\n",
      "  warnings.warn('GUROBI_CMD does provide good solution status of non optimal solutions')\n"
     ]
    },
    {
     "name": "stdout",
     "output_type": "stream",
     "text": [
      "Searching between 0.31724527799999996 and 0.801554275\n"
     ]
    },
    {
     "name": "stderr",
     "output_type": "stream",
     "text": [
      "/Users/quannguyen/anaconda3/envs/BayesFAI/lib/python3.7/site-packages/pulp/solvers.py:2080: UserWarning: GUROBI_CMD does provide good solution status of non optimal solutions\n",
      "  warnings.warn('GUROBI_CMD does provide good solution status of non optimal solutions')\n"
     ]
    },
    {
     "name": "stdout",
     "output_type": "stream",
     "text": [
      "Searching between 0.409406607 and 0.801554275\n",
      "Searching between 0.409406607 and 0.48743338199999997\n",
      "Searching between 0.409406607 and 0.44247619600000004\n"
     ]
    },
    {
     "name": "stderr",
     "output_type": "stream",
     "text": [
      "/Users/quannguyen/anaconda3/envs/BayesFAI/lib/python3.7/site-packages/pulp/solvers.py:2080: UserWarning: GUROBI_CMD does provide good solution status of non optimal solutions\n",
      "  warnings.warn('GUROBI_CMD does provide good solution status of non optimal solutions')\n"
     ]
    },
    {
     "name": "stdout",
     "output_type": "stream",
     "text": [
      "Searching between 0.42505548300000007 and 0.44247619600000004\n",
      "Searching between 0.42505548300000007 and 0.4337425020000001\n"
     ]
    },
    {
     "name": "stderr",
     "output_type": "stream",
     "text": [
      "/Users/quannguyen/anaconda3/envs/BayesFAI/lib/python3.7/site-packages/pulp/solvers.py:2080: UserWarning: GUROBI_CMD does provide good solution status of non optimal solutions\n",
      "  warnings.warn('GUROBI_CMD does provide good solution status of non optimal solutions')\n"
     ]
    },
    {
     "name": "stdout",
     "output_type": "stream",
     "text": [
      "Searching between 0.42918097399999994 and 0.4337425020000001\n"
     ]
    },
    {
     "name": "stderr",
     "output_type": "stream",
     "text": [
      "/Users/quannguyen/anaconda3/envs/BayesFAI/lib/python3.7/site-packages/pulp/solvers.py:2080: UserWarning: GUROBI_CMD does provide good solution status of non optimal solutions\n",
      "  warnings.warn('GUROBI_CMD does provide good solution status of non optimal solutions')\n"
     ]
    },
    {
     "name": "stdout",
     "output_type": "stream",
     "text": [
      "Searching between 0.43151666199999994 and 0.4337425020000001\n",
      "Searching between 0.43151666199999994 and 0.432711237\n",
      "Searching between 0.43151666199999994 and 0.432126689\n"
     ]
    },
    {
     "name": "stderr",
     "output_type": "stream",
     "text": [
      "/Users/quannguyen/anaconda3/envs/BayesFAI/lib/python3.7/site-packages/pulp/solvers.py:2080: UserWarning: GUROBI_CMD does provide good solution status of non optimal solutions\n",
      "  warnings.warn('GUROBI_CMD does provide good solution status of non optimal solutions')\n"
     ]
    },
    {
     "name": "stdout",
     "output_type": "stream",
     "text": [
      "Searching between 0.431810356 and 0.432126689\n"
     ]
    },
    {
     "name": "stderr",
     "output_type": "stream",
     "text": [
      "/Users/quannguyen/anaconda3/envs/BayesFAI/lib/python3.7/site-packages/pulp/solvers.py:2080: UserWarning: GUROBI_CMD does provide good solution status of non optimal solutions\n",
      "  warnings.warn('GUROBI_CMD does provide good solution status of non optimal solutions')\n"
     ]
    },
    {
     "name": "stdout",
     "output_type": "stream",
     "text": [
      "Searching between 0.4320012750000001 and 0.432126689\n",
      "Searching between 0.4320012750000001 and 0.43212075400000005\n",
      "Took 55.7815 seconds\n"
     ]
    }
   ],
   "source": [
    "t0 = time.time()\n",
    "helper.solve(verbose=True)\n",
    "print(f'Took {time.time() - t0:.4f} seconds')"
   ]
  },
  {
   "cell_type": "code",
   "execution_count": null,
   "metadata": {},
   "outputs": [],
   "source": [
    "constraints = [0.43200128, 0.43200557, 0.45, 0.5, 0.55, 0.6, 0.65, 0.7]\n",
    "\n",
    "summed_probs = []\n",
    "compare_dfs = []\n",
    "\n",
    "for constraint in constraints:\n",
    "    helper = assignment.AssignmentHelper()\n",
    "    helper.update_constraints(fairness_best_constraint=constraint)\n",
    "    \n",
    "    sol_df = helper.ip_solve()\n",
    "    if sol_df is False:\n",
    "        summed_probs.append(False)\n",
    "        compare_dfs.append(False)\n",
    "    else:\n",
    "        summed_probs.append(pulp.value(helper.prob.objective))\n",
    "        compare_dfs.append(helper.compare_prob(sol_df))\n",
    "    \n",
    "    print(constraint, pulp.LpStatus[helper.prob.status])"
   ]
  },
  {
   "cell_type": "code",
   "execution_count": 13,
   "metadata": {},
   "outputs": [
    {
     "data": {
      "image/png": "[encoded data removed]",
      "text/plain": [
       "<Figure size 936x720 with 1 Axes>"
      ]
     },
     "metadata": {},
     "output_type": "display_data"
    }
   ],
   "source": [
    "f, ax1 = plt.subplots(figsize=(13, 10))\n",
    "\n",
    "for c_idx, c in enumerate(constraints):\n",
    "    df = compare_dfs[c_idx]\n",
    "    \n",
    "    if df is not False:\n",
    "        ax1.boxplot(\n",
    "            df['Input_to_best'],\n",
    "            positions=[c_idx],\n",
    "            # widths=[0.1]\n",
    "        )\n",
    "\n",
    "ax1.plot(\n",
    "    [i for i in range(len(constraints))],\n",
    "    [df['Input_to_best'].max()\n",
    "     if df is not False else np.nan\n",
    "     for df in compare_dfs]\n",
    ")\n",
    "        \n",
    "# ax1.axhline(0.43200557, c='red')\n",
    "    \n",
    "ax1.set_xlabel('Maximum allowed probability increase', fontsize=16)\n",
    "ax1.set_ylabel('Increase from ind. best allocations', fontsize=16)\n",
    "ax1.set_xlim(-1, len(constraints))\n",
    "\n",
    "ax1.set_xticks([i for i in range(len(constraints))])\n",
    "ax1.set_xticklabels(constraints)\n",
    "\n",
    "plt.show()"
   ]
  },
  {
   "cell_type": "code",
   "execution_count": 14,
   "metadata": {},
   "outputs": [
    {
     "data": {
      "text/plain": [
       "[False,\n",
       " 3628.099694887985,\n",
       " 3627.7111442259857,\n",
       " 3627.0664119999856,\n",
       " 3627.0456566409853,\n",
       " 3627.0456566409853,\n",
       " 3627.0456566409853,\n",
       " 3627.0456566409853]"
      ]
     },
     "execution_count": 14,
     "metadata": {},
     "output_type": "execute_result"
    }
   ],
   "source": [
    "summed_probs"
   ]
  },
  {
   "cell_type": "code",
   "execution_count": 15,
   "metadata": {},
   "outputs": [
    {
     "data": {
      "text/plain": [
       "[False,\n",
       " 0.11119556715140001,\n",
       " 0.1112907534968188,\n",
       " 0.11144869867712259,\n",
       " 0.11145378328246319,\n",
       " 0.11145378328246319,\n",
       " 0.11145378328246319,\n",
       " 0.11145378328246319]"
      ]
     },
     "execution_count": 15,
     "metadata": {},
     "output_type": "execute_result"
    }
   ],
   "source": [
    "reductions = []\n",
    "\n",
    "for prob in summed_probs:\n",
    "    if prob is False:\n",
    "        reductions.append(False)\n",
    "    else:\n",
    "        reductions.append((4082 - prob) / 4082)\n",
    "\n",
    "reductions"
   ]
  },
  {
   "cell_type": "code",
   "execution_count": null,
   "metadata": {},
   "outputs": [],
   "source": []
  }
 ],
 "metadata": {
  "kernelspec": {
   "display_name": "Python 3",
   "language": "python",
   "name": "python3"
  },
  "language_info": {
   "codemirror_mode": {
    "name": "ipython",
    "version": 3
   },
   "file_extension": ".py",
   "mimetype": "text/x-python",
   "name": "python",
   "nbconvert_exporter": "python",
   "pygments_lexer": "ipython3",
   "version": "3.7.6"
  }
 },
 "nbformat": 4,
 "nbformat_minor": 2
}
