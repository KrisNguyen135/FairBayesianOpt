{
 "cells": [
  {
   "cell_type": "code",
   "execution_count": 2,
   "metadata": {},
   "outputs": [],
   "source": [
    "import numpy as np\n",
    "np.random.seed(0)\n",
    "import matplotlib.pyplot as plt\n",
    "\n",
    "import sys\n",
    "sys.path.insert(0, '../..')\n",
    "import leximin_assignment\n",
    "import assignment\n",
    "\n",
    "from tqdm import tqdm"
   ]
  },
  {
   "cell_type": "markdown",
   "metadata": {},
   "source": [
    "# Individual experiment"
   ]
  },
  {
   "cell_type": "code",
   "execution_count": 2,
   "metadata": {},
   "outputs": [],
   "source": [
    "N = 5\n",
    "\n",
    "alphas = np.array([1] * (N // 2) + [i for i in range(1, N - N // 2 + 1)])\n",
    "betas = np.array([i for i in range(N - N // 2, 0, -1)] + [1] * (N // 2))\n",
    "\n",
    "means = alphas / (alphas + betas)\n",
    "_vars = (alphas * betas) / (alphas + betas) ** 2 / (alphas + betas + 1)"
   ]
  },
  {
   "cell_type": "code",
   "execution_count": 3,
   "metadata": {},
   "outputs": [
    {
     "data": {
      "text/plain": [
       "array([[0.02040019, 0.07025125, 0.02952397, 0.33125795, 0.71804821],\n",
       "       [0.08295929, 0.33502881, 0.45133699, 0.78666689, 0.83730339],\n",
       "       [0.09770901, 0.37004395, 0.46445322, 0.79841623, 0.84677018],\n",
       "       [0.16355406, 0.60298954, 0.62003262, 0.90568327, 0.88745821],\n",
       "       [0.30388095, 0.67614865, 0.92053184, 0.9602939 , 0.96256524]])"
      ]
     },
     "execution_count": 3,
     "metadata": {},
     "output_type": "execute_result"
    }
   ],
   "source": [
    "cost_matrix = np.array([\n",
    "    np.sort(np.random.beta(alpha, beta, N))\n",
    "    for alpha, beta in zip(alphas, betas)\n",
    "]).T\n",
    "\n",
    "cost_matrix"
   ]
  },
  {
   "cell_type": "code",
   "execution_count": 4,
   "metadata": {},
   "outputs": [
    {
     "data": {
      "image/png": "[encoded data removed]",
      "text/plain": [
       "<Figure size 432x288 with 2 Axes>"
      ]
     },
     "metadata": {
      "needs_background": "light"
     },
     "output_type": "display_data"
    }
   ],
   "source": [
    "color_map = plt.cm.get_cmap('Blues')\n",
    "\n",
    "plt.imshow(cost_matrix, cmap=color_map)\n",
    "plt.colorbar()\n",
    "plt.show()"
   ]
  },
  {
   "cell_type": "code",
   "execution_count": 5,
   "metadata": {},
   "outputs": [
    {
     "name": "stdout",
     "output_type": "stream",
     "text": [
      "[3 1 2 0 4]\n",
      "2.2568592811189983\n"
     ]
    }
   ],
   "source": [
    "eff_assigner = assignment.AssignmentHelperV2(\n",
    "    cost_matrix, np.ones((N,))\n",
    ")\n",
    "assignments = eff_assigner.ip_solve()\n",
    "\n",
    "print(assignments)\n",
    "print(eff_assigner.get_cost(assignments))"
   ]
  },
  {
   "cell_type": "code",
   "execution_count": 6,
   "metadata": {},
   "outputs": [
    {
     "name": "stdout",
     "output_type": "stream",
     "text": [
      "[4 3 2 1 0]\n",
      "2.876038807537373\n"
     ]
    }
   ],
   "source": [
    "lex_assigner = leximin_assignment.LeximinAssignmentHelperV3(\n",
    "    cost_matrix, np.ones((N,))\n",
    ")\n",
    "lex_assignments = lex_assigner.solve()\n",
    "\n",
    "print(lex_assignments)\n",
    "print(lex_assigner.get_cost(lex_assignments))"
   ]
  },
  {
   "cell_type": "markdown",
   "metadata": {},
   "source": [
    "# Changing `N`"
   ]
  },
  {
   "cell_type": "code",
   "execution_count": 9,
   "metadata": {},
   "outputs": [
    {
     "data": {
      "image/png": "[encoded data removed]",
      "text/plain": [
       "<Figure size 432x288 with 2 Axes>"
      ]
     },
     "metadata": {
      "needs_background": "light"
     },
     "output_type": "display_data"
    },
    {
     "name": "stdout",
     "output_type": "stream",
     "text": [
      "Efficient assignment:\n",
      "[11 12  9  8 15 13  5  7  4 10 16  1  6  0  3  2 14 17 18 19]\n",
      "7.895618970534144\n",
      "\n",
      "Leximin assignment:\n",
      "[18 17 19 16 14 15 12 13 11 10  9  8  7  4  5  6  1  2  3  0]\n",
      "9.612896357237085\n",
      "\n"
     ]
    }
   ],
   "source": [
    "N = 20\n",
    "\n",
    "# Generate statistics\n",
    "alphas = np.array([1] * (N // 2) + [i for i in range(1, N - N // 2 + 1)])\n",
    "betas = np.array([i for i in range(N - N // 2, 0, -1)] + [1] * (N // 2))\n",
    "\n",
    "means = alphas / (alphas + betas)\n",
    "_vars = (alphas * betas) / (alphas + betas) ** 2 / (alphas + betas + 1)\n",
    "\n",
    "# Generate cost matrix\n",
    "cost_matrix = np.array([\n",
    "    np.sort(np.random.beta(alpha, beta, N))\n",
    "    for alpha, beta in zip(alphas, betas)\n",
    "]).T\n",
    "\n",
    "# Draw the heatmap\n",
    "color_map = plt.cm.get_cmap('Blues')\n",
    "\n",
    "plt.imshow(cost_matrix, cmap=color_map)\n",
    "plt.colorbar()\n",
    "plt.show()\n",
    "\n",
    "# Efficient assignment\n",
    "eff_assigner = assignment.AssignmentHelperV2(\n",
    "    cost_matrix, np.ones((N,))\n",
    ")\n",
    "assignments = eff_assigner.ip_solve()\n",
    "\n",
    "print('Efficient assignment:')\n",
    "print(assignments)\n",
    "print(eff_assigner.get_cost(assignments))\n",
    "print()\n",
    "\n",
    "# Leximin assignment\n",
    "lex_assigner = leximin_assignment.LeximinAssignmentHelperV3(\n",
    "    cost_matrix, np.ones((N,))\n",
    ")\n",
    "lex_assignments = lex_assigner.solve()\n",
    "\n",
    "print('Leximin assignment:')\n",
    "print(lex_assignments)\n",
    "print(lex_assigner.get_cost(lex_assignments))\n",
    "print()"
   ]
  },
  {
   "cell_type": "markdown",
   "metadata": {},
   "source": [
    "# Repeated experiments\n",
    "\n",
    "## Distributions of `PoF`"
   ]
  },
  {
   "cell_type": "code",
   "execution_count": 11,
   "metadata": {},
   "outputs": [
    {
     "name": "stderr",
     "output_type": "stream",
     "text": [
      "100%|██████████| 100/100 [01:44<00:00,  1.05s/it]\n"
     ]
    },
    {
     "data": {
      "image/png": "[encoded data removed]",
      "text/plain": [
       "<Figure size 432x288 with 1 Axes>"
      ]
     },
     "metadata": {
      "needs_background": "light"
     },
     "output_type": "display_data"
    }
   ],
   "source": [
    "N = 20\n",
    "NUM_EXPERIMENTS = 100\n",
    "\n",
    "ratios = []\n",
    "\n",
    "for _ in tqdm(range(NUM_EXPERIMENTS)):\n",
    "    # Generate statistics\n",
    "    alphas = np.array([1] * (N // 2) + [i for i in range(1, N - N // 2 + 1)])\n",
    "    betas = np.array([i for i in range(N - N // 2, 0, -1)] + [1] * (N // 2))\n",
    "\n",
    "    means = alphas / (alphas + betas)\n",
    "    _vars = (alphas * betas) / (alphas + betas) ** 2 / (alphas + betas + 1)\n",
    "\n",
    "    # Generate cost matrix\n",
    "    cost_matrix = np.array([\n",
    "        np.sort(np.random.beta(alpha, beta, N))\n",
    "        for alpha, beta in zip(alphas, betas)\n",
    "    ]).T\n",
    "\n",
    "    # Efficient assignment\n",
    "    eff_assigner = assignment.AssignmentHelperV2(\n",
    "        cost_matrix, np.ones((N,))\n",
    "    )\n",
    "    assignments = eff_assigner.ip_solve()\n",
    "\n",
    "    # Leximin assignment\n",
    "    lex_assigner = leximin_assignment.LeximinAssignmentHelperV3(\n",
    "        cost_matrix, np.ones((N,))\n",
    "    )\n",
    "    lex_assignments = lex_assigner.solve()\n",
    "    \n",
    "    ratios.append(lex_assigner.get_cost(lex_assignments) \n",
    "                  / eff_assigner.get_cost(assignments))\n",
    "\n",
    "plt.hist(ratios, bins=15)\n",
    "plt.show()"
   ]
  },
  {
   "cell_type": "code",
   "execution_count": 14,
   "metadata": {},
   "outputs": [
    {
     "data": {
      "image/png": "[encoded data removed]",
      "text/plain": [
       "<Figure size 432x288 with 1 Axes>"
      ]
     },
     "metadata": {
      "needs_background": "light"
     },
     "output_type": "display_data"
    }
   ],
   "source": [
    "plt.hist([1 / ratio for ratio in ratios], bins=15)\n",
    "plt.show()"
   ]
  },
  {
   "cell_type": "markdown",
   "metadata": {},
   "source": [
    "## Cost distributions of `L` (leximin) and `AD` (anti-diagonal)"
   ]
  },
  {
   "cell_type": "code",
   "execution_count": 3,
   "metadata": {
    "scrolled": true
   },
   "outputs": [
    {
     "name": "stderr",
     "output_type": "stream",
     "text": [
      "100%|██████████| 200/200 [03:03<00:00,  1.09it/s]\n"
     ]
    },
    {
     "data": {
      "image/png": "[encoded data removed]",
      "text/plain": [
       "<Figure size 432x288 with 1 Axes>"
      ]
     },
     "metadata": {
      "needs_background": "light"
     },
     "output_type": "display_data"
    }
   ],
   "source": [
    "N = 20\n",
    "NUM_EXPERIMENTS = 200\n",
    "\n",
    "ad_total_costs = []\n",
    "ad_bottlenecks = []\n",
    "lex_total_costs = []\n",
    "lex_bottlenecks = []\n",
    "\n",
    "for _ in tqdm(range(NUM_EXPERIMENTS)):\n",
    "    # Generate statistics\n",
    "    alphas = np.array([1] * (N // 2) + [i for i in range(1, N - N // 2 + 1)])\n",
    "    betas = np.array([i for i in range(N - N // 2, 0, -1)] + [1] * (N // 2))\n",
    "\n",
    "    means = alphas / (alphas + betas)\n",
    "    _vars = (alphas * betas) / (alphas + betas) ** 2 / (alphas + betas + 1)\n",
    "\n",
    "    # Generate cost matrix\n",
    "    cost_matrix = np.array([\n",
    "        np.sort(np.random.beta(alpha, beta, N))\n",
    "        for alpha, beta in zip(alphas, betas)\n",
    "    ]).T\n",
    "\n",
    "    # Leximin assignment\n",
    "    lex_assigner = leximin_assignment.LeximinAssignmentHelperV3(\n",
    "        cost_matrix, np.ones((N,))\n",
    "    )\n",
    "    lex_assignments = lex_assigner.solve()\n",
    "    \n",
    "    lex_costs = lex_assigner.get_costs(lex_assignments)\n",
    "    ad_costs = lex_assigner.get_costs(np.arange(N - 1, -1, -1))\n",
    "    \n",
    "    lex_total_costs.append(lex_costs.sum())\n",
    "    lex_bottlenecks.append(lex_costs.max())\n",
    "    \n",
    "    ad_total_costs.append(ad_costs.sum())\n",
    "    ad_bottlenecks.append(ad_costs.max())\n",
    "\n",
    "plt.hist(lex_total_costs, alpha=0.2, color='blue', bins=15)\n",
    "plt.hist(ad_total_costs, alpha=0.2, color='red', bins=15)\n",
    "\n",
    "plt.axvline(np.mean(lex_total_costs), c='blue')\n",
    "plt.axvline(np.mean(ad_total_costs), c='red')\n",
    "\n",
    "plt.show()"
   ]
  },
  {
   "cell_type": "code",
   "execution_count": 4,
   "metadata": {},
   "outputs": [
    {
     "data": {
      "image/png": "[encoded data removed]",
      "text/plain": [
       "<Figure size 432x288 with 1 Axes>"
      ]
     },
     "metadata": {
      "needs_background": "light"
     },
     "output_type": "display_data"
    }
   ],
   "source": [
    "plt.hist([\n",
    "    ad_cost / lex_cost\n",
    "    for ad_cost, lex_cost in zip(ad_total_costs, lex_total_costs)\n",
    "], bins=15)\n",
    "plt.show()"
   ]
  },
  {
   "cell_type": "code",
   "execution_count": null,
   "metadata": {},
   "outputs": [],
   "source": [
    "plt.hist([\n",
    "    ad_b / lex_b\n",
    "    for ad_b, lex_b in zip(ad_bottlenecks, lex_bottlenecks)\n",
    "], bins=15)\n",
    "plt.show()"
   ]
  },
  {
   "cell_type": "markdown",
   "metadata": {},
   "source": [
    "# Making `PoF` large"
   ]
  },
  {
   "cell_type": "code",
   "execution_count": null,
   "metadata": {},
   "outputs": [],
   "source": []
  }
 ],
 "metadata": {
  "kernelspec": {
   "display_name": "Python 3",
   "language": "python",
   "name": "python3"
  },
  "language_info": {
   "codemirror_mode": {
    "name": "ipython",
    "version": 3
   },
   "file_extension": ".py",
   "mimetype": "text/x-python",
   "name": "python",
   "nbconvert_exporter": "python",
   "pygments_lexer": "ipython3",
   "version": "3.7.6"
  }
 },
 "nbformat": 4,
 "nbformat_minor": 2
}
